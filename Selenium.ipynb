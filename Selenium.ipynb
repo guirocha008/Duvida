{
 "cells": [
  {
   "cell_type": "code",
   "execution_count": 1,
   "metadata": {},
   "outputs": [],
   "source": [
    "from selenium import webdriver\n",
    "from time import sleep\n",
    "from selenium.common.exceptions import NoSuchElementException"
   ]
  },
  {
   "cell_type": "code",
   "execution_count": 13,
   "metadata": {},
   "outputs": [
    {
     "name": "stdout",
     "output_type": "stream",
     "text": [
      "browser.titleFootball Live Scores, Latest Football Results | Flashscore.com\n"
     ]
    },
    {
     "ename": "JavascriptException",
     "evalue": "Message: javascript error: document.getElementByClassName is not a function\n  (Session info: chrome=102.0.5005.115)\nStacktrace:\nBacktrace:\n\tOrdinal0 [0x007BD953+2414931]\n\tOrdinal0 [0x0074F5E1+1963489]\n\tOrdinal0 [0x0063C6B8+837304]\n\tOrdinal0 [0x0063F0B4+848052]\n\tOrdinal0 [0x0063EF72+847730]\n\tOrdinal0 [0x0063F8EA+850154]\n\tOrdinal0 [0x00695249+1200713]\n\tOrdinal0 [0x0068449C+1131676]\n\tOrdinal0 [0x00694812+1198098]\n\tOrdinal0 [0x006842B6+1131190]\n\tOrdinal0 [0x0065E860+976992]\n\tOrdinal0 [0x0065F756+980822]\n\tGetHandleVerifier [0x00A2CC62+2510274]\n\tGetHandleVerifier [0x00A1F760+2455744]\n\tGetHandleVerifier [0x0084EABA+551962]\n\tGetHandleVerifier [0x0084D916+547446]\n\tOrdinal0 [0x00755F3B+1990459]\n\tOrdinal0 [0x0075A898+2009240]\n\tOrdinal0 [0x0075A985+2009477]\n\tOrdinal0 [0x00763AD1+2046673]\n\tBaseThreadInitThunk [0x766BFA29+25]\n\tRtlGetAppContainerNamedObjectPath [0x77217A7E+286]\n\tRtlGetAppContainerNamedObjectPath [0x77217A4E+238]\n",
     "output_type": "error",
     "traceback": [
      "\u001b[1;31m---------------------------------------------------------------------------\u001b[0m",
      "\u001b[1;31mJavascriptException\u001b[0m                       Traceback (most recent call last)",
      "Input \u001b[1;32mIn [13]\u001b[0m, in \u001b[0;36m<cell line: 15>\u001b[1;34m()\u001b[0m\n\u001b[0;32m     11\u001b[0m sleep(\u001b[38;5;241m1\u001b[39m)\n\u001b[0;32m     13\u001b[0m browser\u001b[38;5;241m.\u001b[39mexecute_script(\u001b[38;5;124m\"\u001b[39m\u001b[38;5;124mdocument.getElementById(\u001b[39m\u001b[38;5;124m'\u001b[39m\u001b[38;5;124monetrust-banner-sdk\u001b[39m\u001b[38;5;124m'\u001b[39m\u001b[38;5;124m).style.display=\u001b[39m\u001b[38;5;124m'\u001b[39m\u001b[38;5;124mnone\u001b[39m\u001b[38;5;124m'\u001b[39m\u001b[38;5;124m;\u001b[39m\u001b[38;5;124m\"\u001b[39m)\n\u001b[1;32m---> 15\u001b[0m \u001b[43mbrowser\u001b[49m\u001b[38;5;241;43m.\u001b[39;49m\u001b[43mexecute_script\u001b[49m\u001b[43m(\u001b[49m\u001b[38;5;124;43m\"\u001b[39;49m\u001b[38;5;124;43mdocument.getElementByClassName(\u001b[39;49m\u001b[38;5;124;43m'\u001b[39;49m\u001b[38;5;124;43motPlaceholder\u001b[39;49m\u001b[38;5;124;43m'\u001b[39;49m\u001b[38;5;124;43m)[0].style.display=\u001b[39;49m\u001b[38;5;124;43m'\u001b[39;49m\u001b[38;5;124;43mnone\u001b[39;49m\u001b[38;5;124;43m'\u001b[39;49m\u001b[38;5;124;43m;\u001b[39;49m\u001b[38;5;124;43m\"\u001b[39;49m\u001b[43m)\u001b[49m\n\u001b[0;32m     17\u001b[0m x\u001b[38;5;241m=\u001b[39m\u001b[38;5;241m2\u001b[39m\n\u001b[0;32m     18\u001b[0m n\u001b[38;5;241m=\u001b[39m\u001b[38;5;241m5\u001b[39m\n",
      "File \u001b[1;32mC:\\ProgramData\\Anaconda3\\lib\\site-packages\\selenium\\webdriver\\remote\\webdriver.py:884\u001b[0m, in \u001b[0;36mWebDriver.execute_script\u001b[1;34m(self, script, *args)\u001b[0m\n\u001b[0;32m    881\u001b[0m converted_args \u001b[38;5;241m=\u001b[39m \u001b[38;5;28mlist\u001b[39m(args)\n\u001b[0;32m    882\u001b[0m command \u001b[38;5;241m=\u001b[39m Command\u001b[38;5;241m.\u001b[39mW3C_EXECUTE_SCRIPT\n\u001b[1;32m--> 884\u001b[0m \u001b[38;5;28;01mreturn\u001b[39;00m \u001b[38;5;28;43mself\u001b[39;49m\u001b[38;5;241;43m.\u001b[39;49m\u001b[43mexecute\u001b[49m\u001b[43m(\u001b[49m\u001b[43mcommand\u001b[49m\u001b[43m,\u001b[49m\u001b[43m \u001b[49m\u001b[43m{\u001b[49m\n\u001b[0;32m    885\u001b[0m \u001b[43m    \u001b[49m\u001b[38;5;124;43m'\u001b[39;49m\u001b[38;5;124;43mscript\u001b[39;49m\u001b[38;5;124;43m'\u001b[39;49m\u001b[43m:\u001b[49m\u001b[43m \u001b[49m\u001b[43mscript\u001b[49m\u001b[43m,\u001b[49m\n\u001b[0;32m    886\u001b[0m \u001b[43m    \u001b[49m\u001b[38;5;124;43m'\u001b[39;49m\u001b[38;5;124;43margs\u001b[39;49m\u001b[38;5;124;43m'\u001b[39;49m\u001b[43m:\u001b[49m\u001b[43m \u001b[49m\u001b[43mconverted_args\u001b[49m\u001b[43m}\u001b[49m\u001b[43m)\u001b[49m[\u001b[38;5;124m'\u001b[39m\u001b[38;5;124mvalue\u001b[39m\u001b[38;5;124m'\u001b[39m]\n",
      "File \u001b[1;32mC:\\ProgramData\\Anaconda3\\lib\\site-packages\\selenium\\webdriver\\remote\\webdriver.py:430\u001b[0m, in \u001b[0;36mWebDriver.execute\u001b[1;34m(self, driver_command, params)\u001b[0m\n\u001b[0;32m    428\u001b[0m response \u001b[38;5;241m=\u001b[39m \u001b[38;5;28mself\u001b[39m\u001b[38;5;241m.\u001b[39mcommand_executor\u001b[38;5;241m.\u001b[39mexecute(driver_command, params)\n\u001b[0;32m    429\u001b[0m \u001b[38;5;28;01mif\u001b[39;00m response:\n\u001b[1;32m--> 430\u001b[0m     \u001b[38;5;28;43mself\u001b[39;49m\u001b[38;5;241;43m.\u001b[39;49m\u001b[43merror_handler\u001b[49m\u001b[38;5;241;43m.\u001b[39;49m\u001b[43mcheck_response\u001b[49m\u001b[43m(\u001b[49m\u001b[43mresponse\u001b[49m\u001b[43m)\u001b[49m\n\u001b[0;32m    431\u001b[0m     response[\u001b[38;5;124m'\u001b[39m\u001b[38;5;124mvalue\u001b[39m\u001b[38;5;124m'\u001b[39m] \u001b[38;5;241m=\u001b[39m \u001b[38;5;28mself\u001b[39m\u001b[38;5;241m.\u001b[39m_unwrap_value(\n\u001b[0;32m    432\u001b[0m         response\u001b[38;5;241m.\u001b[39mget(\u001b[38;5;124m'\u001b[39m\u001b[38;5;124mvalue\u001b[39m\u001b[38;5;124m'\u001b[39m, \u001b[38;5;28;01mNone\u001b[39;00m))\n\u001b[0;32m    433\u001b[0m     \u001b[38;5;28;01mreturn\u001b[39;00m response\n",
      "File \u001b[1;32mC:\\ProgramData\\Anaconda3\\lib\\site-packages\\selenium\\webdriver\\remote\\errorhandler.py:247\u001b[0m, in \u001b[0;36mErrorHandler.check_response\u001b[1;34m(self, response)\u001b[0m\n\u001b[0;32m    245\u001b[0m         alert_text \u001b[38;5;241m=\u001b[39m value[\u001b[38;5;124m'\u001b[39m\u001b[38;5;124malert\u001b[39m\u001b[38;5;124m'\u001b[39m]\u001b[38;5;241m.\u001b[39mget(\u001b[38;5;124m'\u001b[39m\u001b[38;5;124mtext\u001b[39m\u001b[38;5;124m'\u001b[39m)\n\u001b[0;32m    246\u001b[0m     \u001b[38;5;28;01mraise\u001b[39;00m exception_class(message, screen, stacktrace, alert_text)  \u001b[38;5;66;03m# type: ignore[call-arg]  # mypy is not smart enough here\u001b[39;00m\n\u001b[1;32m--> 247\u001b[0m \u001b[38;5;28;01mraise\u001b[39;00m exception_class(message, screen, stacktrace)\n",
      "\u001b[1;31mJavascriptException\u001b[0m: Message: javascript error: document.getElementByClassName is not a function\n  (Session info: chrome=102.0.5005.115)\nStacktrace:\nBacktrace:\n\tOrdinal0 [0x007BD953+2414931]\n\tOrdinal0 [0x0074F5E1+1963489]\n\tOrdinal0 [0x0063C6B8+837304]\n\tOrdinal0 [0x0063F0B4+848052]\n\tOrdinal0 [0x0063EF72+847730]\n\tOrdinal0 [0x0063F8EA+850154]\n\tOrdinal0 [0x00695249+1200713]\n\tOrdinal0 [0x0068449C+1131676]\n\tOrdinal0 [0x00694812+1198098]\n\tOrdinal0 [0x006842B6+1131190]\n\tOrdinal0 [0x0065E860+976992]\n\tOrdinal0 [0x0065F756+980822]\n\tGetHandleVerifier [0x00A2CC62+2510274]\n\tGetHandleVerifier [0x00A1F760+2455744]\n\tGetHandleVerifier [0x0084EABA+551962]\n\tGetHandleVerifier [0x0084D916+547446]\n\tOrdinal0 [0x00755F3B+1990459]\n\tOrdinal0 [0x0075A898+2009240]\n\tOrdinal0 [0x0075A985+2009477]\n\tOrdinal0 [0x00763AD1+2046673]\n\tBaseThreadInitThunk [0x766BFA29+25]\n\tRtlGetAppContainerNamedObjectPath [0x77217A7E+286]\n\tRtlGetAppContainerNamedObjectPath [0x77217A4E+238]\n"
     ]
    }
   ],
   "source": [
    "\n",
    "browser = webdriver.Chrome()\n",
    "\n",
    "browser.get('https://www.flashscore.com/')\n",
    "\n",
    "\n",
    "\n",
    "browser.maximize_window()\n",
    "window_before= browser.window_handles[0]\n",
    "print(\"browser.title\" + browser.title)\n",
    "\n",
    "sleep(1)\n",
    "\n",
    "browser.execute_script(\"document.getElementById('onetrust-banner-sdk').style.display='none';\")\n",
    "\n",
    "browser.execute_script(\"document.getElementByClassName('otPlaceholder')[0].style.display='none';\")\n",
    "\n",
    "x=2\n",
    "n=5\n",
    "for i in range(0,n):\n",
    "    \n",
    "    try:\n",
    "        browser.find_element_by_css_selector(\n",
    "            '.soccer .event_match--scheduled:nth-child(' + str(x) +')').click() \n",
    "            \n",
    "        x+=0\n",
    "    except NoSuchElementException:\n",
    "        try:\n",
    "            x+=1\n",
    "            browser.find_element_by_css_selector(\n",
    "            '.soccer .event_match--scheduled:nth-child(' + str(x) +')').click()  \n",
    "             \n",
    "        except NoSuchElementException:\n",
    "            try:\n",
    "                x+=2\n",
    "                browser.find_element_by_css_selector(\n",
    "                    '.soccer .event_match--scheduled:nth-child(' + str(x) +')').click() \n",
    "                    \n",
    "            except NoSuchElementException:\n",
    "                x+=3\n",
    "                browser.find_element_by_css_selector(\n",
    "                        '.soccer .event_match--scheduled:nth-child(' + str(x) +')').click()  \n",
    "                        \n",
    "    sleep(4)\n",
    "    window_after = browser.window_handles[1]\n",
    "    browser.switch_to.window(window_after)\n",
    "    print(\"second browser title\" + browser.title)\n",
    "    \n",
    "    x+=1\n",
    "    i+=1\n",
    "    \n",
    "    browser.close()\n",
    "    browser.switch_to.window(window_before)\n",
    "            \n",
    "            \n",
    "    \n"
   ]
  },
  {
   "cell_type": "code",
   "execution_count": null,
   "metadata": {},
   "outputs": [],
   "source": []
  }
 ],
 "metadata": {
  "anaconda-cloud": {},
  "kernelspec": {
   "display_name": "Python 3 (ipykernel)",
   "language": "python",
   "name": "python3"
  },
  "language_info": {
   "codemirror_mode": {
    "name": "ipython",
    "version": 3
   },
   "file_extension": ".py",
   "mimetype": "text/x-python",
   "name": "python",
   "nbconvert_exporter": "python",
   "pygments_lexer": "ipython3",
   "version": "3.9.12"
  }
 },
 "nbformat": 4,
 "nbformat_minor": 1
}
