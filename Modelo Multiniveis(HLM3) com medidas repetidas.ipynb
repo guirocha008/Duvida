{
 "cells": [
  {
   "cell_type": "markdown",
   "metadata": {},
   "source": [
    "# Objetivo: Verificar se existe diferença nas notas dos alunos ao longo de 4 meses \n"
   ]
  },
  {
   "cell_type": "markdown",
   "metadata": {},
   "source": [
    "### Variaveis:"
   ]
  },
  {
   "cell_type": "code",
   "execution_count": 889,
   "metadata": {},
   "outputs": [],
   "source": [
    "#Escola = 15 escolas diferentes\n",
    "#estudante = numeros de estudantes\n",
    "#mês = periodo observado (4 meses)\n",
    "#ativ = Se o aluno faz atividade complementar\n",
    "#texp = Periodo de experiencia dos professores nas escolas\n",
    "#desempenho = Notas dos alunos de 0 a 100 (variavel target)"
   ]
  },
  {
   "cell_type": "code",
   "execution_count": 890,
   "metadata": {},
   "outputs": [],
   "source": [
    "import multilevel_py\n",
    "import seaborn as sns\n",
    "import pandas as pd\n",
    "import numpy as np\n",
    "import matplotlib.pyplot as plt"
   ]
  },
  {
   "cell_type": "code",
   "execution_count": 891,
   "metadata": {},
   "outputs": [
    {
     "data": {
      "text/html": [
       "<div>\n",
       "<style scoped>\n",
       "    .dataframe tbody tr th:only-of-type {\n",
       "        vertical-align: middle;\n",
       "    }\n",
       "\n",
       "    .dataframe tbody tr th {\n",
       "        vertical-align: top;\n",
       "    }\n",
       "\n",
       "    .dataframe thead th {\n",
       "        text-align: right;\n",
       "    }\n",
       "</style>\n",
       "<table border=\"1\" class=\"dataframe\">\n",
       "  <thead>\n",
       "    <tr style=\"text-align: right;\">\n",
       "      <th></th>\n",
       "      <th>escola</th>\n",
       "      <th>estudante</th>\n",
       "      <th>mes</th>\n",
       "      <th>desempenho</th>\n",
       "      <th>ativ</th>\n",
       "      <th>texp</th>\n",
       "    </tr>\n",
       "  </thead>\n",
       "  <tbody>\n",
       "    <tr>\n",
       "      <th>0</th>\n",
       "      <td>1</td>\n",
       "      <td>1</td>\n",
       "      <td>1</td>\n",
       "      <td>35.400002</td>\n",
       "      <td>não</td>\n",
       "      <td>2</td>\n",
       "    </tr>\n",
       "    <tr>\n",
       "      <th>1</th>\n",
       "      <td>1</td>\n",
       "      <td>1</td>\n",
       "      <td>2</td>\n",
       "      <td>44.400002</td>\n",
       "      <td>não</td>\n",
       "      <td>2</td>\n",
       "    </tr>\n",
       "    <tr>\n",
       "      <th>2</th>\n",
       "      <td>1</td>\n",
       "      <td>1</td>\n",
       "      <td>3</td>\n",
       "      <td>46.400002</td>\n",
       "      <td>não</td>\n",
       "      <td>2</td>\n",
       "    </tr>\n",
       "    <tr>\n",
       "      <th>3</th>\n",
       "      <td>1</td>\n",
       "      <td>1</td>\n",
       "      <td>4</td>\n",
       "      <td>52.400002</td>\n",
       "      <td>não</td>\n",
       "      <td>2</td>\n",
       "    </tr>\n",
       "    <tr>\n",
       "      <th>4</th>\n",
       "      <td>1</td>\n",
       "      <td>2</td>\n",
       "      <td>1</td>\n",
       "      <td>74.900002</td>\n",
       "      <td>não</td>\n",
       "      <td>2</td>\n",
       "    </tr>\n",
       "    <tr>\n",
       "      <th>...</th>\n",
       "      <td>...</td>\n",
       "      <td>...</td>\n",
       "      <td>...</td>\n",
       "      <td>...</td>\n",
       "      <td>...</td>\n",
       "      <td>...</td>\n",
       "    </tr>\n",
       "    <tr>\n",
       "      <th>2435</th>\n",
       "      <td>15</td>\n",
       "      <td>609</td>\n",
       "      <td>4</td>\n",
       "      <td>100.000000</td>\n",
       "      <td>sim</td>\n",
       "      <td>9</td>\n",
       "    </tr>\n",
       "    <tr>\n",
       "      <th>2436</th>\n",
       "      <td>15</td>\n",
       "      <td>610</td>\n",
       "      <td>1</td>\n",
       "      <td>87.599998</td>\n",
       "      <td>sim</td>\n",
       "      <td>9</td>\n",
       "    </tr>\n",
       "    <tr>\n",
       "      <th>2437</th>\n",
       "      <td>15</td>\n",
       "      <td>610</td>\n",
       "      <td>2</td>\n",
       "      <td>92.599998</td>\n",
       "      <td>sim</td>\n",
       "      <td>9</td>\n",
       "    </tr>\n",
       "    <tr>\n",
       "      <th>2438</th>\n",
       "      <td>15</td>\n",
       "      <td>610</td>\n",
       "      <td>3</td>\n",
       "      <td>94.599998</td>\n",
       "      <td>sim</td>\n",
       "      <td>9</td>\n",
       "    </tr>\n",
       "    <tr>\n",
       "      <th>2439</th>\n",
       "      <td>15</td>\n",
       "      <td>610</td>\n",
       "      <td>4</td>\n",
       "      <td>100.000000</td>\n",
       "      <td>sim</td>\n",
       "      <td>9</td>\n",
       "    </tr>\n",
       "  </tbody>\n",
       "</table>\n",
       "<p>2440 rows × 6 columns</p>\n",
       "</div>"
      ],
      "text/plain": [
       "      escola  estudante  mes  desempenho ativ  texp\n",
       "0          1          1    1   35.400002  não     2\n",
       "1          1          1    2   44.400002  não     2\n",
       "2          1          1    3   46.400002  não     2\n",
       "3          1          1    4   52.400002  não     2\n",
       "4          1          2    1   74.900002  não     2\n",
       "...      ...        ...  ...         ...  ...   ...\n",
       "2435      15        609    4  100.000000  sim     9\n",
       "2436      15        610    1   87.599998  sim     9\n",
       "2437      15        610    2   92.599998  sim     9\n",
       "2438      15        610    3   94.599998  sim     9\n",
       "2439      15        610    4  100.000000  sim     9\n",
       "\n",
       "[2440 rows x 6 columns]"
      ]
     },
     "execution_count": 891,
     "metadata": {},
     "output_type": "execute_result"
    }
   ],
   "source": [
    "# Carregando o dataset\n",
    "dados = pd.read_csv('tempo_estudante_escola.csv',encoding='latin1',sep=',')\n",
    "x = dados[['escola','estudante','mes','ativ','texp']]\n",
    "y = dados.desempenho\n",
    "dados"
   ]
  },
  {
   "cell_type": "markdown",
   "metadata": {},
   "source": [
    "# Analise Exploratoria"
   ]
  },
  {
   "cell_type": "code",
   "execution_count": 892,
   "metadata": {},
   "outputs": [
    {
     "name": "stdout",
     "output_type": "stream",
     "text": [
      "<class 'pandas.core.frame.DataFrame'>\n",
      "RangeIndex: 2440 entries, 0 to 2439\n",
      "Data columns (total 6 columns):\n",
      " #   Column      Non-Null Count  Dtype  \n",
      "---  ------      --------------  -----  \n",
      " 0   escola      2440 non-null   int64  \n",
      " 1   estudante   2440 non-null   int64  \n",
      " 2   mes         2440 non-null   int64  \n",
      " 3   desempenho  2440 non-null   float64\n",
      " 4   ativ        2440 non-null   object \n",
      " 5   texp        2440 non-null   int64  \n",
      "dtypes: float64(1), int64(4), object(1)\n",
      "memory usage: 114.5+ KB\n"
     ]
    }
   ],
   "source": [
    "dados.info()"
   ]
  },
  {
   "cell_type": "markdown",
   "metadata": {},
   "source": [
    "### Dados Numericos"
   ]
  },
  {
   "cell_type": "code",
   "execution_count": 893,
   "metadata": {},
   "outputs": [
    {
     "data": {
      "text/html": [
       "<div>\n",
       "<style scoped>\n",
       "    .dataframe tbody tr th:only-of-type {\n",
       "        vertical-align: middle;\n",
       "    }\n",
       "\n",
       "    .dataframe tbody tr th {\n",
       "        vertical-align: top;\n",
       "    }\n",
       "\n",
       "    .dataframe thead th {\n",
       "        text-align: right;\n",
       "    }\n",
       "</style>\n",
       "<table border=\"1\" class=\"dataframe\">\n",
       "  <thead>\n",
       "    <tr style=\"text-align: right;\">\n",
       "      <th></th>\n",
       "      <th>escola</th>\n",
       "      <th>estudante</th>\n",
       "      <th>mes</th>\n",
       "      <th>desempenho</th>\n",
       "      <th>texp</th>\n",
       "    </tr>\n",
       "  </thead>\n",
       "  <tbody>\n",
       "    <tr>\n",
       "      <th>count</th>\n",
       "      <td>2440.000000</td>\n",
       "      <td>2440.000000</td>\n",
       "      <td>2440.000000</td>\n",
       "      <td>2440.000000</td>\n",
       "      <td>2440.000000</td>\n",
       "    </tr>\n",
       "    <tr>\n",
       "      <th>mean</th>\n",
       "      <td>8.485246</td>\n",
       "      <td>305.500000</td>\n",
       "      <td>2.500000</td>\n",
       "      <td>68.341352</td>\n",
       "      <td>9.027869</td>\n",
       "    </tr>\n",
       "    <tr>\n",
       "      <th>std</th>\n",
       "      <td>4.386862</td>\n",
       "      <td>176.127691</td>\n",
       "      <td>1.118263</td>\n",
       "      <td>22.981531</td>\n",
       "      <td>7.655618</td>\n",
       "    </tr>\n",
       "    <tr>\n",
       "      <th>min</th>\n",
       "      <td>1.000000</td>\n",
       "      <td>1.000000</td>\n",
       "      <td>1.000000</td>\n",
       "      <td>10.500000</td>\n",
       "      <td>2.000000</td>\n",
       "    </tr>\n",
       "    <tr>\n",
       "      <th>25%</th>\n",
       "      <td>5.000000</td>\n",
       "      <td>153.000000</td>\n",
       "      <td>1.750000</td>\n",
       "      <td>49.574999</td>\n",
       "      <td>2.000000</td>\n",
       "    </tr>\n",
       "    <tr>\n",
       "      <th>50%</th>\n",
       "      <td>9.000000</td>\n",
       "      <td>305.500000</td>\n",
       "      <td>2.500000</td>\n",
       "      <td>70.300003</td>\n",
       "      <td>9.000000</td>\n",
       "    </tr>\n",
       "    <tr>\n",
       "      <th>75%</th>\n",
       "      <td>12.000000</td>\n",
       "      <td>458.000000</td>\n",
       "      <td>3.250000</td>\n",
       "      <td>88.500000</td>\n",
       "      <td>18.000000</td>\n",
       "    </tr>\n",
       "    <tr>\n",
       "      <th>max</th>\n",
       "      <td>15.000000</td>\n",
       "      <td>610.000000</td>\n",
       "      <td>4.000000</td>\n",
       "      <td>100.000000</td>\n",
       "      <td>20.000000</td>\n",
       "    </tr>\n",
       "  </tbody>\n",
       "</table>\n",
       "</div>"
      ],
      "text/plain": [
       "            escola    estudante          mes   desempenho         texp\n",
       "count  2440.000000  2440.000000  2440.000000  2440.000000  2440.000000\n",
       "mean      8.485246   305.500000     2.500000    68.341352     9.027869\n",
       "std       4.386862   176.127691     1.118263    22.981531     7.655618\n",
       "min       1.000000     1.000000     1.000000    10.500000     2.000000\n",
       "25%       5.000000   153.000000     1.750000    49.574999     2.000000\n",
       "50%       9.000000   305.500000     2.500000    70.300003     9.000000\n",
       "75%      12.000000   458.000000     3.250000    88.500000    18.000000\n",
       "max      15.000000   610.000000     4.000000   100.000000    20.000000"
      ]
     },
     "execution_count": 893,
     "metadata": {},
     "output_type": "execute_result"
    }
   ],
   "source": [
    "dados.describe()"
   ]
  },
  {
   "cell_type": "markdown",
   "metadata": {},
   "source": [
    "### Dados Categoricos"
   ]
  },
  {
   "cell_type": "code",
   "execution_count": 894,
   "metadata": {},
   "outputs": [
    {
     "data": {
      "text/plain": [
       "sim    1320\n",
       "não    1120\n",
       "Name: ativ, dtype: int64"
      ]
     },
     "execution_count": 894,
     "metadata": {},
     "output_type": "execute_result"
    }
   ],
   "source": [
    "dados.ativ.value_counts()\n"
   ]
  },
  {
   "cell_type": "code",
   "execution_count": 895,
   "metadata": {},
   "outputs": [
    {
     "data": {
      "text/plain": [
       "12    248\n",
       "11    228\n",
       "15    212\n",
       "13    212\n",
       "5     192\n",
       "3     192\n",
       "1     188\n",
       "9     176\n",
       "8     140\n",
       "10    132\n",
       "6     120\n",
       "7     112\n",
       "14    108\n",
       "2     100\n",
       "4      80\n",
       "Name: escola, dtype: int64"
      ]
     },
     "execution_count": 895,
     "metadata": {},
     "output_type": "execute_result"
    }
   ],
   "source": [
    "dados.escola.value_counts()"
   ]
  },
  {
   "cell_type": "markdown",
   "metadata": {},
   "source": [
    "## Estudo sobre o balanceamento dos dados em relação à quantidade de alunos por período analisado"
   ]
  },
  {
   "cell_type": "code",
   "execution_count": 896,
   "metadata": {},
   "outputs": [
    {
     "data": {
      "text/plain": [
       "mes\n",
       "1    610\n",
       "2    610\n",
       "3    610\n",
       "4    610\n",
       "Name: estudante, dtype: int64"
      ]
     },
     "execution_count": 896,
     "metadata": {},
     "output_type": "execute_result"
    }
   ],
   "source": [
    "dados.groupby(dados['mes'])['estudante'].count()"
   ]
  },
  {
   "cell_type": "markdown",
   "metadata": {},
   "source": [
    "**Podemos observar que temos balanceamento longitudinal**"
   ]
  },
  {
   "cell_type": "markdown",
   "metadata": {},
   "source": [
    "## Estudo sobre o desbalanceamento da quantidade de alunos aninhados em escolas"
   ]
  },
  {
   "cell_type": "code",
   "execution_count": 897,
   "metadata": {},
   "outputs": [
    {
     "data": {
      "text/plain": [
       "escola\n",
       "1     47.0\n",
       "2     25.0\n",
       "3     48.0\n",
       "4     20.0\n",
       "5     48.0\n",
       "6     30.0\n",
       "7     28.0\n",
       "8     35.0\n",
       "9     44.0\n",
       "10    33.0\n",
       "11    57.0\n",
       "12    62.0\n",
       "13    53.0\n",
       "14    27.0\n",
       "15    53.0\n",
       "Name: estudante, dtype: float64"
      ]
     },
     "execution_count": 897,
     "metadata": {},
     "output_type": "execute_result"
    }
   ],
   "source": [
    "alunos_escolas = dados.groupby(dados['escola'])['estudante'].count()\n",
    "alunos_escolas2 = alunos_escolas/4 # Como temos 4 meses os alunos se repentem 4 vezes , para ter a conclusão da quantidade de alunos por escola dividimos por 4\n",
    "alunos_escolas2"
   ]
  },
  {
   "cell_type": "markdown",
   "metadata": {},
   "source": [
    "## Gráfico da evolução temporal média do desempenho escolar dos estudantes (ajuste linear)"
   ]
  },
  {
   "cell_type": "code",
   "execution_count": 898,
   "metadata": {},
   "outputs": [
    {
     "data": {
      "text/plain": [
       "[<matplotlib.lines.Line2D at 0x2ada5efbcd0>]"
      ]
     },
     "execution_count": 898,
     "metadata": {},
     "output_type": "execute_result"
    },
    {
     "data": {
      "image/png": "[encoded data removed]",
      "text/plain": [
       "<Figure size 432x288 with 1 Axes>"
      ]
     },
     "metadata": {},
     "output_type": "display_data"
    }
   ],
   "source": [
    "media_escola= pd.DataFrame(dados.groupby('mes').desempenho.mean())\n",
    "plt.scatter(dados.mes,dados.desempenho)\n",
    "plt.plot(media_escola.desempenho,c='red')"
   ]
  },
  {
   "cell_type": "markdown",
   "metadata": {},
   "source": [
    "**Podemos observar que a medida que os meses passam a media do desempenho dos alunos tambem aumentam**"
   ]
  },
  {
   "cell_type": "markdown",
   "metadata": {},
   "source": [
    "## Kernel density estimation (KDE) - função densidade de probabilidade da variável Target (desempenho), com histograma"
   ]
  },
  {
   "cell_type": "code",
   "execution_count": 899,
   "metadata": {},
   "outputs": [
    {
     "data": {
      "text/plain": [
       "<seaborn.axisgrid.FacetGrid at 0x2ada5f162e0>"
      ]
     },
     "execution_count": 899,
     "metadata": {},
     "output_type": "execute_result"
    },
    {
     "data": {
      "image/png": "[encoded data removed]",
      "text/plain": [
       "<Figure size 360x360 with 1 Axes>"
      ]
     },
     "metadata": {},
     "output_type": "display_data"
    }
   ],
   "source": [
    "import seaborn as sns\n",
    "sns.displot(dados.desempenho,kde=True,bins=30)"
   ]
  },
  {
   "cell_type": "markdown",
   "metadata": {},
   "source": [
    "**Pergunta: Tem alguma escola especifica que faz com que os alunos tirem 100 no desempenho?**"
   ]
  },
  {
   "cell_type": "markdown",
   "metadata": {},
   "source": [
    "## Kernel density estimation (KDE) - função densidade de probabilidade da variável Target (desempenho), com histograma"
   ]
  },
  {
   "cell_type": "code",
   "execution_count": 900,
   "metadata": {},
   "outputs": [
    {
     "data": {
      "text/plain": [
       "<AxesSubplot:xlabel='desempenho', ylabel='Density'>"
      ]
     },
     "execution_count": 900,
     "metadata": {},
     "output_type": "execute_result"
    },
    {
     "data": {
      "image/png": "[encoded data removed]",
      "text/plain": [
       "<Figure size 432x288 with 1 Axes>"
      ]
     },
     "metadata": {},
     "output_type": "display_data"
    }
   ],
   "source": [
    "sns.kdeplot(data=dados, x=\"desempenho\", hue=\"escola\",fill='escola',palette=\"viridis\",alpha=.7)"
   ]
  },
  {
   "cell_type": "code",
   "execution_count": 901,
   "metadata": {},
   "outputs": [
    {
     "data": {
      "text/plain": [
       "<seaborn.axisgrid.FacetGrid at 0x2ada59c4c10>"
      ]
     },
     "execution_count": 901,
     "metadata": {},
     "output_type": "execute_result"
    },
    {
     "data": {
      "image/png": "[encoded data removed]",
      "text/plain": [
       "<Figure size 864x864 with 15 Axes>"
      ]
     },
     "metadata": {},
     "output_type": "display_data"
    }
   ],
   "source": [
    "sns.displot(dados, x=\"desempenho\", col=\"escola\",kde=True,bins=15,col_wrap=4, height=3)"
   ]
  },
  {
   "cell_type": "markdown",
   "metadata": {},
   "source": [
    "**A Escola 8 e 9 tem um desempenho melhor que as outras escolas**"
   ]
  },
  {
   "cell_type": "markdown",
   "metadata": {},
   "source": [
    "## Variável Target (desempenho) em relação ao mês"
   ]
  },
  {
   "cell_type": "code",
   "execution_count": 902,
   "metadata": {},
   "outputs": [
    {
     "data": {
      "text/plain": [
       "<seaborn.axisgrid.FacetGrid at 0x2adaed22ee0>"
      ]
     },
     "execution_count": 902,
     "metadata": {},
     "output_type": "execute_result"
    },
    {
     "data": {
      "image/png": "[encoded data removed]",
      "text/plain": [
       "<Figure size 864x216 with 4 Axes>"
      ]
     },
     "metadata": {},
     "output_type": "display_data"
    }
   ],
   "source": [
    "sns.displot(dados, x=\"desempenho\", col=\"mes\",kde=True,bins=15,col_wrap=4, height=3)"
   ]
  },
  {
   "cell_type": "markdown",
   "metadata": {},
   "source": [
    "**Podemos observar que o periodo 3 e 4 são os que mais os estudantes tiram notas altas**"
   ]
  },
  {
   "cell_type": "markdown",
   "metadata": {},
   "source": [
    "## Gráfico da evolução temporal do desempenho médio por escola (ajustes lineares)"
   ]
  },
  {
   "cell_type": "code",
   "execution_count": 903,
   "metadata": {},
   "outputs": [
    {
     "data": {
      "image/png": "[encoded data removed]",
      "text/plain": [
       "<Figure size 411.85x360 with 1 Axes>"
      ]
     },
     "metadata": {},
     "output_type": "display_data"
    }
   ],
   "source": [
    "import seaborn as sns\n",
    "sns.set_theme(color_codes=True)\n",
    "ax = sns.lmplot(x=\"mes\", y=\"desempenho\", hue=\"escola\", data=dados,palette='viridis',truncate=False,ci=0)"
   ]
  },
  {
   "cell_type": "markdown",
   "metadata": {},
   "source": [
    "# ESTIMAÇÃO DO MODELO NULO HLM3 "
   ]
  },
  {
   "cell_type": "markdown",
   "metadata": {},
   "source": [
    "### Objetivo: Verificar se existe diferenças entre o desempenhos dos alunos ao longo do tempo , entre alunos e entre alunos de escolas destintas"
   ]
  },
  {
   "cell_type": "code",
   "execution_count": 904,
   "metadata": {},
   "outputs": [],
   "source": [
    "from statsmodels.genmod.bayes_mixed_glm import BinomialBayesMixedGLM as bgmm"
   ]
  },
  {
   "cell_type": "code",
   "execution_count": 1032,
   "metadata": {},
   "outputs": [],
   "source": [
    "#Parametros para definição dos niveis\n",
    "\n",
    "# Para dizer ao modelo que uma variável é categórica, ela precisa ser embrulhada em C(independent_variable)\n",
    "vcf = {\"estudante\": \"0 + C(estudante)\", \"escola\": \"0 + C(escola)\"} #nivel 2 = estudante , nivel 3 = escola\n",
    "nivel_3 = dados[\"escola\"]"
   ]
  },
  {
   "cell_type": "code",
   "execution_count": 1033,
   "metadata": {},
   "outputs": [
    {
     "name": "stdout",
     "output_type": "stream",
     "text": [
      "          Mixed Linear Model Regression Results\n",
      "=========================================================\n",
      "Model:            MixedLM Dependent Variable: desempenho \n",
      "No. Observations: 2440    Method:             REML       \n",
      "No. Groups:       15      Scale:              361.4023   \n",
      "Min. group size:  80      Log-Likelihood:     -10678.2523\n",
      "Max. group size:  248     Converged:          Yes        \n",
      "Mean group size:  162.7                                  \n",
      "---------------------------------------------------------\n",
      "               Coef.  Std.Err.   z    P>|z| [0.025 0.975]\n",
      "---------------------------------------------------------\n",
      "Intercept      68.731    3.553 19.347 0.000 61.769 75.694\n",
      "Group Var     186.827    3.771                           \n",
      "=========================================================\n",
      "\n"
     ]
    }
   ],
   "source": [
    "import statsmodels.formula.api as smf\n",
    "from patsy import dmatrices\n",
    "formula = \"desempenho ~ 1\"\n",
    "md  = smf.mixedlm(formula, dados, groups=nivel_3);\n",
    "mdf = md.fit();\n",
    "print(mdf.summary());"
   ]
  },
  {
   "cell_type": "code",
   "execution_count": 907,
   "metadata": {},
   "outputs": [
    {
     "name": "stdout",
     "output_type": "stream",
     "text": [
      "Formula: desempenho~1+(1|estudante)+(1|escola)\n",
      "\n",
      "Family: gaussian\t Inference: parametric\n",
      "\n",
      "Number of observations: 2440\t Groups: {'estudante': 610.0, 'escola': 15.0}\n",
      "\n",
      "Log-likelihood: -9092.139 \t AIC: 18184.277\n",
      "\n",
      "Random effects:\n",
      "\n",
      "                  Name      Var     Std\n",
      "estudante  (Intercept)  325.799  18.050\n",
      "escola     (Intercept)  180.193  13.424\n",
      "Residual                 41.649   6.454\n",
      "\n",
      "No random effect correlations specified\n",
      "\n",
      "Fixed effects:\n",
      "\n"
     ]
    },
    {
     "data": {
      "text/html": [
       "<div>\n",
       "<style scoped>\n",
       "    .dataframe tbody tr th:only-of-type {\n",
       "        vertical-align: middle;\n",
       "    }\n",
       "\n",
       "    .dataframe tbody tr th {\n",
       "        vertical-align: top;\n",
       "    }\n",
       "\n",
       "    .dataframe thead th {\n",
       "        text-align: right;\n",
       "    }\n",
       "</style>\n",
       "<table border=\"1\" class=\"dataframe\">\n",
       "  <thead>\n",
       "    <tr style=\"text-align: right;\">\n",
       "      <th></th>\n",
       "      <th>Estimate</th>\n",
       "      <th>2.5_ci</th>\n",
       "      <th>97.5_ci</th>\n",
       "      <th>SE</th>\n",
       "      <th>DF</th>\n",
       "      <th>T-stat</th>\n",
       "      <th>P-val</th>\n",
       "      <th>Sig</th>\n",
       "    </tr>\n",
       "  </thead>\n",
       "  <tbody>\n",
       "    <tr>\n",
       "      <th>(Intercept)</th>\n",
       "      <td>68.714</td>\n",
       "      <td>61.75</td>\n",
       "      <td>75.678</td>\n",
       "      <td>3.553</td>\n",
       "      <td>13.982</td>\n",
       "      <td>19.339</td>\n",
       "      <td>0.0</td>\n",
       "      <td>***</td>\n",
       "    </tr>\n",
       "  </tbody>\n",
       "</table>\n",
       "</div>"
      ],
      "text/plain": [
       "             Estimate  2.5_ci  97.5_ci     SE      DF  T-stat  P-val  Sig\n",
       "(Intercept)    68.714   61.75   75.678  3.553  13.982  19.339    0.0  ***"
      ]
     },
     "metadata": {},
     "output_type": "display_data"
    },
    {
     "name": "stdout",
     "output_type": "stream",
     "text": [
      "SS Type III Analysis of Variance Table with Satterthwaite approximated degrees of freedom:\n",
      "(NOTE: Using original model contrasts, orthogonality not guaranteed)\n"
     ]
    },
    {
     "data": {
      "text/html": [
       "<div>\n",
       "<style scoped>\n",
       "    .dataframe tbody tr th:only-of-type {\n",
       "        vertical-align: middle;\n",
       "    }\n",
       "\n",
       "    .dataframe tbody tr th {\n",
       "        vertical-align: top;\n",
       "    }\n",
       "\n",
       "    .dataframe thead th {\n",
       "        text-align: right;\n",
       "    }\n",
       "</style>\n",
       "<table border=\"1\" class=\"dataframe\">\n",
       "  <thead>\n",
       "    <tr style=\"text-align: right;\">\n",
       "      <th></th>\n",
       "      <th>SS</th>\n",
       "      <th>MS</th>\n",
       "      <th>NumDF</th>\n",
       "      <th>DenomDF</th>\n",
       "      <th>F-stat</th>\n",
       "      <th>P-val</th>\n",
       "      <th>Sig</th>\n",
       "    </tr>\n",
       "  </thead>\n",
       "  <tbody>\n",
       "  </tbody>\n",
       "</table>\n",
       "</div>"
      ],
      "text/plain": [
       "Empty DataFrame\n",
       "Columns: [SS, MS, NumDF, DenomDF, F-stat, P-val, Sig]\n",
       "Index: []"
      ]
     },
     "metadata": {},
     "output_type": "display_data"
    },
    {
     "data": {
      "text/plain": [
       "<AxesSubplot:xlabel='Estimate'>"
      ]
     },
     "execution_count": 907,
     "metadata": {},
     "output_type": "execute_result"
    },
    {
     "data": {
      "image/png": "[encoded data removed]",
      "text/plain": [
       "<Figure size 864x432 with 1 Axes>"
      ]
     },
     "metadata": {},
     "output_type": "display_data"
    }
   ],
   "source": [
    "from pymer4.models import Lmer \n",
    "model = Lmer(\"desempenho ~ 1 + (1|estudante) + (1|escola)\", data=dados)\n",
    "\n",
    "display(model.fit())\n",
    "# ANOVA results from fitted model\n",
    "display(model.anova())\n",
    "# Plot estimated model coefficients \n",
    "model.plot_summary()"
   ]
  },
  {
   "cell_type": "markdown",
   "metadata": {},
   "source": [
    "# P-value dos parametros"
   ]
  },
  {
   "cell_type": "markdown",
   "metadata": {},
   "source": [
    "### Intercepto"
   ]
  },
  {
   "cell_type": "code",
   "execution_count": 908,
   "metadata": {},
   "outputs": [
    {
     "data": {
      "text/plain": [
       "Intercept        0.000\n",
       "escola Var       0.012\n",
       "estudante Var    0.000\n",
       "dtype: float64"
      ]
     },
     "execution_count": 908,
     "metadata": {},
     "output_type": "execute_result"
    }
   ],
   "source": [
    "round(mdf.pvalues,3)"
   ]
  },
  {
   "cell_type": "markdown",
   "metadata": {},
   "source": [
    "**Os efeito aleatorio de intercepto de aluno e escola ao longo do tempo são estatisticamente significantes a um nivel de significancia de 5%**"
   ]
  },
  {
   "cell_type": "markdown",
   "metadata": {},
   "source": [
    "# Parametros das variaveis Fixas"
   ]
  },
  {
   "cell_type": "markdown",
   "metadata": {},
   "source": [
    "### Intercepto"
   ]
  },
  {
   "cell_type": "code",
   "execution_count": 909,
   "metadata": {},
   "outputs": [
    {
     "data": {
      "text/plain": [
       "Intercept    68.713957\n",
       "dtype: float64"
      ]
     },
     "execution_count": 909,
     "metadata": {},
     "output_type": "execute_result"
    }
   ],
   "source": [
    "mdf.fe_params"
   ]
  },
  {
   "cell_type": "markdown",
   "metadata": {},
   "source": [
    "# Significancia estatistica dos efeitos aleatorios"
   ]
  },
  {
   "cell_type": "markdown",
   "metadata": {},
   "source": [
    "### Intercepto Escola"
   ]
  },
  {
   "cell_type": "code",
   "execution_count": 910,
   "metadata": {},
   "outputs": [
    {
     "data": {
      "text/plain": [
       "180.22235673700325"
      ]
     },
     "execution_count": 910,
     "metadata": {},
     "output_type": "execute_result"
    }
   ],
   "source": [
    "mdf.vcomp[0]"
   ]
  },
  {
   "cell_type": "markdown",
   "metadata": {},
   "source": [
    "### Intercepto Aluno"
   ]
  },
  {
   "cell_type": "code",
   "execution_count": 911,
   "metadata": {},
   "outputs": [
    {
     "data": {
      "text/plain": [
       "325.79788292294785"
      ]
     },
     "execution_count": 911,
     "metadata": {},
     "output_type": "execute_result"
    }
   ],
   "source": [
    "mdf.vcomp[1]"
   ]
  },
  {
   "cell_type": "markdown",
   "metadata": {},
   "source": [
    "### Variancia E(erro) do efeito aleatorio"
   ]
  },
  {
   "cell_type": "code",
   "execution_count": 912,
   "metadata": {},
   "outputs": [
    {
     "data": {
      "text/plain": [
       "41.6493903375379"
      ]
     },
     "execution_count": 912,
     "metadata": {},
     "output_type": "execute_result"
    }
   ],
   "source": [
    "mdf.scale"
   ]
  },
  {
   "cell_type": "markdown",
   "metadata": {},
   "source": [
    "# Calculo do ICC (3 niveis)"
   ]
  },
  {
   "cell_type": "markdown",
   "metadata": {},
   "source": [
    "### Escola"
   ]
  },
  {
   "cell_type": "code",
   "execution_count": 913,
   "metadata": {},
   "outputs": [
    {
     "name": "stdout",
     "output_type": "stream",
     "text": [
      "ICC_escola= 33%\n"
     ]
    }
   ],
   "source": [
    "# Calculo do ICC - Intraclass Correlation\n",
    "# Calcula a variaçao explicada da y em relaçao a variavel X\n",
    "#Proporçao da variancia do nivel escola em relaçao a variancia total dos termos de erro\n",
    "\n",
    "#Formula : \n",
    "t00k = mdf.vcomp[0] # Efeito aleatorio de intercpto nivel escola\n",
    "v0jk = mdf.vcomp[1] # Efeito aleatorio de intercpto nivel Aluno\n",
    "E = mdf.scale # Variancia E(erro) do efeito aleatorio do nivel individuo\n",
    "icc_escola = t00k /(t00k + v0jk + E)\n",
    "print(f'ICC_escola= {round(icc_escola*100)}%')"
   ]
  },
  {
   "cell_type": "markdown",
   "metadata": {},
   "source": [
    "**33% da variação do desempenho ao longo do tempo é devido a variavel escola**"
   ]
  },
  {
   "cell_type": "markdown",
   "metadata": {},
   "source": [
    "### Aluno"
   ]
  },
  {
   "cell_type": "code",
   "execution_count": 914,
   "metadata": {},
   "outputs": [
    {
     "name": "stdout",
     "output_type": "stream",
     "text": [
      "ICC_aluno= 59%\n"
     ]
    }
   ],
   "source": [
    "# Calculo do ICC - Intraclass Correlation\n",
    "# Calcula a variaçao explicada da y em relaçao a variavel X\n",
    "#Proporçao da variancia do nivel escola em relaçao a variancia total dos termos de erro\n",
    "\n",
    "#Formula : \n",
    "t00k = mdf.vcomp[0] # Efeito aleatorio de intercpto nivel escola\n",
    "v0jk = mdf.vcomp[1] # Efeito aleatorio de intercpto nivel Aluno\n",
    "E = mdf.scale # Variancia E(erro) do efeito aleatorio do nivel individuo\n",
    "icc_aluno = v0jk /(v0jk + t00k + E)\n",
    "print(f'ICC_aluno= {round(icc_aluno*100)}%')"
   ]
  },
  {
   "cell_type": "markdown",
   "metadata": {},
   "source": [
    "**59% da variação do desempenho ao longo do tempo é devido a variavel Aluno**"
   ]
  },
  {
   "cell_type": "markdown",
   "metadata": {},
   "source": [
    "### Tempo"
   ]
  },
  {
   "cell_type": "code",
   "execution_count": 915,
   "metadata": {},
   "outputs": [
    {
     "name": "stdout",
     "output_type": "stream",
     "text": [
      "ICC_tempo= 8%\n"
     ]
    }
   ],
   "source": [
    "total = 1\n",
    "icc_escola \n",
    "icc_aluno\n",
    "icc_tempo = total -(icc_escola + icc_aluno)\n",
    "print(f'ICC_tempo= {round(icc_tempo*100)}%')"
   ]
  },
  {
   "cell_type": "markdown",
   "metadata": {},
   "source": [
    "**8% da variação do desempenho ao longo do tempo é devido a variavel Tempo**"
   ]
  },
  {
   "cell_type": "markdown",
   "metadata": {},
   "source": [
    "## ESTIMAÇÃO DO MODELO NULO OLS"
   ]
  },
  {
   "cell_type": "code",
   "execution_count": 916,
   "metadata": {},
   "outputs": [
    {
     "data": {
      "text/html": [
       "<table class=\"simpletable\">\n",
       "<caption>OLS Regression Results</caption>\n",
       "<tr>\n",
       "  <th>Dep. Variable:</th>       <td>desempenho</td>    <th>  R-squared:         </th> <td>   0.000</td> \n",
       "</tr>\n",
       "<tr>\n",
       "  <th>Model:</th>                   <td>OLS</td>       <th>  Adj. R-squared:    </th> <td>   0.000</td> \n",
       "</tr>\n",
       "<tr>\n",
       "  <th>Method:</th>             <td>Least Squares</td>  <th>  F-statistic:       </th> <td>     nan</td> \n",
       "</tr>\n",
       "<tr>\n",
       "  <th>Date:</th>             <td>Wed, 13 Oct 2021</td> <th>  Prob (F-statistic):</th>  <td>   nan</td>  \n",
       "</tr>\n",
       "<tr>\n",
       "  <th>Time:</th>                 <td>14:25:08</td>     <th>  Log-Likelihood:    </th> <td> -11110.</td> \n",
       "</tr>\n",
       "<tr>\n",
       "  <th>No. Observations:</th>      <td>  2440</td>      <th>  AIC:               </th> <td>2.222e+04</td>\n",
       "</tr>\n",
       "<tr>\n",
       "  <th>Df Residuals:</th>          <td>  2439</td>      <th>  BIC:               </th> <td>2.223e+04</td>\n",
       "</tr>\n",
       "<tr>\n",
       "  <th>Df Model:</th>              <td>     0</td>      <th>                     </th>     <td> </td>    \n",
       "</tr>\n",
       "<tr>\n",
       "  <th>Covariance Type:</th>      <td>nonrobust</td>    <th>                     </th>     <td> </td>    \n",
       "</tr>\n",
       "</table>\n",
       "<table class=\"simpletable\">\n",
       "<tr>\n",
       "    <td></td>       <th>coef</th>     <th>std err</th>      <th>t</th>      <th>P>|t|</th>  <th>[0.025</th>    <th>0.975]</th>  \n",
       "</tr>\n",
       "<tr>\n",
       "  <th>const</th> <td>   68.3414</td> <td>    0.465</td> <td>  146.892</td> <td> 0.000</td> <td>   67.429</td> <td>   69.254</td>\n",
       "</tr>\n",
       "</table>\n",
       "<table class=\"simpletable\">\n",
       "<tr>\n",
       "  <th>Omnibus:</th>       <td>742.376</td> <th>  Durbin-Watson:     </th> <td>   0.440</td>\n",
       "</tr>\n",
       "<tr>\n",
       "  <th>Prob(Omnibus):</th> <td> 0.000</td>  <th>  Jarque-Bera (JB):  </th> <td> 133.934</td>\n",
       "</tr>\n",
       "<tr>\n",
       "  <th>Skew:</th>          <td>-0.230</td>  <th>  Prob(JB):          </th> <td>8.25e-30</td>\n",
       "</tr>\n",
       "<tr>\n",
       "  <th>Kurtosis:</th>      <td> 1.949</td>  <th>  Cond. No.          </th> <td>    1.00</td>\n",
       "</tr>\n",
       "</table><br/><br/>Notes:<br/>[1] Standard Errors assume that the covariance matrix of the errors is correctly specified."
      ],
      "text/plain": [
       "<class 'statsmodels.iolib.summary.Summary'>\n",
       "\"\"\"\n",
       "                            OLS Regression Results                            \n",
       "==============================================================================\n",
       "Dep. Variable:             desempenho   R-squared:                       0.000\n",
       "Model:                            OLS   Adj. R-squared:                  0.000\n",
       "Method:                 Least Squares   F-statistic:                       nan\n",
       "Date:                Wed, 13 Oct 2021   Prob (F-statistic):                nan\n",
       "Time:                        14:25:08   Log-Likelihood:                -11110.\n",
       "No. Observations:                2440   AIC:                         2.222e+04\n",
       "Df Residuals:                    2439   BIC:                         2.223e+04\n",
       "Df Model:                           0                                         \n",
       "Covariance Type:            nonrobust                                         \n",
       "==============================================================================\n",
       "                 coef    std err          t      P>|t|      [0.025      0.975]\n",
       "------------------------------------------------------------------------------\n",
       "const         68.3414      0.465    146.892      0.000      67.429      69.254\n",
       "==============================================================================\n",
       "Omnibus:                      742.376   Durbin-Watson:                   0.440\n",
       "Prob(Omnibus):                  0.000   Jarque-Bera (JB):              133.934\n",
       "Skew:                          -0.230   Prob(JB):                     8.25e-30\n",
       "Kurtosis:                       1.949   Cond. No.                         1.00\n",
       "==============================================================================\n",
       "\n",
       "Notes:\n",
       "[1] Standard Errors assume that the covariance matrix of the errors is correctly specified.\n",
       "\"\"\""
      ]
     },
     "execution_count": 916,
     "metadata": {},
     "output_type": "execute_result"
    }
   ],
   "source": [
    "import statsmodels.api as sm\n",
    "x_interc = sm.add_constant(x) # Somente o Intercept\n",
    "modelo = sm.OLS(y,x_interc[['const']]) # funçao \n",
    "resultado = modelo.fit() # Treinar o modelo\n",
    "resultado.summary() # Verificar os dados do modelo"
   ]
  },
  {
   "cell_type": "markdown",
   "metadata": {},
   "source": [
    "## COMPARAÇÃO DO HLM3 NULO COM UM OLS NULO  "
   ]
  },
  {
   "cell_type": "code",
   "execution_count": 917,
   "metadata": {},
   "outputs": [
    {
     "data": {
      "image/png": "[encoded data removed]",
      "text/plain": [
       "<Figure size 432x288 with 1 Axes>"
      ]
     },
     "metadata": {},
     "output_type": "display_data"
    }
   ],
   "source": [
    "#Criar um dataFrame com os LLs\n",
    "a = ['HLM3_Nulo','OLS_nulo']\n",
    "b = [mdf.llf,resultado.llf]\n",
    "dados_grafico = pd.DataFrame(a,b)\n",
    "dados_grafico= dados_grafico.reset_index()\n",
    "dados_grafico.columns=['Index','Modelo']\n",
    "\n",
    "#Plotar no Grafico \n",
    "df_ordenado = dados_grafico.sort_values(by='Index',ascending=True)\n",
    "plt.barh(df_ordenado.Modelo, df_ordenado.Index, color='red', alpha=0.5)\n",
    "plt.title('Comparação dos LL',size=40,);"
   ]
  },
  {
   "cell_type": "markdown",
   "metadata": {},
   "source": [
    "**Como os interceptos do modelo multinivel foi estatisticamente significantes o LL do modelo OLS não será superior**"
   ]
  },
  {
   "cell_type": "markdown",
   "metadata": {},
   "source": [
    "## ESTIMAÇÃO DO MODELO HLM3 COM TENDÊNCIA LINEAR E INTERCEPTOS E INCLINAÇÕES ALEATÓRIOS "
   ]
  },
  {
   "cell_type": "markdown",
   "metadata": {},
   "source": [
    "### Objetivo: Verificar a significancia estatistica das escola(nivel 3) e dos alunos(nivel 2) em relaçao ao desempenho(Target) e o periodo(Variavel preditora)"
   ]
  },
  {
   "cell_type": "code",
   "execution_count": 859,
   "metadata": {},
   "outputs": [
    {
     "ename": "SyntaxError",
     "evalue": "invalid syntax (<ipython-input-859-5ff45551a191>, line 1)",
     "output_type": "error",
     "traceback": [
      "\u001b[1;36m  File \u001b[1;32m\"<ipython-input-859-5ff45551a191>\"\u001b[1;36m, line \u001b[1;32m1\u001b[0m\n\u001b[1;33m    t00k =intercepto escola\u001b[0m\n\u001b[1;37m                     ^\u001b[0m\n\u001b[1;31mSyntaxError\u001b[0m\u001b[1;31m:\u001b[0m invalid syntax\n"
     ]
    }
   ],
   "source": [
    "t00k =intercepto escola  \n",
    "t10k = inclinaçao ao longo do tempo(mes) em relaçao a escola\n",
    "v0jk = intercepto alunos\n",
    "v1jk = inclinaçao ao longo do tempo(mes) em relaçao a aluno "
   ]
  },
  {
   "cell_type": "code",
   "execution_count": 938,
   "metadata": {},
   "outputs": [],
   "source": [
    "#Parametros para definição dos niveis\n",
    "vcf = {\"estudante\": \"0 + C(estudante)\",\"escola\": \"0 + C(escola)\"} #nivel 2 = estudante , nivel 3 = escola\n",
    "nivel_2 = \"estudante\" \n",
    "nivel_3 = \"escola\" \n",
    "formula = \"desempenho ~ mes\"\n",
    "re_f = \"~ mes \"\n"
   ]
  },
  {
   "cell_type": "code",
   "execution_count": 940,
   "metadata": {},
   "outputs": [
    {
     "name": "stdout",
     "output_type": "stream",
     "text": [
      "          Mixed Linear Model Regression Results\n",
      "=========================================================\n",
      "Model:             MixedLM Dependent Variable: desempenho\n",
      "No. Observations:  2440    Method:             REML      \n",
      "No. Groups:        15      Scale:              10.1462   \n",
      "Min. group size:   80      Log-Likelihood:     -7801.4202\n",
      "Max. group size:   248     Converged:          Yes       \n",
      "Mean group size:   162.7                                 \n",
      "---------------------------------------------------------\n",
      "               Coef.  Std.Err.   z    P>|z| [0.025 0.975]\n",
      "---------------------------------------------------------\n",
      "Intercept      57.844    3.558 16.256 0.000 50.870 64.818\n",
      "mes             4.348    0.058 75.386 0.000  4.235  4.461\n",
      "escola Var    180.430   22.614                           \n",
      "estudante Var 333.663    7.044                           \n",
      "=========================================================\n",
      "\n"
     ]
    }
   ],
   "source": [
    "md1  = smf.mixedlm(formula, dados, groups=nivel_3,vc_formula=vcf);\n",
    "mdf1 = md1.fit();\n",
    "print(mdf1.summary());"
   ]
  },
  {
   "cell_type": "code",
   "execution_count": null,
   "metadata": {},
   "outputs": [],
   "source": []
  },
  {
   "cell_type": "code",
   "execution_count": 920,
   "metadata": {},
   "outputs": [
    {
     "name": "stdout",
     "output_type": "stream",
     "text": [
      "Formula: desempenho~mes+(mes|estudante)+(mes|escola)\n",
      "\n",
      "Family: gaussian\t Inference: parametric\n",
      "\n",
      "Number of observations: 2440\t Groups: {'estudante': 610.0, 'escola': 15.0}\n",
      "\n",
      "Log-likelihood: -7411.506 \t AIC: 14823.013\n",
      "\n",
      "Random effects:\n",
      "\n",
      "                  Name      Var     Std\n",
      "estudante  (Intercept)  388.978  19.723\n",
      "estudante          mes    3.325   1.823\n",
      "escola     (Intercept)  225.494  15.016\n",
      "escola             mes    0.553   0.744\n",
      "Residual                  3.795   1.948\n",
      "\n",
      "                   IV1  IV2   Corr\n",
      "estudante  (Intercept)  mes -0.414\n",
      "escola     (Intercept)  mes -0.880\n",
      "\n",
      "Fixed effects:\n",
      "\n"
     ]
    },
    {
     "data": {
      "text/html": [
       "<div>\n",
       "<style scoped>\n",
       "    .dataframe tbody tr th:only-of-type {\n",
       "        vertical-align: middle;\n",
       "    }\n",
       "\n",
       "    .dataframe tbody tr th {\n",
       "        vertical-align: top;\n",
       "    }\n",
       "\n",
       "    .dataframe thead th {\n",
       "        text-align: right;\n",
       "    }\n",
       "</style>\n",
       "<table border=\"1\" class=\"dataframe\">\n",
       "  <thead>\n",
       "    <tr style=\"text-align: right;\">\n",
       "      <th></th>\n",
       "      <th>Estimate</th>\n",
       "      <th>2.5_ci</th>\n",
       "      <th>97.5_ci</th>\n",
       "      <th>SE</th>\n",
       "      <th>DF</th>\n",
       "      <th>T-stat</th>\n",
       "      <th>P-val</th>\n",
       "      <th>Sig</th>\n",
       "    </tr>\n",
       "  </thead>\n",
       "  <tbody>\n",
       "    <tr>\n",
       "      <th>(Intercept)</th>\n",
       "      <td>57.856</td>\n",
       "      <td>50.077</td>\n",
       "      <td>65.635</td>\n",
       "      <td>3.969</td>\n",
       "      <td>13.992</td>\n",
       "      <td>14.578</td>\n",
       "      <td>0.0</td>\n",
       "      <td>***</td>\n",
       "    </tr>\n",
       "    <tr>\n",
       "      <th>mes</th>\n",
       "      <td>4.337</td>\n",
       "      <td>3.925</td>\n",
       "      <td>4.748</td>\n",
       "      <td>0.210</td>\n",
       "      <td>13.819</td>\n",
       "      <td>20.663</td>\n",
       "      <td>0.0</td>\n",
       "      <td>***</td>\n",
       "    </tr>\n",
       "  </tbody>\n",
       "</table>\n",
       "</div>"
      ],
      "text/plain": [
       "             Estimate  2.5_ci  97.5_ci     SE      DF  T-stat  P-val  Sig\n",
       "(Intercept)    57.856  50.077   65.635  3.969  13.992  14.578    0.0  ***\n",
       "mes             4.337   3.925    4.748  0.210  13.819  20.663    0.0  ***"
      ]
     },
     "metadata": {},
     "output_type": "display_data"
    },
    {
     "name": "stdout",
     "output_type": "stream",
     "text": [
      "SS Type III Analysis of Variance Table with Satterthwaite approximated degrees of freedom:\n",
      "(NOTE: Using original model contrasts, orthogonality not guaranteed)\n"
     ]
    },
    {
     "data": {
      "text/html": [
       "<div>\n",
       "<style scoped>\n",
       "    .dataframe tbody tr th:only-of-type {\n",
       "        vertical-align: middle;\n",
       "    }\n",
       "\n",
       "    .dataframe tbody tr th {\n",
       "        vertical-align: top;\n",
       "    }\n",
       "\n",
       "    .dataframe thead th {\n",
       "        text-align: right;\n",
       "    }\n",
       "</style>\n",
       "<table border=\"1\" class=\"dataframe\">\n",
       "  <thead>\n",
       "    <tr style=\"text-align: right;\">\n",
       "      <th></th>\n",
       "      <th>SS</th>\n",
       "      <th>MS</th>\n",
       "      <th>NumDF</th>\n",
       "      <th>DenomDF</th>\n",
       "      <th>F-stat</th>\n",
       "      <th>P-val</th>\n",
       "      <th>Sig</th>\n",
       "    </tr>\n",
       "  </thead>\n",
       "  <tbody>\n",
       "    <tr>\n",
       "      <th>0</th>\n",
       "      <td>1620.354493</td>\n",
       "      <td>1620.354493</td>\n",
       "      <td>1</td>\n",
       "      <td>13.819051</td>\n",
       "      <td>426.96529</td>\n",
       "      <td>8.703592e-12</td>\n",
       "      <td>***</td>\n",
       "    </tr>\n",
       "  </tbody>\n",
       "</table>\n",
       "</div>"
      ],
      "text/plain": [
       "            SS           MS  NumDF    DenomDF     F-stat         P-val  Sig\n",
       "0  1620.354493  1620.354493      1  13.819051  426.96529  8.703592e-12  ***"
      ]
     },
     "metadata": {},
     "output_type": "display_data"
    },
    {
     "data": {
      "text/plain": [
       "<AxesSubplot:xlabel='Estimate'>"
      ]
     },
     "execution_count": 920,
     "metadata": {},
     "output_type": "execute_result"
    },
    {
     "data": {
      "image/png": "[encoded data removed]",
      "text/plain": [
       "<Figure size 864x432 with 1 Axes>"
      ]
     },
     "metadata": {},
     "output_type": "display_data"
    }
   ],
   "source": [
    "model1 = Lmer(\"desempenho ~ mes + (mes|estudante) + (mes|escola)\", data=dados)\n",
    "\n",
    "display(model1.fit())\n",
    "# ANOVA results from fitted model\n",
    "display(model1.anova())\n",
    "# Plot estimated model coefficients \n",
    "model1.plot_summary()"
   ]
  },
  {
   "cell_type": "markdown",
   "metadata": {},
   "source": [
    "## COMPARAÇÃO DOS LOGLIKES ENTRE OS MODELOS"
   ]
  },
  {
   "cell_type": "code",
   "execution_count": 921,
   "metadata": {},
   "outputs": [
    {
     "data": {
      "image/png": "[encoded data removed]",
      "text/plain": [
       "<Figure size 432x288 with 1 Axes>"
      ]
     },
     "metadata": {},
     "output_type": "display_data"
    }
   ],
   "source": [
    "#Criar um dataFrame com os LLs\n",
    "a = ['HLM3_Nulo','OLS_nulo','HLM3_Inclinacoes_Aleatorios']\n",
    "b = [mdf.llf,resultado.llf,model1.logLike]\n",
    "dados_grafico = pd.DataFrame(a,b)\n",
    "dados_grafico= dados_grafico.reset_index()\n",
    "dados_grafico.columns=['Index','Modelo']\n",
    "\n",
    "#Plotar no Grafico \n",
    "df_ordenado = dados_grafico.sort_values(by='Index',ascending=True)\n",
    "plt.barh(df_ordenado.Modelo, df_ordenado.Index, color='red', alpha=0.5)\n",
    "plt.title('Comparação dos LL',size=40,);"
   ]
  },
  {
   "cell_type": "markdown",
   "metadata": {},
   "source": [
    "## ESTIMAÇÃO DO MODELO HLM3 COM TENDÊNCIA LINEAR,INTERCEPTOS E INCLINAÇÕES ALEATÓRIOS E AS VARIÁVEIS 'ativ' DE NÍVEL 2 E 'texp' DE NÍVEL 3"
   ]
  },
  {
   "cell_type": "code",
   "execution_count": 931,
   "metadata": {},
   "outputs": [],
   "source": [
    "#Parametros para definição dos niveis\n",
    "vcf = {\"estudante\": \"0 + C(estudante)\",\"escola\": \"0 + C(escola)\"} #nivel 2 = estudante , nivel 3 = escola\n",
    "nivel_2 = \"estudante\" \n",
    "nivel_3 = \"escola\" \n",
    "formula = \"desempenho ~ mes + ativ + texp + ativ:mes + texp:mes + (mes|estudante) + (mes|escola)\"\n",
    "re_f = \"~ mes \""
   ]
  },
  {
   "cell_type": "code",
   "execution_count": 932,
   "metadata": {},
   "outputs": [
    {
     "name": "stdout",
     "output_type": "stream",
     "text": [
      "           Mixed Linear Model Regression Results\n",
      "===========================================================\n",
      "Model:             MixedLM  Dependent Variable:  desempenho\n",
      "No. Observations:  2440     Method:              REML      \n",
      "No. Groups:        15       Scale:               9.5913    \n",
      "Min. group size:   80       Log-Likelihood:      -7722.6790\n",
      "Max. group size:   248      Converged:           Yes       \n",
      "Mean group size:   162.7                                   \n",
      "-----------------------------------------------------------\n",
      "                 Coef.  Std.Err.   z    P>|z| [0.025 0.975]\n",
      "-----------------------------------------------------------\n",
      "Intercept        41.765    4.897  8.529 0.000 32.168 51.362\n",
      "ativ[T.sim]      14.831    1.690  8.774 0.000 11.518 18.144\n",
      "mes               5.188    0.098 52.708 0.000  4.995  5.381\n",
      "ativ[T.sim]:mes  -0.695    0.119 -5.857 0.000 -0.928 -0.463\n",
      "texp              1.194    0.333  3.587 0.000  0.541  1.846\n",
      "texp:mes         -0.047    0.008 -6.085 0.000 -0.062 -0.032\n",
      "mes | estudante  -0.005    0.014 -0.363 0.716 -0.032  0.022\n",
      "mes | escola     -0.074    0.059 -1.262 0.207 -0.189  0.041\n",
      "escola Var       77.833   11.325                           \n",
      "estudante Var   303.515    6.598                           \n",
      "===========================================================\n",
      "\n"
     ]
    }
   ],
   "source": [
    "md2  = smf.mixedlm(formula, dados, groups=nivel_3,vc_formula=vcf);\n",
    "mdf2 = md2.fit();\n",
    "print(mdf2.summary());"
   ]
  },
  {
   "cell_type": "code",
   "execution_count": 922,
   "metadata": {},
   "outputs": [
    {
     "name": "stdout",
     "output_type": "stream",
     "text": [
      "Formula: desempenho~mes+ativ+texp+ativ:mes+texp:mes+(mes|estudante)+(mes|escola)\n",
      "\n",
      "Family: gaussian\t Inference: parametric\n",
      "\n",
      "Number of observations: 2440\t Groups: {'estudante': 610.0, 'escola': 15.0}\n",
      "\n",
      "Log-likelihood: -7376.715 \t AIC: 14753.429\n",
      "\n",
      "Random effects:\n",
      "\n",
      "                  Name      Var     Std\n",
      "estudante  (Intercept)  350.918  18.733\n",
      "estudante          mes    3.258   1.805\n",
      "escola     (Intercept)   88.720   9.419\n",
      "escola             mes    0.255   0.505\n",
      "Residual                  3.795   1.948\n",
      "\n",
      "                   IV1  IV2   Corr\n",
      "estudante  (Intercept)  mes -0.392\n",
      "escola     (Intercept)  mes -0.669\n",
      "\n",
      "Fixed effects:\n",
      "\n"
     ]
    },
    {
     "data": {
      "text/html": [
       "<div>\n",
       "<style scoped>\n",
       "    .dataframe tbody tr th:only-of-type {\n",
       "        vertical-align: middle;\n",
       "    }\n",
       "\n",
       "    .dataframe tbody tr th {\n",
       "        vertical-align: top;\n",
       "    }\n",
       "\n",
       "    .dataframe thead th {\n",
       "        text-align: right;\n",
       "    }\n",
       "</style>\n",
       "<table border=\"1\" class=\"dataframe\">\n",
       "  <thead>\n",
       "    <tr style=\"text-align: right;\">\n",
       "      <th></th>\n",
       "      <th>Estimate</th>\n",
       "      <th>2.5_ci</th>\n",
       "      <th>97.5_ci</th>\n",
       "      <th>SE</th>\n",
       "      <th>DF</th>\n",
       "      <th>T-stat</th>\n",
       "      <th>P-val</th>\n",
       "      <th>Sig</th>\n",
       "    </tr>\n",
       "  </thead>\n",
       "  <tbody>\n",
       "    <tr>\n",
       "      <th>(Intercept)</th>\n",
       "      <td>40.032</td>\n",
       "      <td>32.455</td>\n",
       "      <td>47.609</td>\n",
       "      <td>3.866</td>\n",
       "      <td>14.196</td>\n",
       "      <td>10.356</td>\n",
       "      <td>0.000</td>\n",
       "      <td>***</td>\n",
       "    </tr>\n",
       "    <tr>\n",
       "      <th>mes</th>\n",
       "      <td>5.168</td>\n",
       "      <td>4.692</td>\n",
       "      <td>5.643</td>\n",
       "      <td>0.243</td>\n",
       "      <td>16.504</td>\n",
       "      <td>21.297</td>\n",
       "      <td>0.000</td>\n",
       "      <td>***</td>\n",
       "    </tr>\n",
       "    <tr>\n",
       "      <th>ativsim</th>\n",
       "      <td>14.702</td>\n",
       "      <td>11.183</td>\n",
       "      <td>18.221</td>\n",
       "      <td>1.796</td>\n",
       "      <td>606.754</td>\n",
       "      <td>8.188</td>\n",
       "      <td>0.000</td>\n",
       "      <td>***</td>\n",
       "    </tr>\n",
       "    <tr>\n",
       "      <th>texp</th>\n",
       "      <td>1.179</td>\n",
       "      <td>0.501</td>\n",
       "      <td>1.857</td>\n",
       "      <td>0.346</td>\n",
       "      <td>13.133</td>\n",
       "      <td>3.408</td>\n",
       "      <td>0.005</td>\n",
       "      <td>**</td>\n",
       "    </tr>\n",
       "    <tr>\n",
       "      <th>mes:ativsim</th>\n",
       "      <td>-0.652</td>\n",
       "      <td>-1.014</td>\n",
       "      <td>-0.290</td>\n",
       "      <td>0.185</td>\n",
       "      <td>514.046</td>\n",
       "      <td>-3.529</td>\n",
       "      <td>0.000</td>\n",
       "      <td>***</td>\n",
       "    </tr>\n",
       "    <tr>\n",
       "      <th>mes:texp</th>\n",
       "      <td>-0.057</td>\n",
       "      <td>-0.098</td>\n",
       "      <td>-0.015</td>\n",
       "      <td>0.021</td>\n",
       "      <td>13.709</td>\n",
       "      <td>-2.698</td>\n",
       "      <td>0.018</td>\n",
       "      <td>*</td>\n",
       "    </tr>\n",
       "  </tbody>\n",
       "</table>\n",
       "</div>"
      ],
      "text/plain": [
       "             Estimate  2.5_ci  97.5_ci     SE       DF  T-stat  P-val  Sig\n",
       "(Intercept)    40.032  32.455   47.609  3.866   14.196  10.356  0.000  ***\n",
       "mes             5.168   4.692    5.643  0.243   16.504  21.297  0.000  ***\n",
       "ativsim        14.702  11.183   18.221  1.796  606.754   8.188  0.000  ***\n",
       "texp            1.179   0.501    1.857  0.346   13.133   3.408  0.005   **\n",
       "mes:ativsim    -0.652  -1.014   -0.290  0.185  514.046  -3.529  0.000  ***\n",
       "mes:texp       -0.057  -0.098   -0.015  0.021   13.709  -2.698  0.018    *"
      ]
     },
     "metadata": {},
     "output_type": "display_data"
    },
    {
     "name": "stdout",
     "output_type": "stream",
     "text": [
      "SS Type III Analysis of Variance Table with Satterthwaite approximated degrees of freedom:\n",
      "(NOTE: Using original model contrasts, orthogonality not guaranteed)\n"
     ]
    },
    {
     "data": {
      "text/html": [
       "<div>\n",
       "<style scoped>\n",
       "    .dataframe tbody tr th:only-of-type {\n",
       "        vertical-align: middle;\n",
       "    }\n",
       "\n",
       "    .dataframe tbody tr th {\n",
       "        vertical-align: top;\n",
       "    }\n",
       "\n",
       "    .dataframe thead th {\n",
       "        text-align: right;\n",
       "    }\n",
       "</style>\n",
       "<table border=\"1\" class=\"dataframe\">\n",
       "  <thead>\n",
       "    <tr style=\"text-align: right;\">\n",
       "      <th></th>\n",
       "      <th>SS</th>\n",
       "      <th>MS</th>\n",
       "      <th>NumDF</th>\n",
       "      <th>DenomDF</th>\n",
       "      <th>F-stat</th>\n",
       "      <th>P-val</th>\n",
       "      <th>Sig</th>\n",
       "    </tr>\n",
       "  </thead>\n",
       "  <tbody>\n",
       "    <tr>\n",
       "      <th>0</th>\n",
       "      <td>1638.737579</td>\n",
       "      <td>1638.737579</td>\n",
       "      <td>1</td>\n",
       "      <td>14.447820</td>\n",
       "      <td>431.811351</td>\n",
       "      <td>3.620141e-12</td>\n",
       "      <td>***</td>\n",
       "    </tr>\n",
       "    <tr>\n",
       "      <th>1</th>\n",
       "      <td>254.439458</td>\n",
       "      <td>254.439458</td>\n",
       "      <td>1</td>\n",
       "      <td>606.753666</td>\n",
       "      <td>67.045418</td>\n",
       "      <td>1.570340e-15</td>\n",
       "      <td>***</td>\n",
       "    </tr>\n",
       "    <tr>\n",
       "      <th>2</th>\n",
       "      <td>44.069926</td>\n",
       "      <td>44.069926</td>\n",
       "      <td>1</td>\n",
       "      <td>13.133263</td>\n",
       "      <td>11.612533</td>\n",
       "      <td>4.610834e-03</td>\n",
       "      <td>**</td>\n",
       "    </tr>\n",
       "    <tr>\n",
       "      <th>3</th>\n",
       "      <td>47.265945</td>\n",
       "      <td>47.265945</td>\n",
       "      <td>1</td>\n",
       "      <td>514.045964</td>\n",
       "      <td>12.454692</td>\n",
       "      <td>4.543524e-04</td>\n",
       "      <td>***</td>\n",
       "    </tr>\n",
       "    <tr>\n",
       "      <th>4</th>\n",
       "      <td>27.622037</td>\n",
       "      <td>27.622037</td>\n",
       "      <td>1</td>\n",
       "      <td>13.708521</td>\n",
       "      <td>7.278474</td>\n",
       "      <td>1.758681e-02</td>\n",
       "      <td>*</td>\n",
       "    </tr>\n",
       "  </tbody>\n",
       "</table>\n",
       "</div>"
      ],
      "text/plain": [
       "            SS           MS  NumDF     DenomDF      F-stat         P-val  Sig\n",
       "0  1638.737579  1638.737579      1   14.447820  431.811351  3.620141e-12  ***\n",
       "1   254.439458   254.439458      1  606.753666   67.045418  1.570340e-15  ***\n",
       "2    44.069926    44.069926      1   13.133263   11.612533  4.610834e-03   **\n",
       "3    47.265945    47.265945      1  514.045964   12.454692  4.543524e-04  ***\n",
       "4    27.622037    27.622037      1   13.708521    7.278474  1.758681e-02    *"
      ]
     },
     "metadata": {},
     "output_type": "display_data"
    },
    {
     "data": {
      "text/plain": [
       "<AxesSubplot:xlabel='Estimate'>"
      ]
     },
     "execution_count": 922,
     "metadata": {},
     "output_type": "execute_result"
    },
    {
     "data": {
      "image/png": "[encoded data removed]",
      "text/plain": [
       "<Figure size 864x432 with 1 Axes>"
      ]
     },
     "metadata": {},
     "output_type": "display_data"
    }
   ],
   "source": [
    "model2 = Lmer(\"desempenho ~ mes + ativ + texp + ativ:mes + texp:mes + (mes|estudante) + (mes|escola)\", data=dados)\n",
    "\n",
    "display(model2.fit())\n",
    "# ANOVA results from fitted model\n",
    "display(model2.anova())\n",
    "# Plot estimated model coefficients \n",
    "model2.plot_summary()"
   ]
  },
  {
   "cell_type": "markdown",
   "metadata": {},
   "source": [
    "**Todos os p_values são estatisticamentes significantes**"
   ]
  },
  {
   "cell_type": "markdown",
   "metadata": {},
   "source": [
    "## COMPARAÇÃO DOS LOGLIKES ENTRE OS MODELOS"
   ]
  },
  {
   "cell_type": "code",
   "execution_count": 956,
   "metadata": {},
   "outputs": [
    {
     "data": {
      "image/png": "[encoded data removed]",
      "text/plain": [
       "<Figure size 432x288 with 1 Axes>"
      ]
     },
     "metadata": {},
     "output_type": "display_data"
    }
   ],
   "source": [
    "#Criar um dataFrame com os LLs\n",
    "a = ['HLM3_Nulo','OLS_nulo','HLM3_Inclinacoes_Aleatorios','HLM3_Final']\n",
    "b = [mdf.llf,resultado.llf,model1.logLike,model2.logLike]\n",
    "dados_grafico = pd.DataFrame(a,b)\n",
    "dados_grafico= dados_grafico.reset_index()\n",
    "dados_grafico.columns=['Index','Modelo']\n",
    "\n",
    "#Plotar no Grafico \n",
    "df_ordenado = dados_grafico.sort_values(by='Index',ascending=True)\n",
    "plt.barh(df_ordenado.Modelo, df_ordenado.Index, color='red', alpha=0.5)\n",
    "plt.title('Comparação dos LL',size=40,);"
   ]
  },
  {
   "cell_type": "markdown",
   "metadata": {},
   "source": [
    "# Previsão "
   ]
  },
  {
   "cell_type": "markdown",
   "metadata": {},
   "source": [
    "### Sem Algoritimo"
   ]
  },
  {
   "cell_type": "code",
   "execution_count": 942,
   "metadata": {},
   "outputs": [
    {
     "data": {
      "text/plain": [
       "escola         1\n",
       "estudante      1\n",
       "mes            1\n",
       "ativ         não\n",
       "texp           2\n",
       "Name: 0, dtype: object"
      ]
     },
     "execution_count": 942,
     "metadata": {},
     "output_type": "execute_result"
    }
   ],
   "source": [
    "#Prever a linha 0\n",
    "x.iloc[0,:]"
   ]
  },
  {
   "cell_type": "code",
   "execution_count": 943,
   "metadata": {},
   "outputs": [],
   "source": [
    "# Variaveis preditoras\n",
    "escola = 1\n",
    "estudante = 1\n",
    "mes = 1\n",
    "ativ = 0\n",
    "texp = 2"
   ]
  },
  {
   "cell_type": "code",
   "execution_count": 951,
   "metadata": {},
   "outputs": [
    {
     "data": {
      "text/html": [
       "<div>\n",
       "<style scoped>\n",
       "    .dataframe tbody tr th:only-of-type {\n",
       "        vertical-align: middle;\n",
       "    }\n",
       "\n",
       "    .dataframe tbody tr th {\n",
       "        vertical-align: top;\n",
       "    }\n",
       "\n",
       "    .dataframe thead th {\n",
       "        text-align: right;\n",
       "    }\n",
       "</style>\n",
       "<table border=\"1\" class=\"dataframe\">\n",
       "  <thead>\n",
       "    <tr style=\"text-align: right;\">\n",
       "      <th></th>\n",
       "      <th>Estimate</th>\n",
       "      <th>2.5_ci</th>\n",
       "      <th>97.5_ci</th>\n",
       "      <th>SE</th>\n",
       "      <th>DF</th>\n",
       "      <th>T-stat</th>\n",
       "      <th>P-val</th>\n",
       "      <th>Sig</th>\n",
       "    </tr>\n",
       "  </thead>\n",
       "  <tbody>\n",
       "    <tr>\n",
       "      <th>(Intercept)</th>\n",
       "      <td>40.032209</td>\n",
       "      <td>32.455419</td>\n",
       "      <td>47.608999</td>\n",
       "      <td>3.865780</td>\n",
       "      <td>14.195706</td>\n",
       "      <td>10.355531</td>\n",
       "      <td>5.312003e-08</td>\n",
       "      <td>***</td>\n",
       "    </tr>\n",
       "    <tr>\n",
       "      <th>mes</th>\n",
       "      <td>5.167527</td>\n",
       "      <td>4.691949</td>\n",
       "      <td>5.643105</td>\n",
       "      <td>0.242646</td>\n",
       "      <td>16.504409</td>\n",
       "      <td>21.296535</td>\n",
       "      <td>1.951219e-13</td>\n",
       "      <td>***</td>\n",
       "    </tr>\n",
       "    <tr>\n",
       "      <th>ativsim</th>\n",
       "      <td>14.702146</td>\n",
       "      <td>11.182943</td>\n",
       "      <td>18.221348</td>\n",
       "      <td>1.795545</td>\n",
       "      <td>606.753666</td>\n",
       "      <td>8.188127</td>\n",
       "      <td>1.570340e-15</td>\n",
       "      <td>***</td>\n",
       "    </tr>\n",
       "    <tr>\n",
       "      <th>texp</th>\n",
       "      <td>1.178654</td>\n",
       "      <td>0.500746</td>\n",
       "      <td>1.856563</td>\n",
       "      <td>0.345878</td>\n",
       "      <td>13.133263</td>\n",
       "      <td>3.407717</td>\n",
       "      <td>4.610834e-03</td>\n",
       "      <td>**</td>\n",
       "    </tr>\n",
       "    <tr>\n",
       "      <th>mes:ativsim</th>\n",
       "      <td>-0.651887</td>\n",
       "      <td>-1.013925</td>\n",
       "      <td>-0.289849</td>\n",
       "      <td>0.184717</td>\n",
       "      <td>514.045964</td>\n",
       "      <td>-3.529121</td>\n",
       "      <td>4.543524e-04</td>\n",
       "      <td>***</td>\n",
       "    </tr>\n",
       "    <tr>\n",
       "      <th>mes:texp</th>\n",
       "      <td>-0.056649</td>\n",
       "      <td>-0.097805</td>\n",
       "      <td>-0.015494</td>\n",
       "      <td>0.020998</td>\n",
       "      <td>13.708521</td>\n",
       "      <td>-2.697865</td>\n",
       "      <td>1.758681e-02</td>\n",
       "      <td>*</td>\n",
       "    </tr>\n",
       "  </tbody>\n",
       "</table>\n",
       "</div>"
      ],
      "text/plain": [
       "              Estimate     2.5_ci    97.5_ci        SE          DF     T-stat  \\\n",
       "(Intercept)  40.032209  32.455419  47.608999  3.865780   14.195706  10.355531   \n",
       "mes           5.167527   4.691949   5.643105  0.242646   16.504409  21.296535   \n",
       "ativsim      14.702146  11.182943  18.221348  1.795545  606.753666   8.188127   \n",
       "texp          1.178654   0.500746   1.856563  0.345878   13.133263   3.407717   \n",
       "mes:ativsim  -0.651887  -1.013925  -0.289849  0.184717  514.045964  -3.529121   \n",
       "mes:texp     -0.056649  -0.097805  -0.015494  0.020998   13.708521  -2.697865   \n",
       "\n",
       "                    P-val  Sig  \n",
       "(Intercept)  5.312003e-08  ***  \n",
       "mes          1.951219e-13  ***  \n",
       "ativsim      1.570340e-15  ***  \n",
       "texp         4.610834e-03   **  \n",
       "mes:ativsim  4.543524e-04  ***  \n",
       "mes:texp     1.758681e-02    *  "
      ]
     },
     "execution_count": 951,
     "metadata": {},
     "output_type": "execute_result"
    }
   ],
   "source": [
    "#Parametros fixos\n",
    "model2.coefs"
   ]
  },
  {
   "cell_type": "code",
   "execution_count": 976,
   "metadata": {},
   "outputs": [
    {
     "name": "stdout",
     "output_type": "stream",
     "text": [
      "A previsão do desempenho do aluno_0 no mes 1 usando somente efeitos fixos = 47.443746000000004\n"
     ]
    }
   ],
   "source": [
    "# Fixos\n",
    "Intercept = 40.032209\n",
    "mes_param = 5.167527\n",
    "ativsim_param = 14.702146\n",
    "texp_param = 1.178654\n",
    "mes_ativsim_param = -0.651887\n",
    "mes_texp_param = -0.056649\n",
    "\n",
    "prev_lin0_fixos = Intercept + mes_param*mes + ativsim_param*ativ + texp_param*texp + mes_ativsim_param*mes*ativ + mes_texp_param*texp*mes\n",
    "print(f'A previsão do desempenho do aluno_0 no mes 1 usando somente efeitos fixos = {prev_lin0_fixos}')"
   ]
  },
  {
   "cell_type": "code",
   "execution_count": 966,
   "metadata": {},
   "outputs": [
    {
     "data": {
      "text/html": [
       "<div>\n",
       "<style scoped>\n",
       "    .dataframe tbody tr th:only-of-type {\n",
       "        vertical-align: middle;\n",
       "    }\n",
       "\n",
       "    .dataframe tbody tr th {\n",
       "        vertical-align: top;\n",
       "    }\n",
       "\n",
       "    .dataframe thead th {\n",
       "        text-align: right;\n",
       "    }\n",
       "</style>\n",
       "<table border=\"1\" class=\"dataframe\">\n",
       "  <thead>\n",
       "    <tr style=\"text-align: right;\">\n",
       "      <th></th>\n",
       "      <th>X.Intercept.</th>\n",
       "      <th>mes</th>\n",
       "    </tr>\n",
       "  </thead>\n",
       "  <tbody>\n",
       "    <tr>\n",
       "      <th>1</th>\n",
       "      <td>-8.671653</td>\n",
       "      <td>0.319513</td>\n",
       "    </tr>\n",
       "    <tr>\n",
       "      <th>2</th>\n",
       "      <td>31.264122</td>\n",
       "      <td>-2.690180</td>\n",
       "    </tr>\n",
       "    <tr>\n",
       "      <th>3</th>\n",
       "      <td>27.925868</td>\n",
       "      <td>0.155623</td>\n",
       "    </tr>\n",
       "    <tr>\n",
       "      <th>4</th>\n",
       "      <td>-3.881368</td>\n",
       "      <td>-2.696019</td>\n",
       "    </tr>\n",
       "    <tr>\n",
       "      <th>5</th>\n",
       "      <td>19.467712</td>\n",
       "      <td>1.711604</td>\n",
       "    </tr>\n",
       "    <tr>\n",
       "      <th>...</th>\n",
       "      <td>...</td>\n",
       "      <td>...</td>\n",
       "    </tr>\n",
       "    <tr>\n",
       "      <th>606</th>\n",
       "      <td>-11.912358</td>\n",
       "      <td>-2.654590</td>\n",
       "    </tr>\n",
       "    <tr>\n",
       "      <th>607</th>\n",
       "      <td>15.575296</td>\n",
       "      <td>0.459043</td>\n",
       "    </tr>\n",
       "    <tr>\n",
       "      <th>608</th>\n",
       "      <td>2.006972</td>\n",
       "      <td>0.662649</td>\n",
       "    </tr>\n",
       "    <tr>\n",
       "      <th>609</th>\n",
       "      <td>-0.544682</td>\n",
       "      <td>3.313821</td>\n",
       "    </tr>\n",
       "    <tr>\n",
       "      <th>610</th>\n",
       "      <td>11.794474</td>\n",
       "      <td>0.208532</td>\n",
       "    </tr>\n",
       "  </tbody>\n",
       "</table>\n",
       "<p>610 rows × 2 columns</p>\n",
       "</div>"
      ],
      "text/plain": [
       "     X.Intercept.       mes\n",
       "1       -8.671653  0.319513\n",
       "2       31.264122 -2.690180\n",
       "3       27.925868  0.155623\n",
       "4       -3.881368 -2.696019\n",
       "5       19.467712  1.711604\n",
       "..            ...       ...\n",
       "606    -11.912358 -2.654590\n",
       "607     15.575296  0.459043\n",
       "608      2.006972  0.662649\n",
       "609     -0.544682  3.313821\n",
       "610     11.794474  0.208532\n",
       "\n",
       "[610 rows x 2 columns]"
      ]
     },
     "execution_count": 966,
     "metadata": {},
     "output_type": "execute_result"
    }
   ],
   "source": [
    "#Parametros Aleatorio estudante\n",
    "model2.ranef[0]\n"
   ]
  },
  {
   "cell_type": "code",
   "execution_count": 970,
   "metadata": {},
   "outputs": [
    {
     "data": {
      "text/html": [
       "<div>\n",
       "<style scoped>\n",
       "    .dataframe tbody tr th:only-of-type {\n",
       "        vertical-align: middle;\n",
       "    }\n",
       "\n",
       "    .dataframe tbody tr th {\n",
       "        vertical-align: top;\n",
       "    }\n",
       "\n",
       "    .dataframe thead th {\n",
       "        text-align: right;\n",
       "    }\n",
       "</style>\n",
       "<table border=\"1\" class=\"dataframe\">\n",
       "  <thead>\n",
       "    <tr style=\"text-align: right;\">\n",
       "      <th></th>\n",
       "      <th>X.Intercept.</th>\n",
       "      <th>mes</th>\n",
       "    </tr>\n",
       "  </thead>\n",
       "  <tbody>\n",
       "    <tr>\n",
       "      <th>1</th>\n",
       "      <td>-2.182040</td>\n",
       "      <td>-0.118651</td>\n",
       "    </tr>\n",
       "    <tr>\n",
       "      <th>2</th>\n",
       "      <td>6.822175</td>\n",
       "      <td>-0.040966</td>\n",
       "    </tr>\n",
       "    <tr>\n",
       "      <th>3</th>\n",
       "      <td>-8.109579</td>\n",
       "      <td>0.319766</td>\n",
       "    </tr>\n",
       "    <tr>\n",
       "      <th>4</th>\n",
       "      <td>4.958146</td>\n",
       "      <td>-0.070611</td>\n",
       "    </tr>\n",
       "    <tr>\n",
       "      <th>5</th>\n",
       "      <td>0.486323</td>\n",
       "      <td>0.320377</td>\n",
       "    </tr>\n",
       "    <tr>\n",
       "      <th>6</th>\n",
       "      <td>0.191633</td>\n",
       "      <td>0.437460</td>\n",
       "    </tr>\n",
       "    <tr>\n",
       "      <th>7</th>\n",
       "      <td>-2.667478</td>\n",
       "      <td>-0.052807</td>\n",
       "    </tr>\n",
       "    <tr>\n",
       "      <th>8</th>\n",
       "      <td>9.726936</td>\n",
       "      <td>-0.802748</td>\n",
       "    </tr>\n",
       "    <tr>\n",
       "      <th>9</th>\n",
       "      <td>7.497770</td>\n",
       "      <td>-0.396260</td>\n",
       "    </tr>\n",
       "    <tr>\n",
       "      <th>10</th>\n",
       "      <td>16.113051</td>\n",
       "      <td>-0.384259</td>\n",
       "    </tr>\n",
       "    <tr>\n",
       "      <th>11</th>\n",
       "      <td>-14.884964</td>\n",
       "      <td>0.729633</td>\n",
       "    </tr>\n",
       "    <tr>\n",
       "      <th>12</th>\n",
       "      <td>-8.063979</td>\n",
       "      <td>0.590961</td>\n",
       "    </tr>\n",
       "    <tr>\n",
       "      <th>13</th>\n",
       "      <td>-7.882495</td>\n",
       "      <td>-0.099685</td>\n",
       "    </tr>\n",
       "    <tr>\n",
       "      <th>14</th>\n",
       "      <td>-8.976506</td>\n",
       "      <td>-0.038638</td>\n",
       "    </tr>\n",
       "    <tr>\n",
       "      <th>15</th>\n",
       "      <td>6.971007</td>\n",
       "      <td>-0.393571</td>\n",
       "    </tr>\n",
       "  </tbody>\n",
       "</table>\n",
       "</div>"
      ],
      "text/plain": [
       "    X.Intercept.       mes\n",
       "1      -2.182040 -0.118651\n",
       "2       6.822175 -0.040966\n",
       "3      -8.109579  0.319766\n",
       "4       4.958146 -0.070611\n",
       "5       0.486323  0.320377\n",
       "6       0.191633  0.437460\n",
       "7      -2.667478 -0.052807\n",
       "8       9.726936 -0.802748\n",
       "9       7.497770 -0.396260\n",
       "10     16.113051 -0.384259\n",
       "11    -14.884964  0.729633\n",
       "12     -8.063979  0.590961\n",
       "13     -7.882495 -0.099685\n",
       "14     -8.976506 -0.038638\n",
       "15      6.971007 -0.393571"
      ]
     },
     "execution_count": 970,
     "metadata": {},
     "output_type": "execute_result"
    }
   ],
   "source": [
    "#Parametros Aleatorio Escola\n",
    "aleat_escola = model2.ranef[1]\n",
    "aleat_escola"
   ]
  },
  {
   "cell_type": "code",
   "execution_count": 977,
   "metadata": {},
   "outputs": [
    {
     "name": "stdout",
     "output_type": "stream",
     "text": [
      "A previsão do desempenho do aluno_0 no mes 1 usando efeitos fixos + Aleatorios = 36.790915000000005\n"
     ]
    }
   ],
   "source": [
    "#Parametros\n",
    "estudante_inter = -8.671653\n",
    "estudante_mes = 0.319513\n",
    "escola_inter = -2.182040\n",
    "escola_mes = -0.118651\n",
    "\n",
    "#Previsao Final linha 0 \n",
    "prev_aleat = prev_lin0_fixos + (estudante_inter + estudante_mes*mes + escola_inter + escola_mes*mes)\n",
    "print(f'A previsão do desempenho do aluno_0 no mes 1 usando efeitos fixos + Aleatorios = {prev_aleat}')"
   ]
  },
  {
   "cell_type": "code",
   "execution_count": 979,
   "metadata": {},
   "outputs": [
    {
     "data": {
      "text/plain": [
       "35.4000015258789"
      ]
     },
     "execution_count": 979,
     "metadata": {},
     "output_type": "execute_result"
    }
   ],
   "source": [
    "#Previsao a ser encontrada (35.4000015258789)\n",
    "y.iloc[0]"
   ]
  },
  {
   "cell_type": "markdown",
   "metadata": {},
   "source": [
    "### Grafico dos parametros da variavel Escola"
   ]
  },
  {
   "cell_type": "code",
   "execution_count": 974,
   "metadata": {},
   "outputs": [
    {
     "data": {
      "image/png": "[encoded data removed]",
      "text/plain": [
       "<Figure size 864x504 with 2 Axes>"
      ]
     },
     "metadata": {},
     "output_type": "display_data"
    }
   ],
   "source": [
    "fig, (ax1, ax2) = plt.subplots(1, 2, figsize=(12,7))\n",
    "a = np.arange(len(aleat_escola))+1\n",
    "b = aleat_escola.iloc[:,0]\n",
    "ax1.barh(a,b);\n",
    "ax1.set(title=\"Efeitos aleatorios de Intercepto\", xlabel=\"Y00\", ylabel=\"Escola\")\n",
    "plt.gca().invert_yaxis()\n",
    "\n",
    "\n",
    "a1 = np.arange(len(aleat_escola))+1\n",
    "b1 = aleat_escola.mes\n",
    "ax2.barh(a1,b1);\n",
    "ax2.set(title=\"Efeitos aleatorios de Inclinação\", xlabel=\"V1j\", ylabel=\"Escola\")\n",
    "plt.gca().invert_yaxis()"
   ]
  },
  {
   "cell_type": "markdown",
   "metadata": {},
   "source": [
    "**Podemos observar que a escola 10 apresenta o maior impacto de influencia positiva para o intercepto do modelo no desempenho dos alunos e a escola 11 a menor, porém quando observamos os efeitos aleatorios ao longo dos mêses a escola 11 é a maior**"
   ]
  },
  {
   "cell_type": "markdown",
   "metadata": {},
   "source": [
    "## COMPARAÇÃO COM UM MODELO OLS COM DUMMIES  "
   ]
  },
  {
   "cell_type": "markdown",
   "metadata": {},
   "source": [
    "### 1° Criar as Dummies"
   ]
  },
  {
   "cell_type": "code",
   "execution_count": 1003,
   "metadata": {},
   "outputs": [
    {
     "data": {
      "text/html": [
       "<div>\n",
       "<style scoped>\n",
       "    .dataframe tbody tr th:only-of-type {\n",
       "        vertical-align: middle;\n",
       "    }\n",
       "\n",
       "    .dataframe tbody tr th {\n",
       "        vertical-align: top;\n",
       "    }\n",
       "\n",
       "    .dataframe thead th {\n",
       "        text-align: right;\n",
       "    }\n",
       "</style>\n",
       "<table border=\"1\" class=\"dataframe\">\n",
       "  <thead>\n",
       "    <tr style=\"text-align: right;\">\n",
       "      <th></th>\n",
       "      <th>escola</th>\n",
       "      <th>mes</th>\n",
       "      <th>ativ</th>\n",
       "      <th>texp</th>\n",
       "    </tr>\n",
       "  </thead>\n",
       "  <tbody>\n",
       "    <tr>\n",
       "      <th>0</th>\n",
       "      <td>1</td>\n",
       "      <td>1</td>\n",
       "      <td>não</td>\n",
       "      <td>2</td>\n",
       "    </tr>\n",
       "    <tr>\n",
       "      <th>1</th>\n",
       "      <td>1</td>\n",
       "      <td>2</td>\n",
       "      <td>não</td>\n",
       "      <td>2</td>\n",
       "    </tr>\n",
       "    <tr>\n",
       "      <th>2</th>\n",
       "      <td>1</td>\n",
       "      <td>3</td>\n",
       "      <td>não</td>\n",
       "      <td>2</td>\n",
       "    </tr>\n",
       "    <tr>\n",
       "      <th>3</th>\n",
       "      <td>1</td>\n",
       "      <td>4</td>\n",
       "      <td>não</td>\n",
       "      <td>2</td>\n",
       "    </tr>\n",
       "    <tr>\n",
       "      <th>4</th>\n",
       "      <td>1</td>\n",
       "      <td>1</td>\n",
       "      <td>não</td>\n",
       "      <td>2</td>\n",
       "    </tr>\n",
       "    <tr>\n",
       "      <th>...</th>\n",
       "      <td>...</td>\n",
       "      <td>...</td>\n",
       "      <td>...</td>\n",
       "      <td>...</td>\n",
       "    </tr>\n",
       "    <tr>\n",
       "      <th>2435</th>\n",
       "      <td>15</td>\n",
       "      <td>4</td>\n",
       "      <td>sim</td>\n",
       "      <td>9</td>\n",
       "    </tr>\n",
       "    <tr>\n",
       "      <th>2436</th>\n",
       "      <td>15</td>\n",
       "      <td>1</td>\n",
       "      <td>sim</td>\n",
       "      <td>9</td>\n",
       "    </tr>\n",
       "    <tr>\n",
       "      <th>2437</th>\n",
       "      <td>15</td>\n",
       "      <td>2</td>\n",
       "      <td>sim</td>\n",
       "      <td>9</td>\n",
       "    </tr>\n",
       "    <tr>\n",
       "      <th>2438</th>\n",
       "      <td>15</td>\n",
       "      <td>3</td>\n",
       "      <td>sim</td>\n",
       "      <td>9</td>\n",
       "    </tr>\n",
       "    <tr>\n",
       "      <th>2439</th>\n",
       "      <td>15</td>\n",
       "      <td>4</td>\n",
       "      <td>sim</td>\n",
       "      <td>9</td>\n",
       "    </tr>\n",
       "  </tbody>\n",
       "</table>\n",
       "<p>2440 rows × 4 columns</p>\n",
       "</div>"
      ],
      "text/plain": [
       "      escola  mes ativ  texp\n",
       "0          1    1  não     2\n",
       "1          1    2  não     2\n",
       "2          1    3  não     2\n",
       "3          1    4  não     2\n",
       "4          1    1  não     2\n",
       "...      ...  ...  ...   ...\n",
       "2435      15    4  sim     9\n",
       "2436      15    1  sim     9\n",
       "2437      15    2  sim     9\n",
       "2438      15    3  sim     9\n",
       "2439      15    4  sim     9\n",
       "\n",
       "[2440 rows x 4 columns]"
      ]
     },
     "execution_count": 1003,
     "metadata": {},
     "output_type": "execute_result"
    }
   ],
   "source": [
    "# Excluir a variavel estudante\n",
    "x_vars = x.drop(columns=['estudante'])\n",
    "x_vars"
   ]
  },
  {
   "cell_type": "code",
   "execution_count": 1004,
   "metadata": {},
   "outputs": [
    {
     "data": {
      "text/html": [
       "<div>\n",
       "<style scoped>\n",
       "    .dataframe tbody tr th:only-of-type {\n",
       "        vertical-align: middle;\n",
       "    }\n",
       "\n",
       "    .dataframe tbody tr th {\n",
       "        vertical-align: top;\n",
       "    }\n",
       "\n",
       "    .dataframe thead th {\n",
       "        text-align: right;\n",
       "    }\n",
       "</style>\n",
       "<table border=\"1\" class=\"dataframe\">\n",
       "  <thead>\n",
       "    <tr style=\"text-align: right;\">\n",
       "      <th></th>\n",
       "      <th>escola</th>\n",
       "      <th>mes</th>\n",
       "      <th>texp</th>\n",
       "      <th>2</th>\n",
       "      <th>3</th>\n",
       "      <th>4</th>\n",
       "      <th>5</th>\n",
       "      <th>6</th>\n",
       "      <th>7</th>\n",
       "      <th>8</th>\n",
       "      <th>9</th>\n",
       "      <th>10</th>\n",
       "      <th>11</th>\n",
       "      <th>12</th>\n",
       "      <th>13</th>\n",
       "      <th>14</th>\n",
       "      <th>15</th>\n",
       "      <th>ativ_sim</th>\n",
       "    </tr>\n",
       "  </thead>\n",
       "  <tbody>\n",
       "    <tr>\n",
       "      <th>0</th>\n",
       "      <td>1</td>\n",
       "      <td>1</td>\n",
       "      <td>2</td>\n",
       "      <td>0</td>\n",
       "      <td>0</td>\n",
       "      <td>0</td>\n",
       "      <td>0</td>\n",
       "      <td>0</td>\n",
       "      <td>0</td>\n",
       "      <td>0</td>\n",
       "      <td>0</td>\n",
       "      <td>0</td>\n",
       "      <td>0</td>\n",
       "      <td>0</td>\n",
       "      <td>0</td>\n",
       "      <td>0</td>\n",
       "      <td>0</td>\n",
       "      <td>0</td>\n",
       "    </tr>\n",
       "    <tr>\n",
       "      <th>1</th>\n",
       "      <td>1</td>\n",
       "      <td>2</td>\n",
       "      <td>2</td>\n",
       "      <td>0</td>\n",
       "      <td>0</td>\n",
       "      <td>0</td>\n",
       "      <td>0</td>\n",
       "      <td>0</td>\n",
       "      <td>0</td>\n",
       "      <td>0</td>\n",
       "      <td>0</td>\n",
       "      <td>0</td>\n",
       "      <td>0</td>\n",
       "      <td>0</td>\n",
       "      <td>0</td>\n",
       "      <td>0</td>\n",
       "      <td>0</td>\n",
       "      <td>0</td>\n",
       "    </tr>\n",
       "    <tr>\n",
       "      <th>2</th>\n",
       "      <td>1</td>\n",
       "      <td>3</td>\n",
       "      <td>2</td>\n",
       "      <td>0</td>\n",
       "      <td>0</td>\n",
       "      <td>0</td>\n",
       "      <td>0</td>\n",
       "      <td>0</td>\n",
       "      <td>0</td>\n",
       "      <td>0</td>\n",
       "      <td>0</td>\n",
       "      <td>0</td>\n",
       "      <td>0</td>\n",
       "      <td>0</td>\n",
       "      <td>0</td>\n",
       "      <td>0</td>\n",
       "      <td>0</td>\n",
       "      <td>0</td>\n",
       "    </tr>\n",
       "    <tr>\n",
       "      <th>3</th>\n",
       "      <td>1</td>\n",
       "      <td>4</td>\n",
       "      <td>2</td>\n",
       "      <td>0</td>\n",
       "      <td>0</td>\n",
       "      <td>0</td>\n",
       "      <td>0</td>\n",
       "      <td>0</td>\n",
       "      <td>0</td>\n",
       "      <td>0</td>\n",
       "      <td>0</td>\n",
       "      <td>0</td>\n",
       "      <td>0</td>\n",
       "      <td>0</td>\n",
       "      <td>0</td>\n",
       "      <td>0</td>\n",
       "      <td>0</td>\n",
       "      <td>0</td>\n",
       "    </tr>\n",
       "    <tr>\n",
       "      <th>4</th>\n",
       "      <td>1</td>\n",
       "      <td>1</td>\n",
       "      <td>2</td>\n",
       "      <td>0</td>\n",
       "      <td>0</td>\n",
       "      <td>0</td>\n",
       "      <td>0</td>\n",
       "      <td>0</td>\n",
       "      <td>0</td>\n",
       "      <td>0</td>\n",
       "      <td>0</td>\n",
       "      <td>0</td>\n",
       "      <td>0</td>\n",
       "      <td>0</td>\n",
       "      <td>0</td>\n",
       "      <td>0</td>\n",
       "      <td>0</td>\n",
       "      <td>0</td>\n",
       "    </tr>\n",
       "  </tbody>\n",
       "</table>\n",
       "</div>"
      ],
      "text/plain": [
       "   escola  mes  texp  2  3  4  5  6  7  8  9  10  11  12  13  14  15  ativ_sim\n",
       "0       1    1     2  0  0  0  0  0  0  0  0   0   0   0   0   0   0         0\n",
       "1       1    2     2  0  0  0  0  0  0  0  0   0   0   0   0   0   0         0\n",
       "2       1    3     2  0  0  0  0  0  0  0  0   0   0   0   0   0   0         0\n",
       "3       1    4     2  0  0  0  0  0  0  0  0   0   0   0   0   0   0         0\n",
       "4       1    1     2  0  0  0  0  0  0  0  0   0   0   0   0   0   0         0"
      ]
     },
     "execution_count": 1004,
     "metadata": {},
     "output_type": "execute_result"
    }
   ],
   "source": [
    "# Criar as dummies\n",
    "Dummies_escola = pd.get_dummies(dados['escola'])\n",
    "Dummies_escola = Dummies_escola.iloc[:,1:]\n",
    "x_vars  = x_vars.join(Dummies_escola)\n",
    "Dummies_ativ = pd.get_dummies(dados['ativ'])\n",
    "Dummies_ativ = Dummies_ativ.iloc[:,1:]\n",
    "x_vars['ativ_sim'] = Dummies_ativ\n",
    "x_vars = x_vars.drop(columns=['ativ'])\n",
    "x_vars.head(5)"
   ]
  },
  {
   "cell_type": "code",
   "execution_count": 1007,
   "metadata": {},
   "outputs": [
    {
     "data": {
      "text/html": [
       "<div>\n",
       "<style scoped>\n",
       "    .dataframe tbody tr th:only-of-type {\n",
       "        vertical-align: middle;\n",
       "    }\n",
       "\n",
       "    .dataframe tbody tr th {\n",
       "        vertical-align: top;\n",
       "    }\n",
       "\n",
       "    .dataframe thead th {\n",
       "        text-align: right;\n",
       "    }\n",
       "</style>\n",
       "<table border=\"1\" class=\"dataframe\">\n",
       "  <thead>\n",
       "    <tr style=\"text-align: right;\">\n",
       "      <th></th>\n",
       "      <th>escola</th>\n",
       "      <th>mes</th>\n",
       "      <th>texp</th>\n",
       "      <th>2</th>\n",
       "      <th>3</th>\n",
       "      <th>4</th>\n",
       "      <th>5</th>\n",
       "      <th>6</th>\n",
       "      <th>7</th>\n",
       "      <th>8</th>\n",
       "      <th>9</th>\n",
       "      <th>10</th>\n",
       "      <th>11</th>\n",
       "      <th>12</th>\n",
       "      <th>13</th>\n",
       "      <th>14</th>\n",
       "      <th>15</th>\n",
       "      <th>ativ_sim</th>\n",
       "      <th>ativ_mes</th>\n",
       "      <th>texp_mes</th>\n",
       "    </tr>\n",
       "  </thead>\n",
       "  <tbody>\n",
       "    <tr>\n",
       "      <th>0</th>\n",
       "      <td>1</td>\n",
       "      <td>1</td>\n",
       "      <td>2</td>\n",
       "      <td>0</td>\n",
       "      <td>0</td>\n",
       "      <td>0</td>\n",
       "      <td>0</td>\n",
       "      <td>0</td>\n",
       "      <td>0</td>\n",
       "      <td>0</td>\n",
       "      <td>0</td>\n",
       "      <td>0</td>\n",
       "      <td>0</td>\n",
       "      <td>0</td>\n",
       "      <td>0</td>\n",
       "      <td>0</td>\n",
       "      <td>0</td>\n",
       "      <td>0</td>\n",
       "      <td>0</td>\n",
       "      <td>2</td>\n",
       "    </tr>\n",
       "    <tr>\n",
       "      <th>1</th>\n",
       "      <td>1</td>\n",
       "      <td>2</td>\n",
       "      <td>2</td>\n",
       "      <td>0</td>\n",
       "      <td>0</td>\n",
       "      <td>0</td>\n",
       "      <td>0</td>\n",
       "      <td>0</td>\n",
       "      <td>0</td>\n",
       "      <td>0</td>\n",
       "      <td>0</td>\n",
       "      <td>0</td>\n",
       "      <td>0</td>\n",
       "      <td>0</td>\n",
       "      <td>0</td>\n",
       "      <td>0</td>\n",
       "      <td>0</td>\n",
       "      <td>0</td>\n",
       "      <td>0</td>\n",
       "      <td>4</td>\n",
       "    </tr>\n",
       "    <tr>\n",
       "      <th>2</th>\n",
       "      <td>1</td>\n",
       "      <td>3</td>\n",
       "      <td>2</td>\n",
       "      <td>0</td>\n",
       "      <td>0</td>\n",
       "      <td>0</td>\n",
       "      <td>0</td>\n",
       "      <td>0</td>\n",
       "      <td>0</td>\n",
       "      <td>0</td>\n",
       "      <td>0</td>\n",
       "      <td>0</td>\n",
       "      <td>0</td>\n",
       "      <td>0</td>\n",
       "      <td>0</td>\n",
       "      <td>0</td>\n",
       "      <td>0</td>\n",
       "      <td>0</td>\n",
       "      <td>0</td>\n",
       "      <td>6</td>\n",
       "    </tr>\n",
       "    <tr>\n",
       "      <th>3</th>\n",
       "      <td>1</td>\n",
       "      <td>4</td>\n",
       "      <td>2</td>\n",
       "      <td>0</td>\n",
       "      <td>0</td>\n",
       "      <td>0</td>\n",
       "      <td>0</td>\n",
       "      <td>0</td>\n",
       "      <td>0</td>\n",
       "      <td>0</td>\n",
       "      <td>0</td>\n",
       "      <td>0</td>\n",
       "      <td>0</td>\n",
       "      <td>0</td>\n",
       "      <td>0</td>\n",
       "      <td>0</td>\n",
       "      <td>0</td>\n",
       "      <td>0</td>\n",
       "      <td>0</td>\n",
       "      <td>8</td>\n",
       "    </tr>\n",
       "    <tr>\n",
       "      <th>4</th>\n",
       "      <td>1</td>\n",
       "      <td>1</td>\n",
       "      <td>2</td>\n",
       "      <td>0</td>\n",
       "      <td>0</td>\n",
       "      <td>0</td>\n",
       "      <td>0</td>\n",
       "      <td>0</td>\n",
       "      <td>0</td>\n",
       "      <td>0</td>\n",
       "      <td>0</td>\n",
       "      <td>0</td>\n",
       "      <td>0</td>\n",
       "      <td>0</td>\n",
       "      <td>0</td>\n",
       "      <td>0</td>\n",
       "      <td>0</td>\n",
       "      <td>0</td>\n",
       "      <td>0</td>\n",
       "      <td>2</td>\n",
       "    </tr>\n",
       "    <tr>\n",
       "      <th>...</th>\n",
       "      <td>...</td>\n",
       "      <td>...</td>\n",
       "      <td>...</td>\n",
       "      <td>...</td>\n",
       "      <td>...</td>\n",
       "      <td>...</td>\n",
       "      <td>...</td>\n",
       "      <td>...</td>\n",
       "      <td>...</td>\n",
       "      <td>...</td>\n",
       "      <td>...</td>\n",
       "      <td>...</td>\n",
       "      <td>...</td>\n",
       "      <td>...</td>\n",
       "      <td>...</td>\n",
       "      <td>...</td>\n",
       "      <td>...</td>\n",
       "      <td>...</td>\n",
       "      <td>...</td>\n",
       "      <td>...</td>\n",
       "    </tr>\n",
       "    <tr>\n",
       "      <th>2435</th>\n",
       "      <td>15</td>\n",
       "      <td>4</td>\n",
       "      <td>9</td>\n",
       "      <td>0</td>\n",
       "      <td>0</td>\n",
       "      <td>0</td>\n",
       "      <td>0</td>\n",
       "      <td>0</td>\n",
       "      <td>0</td>\n",
       "      <td>0</td>\n",
       "      <td>0</td>\n",
       "      <td>0</td>\n",
       "      <td>0</td>\n",
       "      <td>0</td>\n",
       "      <td>0</td>\n",
       "      <td>0</td>\n",
       "      <td>1</td>\n",
       "      <td>1</td>\n",
       "      <td>4</td>\n",
       "      <td>36</td>\n",
       "    </tr>\n",
       "    <tr>\n",
       "      <th>2436</th>\n",
       "      <td>15</td>\n",
       "      <td>1</td>\n",
       "      <td>9</td>\n",
       "      <td>0</td>\n",
       "      <td>0</td>\n",
       "      <td>0</td>\n",
       "      <td>0</td>\n",
       "      <td>0</td>\n",
       "      <td>0</td>\n",
       "      <td>0</td>\n",
       "      <td>0</td>\n",
       "      <td>0</td>\n",
       "      <td>0</td>\n",
       "      <td>0</td>\n",
       "      <td>0</td>\n",
       "      <td>0</td>\n",
       "      <td>1</td>\n",
       "      <td>1</td>\n",
       "      <td>1</td>\n",
       "      <td>9</td>\n",
       "    </tr>\n",
       "    <tr>\n",
       "      <th>2437</th>\n",
       "      <td>15</td>\n",
       "      <td>2</td>\n",
       "      <td>9</td>\n",
       "      <td>0</td>\n",
       "      <td>0</td>\n",
       "      <td>0</td>\n",
       "      <td>0</td>\n",
       "      <td>0</td>\n",
       "      <td>0</td>\n",
       "      <td>0</td>\n",
       "      <td>0</td>\n",
       "      <td>0</td>\n",
       "      <td>0</td>\n",
       "      <td>0</td>\n",
       "      <td>0</td>\n",
       "      <td>0</td>\n",
       "      <td>1</td>\n",
       "      <td>1</td>\n",
       "      <td>2</td>\n",
       "      <td>18</td>\n",
       "    </tr>\n",
       "    <tr>\n",
       "      <th>2438</th>\n",
       "      <td>15</td>\n",
       "      <td>3</td>\n",
       "      <td>9</td>\n",
       "      <td>0</td>\n",
       "      <td>0</td>\n",
       "      <td>0</td>\n",
       "      <td>0</td>\n",
       "      <td>0</td>\n",
       "      <td>0</td>\n",
       "      <td>0</td>\n",
       "      <td>0</td>\n",
       "      <td>0</td>\n",
       "      <td>0</td>\n",
       "      <td>0</td>\n",
       "      <td>0</td>\n",
       "      <td>0</td>\n",
       "      <td>1</td>\n",
       "      <td>1</td>\n",
       "      <td>3</td>\n",
       "      <td>27</td>\n",
       "    </tr>\n",
       "    <tr>\n",
       "      <th>2439</th>\n",
       "      <td>15</td>\n",
       "      <td>4</td>\n",
       "      <td>9</td>\n",
       "      <td>0</td>\n",
       "      <td>0</td>\n",
       "      <td>0</td>\n",
       "      <td>0</td>\n",
       "      <td>0</td>\n",
       "      <td>0</td>\n",
       "      <td>0</td>\n",
       "      <td>0</td>\n",
       "      <td>0</td>\n",
       "      <td>0</td>\n",
       "      <td>0</td>\n",
       "      <td>0</td>\n",
       "      <td>0</td>\n",
       "      <td>1</td>\n",
       "      <td>1</td>\n",
       "      <td>4</td>\n",
       "      <td>36</td>\n",
       "    </tr>\n",
       "  </tbody>\n",
       "</table>\n",
       "<p>2440 rows × 20 columns</p>\n",
       "</div>"
      ],
      "text/plain": [
       "      escola  mes  texp  2  3  4  5  6  7  8  9  10  11  12  13  14  15  \\\n",
       "0          1    1     2  0  0  0  0  0  0  0  0   0   0   0   0   0   0   \n",
       "1          1    2     2  0  0  0  0  0  0  0  0   0   0   0   0   0   0   \n",
       "2          1    3     2  0  0  0  0  0  0  0  0   0   0   0   0   0   0   \n",
       "3          1    4     2  0  0  0  0  0  0  0  0   0   0   0   0   0   0   \n",
       "4          1    1     2  0  0  0  0  0  0  0  0   0   0   0   0   0   0   \n",
       "...      ...  ...   ... .. .. .. .. .. .. .. ..  ..  ..  ..  ..  ..  ..   \n",
       "2435      15    4     9  0  0  0  0  0  0  0  0   0   0   0   0   0   1   \n",
       "2436      15    1     9  0  0  0  0  0  0  0  0   0   0   0   0   0   1   \n",
       "2437      15    2     9  0  0  0  0  0  0  0  0   0   0   0   0   0   1   \n",
       "2438      15    3     9  0  0  0  0  0  0  0  0   0   0   0   0   0   1   \n",
       "2439      15    4     9  0  0  0  0  0  0  0  0   0   0   0   0   0   1   \n",
       "\n",
       "      ativ_sim  ativ_mes  texp_mes  \n",
       "0            0         0         2  \n",
       "1            0         0         4  \n",
       "2            0         0         6  \n",
       "3            0         0         8  \n",
       "4            0         0         2  \n",
       "...        ...       ...       ...  \n",
       "2435         1         4        36  \n",
       "2436         1         1         9  \n",
       "2437         1         2        18  \n",
       "2438         1         3        27  \n",
       "2439         1         4        36  \n",
       "\n",
       "[2440 rows x 20 columns]"
      ]
     },
     "execution_count": 1007,
     "metadata": {},
     "output_type": "execute_result"
    }
   ],
   "source": [
    "x_vars['ativ_mes'] = x_vars.ativ_sim*x_vars.mes\n",
    "x_vars['texp_mes'] = x_vars.texp*x_vars.mes\n",
    "x_vars"
   ]
  },
  {
   "cell_type": "markdown",
   "metadata": {},
   "source": [
    "## Modelo OLS"
   ]
  },
  {
   "cell_type": "code",
   "execution_count": 1008,
   "metadata": {},
   "outputs": [
    {
     "data": {
      "text/html": [
       "<table class=\"simpletable\">\n",
       "<caption>OLS Regression Results</caption>\n",
       "<tr>\n",
       "  <th>Dep. Variable:</th>            <td>y</td>        <th>  R-squared:         </th> <td>   0.422</td> \n",
       "</tr>\n",
       "<tr>\n",
       "  <th>Model:</th>                   <td>OLS</td>       <th>  Adj. R-squared:    </th> <td>   0.418</td> \n",
       "</tr>\n",
       "<tr>\n",
       "  <th>Method:</th>             <td>Least Squares</td>  <th>  F-statistic:       </th> <td>   98.22</td> \n",
       "</tr>\n",
       "<tr>\n",
       "  <th>Date:</th>             <td>Wed, 13 Oct 2021</td> <th>  Prob (F-statistic):</th> <td>6.83e-272</td>\n",
       "</tr>\n",
       "<tr>\n",
       "  <th>Time:</th>                 <td>15:47:36</td>     <th>  Log-Likelihood:    </th> <td> -10441.</td> \n",
       "</tr>\n",
       "<tr>\n",
       "  <th>No. Observations:</th>      <td>  2440</td>      <th>  AIC:               </th> <td>2.092e+04</td>\n",
       "</tr>\n",
       "<tr>\n",
       "  <th>Df Residuals:</th>          <td>  2421</td>      <th>  BIC:               </th> <td>2.103e+04</td>\n",
       "</tr>\n",
       "<tr>\n",
       "  <th>Df Model:</th>              <td>    18</td>      <th>                     </th>     <td> </td>    \n",
       "</tr>\n",
       "<tr>\n",
       "  <th>Covariance Type:</th>      <td>nonrobust</td>    <th>                     </th>     <td> </td>    \n",
       "</tr>\n",
       "</table>\n",
       "<table class=\"simpletable\">\n",
       "<tr>\n",
       "      <td></td>        <th>coef</th>     <th>std err</th>      <th>t</th>      <th>P>|t|</th>  <th>[0.025</th>    <th>0.975]</th>  \n",
       "</tr>\n",
       "<tr>\n",
       "  <th>const</th>    <td>   36.7424</td> <td>    1.999</td> <td>   18.382</td> <td> 0.000</td> <td>   32.823</td> <td>   40.662</td>\n",
       "</tr>\n",
       "<tr>\n",
       "  <th>escola</th>   <td>    0.0725</td> <td>    0.133</td> <td>    0.544</td> <td> 0.587</td> <td>   -0.189</td> <td>    0.334</td>\n",
       "</tr>\n",
       "<tr>\n",
       "  <th>mes</th>      <td>    5.1621</td> <td>    0.547</td> <td>    9.446</td> <td> 0.000</td> <td>    4.090</td> <td>    6.234</td>\n",
       "</tr>\n",
       "<tr>\n",
       "  <th>texp</th>     <td>    1.3648</td> <td>    0.121</td> <td>   11.235</td> <td> 0.000</td> <td>    1.127</td> <td>    1.603</td>\n",
       "</tr>\n",
       "<tr>\n",
       "  <th>2</th>        <td>   10.8349</td> <td>    2.105</td> <td>    5.147</td> <td> 0.000</td> <td>    6.707</td> <td>   14.963</td>\n",
       "</tr>\n",
       "<tr>\n",
       "  <th>3</th>        <td>   -5.2040</td> <td>    1.637</td> <td>   -3.179</td> <td> 0.001</td> <td>   -8.415</td> <td>   -1.993</td>\n",
       "</tr>\n",
       "<tr>\n",
       "  <th>4</th>        <td>    7.1001</td> <td>    2.103</td> <td>    3.377</td> <td> 0.001</td> <td>    2.977</td> <td>   11.223</td>\n",
       "</tr>\n",
       "<tr>\n",
       "  <th>5</th>        <td>    2.7066</td> <td>    1.502</td> <td>    1.802</td> <td> 0.072</td> <td>   -0.238</td> <td>    5.651</td>\n",
       "</tr>\n",
       "<tr>\n",
       "  <th>6</th>        <td>    4.4554</td> <td>    1.715</td> <td>    2.598</td> <td> 0.009</td> <td>    1.093</td> <td>    7.818</td>\n",
       "</tr>\n",
       "<tr>\n",
       "  <th>7</th>        <td>   -0.9749</td> <td>    1.694</td> <td>   -0.575</td> <td> 0.565</td> <td>   -4.297</td> <td>    2.347</td>\n",
       "</tr>\n",
       "<tr>\n",
       "  <th>8</th>        <td>    6.7430</td> <td>    1.263</td> <td>    5.340</td> <td> 0.000</td> <td>    4.267</td> <td>    9.219</td>\n",
       "</tr>\n",
       "<tr>\n",
       "  <th>9</th>        <td>    5.5073</td> <td>    1.160</td> <td>    4.747</td> <td> 0.000</td> <td>    3.232</td> <td>    7.782</td>\n",
       "</tr>\n",
       "<tr>\n",
       "  <th>10</th>       <td>   19.3531</td> <td>    1.422</td> <td>   13.613</td> <td> 0.000</td> <td>   16.565</td> <td>   22.141</td>\n",
       "</tr>\n",
       "<tr>\n",
       "  <th>11</th>       <td>  -15.4563</td> <td>    1.088</td> <td>  -14.209</td> <td> 0.000</td> <td>  -17.589</td> <td>  -13.323</td>\n",
       "</tr>\n",
       "<tr>\n",
       "  <th>12</th>       <td>   -8.1240</td> <td>    1.097</td> <td>   -7.408</td> <td> 0.000</td> <td>  -10.275</td> <td>   -5.973</td>\n",
       "</tr>\n",
       "<tr>\n",
       "  <th>13</th>       <td>   -7.0274</td> <td>    1.131</td> <td>   -6.211</td> <td> 0.000</td> <td>   -9.246</td> <td>   -4.809</td>\n",
       "</tr>\n",
       "<tr>\n",
       "  <th>14</th>       <td>   -8.9758</td> <td>    1.371</td> <td>   -6.546</td> <td> 0.000</td> <td>  -11.665</td> <td>   -6.287</td>\n",
       "</tr>\n",
       "<tr>\n",
       "  <th>15</th>       <td>    6.7037</td> <td>    1.228</td> <td>    5.459</td> <td> 0.000</td> <td>    4.296</td> <td>    9.112</td>\n",
       "</tr>\n",
       "<tr>\n",
       "  <th>ativ_sim</th> <td>   14.7923</td> <td>    1.877</td> <td>    7.881</td> <td> 0.000</td> <td>   11.112</td> <td>   18.473</td>\n",
       "</tr>\n",
       "<tr>\n",
       "  <th>ativ_mes</th> <td>   -0.7069</td> <td>    0.671</td> <td>   -1.054</td> <td> 0.292</td> <td>   -2.022</td> <td>    0.608</td>\n",
       "</tr>\n",
       "<tr>\n",
       "  <th>texp_mes</th> <td>   -0.0478</td> <td>    0.044</td> <td>   -1.095</td> <td> 0.274</td> <td>   -0.133</td> <td>    0.038</td>\n",
       "</tr>\n",
       "</table>\n",
       "<table class=\"simpletable\">\n",
       "<tr>\n",
       "  <th>Omnibus:</th>       <td> 7.319</td> <th>  Durbin-Watson:     </th> <td>   0.533</td>\n",
       "</tr>\n",
       "<tr>\n",
       "  <th>Prob(Omnibus):</th> <td> 0.026</td> <th>  Jarque-Bera (JB):  </th> <td>   7.394</td>\n",
       "</tr>\n",
       "<tr>\n",
       "  <th>Skew:</th>          <td>-0.129</td> <th>  Prob(JB):          </th> <td>  0.0248</td>\n",
       "</tr>\n",
       "<tr>\n",
       "  <th>Kurtosis:</th>      <td> 2.925</td> <th>  Cond. No.          </th> <td>1.22e+17</td>\n",
       "</tr>\n",
       "</table><br/><br/>Notes:<br/>[1] Standard Errors assume that the covariance matrix of the errors is correctly specified.<br/>[2] The smallest eigenvalue is 2.01e-28. This might indicate that there are<br/>strong multicollinearity problems or that the design matrix is singular."
      ],
      "text/plain": [
       "<class 'statsmodels.iolib.summary.Summary'>\n",
       "\"\"\"\n",
       "                            OLS Regression Results                            \n",
       "==============================================================================\n",
       "Dep. Variable:                      y   R-squared:                       0.422\n",
       "Model:                            OLS   Adj. R-squared:                  0.418\n",
       "Method:                 Least Squares   F-statistic:                     98.22\n",
       "Date:                Wed, 13 Oct 2021   Prob (F-statistic):          6.83e-272\n",
       "Time:                        15:47:36   Log-Likelihood:                -10441.\n",
       "No. Observations:                2440   AIC:                         2.092e+04\n",
       "Df Residuals:                    2421   BIC:                         2.103e+04\n",
       "Df Model:                          18                                         \n",
       "Covariance Type:            nonrobust                                         \n",
       "==============================================================================\n",
       "                 coef    std err          t      P>|t|      [0.025      0.975]\n",
       "------------------------------------------------------------------------------\n",
       "const         36.7424      1.999     18.382      0.000      32.823      40.662\n",
       "escola         0.0725      0.133      0.544      0.587      -0.189       0.334\n",
       "mes            5.1621      0.547      9.446      0.000       4.090       6.234\n",
       "texp           1.3648      0.121     11.235      0.000       1.127       1.603\n",
       "2             10.8349      2.105      5.147      0.000       6.707      14.963\n",
       "3             -5.2040      1.637     -3.179      0.001      -8.415      -1.993\n",
       "4              7.1001      2.103      3.377      0.001       2.977      11.223\n",
       "5              2.7066      1.502      1.802      0.072      -0.238       5.651\n",
       "6              4.4554      1.715      2.598      0.009       1.093       7.818\n",
       "7             -0.9749      1.694     -0.575      0.565      -4.297       2.347\n",
       "8              6.7430      1.263      5.340      0.000       4.267       9.219\n",
       "9              5.5073      1.160      4.747      0.000       3.232       7.782\n",
       "10            19.3531      1.422     13.613      0.000      16.565      22.141\n",
       "11           -15.4563      1.088    -14.209      0.000     -17.589     -13.323\n",
       "12            -8.1240      1.097     -7.408      0.000     -10.275      -5.973\n",
       "13            -7.0274      1.131     -6.211      0.000      -9.246      -4.809\n",
       "14            -8.9758      1.371     -6.546      0.000     -11.665      -6.287\n",
       "15             6.7037      1.228      5.459      0.000       4.296       9.112\n",
       "ativ_sim      14.7923      1.877      7.881      0.000      11.112      18.473\n",
       "ativ_mes      -0.7069      0.671     -1.054      0.292      -2.022       0.608\n",
       "texp_mes      -0.0478      0.044     -1.095      0.274      -0.133       0.038\n",
       "==============================================================================\n",
       "Omnibus:                        7.319   Durbin-Watson:                   0.533\n",
       "Prob(Omnibus):                  0.026   Jarque-Bera (JB):                7.394\n",
       "Skew:                          -0.129   Prob(JB):                       0.0248\n",
       "Kurtosis:                       2.925   Cond. No.                     1.22e+17\n",
       "==============================================================================\n",
       "\n",
       "Notes:\n",
       "[1] Standard Errors assume that the covariance matrix of the errors is correctly specified.\n",
       "[2] The smallest eigenvalue is 2.01e-28. This might indicate that there are\n",
       "strong multicollinearity problems or that the design matrix is singular.\n",
       "\"\"\""
      ]
     },
     "execution_count": 1008,
     "metadata": {},
     "output_type": "execute_result"
    }
   ],
   "source": [
    "#Modelo OLS\n",
    "import statsmodels.api as sm\n",
    "x_constante = sm.add_constant(x_vars)\n",
    "y = dados['desempenho'].values\n",
    "modelo = sm.OLS(y,x_constante)\n",
    "modelo_v1 = modelo.fit()\n",
    "modelo_v1.summary()"
   ]
  },
  {
   "cell_type": "code",
   "execution_count": null,
   "metadata": {},
   "outputs": [],
   "source": []
  }
 ],
 "metadata": {
  "kernelspec": {
   "display_name": "Python 3",
   "language": "python",
   "name": "python3"
  },
  "language_info": {
   "codemirror_mode": {
    "name": "ipython",
    "version": 3
   },
   "file_extension": ".py",
   "mimetype": "text/x-python",
   "name": "python",
   "nbconvert_exporter": "python",
   "pygments_lexer": "ipython3",
   "version": "3.8.5"
  }
 },
 "nbformat": 4,
 "nbformat_minor": 4
}
