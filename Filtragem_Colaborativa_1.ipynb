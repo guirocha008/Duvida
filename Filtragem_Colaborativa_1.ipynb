{
 "cells": [
  {
   "cell_type": "markdown",
   "metadata": {},
   "source": [
    "# $$Sistema~de~Recomendação:Filtragem~Colaborativa$$"
   ]
  },
  {
   "cell_type": "markdown",
   "metadata": {},
   "source": [
    "## $$Conceito:$$\n",
    "\n",
    "\n",
    "**Filtragem Colaborativa explora a ideia de que existe relação entre os produtos e os interesses das pessoas. Muitos sistemas de recomendação usam o Collaborative Filtering para entender essas relações e dar uma precisa recomendação de um produto que o usuário pode gostar**\n",
    "\n",
    "\n",
    "**Através da similaridade(distancia) dos dados(usuário ou item), a filtragem colaborativa consegue mostrar computacionalmente, por meio de um valor, o quanto dois objetos são semelhantes entre si**\n",
    "\n",
    "\n",
    "\n",
    "**Há dois principais tipos de algoritmos de filtragem colaborativa:**\n",
    "\n",
    "- **Filtragem colaborativa usuário-usuário(User Based):** O sistema encontra usuários parecidos com base na similaridade e recomenda produtos que os primeiros usuários parecidos escolheram no passado. O algoritmo é muito eficaz, mas requer tempo e recursos, pois necessita que todas as informações pareadas sejam computadas, o que leva tempo.\n",
    "\n",
    "\n",
    "- **Filtragem colaborativa item-item(Item Based):** É semelhante ao algoritmo anterior, mas, ao invés de encontrar usuários parecidos, tenta encontrar produtos parecidos – a partir das escolhas dos usuários. Esse algoritmo consome muito menos recursos. O sistema não precisa analisar todos os índices de similaridade entre usuários, mas sim a similaridade entre produtos – o que representa um número menor de itens ao longo do tempo\n",
    "\n",
    "\n"
   ]
  },
  {
   "cell_type": "markdown",
   "metadata": {},
   "source": [
    "__------------------------------------------------------------------------------------------------------------------------------------------------------------------------------------------------------------------__\n",
    "\n",
    "\n",
    "__------------------------------------------------------------------------------------------------------------------------------------------------------------------------------------------------------------------__"
   ]
  },
  {
   "cell_type": "markdown",
   "metadata": {},
   "source": [
    "## Objetivo: Usar filtragem Colaborativa para recomendações de livros através de Avaliações de usuarios"
   ]
  },
  {
   "cell_type": "code",
   "execution_count": 1,
   "metadata": {},
   "outputs": [],
   "source": [
    "import pandas as pd\n",
    "import numpy as np\n",
    "import matplotlib.pyplot as plt\n",
    "import seaborn as sns\n",
    "\n",
    "from scipy import sparse\n",
    "from scipy.sparse import csr_matrix"
   ]
  },
  {
   "cell_type": "markdown",
   "metadata": {},
   "source": [
    "# 1° Banco de dados "
   ]
  },
  {
   "cell_type": "code",
   "execution_count": 2,
   "metadata": {},
   "outputs": [
    {
     "data": {
      "text/html": [
       "<div>\n",
       "<style scoped>\n",
       "    .dataframe tbody tr th:only-of-type {\n",
       "        vertical-align: middle;\n",
       "    }\n",
       "\n",
       "    .dataframe tbody tr th {\n",
       "        vertical-align: top;\n",
       "    }\n",
       "\n",
       "    .dataframe thead th {\n",
       "        text-align: right;\n",
       "    }\n",
       "</style>\n",
       "<table border=\"1\" class=\"dataframe\">\n",
       "  <thead>\n",
       "    <tr style=\"text-align: right;\">\n",
       "      <th></th>\n",
       "      <th>Usuario</th>\n",
       "      <th>Avaliacao</th>\n",
       "      <th>Titulo</th>\n",
       "    </tr>\n",
       "  </thead>\n",
       "  <tbody>\n",
       "    <tr>\n",
       "      <th>0</th>\n",
       "      <td>276725</td>\n",
       "      <td>0</td>\n",
       "      <td>Flesh Tones: A Novel</td>\n",
       "    </tr>\n",
       "    <tr>\n",
       "      <th>1</th>\n",
       "      <td>2313</td>\n",
       "      <td>5</td>\n",
       "      <td>Flesh Tones: A Novel</td>\n",
       "    </tr>\n",
       "    <tr>\n",
       "      <th>2</th>\n",
       "      <td>6543</td>\n",
       "      <td>0</td>\n",
       "      <td>Flesh Tones: A Novel</td>\n",
       "    </tr>\n",
       "    <tr>\n",
       "      <th>3</th>\n",
       "      <td>8680</td>\n",
       "      <td>5</td>\n",
       "      <td>Flesh Tones: A Novel</td>\n",
       "    </tr>\n",
       "    <tr>\n",
       "      <th>4</th>\n",
       "      <td>10314</td>\n",
       "      <td>9</td>\n",
       "      <td>Flesh Tones: A Novel</td>\n",
       "    </tr>\n",
       "    <tr>\n",
       "      <th>...</th>\n",
       "      <td>...</td>\n",
       "      <td>...</td>\n",
       "      <td>...</td>\n",
       "    </tr>\n",
       "    <tr>\n",
       "      <th>196837</th>\n",
       "      <td>276680</td>\n",
       "      <td>0</td>\n",
       "      <td>Home Crafts (Historic Communities (Paperback))</td>\n",
       "    </tr>\n",
       "    <tr>\n",
       "      <th>196838</th>\n",
       "      <td>276680</td>\n",
       "      <td>0</td>\n",
       "      <td>The Old Sturbridge Village Cookbook, 2nd : Aut...</td>\n",
       "    </tr>\n",
       "    <tr>\n",
       "      <th>196839</th>\n",
       "      <td>276680</td>\n",
       "      <td>0</td>\n",
       "      <td>City of Masks : A Cree Black Novel</td>\n",
       "    </tr>\n",
       "    <tr>\n",
       "      <th>196840</th>\n",
       "      <td>276681</td>\n",
       "      <td>10</td>\n",
       "      <td>Chorus</td>\n",
       "    </tr>\n",
       "    <tr>\n",
       "      <th>196841</th>\n",
       "      <td>276688</td>\n",
       "      <td>7</td>\n",
       "      <td>Gray Matter</td>\n",
       "    </tr>\n",
       "  </tbody>\n",
       "</table>\n",
       "<p>196842 rows × 3 columns</p>\n",
       "</div>"
      ],
      "text/plain": [
       "        Usuario  Avaliacao                                             Titulo\n",
       "0        276725          0                               Flesh Tones: A Novel\n",
       "1          2313          5                               Flesh Tones: A Novel\n",
       "2          6543          0                               Flesh Tones: A Novel\n",
       "3          8680          5                               Flesh Tones: A Novel\n",
       "4         10314          9                               Flesh Tones: A Novel\n",
       "...         ...        ...                                                ...\n",
       "196837   276680          0     Home Crafts (Historic Communities (Paperback))\n",
       "196838   276680          0  The Old Sturbridge Village Cookbook, 2nd : Aut...\n",
       "196839   276680          0                 City of Masks : A Cree Black Novel\n",
       "196840   276681         10                                             Chorus\n",
       "196841   276688          7                                        Gray Matter\n",
       "\n",
       "[196842 rows x 3 columns]"
      ]
     },
     "execution_count": 2,
     "metadata": {},
     "output_type": "execute_result"
    }
   ],
   "source": [
    "#Banco de dados \n",
    "dados_completo = pd.read_csv(\"filt-colab.csv\",sep=';')\n",
    "\n",
    "dados_completo.columns = ['Usuario','Avaliacao','Titulo']\n",
    "dados_completo"
   ]
  },
  {
   "cell_type": "markdown",
   "metadata": {},
   "source": [
    "**Banco de dados trás as colunas: Usuario, Avaliacão e Titulo dos livros**"
   ]
  },
  {
   "cell_type": "markdown",
   "metadata": {},
   "source": [
    "## Análise Exploratória dos Dados"
   ]
  },
  {
   "cell_type": "code",
   "execution_count": 36,
   "metadata": {},
   "outputs": [
    {
     "name": "stdout",
     "output_type": "stream",
     "text": [
      "Resumo dos Dados\n",
      "--------------------------------------------------\n",
      "Número Total de Livro: 68717\n",
      "Número Total de Usuários: 38511\n",
      "Número Total de Avaliações: 196669\n"
     ]
    }
   ],
   "source": [
    "# Resumo dos dados\n",
    "print(\"Resumo dos Dados\")\n",
    "print(\"-\"*50)\n",
    "print(\"Número Total de Livro:\", len(np.unique(dados_completo.Titulo)))\n",
    "print(\"Número Total de Usuários:\", len(np.unique(dados_completo.Usuario)))\n",
    "print(\"Número Total de Avaliações:\", dados_completo.shape[0])"
   ]
  },
  {
   "cell_type": "code",
   "execution_count": 4,
   "metadata": {},
   "outputs": [
    {
     "data": {
      "text/plain": [
       "count    196842.000000\n",
       "mean          3.117907\n",
       "std           3.925304\n",
       "min           0.000000\n",
       "25%           0.000000\n",
       "50%           0.000000\n",
       "75%           7.000000\n",
       "max          10.000000\n",
       "Name: Avaliacao, dtype: float64"
      ]
     },
     "execution_count": 4,
     "metadata": {},
     "output_type": "execute_result"
    }
   ],
   "source": [
    "# Verificando a média das avaliações\n",
    "dados_completo.describe()['Avaliacao']"
   ]
  },
  {
   "cell_type": "markdown",
   "metadata": {},
   "source": [
    "**Observe que as avaliações vão de 0 à 10, com média = 3.11**"
   ]
  },
  {
   "cell_type": "code",
   "execution_count": 5,
   "metadata": {},
   "outputs": [
    {
     "name": "stdout",
     "output_type": "stream",
     "text": [
      "Total de dados nulos: 0\n"
     ]
    }
   ],
   "source": [
    "#Verificar Valores nulos\n",
    "null_Usuario = sum(dados_completo.Usuario.isna())\n",
    "null_Avaliacao = sum(dados_completo.Avaliacao.isna())\n",
    "null_Titulo = sum(dados_completo.Titulo.isna())\n",
    "\n",
    "print(f'Total de dados nulos: {null_Usuario + null_Avaliacao + null_Titulo}')"
   ]
  },
  {
   "cell_type": "markdown",
   "metadata": {},
   "source": [
    "**Nenhum dado nulo esta presente no dataframe**"
   ]
  },
  {
   "cell_type": "code",
   "execution_count": 6,
   "metadata": {},
   "outputs": [
    {
     "data": {
      "text/plain": [
       "173"
      ]
     },
     "execution_count": 6,
     "metadata": {},
     "output_type": "execute_result"
    }
   ],
   "source": [
    "# Verificando se temos valores duplicados \n",
    "dados_completo.duplicated().sum()"
   ]
  },
  {
   "cell_type": "code",
   "execution_count": 7,
   "metadata": {},
   "outputs": [
    {
     "data": {
      "text/plain": [
       "0"
      ]
     },
     "execution_count": 7,
     "metadata": {},
     "output_type": "execute_result"
    }
   ],
   "source": [
    "#Eliminar os registros duplicados\n",
    "dados_completo = dados_completo.drop_duplicates()\n",
    "dados_completo.duplicated().sum()"
   ]
  },
  {
   "cell_type": "markdown",
   "metadata": {},
   "source": [
    "**Eliminamos os dados duplicados do dataset**"
   ]
  },
  {
   "cell_type": "code",
   "execution_count": 8,
   "metadata": {},
   "outputs": [
    {
     "name": "stderr",
     "output_type": "stream",
     "text": [
      "C:\\ProgramData\\Anaconda3\\lib\\site-packages\\seaborn\\_decorators.py:36: FutureWarning: Pass the following variable as a keyword arg: x. From version 0.12, the only valid positional argument will be `data`, and passing other arguments without an explicit keyword will result in an error or misinterpretation.\n",
      "  warnings.warn(\n"
     ]
    },
    {
     "data": {
      "image/png": "[encoded data removed]",
      "text/plain": [
       "<Figure size 576x432 with 1 Axes>"
      ]
     },
     "metadata": {
      "needs_background": "light"
     },
     "output_type": "display_data"
    }
   ],
   "source": [
    "#Plot da coluna Avaliacao\n",
    "import seaborn as sns\n",
    "plt.figure(figsize=(8, 6))\n",
    "sns.countplot(dados_completo.Avaliacao);"
   ]
  },
  {
   "cell_type": "code",
   "execution_count": 9,
   "metadata": {},
   "outputs": [
    {
     "data": {
      "text/plain": [
       "59.0"
      ]
     },
     "execution_count": 9,
     "metadata": {},
     "output_type": "execute_result"
    }
   ],
   "source": [
    "#Porcentagem de avaliações com 0\n",
    "zero = len(dados_completo[dados_completo.Avaliacao==0])\n",
    "total = zero/len(dados_completo)\n",
    "round(total*100,1)"
   ]
  },
  {
   "cell_type": "markdown",
   "metadata": {},
   "source": [
    "**Veja que a distribuição está desequilibrada, com 59% das avaliações com nota 0**"
   ]
  },
  {
   "cell_type": "markdown",
   "metadata": {},
   "source": [
    "**OBS: Para o sistema de recomendação dados desbalanceados não tem significância**"
   ]
  },
  {
   "cell_type": "markdown",
   "metadata": {},
   "source": [
    "## Filtrar somente os usuários com mais de 10 avaliações e menos de 200 avaliações"
   ]
  },
  {
   "cell_type": "code",
   "execution_count": 10,
   "metadata": {},
   "outputs": [
    {
     "name": "stdout",
     "output_type": "stream",
     "text": [
      "Numero de avaliações maior que 200: 68\n",
      "\n",
      "Numero de avaliações menor que 10: 35418\n"
     ]
    }
   ],
   "source": [
    "# Número de avaliações por usuário\n",
    "num_aval_por_user = dados_completo.groupby(by = 'Usuario')['Avaliacao'].count().sort_values(ascending = False)\n",
    "\n",
    "#Filtrando numeros de avaliações > 200\n",
    "aval200 = num_aval_por_user[num_aval_por_user>200]\n",
    "\n",
    "#Filtrando numeros de avaliações <= 10\n",
    "aval1 = num_aval_por_user[num_aval_por_user<=10]\n",
    "\n",
    "print(f'Numero de avaliações maior que 200: {len(aval200)}')\n",
    "print(f'\\nNumero de avaliações menor que 10: {len(aval1)}')"
   ]
  },
  {
   "cell_type": "markdown",
   "metadata": {},
   "source": [
    "**Filtramos as avaliações maiores do que 200, pois o site pode ter robôs que ficam avaliando os livros, já usuários que avaliaram até 10 livros não são interessantes para o modelo, pois são usuários aleatórios que não tem engajamento com o site**"
   ]
  },
  {
   "cell_type": "markdown",
   "metadata": {},
   "source": [
    "**OBS: A escolha dos valores foram arbitrarias, apenas para fins didáticos, porém com coerência na analise**"
   ]
  },
  {
   "cell_type": "code",
   "execution_count": 11,
   "metadata": {},
   "outputs": [
    {
     "data": {
      "text/plain": [
       "Int64Index([ 11676,  98391, 198711, 153662,  35859, 278418, 182987,  72992,\n",
       "             98741, 261105,\n",
       "            ...\n",
       "            116210, 276602, 106131, 126726,  65208,  84897, 261412, 207450,\n",
       "            277203,   2179],\n",
       "           dtype='int64', length=3093)"
      ]
     },
     "execution_count": 11,
     "metadata": {},
     "output_type": "execute_result"
    }
   ],
   "source": [
    "#Exluindo as avaliações menor que 2 e maiores que 200\n",
    "\n",
    "#Extrair os indices dos usuarios que avaliaram mais de 200 livros \n",
    "aval_200 = dados_completo.Usuario.value_counts() < 200\n",
    "aval_200 = aval_200[aval_200].index\n",
    "\n",
    "#Extrair os indices dos usuarios que avaliaram menos de 2 livros \n",
    "aval_1 = dados_completo.Usuario.value_counts() > 10\n",
    "aval_1 = aval_1[aval_1].index\n",
    "aval_1"
   ]
  },
  {
   "cell_type": "markdown",
   "metadata": {},
   "source": [
    "**Índices dos usuários que tem o número de avaliações exigidas para a modelagem**"
   ]
  },
  {
   "cell_type": "code",
   "execution_count": 12,
   "metadata": {},
   "outputs": [
    {
     "name": "stdout",
     "output_type": "stream",
     "text": [
      "Numero maximo de avaliações feitas pelo Usuário: 199\n",
      "\n",
      "Numero minimo de avaliações feitas pelo Usuário: 11\n",
      "\n",
      "Total de Usuarios: 3025\n"
     ]
    }
   ],
   "source": [
    "# Filtrar na tabela os usuarios que avaliaram menos de 200 livros\n",
    "\n",
    "tabela_final1 = dados_completo[dados_completo['Usuario'].isin(aval_200)]\n",
    "\n",
    "# Filtrar na tabela os usuarios que avaliaram mais de 10 livros\n",
    "tabela_final1 = tabela_final1[tabela_final1['Usuario'].isin(aval_1)]\n",
    "\n",
    "# Número de avaliações por usuário\n",
    "num_aval_por_user2 = tabela_final1.groupby(by = 'Usuario')['Avaliacao'].count().sort_values(ascending = False)\n",
    "\n",
    "maxi = num_aval_por_user2.max()\n",
    "mini = num_aval_por_user2.min()\n",
    "\n",
    "print(f'Numero maximo de avaliações feitas pelo Usuário: {maxi}')\n",
    "print(f'\\nNumero minimo de avaliações feitas pelo Usuário: {mini}')\n",
    "print(f'\\nTotal de Usuarios: {len(np.unique(tabela_final1.Usuario))}')\n"
   ]
  },
  {
   "cell_type": "markdown",
   "metadata": {},
   "source": [
    "**Agora o dataset só tem usuários com perfil equilibrado de avaliações**"
   ]
  },
  {
   "cell_type": "code",
   "execution_count": 13,
   "metadata": {},
   "outputs": [
    {
     "name": "stdout",
     "output_type": "stream",
     "text": [
      "Minimo de avaliações de um livro: 1\n",
      "\n",
      "Maximo de avaliações de um livro: 284\n",
      "\n",
      "Média de avaliações de um livro: 2.3\n"
     ]
    }
   ],
   "source": [
    "#Verificar a quantidade de vezes que os livros foram avaliados\n",
    "\n",
    "rating_qts = tabela_final1.groupby(by = 'Titulo')['Usuario'].count().reset_index()\n",
    "rating_qts.columns = ['Titulo','Usuario']\n",
    "\n",
    "rating_qts.sort_values(by='Usuario',ascending=False)\n",
    "\n",
    "mini = rating_qts.Usuario.min()\n",
    "maxi = rating_qts.Usuario.max()\n",
    "mean = rating_qts.Usuario.mean()\n",
    "\n",
    "print(f'Minimo de avaliações de um livro: {mini}')\n",
    "print(f'\\nMaximo de avaliações de um livro: {maxi}')\n",
    "print(f'\\nMédia de avaliações de um livro: {round(mean,1)}')"
   ]
  },
  {
   "cell_type": "markdown",
   "metadata": {},
   "source": [
    "**Note que a maioria dos livros tem menos de 2 avaliações, vamos selecionar os livros que tiveram mais de 20 avaliações para conseguir um modelo mais adequado**"
   ]
  },
  {
   "cell_type": "markdown",
   "metadata": {},
   "source": [
    "**OBS: Novamente a escolha dos valores foram arbitrarias, apenas para fins didáticos, porém com coerência na analise**"
   ]
  },
  {
   "cell_type": "code",
   "execution_count": 14,
   "metadata": {},
   "outputs": [],
   "source": [
    "#Exluindo os livros que tiveram menos de 20 avaliações \n",
    "\n",
    "#Extrair os indices dos usuarios que avaliaram mais de 200 livros \n",
    "livr_20 = tabela_final1.Titulo.value_counts() >20\n",
    "livr_20 = livr_20[livr_20].index\n",
    "\n"
   ]
  },
  {
   "cell_type": "code",
   "execution_count": 15,
   "metadata": {},
   "outputs": [
    {
     "name": "stdout",
     "output_type": "stream",
     "text": [
      "Minimo de avaliações de um livro: 21\n",
      "\n",
      "Maximo de avaliações de um livro: 284\n",
      "\n",
      "Média de avaliações de um livro: 45.7\n"
     ]
    }
   ],
   "source": [
    "# Filtrar na tabela os usuarios que avaliaram menos de 200 livros\n",
    "\n",
    "tabela_final3 = tabela_final1[tabela_final1['Titulo'].isin(livr_20)]\n",
    "\n",
    "\n",
    "# Número de avaliações por usuário\n",
    "num_aval_por_user2 = tabela_final3.groupby(by = 'Titulo')['Usuario'].count().sort_values(ascending = False)\n",
    "\n",
    "maxi = num_aval_por_user2.max()\n",
    "mini = num_aval_por_user2.min()\n",
    "mean = num_aval_por_user2.mean()\n",
    "\n",
    "print(f'Minimo de avaliações de um livro: {mini}')\n",
    "print(f'\\nMaximo de avaliações de um livro: {maxi}')\n",
    "print(f'\\nMédia de avaliações de um livro: {round(mean,1)}')\n"
   ]
  },
  {
   "cell_type": "code",
   "execution_count": 16,
   "metadata": {},
   "outputs": [
    {
     "data": {
      "text/html": [
       "<div>\n",
       "<style scoped>\n",
       "    .dataframe tbody tr th:only-of-type {\n",
       "        vertical-align: middle;\n",
       "    }\n",
       "\n",
       "    .dataframe tbody tr th {\n",
       "        vertical-align: top;\n",
       "    }\n",
       "\n",
       "    .dataframe thead th {\n",
       "        text-align: right;\n",
       "    }\n",
       "</style>\n",
       "<table border=\"1\" class=\"dataframe\">\n",
       "  <thead>\n",
       "    <tr style=\"text-align: right;\">\n",
       "      <th></th>\n",
       "      <th>Usuario</th>\n",
       "      <th>Avaliacao</th>\n",
       "      <th>Titulo</th>\n",
       "    </tr>\n",
       "  </thead>\n",
       "  <tbody>\n",
       "    <tr>\n",
       "      <th>2</th>\n",
       "      <td>6543</td>\n",
       "      <td>0</td>\n",
       "      <td>Flesh Tones: A Novel</td>\n",
       "    </tr>\n",
       "    <tr>\n",
       "      <th>4</th>\n",
       "      <td>10314</td>\n",
       "      <td>9</td>\n",
       "      <td>Flesh Tones: A Novel</td>\n",
       "    </tr>\n",
       "    <tr>\n",
       "      <th>7</th>\n",
       "      <td>28523</td>\n",
       "      <td>0</td>\n",
       "      <td>Flesh Tones: A Novel</td>\n",
       "    </tr>\n",
       "    <tr>\n",
       "      <th>14</th>\n",
       "      <td>77480</td>\n",
       "      <td>8</td>\n",
       "      <td>Flesh Tones: A Novel</td>\n",
       "    </tr>\n",
       "    <tr>\n",
       "      <th>15</th>\n",
       "      <td>77940</td>\n",
       "      <td>0</td>\n",
       "      <td>Flesh Tones: A Novel</td>\n",
       "    </tr>\n",
       "    <tr>\n",
       "      <th>...</th>\n",
       "      <td>...</td>\n",
       "      <td>...</td>\n",
       "      <td>...</td>\n",
       "    </tr>\n",
       "    <tr>\n",
       "      <th>189078</th>\n",
       "      <td>231264</td>\n",
       "      <td>0</td>\n",
       "      <td>The Ghost</td>\n",
       "    </tr>\n",
       "    <tr>\n",
       "      <th>189147</th>\n",
       "      <td>231857</td>\n",
       "      <td>0</td>\n",
       "      <td>Dreamcatcher</td>\n",
       "    </tr>\n",
       "    <tr>\n",
       "      <th>190366</th>\n",
       "      <td>238526</td>\n",
       "      <td>0</td>\n",
       "      <td>A Woman of Substance</td>\n",
       "    </tr>\n",
       "    <tr>\n",
       "      <th>190367</th>\n",
       "      <td>238526</td>\n",
       "      <td>0</td>\n",
       "      <td>Beezus and Ramona</td>\n",
       "    </tr>\n",
       "    <tr>\n",
       "      <th>192105</th>\n",
       "      <td>246507</td>\n",
       "      <td>10</td>\n",
       "      <td>Harry Potter and the Order of the Phoenix (Boo...</td>\n",
       "    </tr>\n",
       "  </tbody>\n",
       "</table>\n",
       "<p>16582 rows × 3 columns</p>\n",
       "</div>"
      ],
      "text/plain": [
       "        Usuario  Avaliacao                                             Titulo\n",
       "2          6543          0                               Flesh Tones: A Novel\n",
       "4         10314          9                               Flesh Tones: A Novel\n",
       "7         28523          0                               Flesh Tones: A Novel\n",
       "14        77480          8                               Flesh Tones: A Novel\n",
       "15        77940          0                               Flesh Tones: A Novel\n",
       "...         ...        ...                                                ...\n",
       "189078   231264          0                                          The Ghost\n",
       "189147   231857          0                                       Dreamcatcher\n",
       "190366   238526          0                               A Woman of Substance\n",
       "190367   238526          0                                  Beezus and Ramona\n",
       "192105   246507         10  Harry Potter and the Order of the Phoenix (Boo...\n",
       "\n",
       "[16582 rows x 3 columns]"
      ]
     },
     "execution_count": 16,
     "metadata": {},
     "output_type": "execute_result"
    }
   ],
   "source": [
    "#Tabela completa para modelagem\n",
    "tabela_final3"
   ]
  },
  {
   "cell_type": "markdown",
   "metadata": {},
   "source": [
    "**Com analise previa dos dados, agora podemos ir para modelagem**"
   ]
  },
  {
   "cell_type": "markdown",
   "metadata": {},
   "source": [
    "# Calcular a similaridade dos Usuários:"
   ]
  },
  {
   "cell_type": "markdown",
   "metadata": {},
   "source": [
    "## Filtro Colaborativo baseado no Usuario"
   ]
  },
  {
   "cell_type": "markdown",
   "metadata": {},
   "source": [
    "- Para calcular a similaridade dos usuários 1° precisamos criar uma matriz esparsa\n",
    "\n",
    "\n",
    "- **A filtragem colaborativa baseada em usuários contém a distância das notas de cada usuário para as recomendações**\n"
   ]
  },
  {
   "cell_type": "markdown",
   "metadata": {},
   "source": [
    "## Matriz Esparsas"
   ]
  },
  {
   "cell_type": "markdown",
   "metadata": {},
   "source": [
    "- A Matriz esparsa cria valores 0 quando não há relação entre as linhas e as colunas, neste caso seria quando não houvesse avaliação feita pelo usuário, caso contrário o dado é o valor da avaliação\n",
    "\n",
    "\n",
    "- Como o Matriz Esparsa cria valores 0, precisamos substituir as avaliações com o valor 0 para 1\n",
    "\n",
    "\n",
    "- Com esses dados a Matriz Esparsa vai criar uma matriz ortogonal com os **títulos** em colunas, os **usuários** em linhas e as **avaliações** feitas pelos usuários como sendo os dados da matriz\n"
   ]
  },
  {
   "cell_type": "code",
   "execution_count": 17,
   "metadata": {},
   "outputs": [
    {
     "name": "stdout",
     "output_type": "stream",
     "text": [
      "Valor minimo dado em uma avaliação: 1\n"
     ]
    },
    {
     "name": "stderr",
     "output_type": "stream",
     "text": [
      "C:\\ProgramData\\Anaconda3\\lib\\site-packages\\pandas\\core\\indexing.py:1817: SettingWithCopyWarning: \n",
      "A value is trying to be set on a copy of a slice from a DataFrame.\n",
      "Try using .loc[row_indexer,col_indexer] = value instead\n",
      "\n",
      "See the caveats in the documentation: https://pandas.pydata.org/pandas-docs/stable/user_guide/indexing.html#returning-a-view-versus-a-copy\n",
      "  self._setitem_single_column(loc, value, pi)\n"
     ]
    }
   ],
   "source": [
    "## Alterar valor 0 da coluna Avaliacao\n",
    "\n",
    "tabela_final3.loc[(tabela_final3['Avaliacao'])==0,'Avaliacao']=1\n",
    "\n",
    "mini = tabela_final3.Avaliacao.min()\n",
    "\n",
    "print(f'Valor minimo dado em uma avaliação: {mini}')"
   ]
  },
  {
   "cell_type": "markdown",
   "metadata": {},
   "source": [
    "**Agora com o valor mínimo da avaliação sendo 1, podemos criar a matriz esparsa**"
   ]
  },
  {
   "cell_type": "markdown",
   "metadata": {},
   "source": [
    "## Criar Matriz Esparsa"
   ]
  },
  {
   "cell_type": "markdown",
   "metadata": {},
   "source": [
    "- **OBS: Para criar a Matriz Esparsa precisamos que todos os dados sejam numéricos, portanto, precisaríamos transformar a coluna título que é um dado categórico em um dado numérico, e para não precisar fazer essa transformação, 1° criamos uma matriz densa com valores NaN onde não houver relações entre colunas e linhas e transformamos esses dados nulos em 0, por fim convertemos a matriz densa em uma matriz esparsa**"
   ]
  },
  {
   "cell_type": "markdown",
   "metadata": {},
   "source": [
    "## Matriz Densa "
   ]
  },
  {
   "cell_type": "code",
   "execution_count": 18,
   "metadata": {},
   "outputs": [
    {
     "data": {
      "text/html": [
       "<div>\n",
       "<style scoped>\n",
       "    .dataframe tbody tr th:only-of-type {\n",
       "        vertical-align: middle;\n",
       "    }\n",
       "\n",
       "    .dataframe tbody tr th {\n",
       "        vertical-align: top;\n",
       "    }\n",
       "\n",
       "    .dataframe thead th {\n",
       "        text-align: right;\n",
       "    }\n",
       "</style>\n",
       "<table border=\"1\" class=\"dataframe\">\n",
       "  <thead>\n",
       "    <tr style=\"text-align: right;\">\n",
       "      <th>Usuario</th>\n",
       "      <th>254</th>\n",
       "      <th>507</th>\n",
       "      <th>643</th>\n",
       "      <th>882</th>\n",
       "      <th>1211</th>\n",
       "      <th>1424</th>\n",
       "      <th>1435</th>\n",
       "      <th>1733</th>\n",
       "      <th>1903</th>\n",
       "      <th>2030</th>\n",
       "      <th>...</th>\n",
       "      <th>277427</th>\n",
       "      <th>277478</th>\n",
       "      <th>277639</th>\n",
       "      <th>277681</th>\n",
       "      <th>277711</th>\n",
       "      <th>278137</th>\n",
       "      <th>278144</th>\n",
       "      <th>278188</th>\n",
       "      <th>278563</th>\n",
       "      <th>278843</th>\n",
       "    </tr>\n",
       "    <tr>\n",
       "      <th>Titulo</th>\n",
       "      <th></th>\n",
       "      <th></th>\n",
       "      <th></th>\n",
       "      <th></th>\n",
       "      <th></th>\n",
       "      <th></th>\n",
       "      <th></th>\n",
       "      <th></th>\n",
       "      <th></th>\n",
       "      <th></th>\n",
       "      <th></th>\n",
       "      <th></th>\n",
       "      <th></th>\n",
       "      <th></th>\n",
       "      <th></th>\n",
       "      <th></th>\n",
       "      <th></th>\n",
       "      <th></th>\n",
       "      <th></th>\n",
       "      <th></th>\n",
       "      <th></th>\n",
       "    </tr>\n",
       "  </thead>\n",
       "  <tbody>\n",
       "    <tr>\n",
       "      <th>16 Lighthouse Road</th>\n",
       "      <td>NaN</td>\n",
       "      <td>NaN</td>\n",
       "      <td>NaN</td>\n",
       "      <td>NaN</td>\n",
       "      <td>NaN</td>\n",
       "      <td>NaN</td>\n",
       "      <td>NaN</td>\n",
       "      <td>NaN</td>\n",
       "      <td>NaN</td>\n",
       "      <td>NaN</td>\n",
       "      <td>...</td>\n",
       "      <td>NaN</td>\n",
       "      <td>NaN</td>\n",
       "      <td>NaN</td>\n",
       "      <td>NaN</td>\n",
       "      <td>NaN</td>\n",
       "      <td>NaN</td>\n",
       "      <td>NaN</td>\n",
       "      <td>1.0</td>\n",
       "      <td>NaN</td>\n",
       "      <td>NaN</td>\n",
       "    </tr>\n",
       "    <tr>\n",
       "      <th>204 Rosewood Lane</th>\n",
       "      <td>NaN</td>\n",
       "      <td>NaN</td>\n",
       "      <td>NaN</td>\n",
       "      <td>NaN</td>\n",
       "      <td>NaN</td>\n",
       "      <td>NaN</td>\n",
       "      <td>NaN</td>\n",
       "      <td>NaN</td>\n",
       "      <td>NaN</td>\n",
       "      <td>NaN</td>\n",
       "      <td>...</td>\n",
       "      <td>NaN</td>\n",
       "      <td>NaN</td>\n",
       "      <td>NaN</td>\n",
       "      <td>NaN</td>\n",
       "      <td>NaN</td>\n",
       "      <td>NaN</td>\n",
       "      <td>NaN</td>\n",
       "      <td>1.0</td>\n",
       "      <td>NaN</td>\n",
       "      <td>NaN</td>\n",
       "    </tr>\n",
       "    <tr>\n",
       "      <th>311 Pelican Court</th>\n",
       "      <td>NaN</td>\n",
       "      <td>NaN</td>\n",
       "      <td>NaN</td>\n",
       "      <td>NaN</td>\n",
       "      <td>NaN</td>\n",
       "      <td>NaN</td>\n",
       "      <td>NaN</td>\n",
       "      <td>NaN</td>\n",
       "      <td>NaN</td>\n",
       "      <td>NaN</td>\n",
       "      <td>...</td>\n",
       "      <td>NaN</td>\n",
       "      <td>NaN</td>\n",
       "      <td>NaN</td>\n",
       "      <td>NaN</td>\n",
       "      <td>NaN</td>\n",
       "      <td>NaN</td>\n",
       "      <td>NaN</td>\n",
       "      <td>NaN</td>\n",
       "      <td>NaN</td>\n",
       "      <td>NaN</td>\n",
       "    </tr>\n",
       "    <tr>\n",
       "      <th>A 2nd Helping of Chicken Soup for the Soul (Chicken Soup for the Soul Series (Paper))</th>\n",
       "      <td>NaN</td>\n",
       "      <td>NaN</td>\n",
       "      <td>NaN</td>\n",
       "      <td>NaN</td>\n",
       "      <td>NaN</td>\n",
       "      <td>NaN</td>\n",
       "      <td>NaN</td>\n",
       "      <td>NaN</td>\n",
       "      <td>NaN</td>\n",
       "      <td>NaN</td>\n",
       "      <td>...</td>\n",
       "      <td>NaN</td>\n",
       "      <td>NaN</td>\n",
       "      <td>NaN</td>\n",
       "      <td>NaN</td>\n",
       "      <td>NaN</td>\n",
       "      <td>NaN</td>\n",
       "      <td>NaN</td>\n",
       "      <td>NaN</td>\n",
       "      <td>NaN</td>\n",
       "      <td>NaN</td>\n",
       "    </tr>\n",
       "    <tr>\n",
       "      <th>A 3rd Serving of Chicken Soup for the Soul (Chicken Soup for the Soul Series (Paper))</th>\n",
       "      <td>NaN</td>\n",
       "      <td>NaN</td>\n",
       "      <td>NaN</td>\n",
       "      <td>NaN</td>\n",
       "      <td>NaN</td>\n",
       "      <td>NaN</td>\n",
       "      <td>NaN</td>\n",
       "      <td>NaN</td>\n",
       "      <td>NaN</td>\n",
       "      <td>NaN</td>\n",
       "      <td>...</td>\n",
       "      <td>NaN</td>\n",
       "      <td>NaN</td>\n",
       "      <td>NaN</td>\n",
       "      <td>NaN</td>\n",
       "      <td>NaN</td>\n",
       "      <td>NaN</td>\n",
       "      <td>NaN</td>\n",
       "      <td>NaN</td>\n",
       "      <td>NaN</td>\n",
       "      <td>NaN</td>\n",
       "    </tr>\n",
       "    <tr>\n",
       "      <th>...</th>\n",
       "      <td>...</td>\n",
       "      <td>...</td>\n",
       "      <td>...</td>\n",
       "      <td>...</td>\n",
       "      <td>...</td>\n",
       "      <td>...</td>\n",
       "      <td>...</td>\n",
       "      <td>...</td>\n",
       "      <td>...</td>\n",
       "      <td>...</td>\n",
       "      <td>...</td>\n",
       "      <td>...</td>\n",
       "      <td>...</td>\n",
       "      <td>...</td>\n",
       "      <td>...</td>\n",
       "      <td>...</td>\n",
       "      <td>...</td>\n",
       "      <td>...</td>\n",
       "      <td>...</td>\n",
       "      <td>...</td>\n",
       "      <td>...</td>\n",
       "    </tr>\n",
       "    <tr>\n",
       "      <th>Widow's Walk</th>\n",
       "      <td>NaN</td>\n",
       "      <td>NaN</td>\n",
       "      <td>NaN</td>\n",
       "      <td>NaN</td>\n",
       "      <td>NaN</td>\n",
       "      <td>NaN</td>\n",
       "      <td>NaN</td>\n",
       "      <td>NaN</td>\n",
       "      <td>NaN</td>\n",
       "      <td>NaN</td>\n",
       "      <td>...</td>\n",
       "      <td>NaN</td>\n",
       "      <td>NaN</td>\n",
       "      <td>NaN</td>\n",
       "      <td>NaN</td>\n",
       "      <td>NaN</td>\n",
       "      <td>NaN</td>\n",
       "      <td>NaN</td>\n",
       "      <td>1.0</td>\n",
       "      <td>NaN</td>\n",
       "      <td>NaN</td>\n",
       "    </tr>\n",
       "    <tr>\n",
       "      <th>Windy City Blues (V.I. Warshawski Novels (Paperback))</th>\n",
       "      <td>NaN</td>\n",
       "      <td>NaN</td>\n",
       "      <td>NaN</td>\n",
       "      <td>NaN</td>\n",
       "      <td>NaN</td>\n",
       "      <td>NaN</td>\n",
       "      <td>NaN</td>\n",
       "      <td>NaN</td>\n",
       "      <td>NaN</td>\n",
       "      <td>NaN</td>\n",
       "      <td>...</td>\n",
       "      <td>NaN</td>\n",
       "      <td>NaN</td>\n",
       "      <td>NaN</td>\n",
       "      <td>NaN</td>\n",
       "      <td>NaN</td>\n",
       "      <td>NaN</td>\n",
       "      <td>NaN</td>\n",
       "      <td>NaN</td>\n",
       "      <td>NaN</td>\n",
       "      <td>NaN</td>\n",
       "    </tr>\n",
       "    <tr>\n",
       "      <th>Wolves of the Calla (The Dark Tower, Book 5)</th>\n",
       "      <td>NaN</td>\n",
       "      <td>NaN</td>\n",
       "      <td>NaN</td>\n",
       "      <td>NaN</td>\n",
       "      <td>NaN</td>\n",
       "      <td>NaN</td>\n",
       "      <td>NaN</td>\n",
       "      <td>NaN</td>\n",
       "      <td>NaN</td>\n",
       "      <td>NaN</td>\n",
       "      <td>...</td>\n",
       "      <td>NaN</td>\n",
       "      <td>NaN</td>\n",
       "      <td>NaN</td>\n",
       "      <td>NaN</td>\n",
       "      <td>NaN</td>\n",
       "      <td>NaN</td>\n",
       "      <td>NaN</td>\n",
       "      <td>NaN</td>\n",
       "      <td>NaN</td>\n",
       "      <td>NaN</td>\n",
       "    </tr>\n",
       "    <tr>\n",
       "      <th>Wuthering Heights (Wordsworth Classics)</th>\n",
       "      <td>NaN</td>\n",
       "      <td>NaN</td>\n",
       "      <td>NaN</td>\n",
       "      <td>NaN</td>\n",
       "      <td>NaN</td>\n",
       "      <td>NaN</td>\n",
       "      <td>NaN</td>\n",
       "      <td>NaN</td>\n",
       "      <td>NaN</td>\n",
       "      <td>NaN</td>\n",
       "      <td>...</td>\n",
       "      <td>NaN</td>\n",
       "      <td>NaN</td>\n",
       "      <td>NaN</td>\n",
       "      <td>NaN</td>\n",
       "      <td>NaN</td>\n",
       "      <td>NaN</td>\n",
       "      <td>NaN</td>\n",
       "      <td>NaN</td>\n",
       "      <td>NaN</td>\n",
       "      <td>NaN</td>\n",
       "    </tr>\n",
       "    <tr>\n",
       "      <th>Year of Wonders: A Novel of the Plague</th>\n",
       "      <td>NaN</td>\n",
       "      <td>NaN</td>\n",
       "      <td>NaN</td>\n",
       "      <td>NaN</td>\n",
       "      <td>NaN</td>\n",
       "      <td>NaN</td>\n",
       "      <td>NaN</td>\n",
       "      <td>NaN</td>\n",
       "      <td>NaN</td>\n",
       "      <td>NaN</td>\n",
       "      <td>...</td>\n",
       "      <td>1.0</td>\n",
       "      <td>NaN</td>\n",
       "      <td>NaN</td>\n",
       "      <td>NaN</td>\n",
       "      <td>NaN</td>\n",
       "      <td>NaN</td>\n",
       "      <td>NaN</td>\n",
       "      <td>NaN</td>\n",
       "      <td>NaN</td>\n",
       "      <td>NaN</td>\n",
       "    </tr>\n",
       "  </tbody>\n",
       "</table>\n",
       "<p>363 rows × 2362 columns</p>\n",
       "</div>"
      ],
      "text/plain": [
       "Usuario                                             254     507     643     \\\n",
       "Titulo                                                                       \n",
       "16 Lighthouse Road                                     NaN     NaN     NaN   \n",
       "204 Rosewood Lane                                      NaN     NaN     NaN   \n",
       "311 Pelican Court                                      NaN     NaN     NaN   \n",
       "A 2nd Helping of Chicken Soup for the Soul (Chi...     NaN     NaN     NaN   \n",
       "A 3rd Serving of Chicken Soup for the Soul (Chi...     NaN     NaN     NaN   \n",
       "...                                                    ...     ...     ...   \n",
       "Widow's Walk                                           NaN     NaN     NaN   \n",
       "Windy City Blues (V.I. Warshawski Novels (Paper...     NaN     NaN     NaN   \n",
       "Wolves of the Calla (The Dark Tower, Book 5)           NaN     NaN     NaN   \n",
       "Wuthering Heights (Wordsworth Classics)                NaN     NaN     NaN   \n",
       "Year of Wonders: A Novel of the Plague                 NaN     NaN     NaN   \n",
       "\n",
       "Usuario                                             882     1211    1424    \\\n",
       "Titulo                                                                       \n",
       "16 Lighthouse Road                                     NaN     NaN     NaN   \n",
       "204 Rosewood Lane                                      NaN     NaN     NaN   \n",
       "311 Pelican Court                                      NaN     NaN     NaN   \n",
       "A 2nd Helping of Chicken Soup for the Soul (Chi...     NaN     NaN     NaN   \n",
       "A 3rd Serving of Chicken Soup for the Soul (Chi...     NaN     NaN     NaN   \n",
       "...                                                    ...     ...     ...   \n",
       "Widow's Walk                                           NaN     NaN     NaN   \n",
       "Windy City Blues (V.I. Warshawski Novels (Paper...     NaN     NaN     NaN   \n",
       "Wolves of the Calla (The Dark Tower, Book 5)           NaN     NaN     NaN   \n",
       "Wuthering Heights (Wordsworth Classics)                NaN     NaN     NaN   \n",
       "Year of Wonders: A Novel of the Plague                 NaN     NaN     NaN   \n",
       "\n",
       "Usuario                                             1435    1733    1903    \\\n",
       "Titulo                                                                       \n",
       "16 Lighthouse Road                                     NaN     NaN     NaN   \n",
       "204 Rosewood Lane                                      NaN     NaN     NaN   \n",
       "311 Pelican Court                                      NaN     NaN     NaN   \n",
       "A 2nd Helping of Chicken Soup for the Soul (Chi...     NaN     NaN     NaN   \n",
       "A 3rd Serving of Chicken Soup for the Soul (Chi...     NaN     NaN     NaN   \n",
       "...                                                    ...     ...     ...   \n",
       "Widow's Walk                                           NaN     NaN     NaN   \n",
       "Windy City Blues (V.I. Warshawski Novels (Paper...     NaN     NaN     NaN   \n",
       "Wolves of the Calla (The Dark Tower, Book 5)           NaN     NaN     NaN   \n",
       "Wuthering Heights (Wordsworth Classics)                NaN     NaN     NaN   \n",
       "Year of Wonders: A Novel of the Plague                 NaN     NaN     NaN   \n",
       "\n",
       "Usuario                                             2030    ...  277427  \\\n",
       "Titulo                                                      ...           \n",
       "16 Lighthouse Road                                     NaN  ...     NaN   \n",
       "204 Rosewood Lane                                      NaN  ...     NaN   \n",
       "311 Pelican Court                                      NaN  ...     NaN   \n",
       "A 2nd Helping of Chicken Soup for the Soul (Chi...     NaN  ...     NaN   \n",
       "A 3rd Serving of Chicken Soup for the Soul (Chi...     NaN  ...     NaN   \n",
       "...                                                    ...  ...     ...   \n",
       "Widow's Walk                                           NaN  ...     NaN   \n",
       "Windy City Blues (V.I. Warshawski Novels (Paper...     NaN  ...     NaN   \n",
       "Wolves of the Calla (The Dark Tower, Book 5)           NaN  ...     NaN   \n",
       "Wuthering Heights (Wordsworth Classics)                NaN  ...     NaN   \n",
       "Year of Wonders: A Novel of the Plague                 NaN  ...     1.0   \n",
       "\n",
       "Usuario                                             277478  277639  277681  \\\n",
       "Titulo                                                                       \n",
       "16 Lighthouse Road                                     NaN     NaN     NaN   \n",
       "204 Rosewood Lane                                      NaN     NaN     NaN   \n",
       "311 Pelican Court                                      NaN     NaN     NaN   \n",
       "A 2nd Helping of Chicken Soup for the Soul (Chi...     NaN     NaN     NaN   \n",
       "A 3rd Serving of Chicken Soup for the Soul (Chi...     NaN     NaN     NaN   \n",
       "...                                                    ...     ...     ...   \n",
       "Widow's Walk                                           NaN     NaN     NaN   \n",
       "Windy City Blues (V.I. Warshawski Novels (Paper...     NaN     NaN     NaN   \n",
       "Wolves of the Calla (The Dark Tower, Book 5)           NaN     NaN     NaN   \n",
       "Wuthering Heights (Wordsworth Classics)                NaN     NaN     NaN   \n",
       "Year of Wonders: A Novel of the Plague                 NaN     NaN     NaN   \n",
       "\n",
       "Usuario                                             277711  278137  278144  \\\n",
       "Titulo                                                                       \n",
       "16 Lighthouse Road                                     NaN     NaN     NaN   \n",
       "204 Rosewood Lane                                      NaN     NaN     NaN   \n",
       "311 Pelican Court                                      NaN     NaN     NaN   \n",
       "A 2nd Helping of Chicken Soup for the Soul (Chi...     NaN     NaN     NaN   \n",
       "A 3rd Serving of Chicken Soup for the Soul (Chi...     NaN     NaN     NaN   \n",
       "...                                                    ...     ...     ...   \n",
       "Widow's Walk                                           NaN     NaN     NaN   \n",
       "Windy City Blues (V.I. Warshawski Novels (Paper...     NaN     NaN     NaN   \n",
       "Wolves of the Calla (The Dark Tower, Book 5)           NaN     NaN     NaN   \n",
       "Wuthering Heights (Wordsworth Classics)                NaN     NaN     NaN   \n",
       "Year of Wonders: A Novel of the Plague                 NaN     NaN     NaN   \n",
       "\n",
       "Usuario                                             278188  278563  278843  \n",
       "Titulo                                                                      \n",
       "16 Lighthouse Road                                     1.0     NaN     NaN  \n",
       "204 Rosewood Lane                                      1.0     NaN     NaN  \n",
       "311 Pelican Court                                      NaN     NaN     NaN  \n",
       "A 2nd Helping of Chicken Soup for the Soul (Chi...     NaN     NaN     NaN  \n",
       "A 3rd Serving of Chicken Soup for the Soul (Chi...     NaN     NaN     NaN  \n",
       "...                                                    ...     ...     ...  \n",
       "Widow's Walk                                           1.0     NaN     NaN  \n",
       "Windy City Blues (V.I. Warshawski Novels (Paper...     NaN     NaN     NaN  \n",
       "Wolves of the Calla (The Dark Tower, Book 5)           NaN     NaN     NaN  \n",
       "Wuthering Heights (Wordsworth Classics)                NaN     NaN     NaN  \n",
       "Year of Wonders: A Novel of the Plague                 NaN     NaN     NaN  \n",
       "\n",
       "[363 rows x 2362 columns]"
      ]
     },
     "execution_count": 18,
     "metadata": {},
     "output_type": "execute_result"
    }
   ],
   "source": [
    "#Criar a matriz Densa \n",
    "Matriz_densa_user = tabela_final3.pivot_table(columns='Usuario',index='Titulo',values='Avaliacao')\n",
    "Matriz_densa_user"
   ]
  },
  {
   "cell_type": "markdown",
   "metadata": {},
   "source": [
    "**Note que onde não a relação entre as linhas e colunas foram gerados dados NaN, vamos substituir os dados por 0**"
   ]
  },
  {
   "cell_type": "code",
   "execution_count": 19,
   "metadata": {},
   "outputs": [
    {
     "data": {
      "text/html": [
       "<div>\n",
       "<style scoped>\n",
       "    .dataframe tbody tr th:only-of-type {\n",
       "        vertical-align: middle;\n",
       "    }\n",
       "\n",
       "    .dataframe tbody tr th {\n",
       "        vertical-align: top;\n",
       "    }\n",
       "\n",
       "    .dataframe thead th {\n",
       "        text-align: right;\n",
       "    }\n",
       "</style>\n",
       "<table border=\"1\" class=\"dataframe\">\n",
       "  <thead>\n",
       "    <tr style=\"text-align: right;\">\n",
       "      <th>Usuario</th>\n",
       "      <th>254</th>\n",
       "      <th>507</th>\n",
       "      <th>643</th>\n",
       "      <th>882</th>\n",
       "      <th>1211</th>\n",
       "      <th>1424</th>\n",
       "      <th>1435</th>\n",
       "      <th>1733</th>\n",
       "      <th>1903</th>\n",
       "      <th>2030</th>\n",
       "      <th>...</th>\n",
       "      <th>277427</th>\n",
       "      <th>277478</th>\n",
       "      <th>277639</th>\n",
       "      <th>277681</th>\n",
       "      <th>277711</th>\n",
       "      <th>278137</th>\n",
       "      <th>278144</th>\n",
       "      <th>278188</th>\n",
       "      <th>278563</th>\n",
       "      <th>278843</th>\n",
       "    </tr>\n",
       "    <tr>\n",
       "      <th>Titulo</th>\n",
       "      <th></th>\n",
       "      <th></th>\n",
       "      <th></th>\n",
       "      <th></th>\n",
       "      <th></th>\n",
       "      <th></th>\n",
       "      <th></th>\n",
       "      <th></th>\n",
       "      <th></th>\n",
       "      <th></th>\n",
       "      <th></th>\n",
       "      <th></th>\n",
       "      <th></th>\n",
       "      <th></th>\n",
       "      <th></th>\n",
       "      <th></th>\n",
       "      <th></th>\n",
       "      <th></th>\n",
       "      <th></th>\n",
       "      <th></th>\n",
       "      <th></th>\n",
       "    </tr>\n",
       "  </thead>\n",
       "  <tbody>\n",
       "    <tr>\n",
       "      <th>16 Lighthouse Road</th>\n",
       "      <td>0.0</td>\n",
       "      <td>0.0</td>\n",
       "      <td>0.0</td>\n",
       "      <td>0.0</td>\n",
       "      <td>0.0</td>\n",
       "      <td>0.0</td>\n",
       "      <td>0.0</td>\n",
       "      <td>0.0</td>\n",
       "      <td>0.0</td>\n",
       "      <td>0.0</td>\n",
       "      <td>...</td>\n",
       "      <td>0.0</td>\n",
       "      <td>0.0</td>\n",
       "      <td>0.0</td>\n",
       "      <td>0.0</td>\n",
       "      <td>0.0</td>\n",
       "      <td>0.0</td>\n",
       "      <td>0.0</td>\n",
       "      <td>1.0</td>\n",
       "      <td>0.0</td>\n",
       "      <td>0.0</td>\n",
       "    </tr>\n",
       "    <tr>\n",
       "      <th>204 Rosewood Lane</th>\n",
       "      <td>0.0</td>\n",
       "      <td>0.0</td>\n",
       "      <td>0.0</td>\n",
       "      <td>0.0</td>\n",
       "      <td>0.0</td>\n",
       "      <td>0.0</td>\n",
       "      <td>0.0</td>\n",
       "      <td>0.0</td>\n",
       "      <td>0.0</td>\n",
       "      <td>0.0</td>\n",
       "      <td>...</td>\n",
       "      <td>0.0</td>\n",
       "      <td>0.0</td>\n",
       "      <td>0.0</td>\n",
       "      <td>0.0</td>\n",
       "      <td>0.0</td>\n",
       "      <td>0.0</td>\n",
       "      <td>0.0</td>\n",
       "      <td>1.0</td>\n",
       "      <td>0.0</td>\n",
       "      <td>0.0</td>\n",
       "    </tr>\n",
       "    <tr>\n",
       "      <th>311 Pelican Court</th>\n",
       "      <td>0.0</td>\n",
       "      <td>0.0</td>\n",
       "      <td>0.0</td>\n",
       "      <td>0.0</td>\n",
       "      <td>0.0</td>\n",
       "      <td>0.0</td>\n",
       "      <td>0.0</td>\n",
       "      <td>0.0</td>\n",
       "      <td>0.0</td>\n",
       "      <td>0.0</td>\n",
       "      <td>...</td>\n",
       "      <td>0.0</td>\n",
       "      <td>0.0</td>\n",
       "      <td>0.0</td>\n",
       "      <td>0.0</td>\n",
       "      <td>0.0</td>\n",
       "      <td>0.0</td>\n",
       "      <td>0.0</td>\n",
       "      <td>0.0</td>\n",
       "      <td>0.0</td>\n",
       "      <td>0.0</td>\n",
       "    </tr>\n",
       "    <tr>\n",
       "      <th>A 2nd Helping of Chicken Soup for the Soul (Chicken Soup for the Soul Series (Paper))</th>\n",
       "      <td>0.0</td>\n",
       "      <td>0.0</td>\n",
       "      <td>0.0</td>\n",
       "      <td>0.0</td>\n",
       "      <td>0.0</td>\n",
       "      <td>0.0</td>\n",
       "      <td>0.0</td>\n",
       "      <td>0.0</td>\n",
       "      <td>0.0</td>\n",
       "      <td>0.0</td>\n",
       "      <td>...</td>\n",
       "      <td>0.0</td>\n",
       "      <td>0.0</td>\n",
       "      <td>0.0</td>\n",
       "      <td>0.0</td>\n",
       "      <td>0.0</td>\n",
       "      <td>0.0</td>\n",
       "      <td>0.0</td>\n",
       "      <td>0.0</td>\n",
       "      <td>0.0</td>\n",
       "      <td>0.0</td>\n",
       "    </tr>\n",
       "    <tr>\n",
       "      <th>A 3rd Serving of Chicken Soup for the Soul (Chicken Soup for the Soul Series (Paper))</th>\n",
       "      <td>0.0</td>\n",
       "      <td>0.0</td>\n",
       "      <td>0.0</td>\n",
       "      <td>0.0</td>\n",
       "      <td>0.0</td>\n",
       "      <td>0.0</td>\n",
       "      <td>0.0</td>\n",
       "      <td>0.0</td>\n",
       "      <td>0.0</td>\n",
       "      <td>0.0</td>\n",
       "      <td>...</td>\n",
       "      <td>0.0</td>\n",
       "      <td>0.0</td>\n",
       "      <td>0.0</td>\n",
       "      <td>0.0</td>\n",
       "      <td>0.0</td>\n",
       "      <td>0.0</td>\n",
       "      <td>0.0</td>\n",
       "      <td>0.0</td>\n",
       "      <td>0.0</td>\n",
       "      <td>0.0</td>\n",
       "    </tr>\n",
       "    <tr>\n",
       "      <th>...</th>\n",
       "      <td>...</td>\n",
       "      <td>...</td>\n",
       "      <td>...</td>\n",
       "      <td>...</td>\n",
       "      <td>...</td>\n",
       "      <td>...</td>\n",
       "      <td>...</td>\n",
       "      <td>...</td>\n",
       "      <td>...</td>\n",
       "      <td>...</td>\n",
       "      <td>...</td>\n",
       "      <td>...</td>\n",
       "      <td>...</td>\n",
       "      <td>...</td>\n",
       "      <td>...</td>\n",
       "      <td>...</td>\n",
       "      <td>...</td>\n",
       "      <td>...</td>\n",
       "      <td>...</td>\n",
       "      <td>...</td>\n",
       "      <td>...</td>\n",
       "    </tr>\n",
       "    <tr>\n",
       "      <th>Widow's Walk</th>\n",
       "      <td>0.0</td>\n",
       "      <td>0.0</td>\n",
       "      <td>0.0</td>\n",
       "      <td>0.0</td>\n",
       "      <td>0.0</td>\n",
       "      <td>0.0</td>\n",
       "      <td>0.0</td>\n",
       "      <td>0.0</td>\n",
       "      <td>0.0</td>\n",
       "      <td>0.0</td>\n",
       "      <td>...</td>\n",
       "      <td>0.0</td>\n",
       "      <td>0.0</td>\n",
       "      <td>0.0</td>\n",
       "      <td>0.0</td>\n",
       "      <td>0.0</td>\n",
       "      <td>0.0</td>\n",
       "      <td>0.0</td>\n",
       "      <td>1.0</td>\n",
       "      <td>0.0</td>\n",
       "      <td>0.0</td>\n",
       "    </tr>\n",
       "    <tr>\n",
       "      <th>Windy City Blues (V.I. Warshawski Novels (Paperback))</th>\n",
       "      <td>0.0</td>\n",
       "      <td>0.0</td>\n",
       "      <td>0.0</td>\n",
       "      <td>0.0</td>\n",
       "      <td>0.0</td>\n",
       "      <td>0.0</td>\n",
       "      <td>0.0</td>\n",
       "      <td>0.0</td>\n",
       "      <td>0.0</td>\n",
       "      <td>0.0</td>\n",
       "      <td>...</td>\n",
       "      <td>0.0</td>\n",
       "      <td>0.0</td>\n",
       "      <td>0.0</td>\n",
       "      <td>0.0</td>\n",
       "      <td>0.0</td>\n",
       "      <td>0.0</td>\n",
       "      <td>0.0</td>\n",
       "      <td>0.0</td>\n",
       "      <td>0.0</td>\n",
       "      <td>0.0</td>\n",
       "    </tr>\n",
       "    <tr>\n",
       "      <th>Wolves of the Calla (The Dark Tower, Book 5)</th>\n",
       "      <td>0.0</td>\n",
       "      <td>0.0</td>\n",
       "      <td>0.0</td>\n",
       "      <td>0.0</td>\n",
       "      <td>0.0</td>\n",
       "      <td>0.0</td>\n",
       "      <td>0.0</td>\n",
       "      <td>0.0</td>\n",
       "      <td>0.0</td>\n",
       "      <td>0.0</td>\n",
       "      <td>...</td>\n",
       "      <td>0.0</td>\n",
       "      <td>0.0</td>\n",
       "      <td>0.0</td>\n",
       "      <td>0.0</td>\n",
       "      <td>0.0</td>\n",
       "      <td>0.0</td>\n",
       "      <td>0.0</td>\n",
       "      <td>0.0</td>\n",
       "      <td>0.0</td>\n",
       "      <td>0.0</td>\n",
       "    </tr>\n",
       "    <tr>\n",
       "      <th>Wuthering Heights (Wordsworth Classics)</th>\n",
       "      <td>0.0</td>\n",
       "      <td>0.0</td>\n",
       "      <td>0.0</td>\n",
       "      <td>0.0</td>\n",
       "      <td>0.0</td>\n",
       "      <td>0.0</td>\n",
       "      <td>0.0</td>\n",
       "      <td>0.0</td>\n",
       "      <td>0.0</td>\n",
       "      <td>0.0</td>\n",
       "      <td>...</td>\n",
       "      <td>0.0</td>\n",
       "      <td>0.0</td>\n",
       "      <td>0.0</td>\n",
       "      <td>0.0</td>\n",
       "      <td>0.0</td>\n",
       "      <td>0.0</td>\n",
       "      <td>0.0</td>\n",
       "      <td>0.0</td>\n",
       "      <td>0.0</td>\n",
       "      <td>0.0</td>\n",
       "    </tr>\n",
       "    <tr>\n",
       "      <th>Year of Wonders: A Novel of the Plague</th>\n",
       "      <td>0.0</td>\n",
       "      <td>0.0</td>\n",
       "      <td>0.0</td>\n",
       "      <td>0.0</td>\n",
       "      <td>0.0</td>\n",
       "      <td>0.0</td>\n",
       "      <td>0.0</td>\n",
       "      <td>0.0</td>\n",
       "      <td>0.0</td>\n",
       "      <td>0.0</td>\n",
       "      <td>...</td>\n",
       "      <td>1.0</td>\n",
       "      <td>0.0</td>\n",
       "      <td>0.0</td>\n",
       "      <td>0.0</td>\n",
       "      <td>0.0</td>\n",
       "      <td>0.0</td>\n",
       "      <td>0.0</td>\n",
       "      <td>0.0</td>\n",
       "      <td>0.0</td>\n",
       "      <td>0.0</td>\n",
       "    </tr>\n",
       "  </tbody>\n",
       "</table>\n",
       "<p>363 rows × 2362 columns</p>\n",
       "</div>"
      ],
      "text/plain": [
       "Usuario                                             254     507     643     \\\n",
       "Titulo                                                                       \n",
       "16 Lighthouse Road                                     0.0     0.0     0.0   \n",
       "204 Rosewood Lane                                      0.0     0.0     0.0   \n",
       "311 Pelican Court                                      0.0     0.0     0.0   \n",
       "A 2nd Helping of Chicken Soup for the Soul (Chi...     0.0     0.0     0.0   \n",
       "A 3rd Serving of Chicken Soup for the Soul (Chi...     0.0     0.0     0.0   \n",
       "...                                                    ...     ...     ...   \n",
       "Widow's Walk                                           0.0     0.0     0.0   \n",
       "Windy City Blues (V.I. Warshawski Novels (Paper...     0.0     0.0     0.0   \n",
       "Wolves of the Calla (The Dark Tower, Book 5)           0.0     0.0     0.0   \n",
       "Wuthering Heights (Wordsworth Classics)                0.0     0.0     0.0   \n",
       "Year of Wonders: A Novel of the Plague                 0.0     0.0     0.0   \n",
       "\n",
       "Usuario                                             882     1211    1424    \\\n",
       "Titulo                                                                       \n",
       "16 Lighthouse Road                                     0.0     0.0     0.0   \n",
       "204 Rosewood Lane                                      0.0     0.0     0.0   \n",
       "311 Pelican Court                                      0.0     0.0     0.0   \n",
       "A 2nd Helping of Chicken Soup for the Soul (Chi...     0.0     0.0     0.0   \n",
       "A 3rd Serving of Chicken Soup for the Soul (Chi...     0.0     0.0     0.0   \n",
       "...                                                    ...     ...     ...   \n",
       "Widow's Walk                                           0.0     0.0     0.0   \n",
       "Windy City Blues (V.I. Warshawski Novels (Paper...     0.0     0.0     0.0   \n",
       "Wolves of the Calla (The Dark Tower, Book 5)           0.0     0.0     0.0   \n",
       "Wuthering Heights (Wordsworth Classics)                0.0     0.0     0.0   \n",
       "Year of Wonders: A Novel of the Plague                 0.0     0.0     0.0   \n",
       "\n",
       "Usuario                                             1435    1733    1903    \\\n",
       "Titulo                                                                       \n",
       "16 Lighthouse Road                                     0.0     0.0     0.0   \n",
       "204 Rosewood Lane                                      0.0     0.0     0.0   \n",
       "311 Pelican Court                                      0.0     0.0     0.0   \n",
       "A 2nd Helping of Chicken Soup for the Soul (Chi...     0.0     0.0     0.0   \n",
       "A 3rd Serving of Chicken Soup for the Soul (Chi...     0.0     0.0     0.0   \n",
       "...                                                    ...     ...     ...   \n",
       "Widow's Walk                                           0.0     0.0     0.0   \n",
       "Windy City Blues (V.I. Warshawski Novels (Paper...     0.0     0.0     0.0   \n",
       "Wolves of the Calla (The Dark Tower, Book 5)           0.0     0.0     0.0   \n",
       "Wuthering Heights (Wordsworth Classics)                0.0     0.0     0.0   \n",
       "Year of Wonders: A Novel of the Plague                 0.0     0.0     0.0   \n",
       "\n",
       "Usuario                                             2030    ...  277427  \\\n",
       "Titulo                                                      ...           \n",
       "16 Lighthouse Road                                     0.0  ...     0.0   \n",
       "204 Rosewood Lane                                      0.0  ...     0.0   \n",
       "311 Pelican Court                                      0.0  ...     0.0   \n",
       "A 2nd Helping of Chicken Soup for the Soul (Chi...     0.0  ...     0.0   \n",
       "A 3rd Serving of Chicken Soup for the Soul (Chi...     0.0  ...     0.0   \n",
       "...                                                    ...  ...     ...   \n",
       "Widow's Walk                                           0.0  ...     0.0   \n",
       "Windy City Blues (V.I. Warshawski Novels (Paper...     0.0  ...     0.0   \n",
       "Wolves of the Calla (The Dark Tower, Book 5)           0.0  ...     0.0   \n",
       "Wuthering Heights (Wordsworth Classics)                0.0  ...     0.0   \n",
       "Year of Wonders: A Novel of the Plague                 0.0  ...     1.0   \n",
       "\n",
       "Usuario                                             277478  277639  277681  \\\n",
       "Titulo                                                                       \n",
       "16 Lighthouse Road                                     0.0     0.0     0.0   \n",
       "204 Rosewood Lane                                      0.0     0.0     0.0   \n",
       "311 Pelican Court                                      0.0     0.0     0.0   \n",
       "A 2nd Helping of Chicken Soup for the Soul (Chi...     0.0     0.0     0.0   \n",
       "A 3rd Serving of Chicken Soup for the Soul (Chi...     0.0     0.0     0.0   \n",
       "...                                                    ...     ...     ...   \n",
       "Widow's Walk                                           0.0     0.0     0.0   \n",
       "Windy City Blues (V.I. Warshawski Novels (Paper...     0.0     0.0     0.0   \n",
       "Wolves of the Calla (The Dark Tower, Book 5)           0.0     0.0     0.0   \n",
       "Wuthering Heights (Wordsworth Classics)                0.0     0.0     0.0   \n",
       "Year of Wonders: A Novel of the Plague                 0.0     0.0     0.0   \n",
       "\n",
       "Usuario                                             277711  278137  278144  \\\n",
       "Titulo                                                                       \n",
       "16 Lighthouse Road                                     0.0     0.0     0.0   \n",
       "204 Rosewood Lane                                      0.0     0.0     0.0   \n",
       "311 Pelican Court                                      0.0     0.0     0.0   \n",
       "A 2nd Helping of Chicken Soup for the Soul (Chi...     0.0     0.0     0.0   \n",
       "A 3rd Serving of Chicken Soup for the Soul (Chi...     0.0     0.0     0.0   \n",
       "...                                                    ...     ...     ...   \n",
       "Widow's Walk                                           0.0     0.0     0.0   \n",
       "Windy City Blues (V.I. Warshawski Novels (Paper...     0.0     0.0     0.0   \n",
       "Wolves of the Calla (The Dark Tower, Book 5)           0.0     0.0     0.0   \n",
       "Wuthering Heights (Wordsworth Classics)                0.0     0.0     0.0   \n",
       "Year of Wonders: A Novel of the Plague                 0.0     0.0     0.0   \n",
       "\n",
       "Usuario                                             278188  278563  278843  \n",
       "Titulo                                                                      \n",
       "16 Lighthouse Road                                     1.0     0.0     0.0  \n",
       "204 Rosewood Lane                                      1.0     0.0     0.0  \n",
       "311 Pelican Court                                      0.0     0.0     0.0  \n",
       "A 2nd Helping of Chicken Soup for the Soul (Chi...     0.0     0.0     0.0  \n",
       "A 3rd Serving of Chicken Soup for the Soul (Chi...     0.0     0.0     0.0  \n",
       "...                                                    ...     ...     ...  \n",
       "Widow's Walk                                           1.0     0.0     0.0  \n",
       "Windy City Blues (V.I. Warshawski Novels (Paper...     0.0     0.0     0.0  \n",
       "Wolves of the Calla (The Dark Tower, Book 5)           0.0     0.0     0.0  \n",
       "Wuthering Heights (Wordsworth Classics)                0.0     0.0     0.0  \n",
       "Year of Wonders: A Novel of the Plague                 0.0     0.0     0.0  \n",
       "\n",
       "[363 rows x 2362 columns]"
      ]
     },
     "execution_count": 19,
     "metadata": {},
     "output_type": "execute_result"
    }
   ],
   "source": [
    "# Substituir NaN pelo numero 0 \n",
    "Matriz_densa_user.fillna(0,inplace=True)\n",
    "Matriz_densa_user"
   ]
  },
  {
   "cell_type": "markdown",
   "metadata": {},
   "source": [
    "**Substituimos os valores NaN por 0 , agora podemos transformar a Matriz Densa em Esparsa**"
   ]
  },
  {
   "cell_type": "markdown",
   "metadata": {},
   "source": [
    "# Transformar Matriz Densa em Matriz Esparsa"
   ]
  },
  {
   "cell_type": "markdown",
   "metadata": {},
   "source": [
    "- Na tabela de matriz densa tem muitos valores zeros, e para criar o modelo esses valores zeros aumenta o poder computacional, portanto, transformamos a matriz densa em uma matriz esparsa para oculta os valores zeros"
   ]
  },
  {
   "cell_type": "code",
   "execution_count": 20,
   "metadata": {},
   "outputs": [
    {
     "data": {
      "text/plain": [
       "<363x2362 sparse matrix of type '<class 'numpy.float64'>'\n",
       "\twith 16562 stored elements in Compressed Sparse Row format>"
      ]
     },
     "execution_count": 20,
     "metadata": {},
     "output_type": "execute_result"
    }
   ],
   "source": [
    "#Transformação\n",
    "from scipy.sparse import csr_matrix\n",
    "Matriz_esparsa_user = csr_matrix(Matriz_densa_user)\n",
    "Matriz_esparsa_user"
   ]
  },
  {
   "cell_type": "code",
   "execution_count": 21,
   "metadata": {},
   "outputs": [
    {
     "name": "stdout",
     "output_type": "stream",
     "text": [
      "Esparsidade da Matriz: 98.06835968024484 % \n"
     ]
    }
   ],
   "source": [
    "# Calculamos a esparsidade da matriz\n",
    "linhas, colunas = Matriz_esparsa_user.shape\n",
    "elementos_nao_zero = Matriz_esparsa_user.count_nonzero()\n",
    "print(\"Esparsidade da Matriz: {} % \".format(  (1 - (elementos_nao_zero / (linhas * colunas))) * 100) )"
   ]
  },
  {
   "cell_type": "markdown",
   "metadata": {},
   "source": [
    "**98% da matriz contém o valor 0, que neste contexto significa que muitos usuários não avaliaram muitos Livro, o que é normal, pois se muitos usuários tivessem avaliados muitos Livro a matriz densa seria o ideal**"
   ]
  },
  {
   "cell_type": "markdown",
   "metadata": {},
   "source": [
    "# Modelagem:"
   ]
  },
  {
   "cell_type": "markdown",
   "metadata": {},
   "source": [
    "## Algoritimo NearestNeighbors"
   ]
  },
  {
   "cell_type": "code",
   "execution_count": 38,
   "metadata": {},
   "outputs": [
    {
     "data": {
      "text/plain": [
       "NearestNeighbors(algorithm='brute', metric='euclidean', n_neighbors=3)"
      ]
     },
     "execution_count": 38,
     "metadata": {},
     "output_type": "execute_result"
    }
   ],
   "source": [
    "#Modelo NearestNeighbors\n",
    "from sklearn.neighbors import NearestNeighbors\n",
    "modelo = NearestNeighbors(algorithm='brute',n_neighbors=3,metric='euclidean')\n",
    "modelo.fit(Matriz_esparsa_user)"
   ]
  },
  {
   "cell_type": "markdown",
   "metadata": {},
   "source": [
    "**Filtramos os 2 maiores Items mais similares para dar sugestões de livros**"
   ]
  },
  {
   "cell_type": "code",
   "execution_count": 39,
   "metadata": {},
   "outputs": [
    {
     "data": {
      "text/plain": [
       "array([[136,  29, 305]], dtype=int64)"
      ]
     },
     "execution_count": 39,
     "metadata": {},
     "output_type": "execute_result"
    }
   ],
   "source": [
    "#Sugestão de livros para quem leu Harry Potter and the Order of the Phoenix (Book 5)\n",
    "distancia , sugestao =  modelo.kneighbors(Matriz_densa_user\n",
    "                                          [Matriz_densa_user.index.str.contains\n",
    "                                           (\"Harry Potter and the Order of the Phoenix\")].values.reshape(1,-1))\n",
    "sugestao"
   ]
  },
  {
   "cell_type": "code",
   "execution_count": 26,
   "metadata": {},
   "outputs": [
    {
     "name": "stdout",
     "output_type": "stream",
     "text": [
      "Para quem leu o livro:\n",
      " Harry Potter and the Order of the Phoenix (Book 5)\n",
      "\n",
      "As Sugestões de livros são:\n",
      " ['Answered Prayers', 'The Least Likely Bride']\n"
     ]
    }
   ],
   "source": [
    "#Convertendo os indices em nomes dos livros\n",
    "k = []\n",
    "for i in sugestao[0]:\n",
    "    t = Matriz_densa_user.index[i]\n",
    "    k.append(t)\n",
    "print(f'Para quem leu o livro:\\n {k[0]}')\n",
    "print(f'\\nAs Sugestões de livros são:\\n {k[1:]}')"
   ]
  },
  {
   "cell_type": "markdown",
   "metadata": {},
   "source": [
    "**Através das sugestões feitas, vamos comparar as notas de quem leu o livro 'Harry Potter and the Order of the Phoenix (Book 5') com as notas dos livros que foram indicados e verificar a coerência do algoritimo com essas indicações**"
   ]
  },
  {
   "cell_type": "code",
   "execution_count": 27,
   "metadata": {},
   "outputs": [
    {
     "data": {
      "text/plain": [
       "Usuario\n",
       "254        1.0\n",
       "2033       9.0\n",
       "4896       1.0\n",
       "6251       9.0\n",
       "6563      10.0\n",
       "          ... \n",
       "267830     6.0\n",
       "268030     1.0\n",
       "268330     1.0\n",
       "271448    10.0\n",
       "274308     1.0\n",
       "Name: Harry Potter and the Order of the Phoenix (Book 5), Length: 156, dtype: float64"
      ]
     },
     "execution_count": 27,
     "metadata": {},
     "output_type": "execute_result"
    }
   ],
   "source": [
    "#Filtra os usuários que deu nota para o livro \"Harry Potter and the Order of the Phoenix (Book 5)\"\n",
    "filt_harry =Matriz_densa_user[Matriz_densa_user.index.str.contains(\"Harry Potter and the Order of the Phoenix\")]\n",
    "filt_harry_nota = filt_harry.T>0\n",
    "index_harry = filt_harry_nota[filt_harry_nota.iloc[:,0]==1].index\n",
    "\n",
    "#Filtrar as notas do livro \"Harry Potter and the Order of the Phoenix\"\n",
    "filt_harry1 = Matriz_densa_user.T[Matriz_densa_user.T.index.isin(index_harry)]\n",
    "filt_harry1[\"Harry Potter and the Order of the Phoenix (Book 5)\"]\n"
   ]
  },
  {
   "cell_type": "markdown",
   "metadata": {},
   "source": [
    "**Todos os Usuários filtrados deram nota para o livro: 'Harry Potter and the Order of the Phoenix (Book 5)'**"
   ]
  },
  {
   "cell_type": "markdown",
   "metadata": {},
   "source": [
    "**Esse é o passo mais importante para verificar como o algoritimo realizou as sugestões, pois através desses usuários que filtraremos os outros usuários que o algoritimo considerou para sugestões**"
   ]
  },
  {
   "cell_type": "code",
   "execution_count": 28,
   "metadata": {},
   "outputs": [
    {
     "data": {
      "text/plain": [
       "Usuario\n",
       "6563       1.0\n",
       "25981      1.0\n",
       "40889      8.0\n",
       "46909      7.0\n",
       "55734      1.0\n",
       "62688      1.0\n",
       "85426      1.0\n",
       "101874     1.0\n",
       "104636     1.0\n",
       "114414     1.0\n",
       "145451     1.0\n",
       "153718     1.0\n",
       "179733     1.0\n",
       "179734    10.0\n",
       "204522     1.0\n",
       "211426     1.0\n",
       "217375     1.0\n",
       "228764     1.0\n",
       "242646     1.0\n",
       "254465     1.0\n",
       "262399     1.0\n",
       "266807     1.0\n",
       "Name: Answered Prayers, dtype: float64"
      ]
     },
     "execution_count": 28,
     "metadata": {},
     "output_type": "execute_result"
    }
   ],
   "source": [
    "#Filtra os usuários que deu nota para o livro 'Answered Prayers'\n",
    "filt_Prayers =Matriz_densa_user[Matriz_densa_user.index.str.contains('Answered Prayers')]\n",
    "filt_Prayers_nota = filt_Prayers.T>0\n",
    "index_Prayers = filt_Prayers_nota[filt_Prayers_nota.iloc[:,0]==1].index\n",
    "\n",
    "#Filtrar as notas do livro \"Harry Potter and the Order of the Phoenix\"\n",
    "filt_Prayers1 = Matriz_densa_user.T[Matriz_densa_user.T.index.isin(index_Prayers)]\n",
    "filt_Prayers1['Answered Prayers']"
   ]
  },
  {
   "cell_type": "markdown",
   "metadata": {},
   "source": [
    "**Todos os Usuários filtrados deram nota para o livro: 'Answered Prayers'**"
   ]
  },
  {
   "cell_type": "code",
   "execution_count": 29,
   "metadata": {},
   "outputs": [
    {
     "data": {
      "text/plain": [
       "Usuario\n",
       "9908      1.0\n",
       "11629     1.0\n",
       "14422     1.0\n",
       "52614     1.0\n",
       "77940     1.0\n",
       "89014     1.0\n",
       "107021    1.0\n",
       "118275    1.0\n",
       "131837    1.0\n",
       "140358    5.0\n",
       "164027    1.0\n",
       "172030    1.0\n",
       "186039    1.0\n",
       "189973    3.0\n",
       "196077    1.0\n",
       "204522    1.0\n",
       "210035    1.0\n",
       "228764    1.0\n",
       "231857    1.0\n",
       "235392    1.0\n",
       "245827    1.0\n",
       "257700    1.0\n",
       "258185    1.0\n",
       "Name: The Least Likely Bride, dtype: float64"
      ]
     },
     "execution_count": 29,
     "metadata": {},
     "output_type": "execute_result"
    }
   ],
   "source": [
    "#Filtra os usuários que deu nota para o livro 'The Least Likely Bride'\n",
    "filt_Bride =Matriz_densa_user[Matriz_densa_user.index.str.contains('The Least Likely Bride')]\n",
    "filt_Bride_nota = filt_Bride.T>0\n",
    "index_Bride = filt_Bride_nota[filt_Bride_nota.iloc[:,0]==1].index\n",
    "\n",
    "#Filtrar as notas do livro 'The Least Likely Bride'\n",
    "filt_Bride1 = Matriz_densa_user.T[Matriz_densa_user.T.index.isin(index_Bride)]\n",
    "filt_Bride1['The Least Likely Bride']"
   ]
  },
  {
   "cell_type": "markdown",
   "metadata": {},
   "source": [
    "**Todos os Usuários filtrados deram nota para os livros: 'The Least Likely Bride'**"
   ]
  },
  {
   "cell_type": "markdown",
   "metadata": {},
   "source": [
    "# Conclusão 1:"
   ]
  },
  {
   "cell_type": "markdown",
   "metadata": {},
   "source": [
    "**Não precisamos seguir em frente na análise com esses dados, pois conseguimos perceber que a maioria das avaliações são de notas baixas, portanto o algoritimo está considerando a distância das notas baixas para dar recomendações de livros. Se 2 pessoas leram alguns livros semelhantes e deram notas baixas, o algoritimo está indicando livros que também tiveram nota baixa para esses usuários**"
   ]
  },
  {
   "cell_type": "markdown",
   "metadata": {},
   "source": [
    "# Verificar as notas dos usuários em comum com o livro 'Harry Potter and the Order of the Phoenix (Book 5)'"
   ]
  },
  {
   "cell_type": "markdown",
   "metadata": {},
   "source": [
    "- Verificar através dos dados a conclusão 1"
   ]
  },
  {
   "cell_type": "code",
   "execution_count": 37,
   "metadata": {},
   "outputs": [
    {
     "name": "stdout",
     "output_type": "stream",
     "text": [
      "Os Usuáios que deram notas para os 2 Livros foram os IDs: [6563, 25981, 85426, 145451, 179734, 211426]\n"
     ]
    }
   ],
   "source": [
    "#Verificar o ID dos usuarios que deram notas para o Livro \"Harry Potter and the Order of the Phoenix\" e \n",
    "# para também para o Livro'Answered Prayers'\n",
    "\n",
    "h = []\n",
    "for i in filt_harry1.index.values:\n",
    "    for g in filt_Prayers1.index.values:\n",
    "        if i == g:\n",
    "            h.append(i)\n",
    "                \n",
    "print(f'Os Usuáios que deram notas para os 2 Livros foram os IDs: {h}')                \n",
    "\n"
   ]
  },
  {
   "cell_type": "markdown",
   "metadata": {},
   "source": [
    "**Todos os Usuários filtrados deram nota para os livros: 'Harry Potter and the Order of the Phoenix (Book 5)' e 'Answered Prayers'**"
   ]
  },
  {
   "cell_type": "code",
   "execution_count": 35,
   "metadata": {},
   "outputs": [
    {
     "data": {
      "text/html": [
       "<div>\n",
       "<style scoped>\n",
       "    .dataframe tbody tr th:only-of-type {\n",
       "        vertical-align: middle;\n",
       "    }\n",
       "\n",
       "    .dataframe tbody tr th {\n",
       "        vertical-align: top;\n",
       "    }\n",
       "\n",
       "    .dataframe thead th {\n",
       "        text-align: right;\n",
       "    }\n",
       "</style>\n",
       "<table border=\"1\" class=\"dataframe\">\n",
       "  <thead>\n",
       "    <tr style=\"text-align: right;\">\n",
       "      <th>Usuario</th>\n",
       "      <th>6563</th>\n",
       "      <th>25981</th>\n",
       "      <th>85426</th>\n",
       "      <th>145451</th>\n",
       "      <th>179734</th>\n",
       "      <th>211426</th>\n",
       "    </tr>\n",
       "    <tr>\n",
       "      <th>Titulo</th>\n",
       "      <th></th>\n",
       "      <th></th>\n",
       "      <th></th>\n",
       "      <th></th>\n",
       "      <th></th>\n",
       "      <th></th>\n",
       "    </tr>\n",
       "  </thead>\n",
       "  <tbody>\n",
       "    <tr>\n",
       "      <th>A 4th Course of Chicken Soup for the Soul: 101 More Stories to Open the Heart and Rekindle the Spirit</th>\n",
       "      <td>1.0</td>\n",
       "      <td>0.0</td>\n",
       "      <td>0.0</td>\n",
       "      <td>0.0</td>\n",
       "      <td>0.0</td>\n",
       "      <td>0.0</td>\n",
       "    </tr>\n",
       "    <tr>\n",
       "      <th>A Patchwork Planet</th>\n",
       "      <td>1.0</td>\n",
       "      <td>0.0</td>\n",
       "      <td>0.0</td>\n",
       "      <td>0.0</td>\n",
       "      <td>0.0</td>\n",
       "      <td>0.0</td>\n",
       "    </tr>\n",
       "    <tr>\n",
       "      <th>A Second Chicken Soup for the Woman's Soul (Chicken Soup for the Soul Series)</th>\n",
       "      <td>5.0</td>\n",
       "      <td>0.0</td>\n",
       "      <td>0.0</td>\n",
       "      <td>0.0</td>\n",
       "      <td>0.0</td>\n",
       "      <td>0.0</td>\n",
       "    </tr>\n",
       "    <tr>\n",
       "      <th>Answered Prayers</th>\n",
       "      <td>1.0</td>\n",
       "      <td>1.0</td>\n",
       "      <td>1.0</td>\n",
       "      <td>1.0</td>\n",
       "      <td>10.0</td>\n",
       "      <td>1.0</td>\n",
       "    </tr>\n",
       "    <tr>\n",
       "      <th>Chicken Soup for the Christian Soul (Chicken Soup for the Soul Series (Paper))</th>\n",
       "      <td>5.0</td>\n",
       "      <td>0.0</td>\n",
       "      <td>0.0</td>\n",
       "      <td>0.0</td>\n",
       "      <td>0.0</td>\n",
       "      <td>0.0</td>\n",
       "    </tr>\n",
       "    <tr>\n",
       "      <th>Chocolat</th>\n",
       "      <td>1.0</td>\n",
       "      <td>0.0</td>\n",
       "      <td>0.0</td>\n",
       "      <td>0.0</td>\n",
       "      <td>0.0</td>\n",
       "      <td>0.0</td>\n",
       "    </tr>\n",
       "    <tr>\n",
       "      <th>Flesh and Blood</th>\n",
       "      <td>1.0</td>\n",
       "      <td>0.0</td>\n",
       "      <td>0.0</td>\n",
       "      <td>0.0</td>\n",
       "      <td>0.0</td>\n",
       "      <td>0.0</td>\n",
       "    </tr>\n",
       "    <tr>\n",
       "      <th>GARDEN OF SHADOWS (Dollanger Saga (Paperback))</th>\n",
       "      <td>1.0</td>\n",
       "      <td>0.0</td>\n",
       "      <td>0.0</td>\n",
       "      <td>0.0</td>\n",
       "      <td>0.0</td>\n",
       "      <td>0.0</td>\n",
       "    </tr>\n",
       "    <tr>\n",
       "      <th>Girl in Hyacinth Blue</th>\n",
       "      <td>8.0</td>\n",
       "      <td>0.0</td>\n",
       "      <td>1.0</td>\n",
       "      <td>0.0</td>\n",
       "      <td>0.0</td>\n",
       "      <td>7.0</td>\n",
       "    </tr>\n",
       "    <tr>\n",
       "      <th>Harry Potter and the Order of the Phoenix (Book 5)</th>\n",
       "      <td>10.0</td>\n",
       "      <td>1.0</td>\n",
       "      <td>1.0</td>\n",
       "      <td>1.0</td>\n",
       "      <td>10.0</td>\n",
       "      <td>1.0</td>\n",
       "    </tr>\n",
       "    <tr>\n",
       "      <th>Harry Potter and the Sorcerer's Stone (Harry Potter (Paperback))</th>\n",
       "      <td>8.0</td>\n",
       "      <td>1.0</td>\n",
       "      <td>10.0</td>\n",
       "      <td>0.0</td>\n",
       "      <td>0.0</td>\n",
       "      <td>1.0</td>\n",
       "    </tr>\n",
       "    <tr>\n",
       "      <th>One True Thing</th>\n",
       "      <td>1.0</td>\n",
       "      <td>0.0</td>\n",
       "      <td>0.0</td>\n",
       "      <td>0.0</td>\n",
       "      <td>0.0</td>\n",
       "      <td>0.0</td>\n",
       "    </tr>\n",
       "    <tr>\n",
       "      <th>The No. 1 Ladies' Detective Agency</th>\n",
       "      <td>8.0</td>\n",
       "      <td>0.0</td>\n",
       "      <td>0.0</td>\n",
       "      <td>0.0</td>\n",
       "      <td>0.0</td>\n",
       "      <td>1.0</td>\n",
       "    </tr>\n",
       "    <tr>\n",
       "      <th>What Looks Like Crazy On An Ordinary Day</th>\n",
       "      <td>1.0</td>\n",
       "      <td>0.0</td>\n",
       "      <td>1.0</td>\n",
       "      <td>0.0</td>\n",
       "      <td>0.0</td>\n",
       "      <td>0.0</td>\n",
       "    </tr>\n",
       "  </tbody>\n",
       "</table>\n",
       "</div>"
      ],
      "text/plain": [
       "Usuario                                             6563    25981   85426   \\\n",
       "Titulo                                                                       \n",
       "A 4th Course of Chicken Soup for the Soul: 101 ...     1.0     0.0     0.0   \n",
       "A Patchwork Planet                                     1.0     0.0     0.0   \n",
       "A Second Chicken Soup for the Woman's Soul (Chi...     5.0     0.0     0.0   \n",
       "Answered Prayers                                       1.0     1.0     1.0   \n",
       "Chicken Soup for the Christian Soul (Chicken So...     5.0     0.0     0.0   \n",
       "Chocolat                                               1.0     0.0     0.0   \n",
       "Flesh and Blood                                        1.0     0.0     0.0   \n",
       "GARDEN OF SHADOWS (Dollanger Saga (Paperback))         1.0     0.0     0.0   \n",
       "Girl in Hyacinth Blue                                  8.0     0.0     1.0   \n",
       "Harry Potter and the Order of the Phoenix (Book 5)    10.0     1.0     1.0   \n",
       "Harry Potter and the Sorcerer's Stone (Harry Po...     8.0     1.0    10.0   \n",
       "One True Thing                                         1.0     0.0     0.0   \n",
       "The No. 1 Ladies' Detective Agency                     8.0     0.0     0.0   \n",
       "What Looks Like Crazy On An Ordinary Day               1.0     0.0     1.0   \n",
       "\n",
       "Usuario                                             145451  179734  211426  \n",
       "Titulo                                                                      \n",
       "A 4th Course of Chicken Soup for the Soul: 101 ...     0.0     0.0     0.0  \n",
       "A Patchwork Planet                                     0.0     0.0     0.0  \n",
       "A Second Chicken Soup for the Woman's Soul (Chi...     0.0     0.0     0.0  \n",
       "Answered Prayers                                       1.0    10.0     1.0  \n",
       "Chicken Soup for the Christian Soul (Chicken So...     0.0     0.0     0.0  \n",
       "Chocolat                                               0.0     0.0     0.0  \n",
       "Flesh and Blood                                        0.0     0.0     0.0  \n",
       "GARDEN OF SHADOWS (Dollanger Saga (Paperback))         0.0     0.0     0.0  \n",
       "Girl in Hyacinth Blue                                  0.0     0.0     7.0  \n",
       "Harry Potter and the Order of the Phoenix (Book 5)     1.0    10.0     1.0  \n",
       "Harry Potter and the Sorcerer's Stone (Harry Po...     0.0     0.0     1.0  \n",
       "One True Thing                                         0.0     0.0     0.0  \n",
       "The No. 1 Ladies' Detective Agency                     0.0     0.0     1.0  \n",
       "What Looks Like Crazy On An Ordinary Day               0.0     0.0     0.0  "
      ]
     },
     "execution_count": 35,
     "metadata": {},
     "output_type": "execute_result"
    }
   ],
   "source": [
    "#Filtraros livros do usuario '6563'\n",
    "ff = Matriz_densa_user[h]>0\n",
    "ff[ff[6563]==1]\n",
    "\n",
    "ind = ff[ff[6563]==1].index\n",
    "\n",
    "\n",
    "#Filtrar notas \n",
    "ff = Matriz_densa_user[h]\n",
    "ff[ff.index.isin(ind)]"
   ]
  },
  {
   "cell_type": "markdown",
   "metadata": {},
   "source": [
    "**Filtro das notas do usuário '6563', note que a semelhança é mínima entre as notas dos usuários, o que consegue-se perceber é que todos os usuários que deram nota para o livro 'Harry Potter and the Order of the Phoenix (Book 5)' também deram nota para o livro 'Answered Prayers'**"
   ]
  },
  {
   "cell_type": "code",
   "execution_count": 33,
   "metadata": {},
   "outputs": [
    {
     "data": {
      "text/html": [
       "<div>\n",
       "<style scoped>\n",
       "    .dataframe tbody tr th:only-of-type {\n",
       "        vertical-align: middle;\n",
       "    }\n",
       "\n",
       "    .dataframe tbody tr th {\n",
       "        vertical-align: top;\n",
       "    }\n",
       "\n",
       "    .dataframe thead th {\n",
       "        text-align: right;\n",
       "    }\n",
       "</style>\n",
       "<table border=\"1\" class=\"dataframe\">\n",
       "  <thead>\n",
       "    <tr style=\"text-align: right;\">\n",
       "      <th></th>\n",
       "      <th>Harry Potter and the Order of the Phoenix (Book 5)</th>\n",
       "    </tr>\n",
       "    <tr>\n",
       "      <th>Usuario</th>\n",
       "      <th></th>\n",
       "    </tr>\n",
       "  </thead>\n",
       "  <tbody>\n",
       "    <tr>\n",
       "      <th>6563</th>\n",
       "      <td>10.0</td>\n",
       "    </tr>\n",
       "    <tr>\n",
       "      <th>25981</th>\n",
       "      <td>1.0</td>\n",
       "    </tr>\n",
       "    <tr>\n",
       "      <th>85426</th>\n",
       "      <td>1.0</td>\n",
       "    </tr>\n",
       "    <tr>\n",
       "      <th>145451</th>\n",
       "      <td>1.0</td>\n",
       "    </tr>\n",
       "    <tr>\n",
       "      <th>179734</th>\n",
       "      <td>10.0</td>\n",
       "    </tr>\n",
       "    <tr>\n",
       "      <th>211426</th>\n",
       "      <td>1.0</td>\n",
       "    </tr>\n",
       "  </tbody>\n",
       "</table>\n",
       "</div>"
      ],
      "text/plain": [
       "         Harry Potter and the Order of the Phoenix (Book 5)\n",
       "Usuario                                                    \n",
       "6563                                                  10.0 \n",
       "25981                                                  1.0 \n",
       "85426                                                  1.0 \n",
       "145451                                                 1.0 \n",
       "179734                                                10.0 \n",
       "211426                                                 1.0 "
      ]
     },
     "execution_count": 33,
     "metadata": {},
     "output_type": "execute_result"
    }
   ],
   "source": [
    "#Filtrar a notas dos usuarios que leram o livro: 'Harry Potter and the Order of the Phoenix (Book 5)'\n",
    "f_user = Matriz_densa_user[h]\n",
    "f_user = f_user.T\n",
    "pd.DataFrame(f_user['Harry Potter and the Order of the Phoenix (Book 5)'])"
   ]
  },
  {
   "cell_type": "markdown",
   "metadata": {},
   "source": [
    "**Veja apenas as notas do livro 'Harry Potter and the Order of the Phoenix (Book 5)' dos usuários que também leram 'Answered Prayers'**"
   ]
  },
  {
   "cell_type": "markdown",
   "metadata": {},
   "source": [
    "# Conclusão 2"
   ]
  },
  {
   "cell_type": "markdown",
   "metadata": {},
   "source": [
    "**Podemos afirmar que os usuários que deram nota alta para o livro do 'Harry Potter', pode ter similaridade, também podemos afirmar que os usuários que deram nota baixa para o livro do 'Harry Potter' e nota alta para outros livros iguais, também podem ter similaridade, agora não podemos afirmar que apenas para quem deu nota baixa para o livro do 'Harry Potter', pode ter similaridade**"
   ]
  },
  {
   "cell_type": "markdown",
   "metadata": {},
   "source": [
    "**Com a conclusão acima podemos perceber que não adianta apenas filtrar as notas altas dos usuários, pois iria excluir muitos livros que também poderia ter similaridade com outro usuário através das notas altas e baixas**"
   ]
  }
 ],
 "metadata": {
  "anaconda-cloud": {},
  "kernelspec": {
   "display_name": "Python 3 (ipykernel)",
   "language": "python",
   "name": "python3"
  },
  "language_info": {
   "codemirror_mode": {
    "name": "ipython",
    "version": 3
   },
   "file_extension": ".py",
   "mimetype": "text/x-python",
   "name": "python",
   "nbconvert_exporter": "python",
   "pygments_lexer": "ipython3",
   "version": "3.9.7"
  }
 },
 "nbformat": 4,
 "nbformat_minor": 1
}
