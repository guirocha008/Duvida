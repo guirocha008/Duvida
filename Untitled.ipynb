{
 "cells": [
  {
   "cell_type": "code",
   "execution_count": 91,
   "id": "8489a69c-b81b-4ada-8066-474217f4445d",
   "metadata": {},
   "outputs": [],
   "source": [
    "import pandas as pd\n",
    "import numpy as np"
   ]
  },
  {
   "cell_type": "code",
   "execution_count": 92,
   "id": "d3f2aaa3-beee-4e4a-852d-e26ad2b45331",
   "metadata": {},
   "outputs": [
    {
     "data": {
      "text/html": [
       "<div>\n",
       "<style scoped>\n",
       "    .dataframe tbody tr th:only-of-type {\n",
       "        vertical-align: middle;\n",
       "    }\n",
       "\n",
       "    .dataframe tbody tr th {\n",
       "        vertical-align: top;\n",
       "    }\n",
       "\n",
       "    .dataframe thead th {\n",
       "        text-align: right;\n",
       "    }\n",
       "</style>\n",
       "<table border=\"1\" class=\"dataframe\">\n",
       "  <thead>\n",
       "    <tr style=\"text-align: right;\">\n",
       "      <th></th>\n",
       "      <th>id</th>\n",
       "      <th>date</th>\n",
       "      <th>price</th>\n",
       "      <th>bedrooms</th>\n",
       "      <th>bathrooms</th>\n",
       "      <th>sqft_living</th>\n",
       "      <th>sqft_lot</th>\n",
       "      <th>floors</th>\n",
       "      <th>waterfront</th>\n",
       "      <th>view</th>\n",
       "      <th>...</th>\n",
       "      <th>grade</th>\n",
       "      <th>sqft_above</th>\n",
       "      <th>sqft_basement</th>\n",
       "      <th>yr_built</th>\n",
       "      <th>yr_renovated</th>\n",
       "      <th>zipcode</th>\n",
       "      <th>lat</th>\n",
       "      <th>long</th>\n",
       "      <th>sqft_living15</th>\n",
       "      <th>sqft_lot15</th>\n",
       "    </tr>\n",
       "  </thead>\n",
       "  <tbody>\n",
       "    <tr>\n",
       "      <th>0</th>\n",
       "      <td>7129300520</td>\n",
       "      <td>20141013T000000</td>\n",
       "      <td>221900.0</td>\n",
       "      <td>3</td>\n",
       "      <td>1.00</td>\n",
       "      <td>1180</td>\n",
       "      <td>5650</td>\n",
       "      <td>1.0</td>\n",
       "      <td>0</td>\n",
       "      <td>0</td>\n",
       "      <td>...</td>\n",
       "      <td>7</td>\n",
       "      <td>1180</td>\n",
       "      <td>0</td>\n",
       "      <td>1955</td>\n",
       "      <td>0</td>\n",
       "      <td>98178</td>\n",
       "      <td>47.5112</td>\n",
       "      <td>-122.257</td>\n",
       "      <td>1340</td>\n",
       "      <td>5650</td>\n",
       "    </tr>\n",
       "    <tr>\n",
       "      <th>1</th>\n",
       "      <td>6414100192</td>\n",
       "      <td>20141209T000000</td>\n",
       "      <td>538000.0</td>\n",
       "      <td>3</td>\n",
       "      <td>2.25</td>\n",
       "      <td>2570</td>\n",
       "      <td>7242</td>\n",
       "      <td>2.0</td>\n",
       "      <td>0</td>\n",
       "      <td>0</td>\n",
       "      <td>...</td>\n",
       "      <td>7</td>\n",
       "      <td>2170</td>\n",
       "      <td>400</td>\n",
       "      <td>1951</td>\n",
       "      <td>1991</td>\n",
       "      <td>98125</td>\n",
       "      <td>47.7210</td>\n",
       "      <td>-122.319</td>\n",
       "      <td>1690</td>\n",
       "      <td>7639</td>\n",
       "    </tr>\n",
       "    <tr>\n",
       "      <th>2</th>\n",
       "      <td>5631500400</td>\n",
       "      <td>20150225T000000</td>\n",
       "      <td>180000.0</td>\n",
       "      <td>2</td>\n",
       "      <td>1.00</td>\n",
       "      <td>770</td>\n",
       "      <td>10000</td>\n",
       "      <td>1.0</td>\n",
       "      <td>0</td>\n",
       "      <td>0</td>\n",
       "      <td>...</td>\n",
       "      <td>6</td>\n",
       "      <td>770</td>\n",
       "      <td>0</td>\n",
       "      <td>1933</td>\n",
       "      <td>0</td>\n",
       "      <td>98028</td>\n",
       "      <td>47.7379</td>\n",
       "      <td>-122.233</td>\n",
       "      <td>2720</td>\n",
       "      <td>8062</td>\n",
       "    </tr>\n",
       "    <tr>\n",
       "      <th>3</th>\n",
       "      <td>2487200875</td>\n",
       "      <td>20141209T000000</td>\n",
       "      <td>604000.0</td>\n",
       "      <td>4</td>\n",
       "      <td>3.00</td>\n",
       "      <td>1960</td>\n",
       "      <td>5000</td>\n",
       "      <td>1.0</td>\n",
       "      <td>0</td>\n",
       "      <td>0</td>\n",
       "      <td>...</td>\n",
       "      <td>7</td>\n",
       "      <td>1050</td>\n",
       "      <td>910</td>\n",
       "      <td>1965</td>\n",
       "      <td>0</td>\n",
       "      <td>98136</td>\n",
       "      <td>47.5208</td>\n",
       "      <td>-122.393</td>\n",
       "      <td>1360</td>\n",
       "      <td>5000</td>\n",
       "    </tr>\n",
       "    <tr>\n",
       "      <th>4</th>\n",
       "      <td>1954400510</td>\n",
       "      <td>20150218T000000</td>\n",
       "      <td>510000.0</td>\n",
       "      <td>3</td>\n",
       "      <td>2.00</td>\n",
       "      <td>1680</td>\n",
       "      <td>8080</td>\n",
       "      <td>1.0</td>\n",
       "      <td>0</td>\n",
       "      <td>0</td>\n",
       "      <td>...</td>\n",
       "      <td>8</td>\n",
       "      <td>1680</td>\n",
       "      <td>0</td>\n",
       "      <td>1987</td>\n",
       "      <td>0</td>\n",
       "      <td>98074</td>\n",
       "      <td>47.6168</td>\n",
       "      <td>-122.045</td>\n",
       "      <td>1800</td>\n",
       "      <td>7503</td>\n",
       "    </tr>\n",
       "    <tr>\n",
       "      <th>...</th>\n",
       "      <td>...</td>\n",
       "      <td>...</td>\n",
       "      <td>...</td>\n",
       "      <td>...</td>\n",
       "      <td>...</td>\n",
       "      <td>...</td>\n",
       "      <td>...</td>\n",
       "      <td>...</td>\n",
       "      <td>...</td>\n",
       "      <td>...</td>\n",
       "      <td>...</td>\n",
       "      <td>...</td>\n",
       "      <td>...</td>\n",
       "      <td>...</td>\n",
       "      <td>...</td>\n",
       "      <td>...</td>\n",
       "      <td>...</td>\n",
       "      <td>...</td>\n",
       "      <td>...</td>\n",
       "      <td>...</td>\n",
       "      <td>...</td>\n",
       "    </tr>\n",
       "    <tr>\n",
       "      <th>21608</th>\n",
       "      <td>263000018</td>\n",
       "      <td>20140521T000000</td>\n",
       "      <td>360000.0</td>\n",
       "      <td>3</td>\n",
       "      <td>2.50</td>\n",
       "      <td>1530</td>\n",
       "      <td>1131</td>\n",
       "      <td>3.0</td>\n",
       "      <td>0</td>\n",
       "      <td>0</td>\n",
       "      <td>...</td>\n",
       "      <td>8</td>\n",
       "      <td>1530</td>\n",
       "      <td>0</td>\n",
       "      <td>2009</td>\n",
       "      <td>0</td>\n",
       "      <td>98103</td>\n",
       "      <td>47.6993</td>\n",
       "      <td>-122.346</td>\n",
       "      <td>1530</td>\n",
       "      <td>1509</td>\n",
       "    </tr>\n",
       "    <tr>\n",
       "      <th>21609</th>\n",
       "      <td>6600060120</td>\n",
       "      <td>20150223T000000</td>\n",
       "      <td>400000.0</td>\n",
       "      <td>4</td>\n",
       "      <td>2.50</td>\n",
       "      <td>2310</td>\n",
       "      <td>5813</td>\n",
       "      <td>2.0</td>\n",
       "      <td>0</td>\n",
       "      <td>0</td>\n",
       "      <td>...</td>\n",
       "      <td>8</td>\n",
       "      <td>2310</td>\n",
       "      <td>0</td>\n",
       "      <td>2014</td>\n",
       "      <td>0</td>\n",
       "      <td>98146</td>\n",
       "      <td>47.5107</td>\n",
       "      <td>-122.362</td>\n",
       "      <td>1830</td>\n",
       "      <td>7200</td>\n",
       "    </tr>\n",
       "    <tr>\n",
       "      <th>21610</th>\n",
       "      <td>1523300141</td>\n",
       "      <td>20140623T000000</td>\n",
       "      <td>402101.0</td>\n",
       "      <td>2</td>\n",
       "      <td>0.75</td>\n",
       "      <td>1020</td>\n",
       "      <td>1350</td>\n",
       "      <td>2.0</td>\n",
       "      <td>0</td>\n",
       "      <td>0</td>\n",
       "      <td>...</td>\n",
       "      <td>7</td>\n",
       "      <td>1020</td>\n",
       "      <td>0</td>\n",
       "      <td>2009</td>\n",
       "      <td>0</td>\n",
       "      <td>98144</td>\n",
       "      <td>47.5944</td>\n",
       "      <td>-122.299</td>\n",
       "      <td>1020</td>\n",
       "      <td>2007</td>\n",
       "    </tr>\n",
       "    <tr>\n",
       "      <th>21611</th>\n",
       "      <td>291310100</td>\n",
       "      <td>20150116T000000</td>\n",
       "      <td>400000.0</td>\n",
       "      <td>3</td>\n",
       "      <td>2.50</td>\n",
       "      <td>1600</td>\n",
       "      <td>2388</td>\n",
       "      <td>2.0</td>\n",
       "      <td>0</td>\n",
       "      <td>0</td>\n",
       "      <td>...</td>\n",
       "      <td>8</td>\n",
       "      <td>1600</td>\n",
       "      <td>0</td>\n",
       "      <td>2004</td>\n",
       "      <td>0</td>\n",
       "      <td>98027</td>\n",
       "      <td>47.5345</td>\n",
       "      <td>-122.069</td>\n",
       "      <td>1410</td>\n",
       "      <td>1287</td>\n",
       "    </tr>\n",
       "    <tr>\n",
       "      <th>21612</th>\n",
       "      <td>1523300157</td>\n",
       "      <td>20141015T000000</td>\n",
       "      <td>325000.0</td>\n",
       "      <td>2</td>\n",
       "      <td>0.75</td>\n",
       "      <td>1020</td>\n",
       "      <td>1076</td>\n",
       "      <td>2.0</td>\n",
       "      <td>0</td>\n",
       "      <td>0</td>\n",
       "      <td>...</td>\n",
       "      <td>7</td>\n",
       "      <td>1020</td>\n",
       "      <td>0</td>\n",
       "      <td>2008</td>\n",
       "      <td>0</td>\n",
       "      <td>98144</td>\n",
       "      <td>47.5941</td>\n",
       "      <td>-122.299</td>\n",
       "      <td>1020</td>\n",
       "      <td>1357</td>\n",
       "    </tr>\n",
       "  </tbody>\n",
       "</table>\n",
       "<p>21613 rows × 21 columns</p>\n",
       "</div>"
      ],
      "text/plain": [
       "               id             date     price  bedrooms  bathrooms  \\\n",
       "0      7129300520  20141013T000000  221900.0         3       1.00   \n",
       "1      6414100192  20141209T000000  538000.0         3       2.25   \n",
       "2      5631500400  20150225T000000  180000.0         2       1.00   \n",
       "3      2487200875  20141209T000000  604000.0         4       3.00   \n",
       "4      1954400510  20150218T000000  510000.0         3       2.00   \n",
       "...           ...              ...       ...       ...        ...   \n",
       "21608   263000018  20140521T000000  360000.0         3       2.50   \n",
       "21609  6600060120  20150223T000000  400000.0         4       2.50   \n",
       "21610  1523300141  20140623T000000  402101.0         2       0.75   \n",
       "21611   291310100  20150116T000000  400000.0         3       2.50   \n",
       "21612  1523300157  20141015T000000  325000.0         2       0.75   \n",
       "\n",
       "       sqft_living  sqft_lot  floors  waterfront  view  ...  grade  \\\n",
       "0             1180      5650     1.0           0     0  ...      7   \n",
       "1             2570      7242     2.0           0     0  ...      7   \n",
       "2              770     10000     1.0           0     0  ...      6   \n",
       "3             1960      5000     1.0           0     0  ...      7   \n",
       "4             1680      8080     1.0           0     0  ...      8   \n",
       "...            ...       ...     ...         ...   ...  ...    ...   \n",
       "21608         1530      1131     3.0           0     0  ...      8   \n",
       "21609         2310      5813     2.0           0     0  ...      8   \n",
       "21610         1020      1350     2.0           0     0  ...      7   \n",
       "21611         1600      2388     2.0           0     0  ...      8   \n",
       "21612         1020      1076     2.0           0     0  ...      7   \n",
       "\n",
       "       sqft_above  sqft_basement  yr_built  yr_renovated  zipcode      lat  \\\n",
       "0            1180              0      1955             0    98178  47.5112   \n",
       "1            2170            400      1951          1991    98125  47.7210   \n",
       "2             770              0      1933             0    98028  47.7379   \n",
       "3            1050            910      1965             0    98136  47.5208   \n",
       "4            1680              0      1987             0    98074  47.6168   \n",
       "...           ...            ...       ...           ...      ...      ...   \n",
       "21608        1530              0      2009             0    98103  47.6993   \n",
       "21609        2310              0      2014             0    98146  47.5107   \n",
       "21610        1020              0      2009             0    98144  47.5944   \n",
       "21611        1600              0      2004             0    98027  47.5345   \n",
       "21612        1020              0      2008             0    98144  47.5941   \n",
       "\n",
       "          long  sqft_living15  sqft_lot15  \n",
       "0     -122.257           1340        5650  \n",
       "1     -122.319           1690        7639  \n",
       "2     -122.233           2720        8062  \n",
       "3     -122.393           1360        5000  \n",
       "4     -122.045           1800        7503  \n",
       "...        ...            ...         ...  \n",
       "21608 -122.346           1530        1509  \n",
       "21609 -122.362           1830        7200  \n",
       "21610 -122.299           1020        2007  \n",
       "21611 -122.069           1410        1287  \n",
       "21612 -122.299           1020        1357  \n",
       "\n",
       "[21613 rows x 21 columns]"
      ]
     },
     "execution_count": 92,
     "metadata": {},
     "output_type": "execute_result"
    }
   ],
   "source": [
    "#Carregar dataset\n",
    "import pandas as pd\n",
    "dados = pd.read_csv('H_prices.csv')\n",
    "dados"
   ]
  },
  {
   "cell_type": "markdown",
   "id": "5881a7f0-817d-4f32-ba4f-d14165bbc764",
   "metadata": {},
   "source": [
    "# Análise dos dados"
   ]
  },
  {
   "cell_type": "code",
   "execution_count": 93,
   "id": "27efd1b4-6916-4a0a-a67a-83ab3fc7e24c",
   "metadata": {},
   "outputs": [
    {
     "data": {
      "text/plain": [
       "id               0\n",
       "date             0\n",
       "price            0\n",
       "bedrooms         0\n",
       "bathrooms        0\n",
       "sqft_living      0\n",
       "sqft_lot         0\n",
       "floors           0\n",
       "waterfront       0\n",
       "view             0\n",
       "condition        0\n",
       "grade            0\n",
       "sqft_above       0\n",
       "sqft_basement    0\n",
       "yr_built         0\n",
       "yr_renovated     0\n",
       "zipcode          0\n",
       "lat              0\n",
       "long             0\n",
       "sqft_living15    0\n",
       "sqft_lot15       0\n",
       "dtype: int64"
      ]
     },
     "execution_count": 93,
     "metadata": {},
     "output_type": "execute_result"
    }
   ],
   "source": [
    "# Dados nulos\n",
    "dados.isnull().sum()"
   ]
  },
  {
   "cell_type": "markdown",
   "id": "1e93211b-79f6-4e97-84eb-8c1f4787f0fa",
   "metadata": {},
   "source": [
    "**Note que não há dados nulos**"
   ]
  },
  {
   "cell_type": "code",
   "execution_count": 94,
   "id": "3048b3ac-9c0c-4f57-b43a-9e903507a674",
   "metadata": {},
   "outputs": [
    {
     "data": {
      "text/html": [
       "<div>\n",
       "<style scoped>\n",
       "    .dataframe tbody tr th:only-of-type {\n",
       "        vertical-align: middle;\n",
       "    }\n",
       "\n",
       "    .dataframe tbody tr th {\n",
       "        vertical-align: top;\n",
       "    }\n",
       "\n",
       "    .dataframe thead th {\n",
       "        text-align: right;\n",
       "    }\n",
       "</style>\n",
       "<table border=\"1\" class=\"dataframe\">\n",
       "  <thead>\n",
       "    <tr style=\"text-align: right;\">\n",
       "      <th></th>\n",
       "      <th>id</th>\n",
       "      <th>price</th>\n",
       "      <th>bedrooms</th>\n",
       "      <th>bathrooms</th>\n",
       "      <th>sqft_living</th>\n",
       "      <th>sqft_lot</th>\n",
       "      <th>floors</th>\n",
       "      <th>waterfront</th>\n",
       "      <th>view</th>\n",
       "      <th>condition</th>\n",
       "      <th>grade</th>\n",
       "      <th>sqft_above</th>\n",
       "      <th>sqft_basement</th>\n",
       "      <th>yr_built</th>\n",
       "      <th>yr_renovated</th>\n",
       "      <th>zipcode</th>\n",
       "      <th>lat</th>\n",
       "      <th>long</th>\n",
       "      <th>sqft_living15</th>\n",
       "      <th>sqft_lot15</th>\n",
       "    </tr>\n",
       "  </thead>\n",
       "  <tbody>\n",
       "    <tr>\n",
       "      <th>price</th>\n",
       "      <td>-0.016762</td>\n",
       "      <td>1.0</td>\n",
       "      <td>0.30835</td>\n",
       "      <td>0.525138</td>\n",
       "      <td>0.702035</td>\n",
       "      <td>0.089661</td>\n",
       "      <td>0.256794</td>\n",
       "      <td>0.266369</td>\n",
       "      <td>0.397293</td>\n",
       "      <td>0.036362</td>\n",
       "      <td>0.667434</td>\n",
       "      <td>0.605567</td>\n",
       "      <td>0.323816</td>\n",
       "      <td>0.054012</td>\n",
       "      <td>0.126434</td>\n",
       "      <td>-0.053203</td>\n",
       "      <td>0.307003</td>\n",
       "      <td>0.021626</td>\n",
       "      <td>0.585379</td>\n",
       "      <td>0.082447</td>\n",
       "    </tr>\n",
       "  </tbody>\n",
       "</table>\n",
       "</div>"
      ],
      "text/plain": [
       "             id  price  bedrooms  bathrooms  sqft_living  sqft_lot    floors  \\\n",
       "price -0.016762    1.0   0.30835   0.525138     0.702035  0.089661  0.256794   \n",
       "\n",
       "       waterfront      view  condition     grade  sqft_above  sqft_basement  \\\n",
       "price    0.266369  0.397293   0.036362  0.667434    0.605567       0.323816   \n",
       "\n",
       "       yr_built  yr_renovated   zipcode       lat      long  sqft_living15  \\\n",
       "price  0.054012      0.126434 -0.053203  0.307003  0.021626       0.585379   \n",
       "\n",
       "       sqft_lot15  \n",
       "price    0.082447  "
      ]
     },
     "execution_count": 94,
     "metadata": {},
     "output_type": "execute_result"
    }
   ],
   "source": [
    "#Variáveis correlacionadas\n",
    "dados.corr()[1:2]"
   ]
  },
  {
   "cell_type": "markdown",
   "id": "9b3d4c85-b8bf-44c6-9755-4d03e4d807dc",
   "metadata": {},
   "source": [
    "**Observe as variáveis X que são correlacionadas com a variável Y**"
   ]
  },
  {
   "cell_type": "markdown",
   "id": "10f53ca9-d7cd-4970-8ea7-7feb65f5cd02",
   "metadata": {},
   "source": [
    "# Pré-Processamento dos dados"
   ]
  },
  {
   "cell_type": "code",
   "execution_count": 95,
   "id": "6a0363cd-c212-4fdf-87a4-3b62c1d70a20",
   "metadata": {},
   "outputs": [
    {
     "name": "stdout",
     "output_type": "stream",
     "text": [
      "Shape Variável X: (21613, 18)\n",
      "Shape Variável Y: (21613,)\n"
     ]
    }
   ],
   "source": [
    "#Separar as variáveis em X e Y\n",
    "x = dados.iloc[:,3:].values\n",
    "y = dados['price'].values\n",
    "\n",
    "#Converter os dados para o formato float\n",
    "x = np.array(x).astype('float32')\n",
    "y = np.array(y).astype('float32')\n",
    "\n",
    "print(f'Shape Variável X: {x.shape}')\n",
    "print(f'Shape Variável Y: {y.shape}')"
   ]
  },
  {
   "cell_type": "markdown",
   "id": "f4a2a408-fddf-4ad2-8d5f-64ccaa55e869",
   "metadata": {},
   "source": [
    "**Transformar a variável X e Y no formato de array numpy e float para depois converter os dados em dense_tensor e fazer o treinamento com o algoritmo Linearlearner do AWS**"
   ]
  },
  {
   "cell_type": "code",
   "execution_count": 96,
   "id": "5d2303c8-a6ce-41ef-a2ab-d48a48c9671b",
   "metadata": {},
   "outputs": [
    {
     "data": {
      "text/plain": [
       "((15129, 18), (6484, 18))"
      ]
     },
     "execution_count": 96,
     "metadata": {},
     "output_type": "execute_result"
    }
   ],
   "source": [
    "#Dividir os dados em treino e teste\n",
    "from sklearn.model_selection import train_test_split\n",
    "x_treino,x_teste,y_treino ,y_teste = train_test_split(x,y,test_size=0.3, random_state=0)\n",
    "\n",
    "#Shape da divisão\n",
    "x_treino.shape,x_teste.shape"
   ]
  },
  {
   "cell_type": "markdown",
   "id": "303fb2f5-a6d1-4bd4-bd44-5c6287892b8a",
   "metadata": {},
   "source": [
    "**Shape dos dados para treino e teste**"
   ]
  },
  {
   "cell_type": "markdown",
   "id": "64ce2cf0-a443-4eea-b9da-a32c7eb0e2fc",
   "metadata": {},
   "source": [
    "# Configurações do SageMaker"
   ]
  },
  {
   "cell_type": "code",
   "execution_count": 97,
   "id": "4a67afe1-8551-4afe-bca2-210186ea579d",
   "metadata": {},
   "outputs": [],
   "source": [
    "#Bibliotecas\n",
    "import sagemaker \n",
    "import boto3\n",
    "from sagemaker import Session"
   ]
  },
  {
   "cell_type": "code",
   "execution_count": 98,
   "id": "c617df6c-bd9a-4055-b3e7-c731360acbd5",
   "metadata": {},
   "outputs": [],
   "source": [
    "#Criar a sessão com AWS\n",
    "session = sagemaker.Session()\n",
    "\n",
    "#Nome do bucket na S3\n",
    "bucket = 'armaz1'\n",
    "\n",
    "#Criar subpastas para armazenar o modelo\n",
    "subpasta_modelo = 'modelos/house_prices/linear_learner'\n",
    "\n",
    "#Criar subpasta para o dataset\n",
    "subpasta_dataset = 'datasets/house_prices'"
   ]
  },
  {
   "cell_type": "code",
   "execution_count": 99,
   "id": "fbeae26e-c319-407b-b354-db653dd33a13",
   "metadata": {},
   "outputs": [],
   "source": [
    "#Converter os dados para enviar ao algoritmo do AWS\n",
    "import io\n",
    "\n",
    "#Sagemaker common library\n",
    "import sagemaker.amazon.common as smac "
   ]
  },
  {
   "cell_type": "code",
   "execution_count": 100,
   "id": "2cb724f4-3841-4b7b-b905-25974e9b8cbd",
   "metadata": {},
   "outputs": [],
   "source": [
    "#Criar a base de dados no formato bytes\n",
    "buffer = io.BytesIO()\n",
    "\n",
    "#Converter a base de dados no formato numpy para dense_tensor\n",
    "smac.write_numpy_to_dense_tensor(buffer,x_treino,y_treino)"
   ]
  },
  {
   "cell_type": "markdown",
   "id": "11a78775-22dd-4781-b3f1-9eed3147ced8",
   "metadata": {},
   "source": [
    "**Conversão da base de dados do formato numpy para dense_tensor que é utilizado no AWS**"
   ]
  },
  {
   "cell_type": "code",
   "execution_count": 101,
   "id": "acb83b32-9ab4-42c1-aeb7-a92162afe3a9",
   "metadata": {},
   "outputs": [
    {
     "data": {
      "text/plain": [
       "0"
      ]
     },
     "execution_count": 101,
     "metadata": {},
     "output_type": "execute_result"
    }
   ],
   "source": [
    "#Colocar a base de dados considerando o 1° registro \n",
    "buffer.seek(0)"
   ]
  },
  {
   "cell_type": "markdown",
   "id": "cd7d1a3e-1281-4dd8-a929-de6ce16d0e0f",
   "metadata": {},
   "source": [
    "**Toda vez que usamos o 'write_numpy_to_dense_tensor', precisamos usar o seek(0) para considerar o 1° registro da base de dados**"
   ]
  },
  {
   "cell_type": "code",
   "execution_count": 102,
   "id": "9fdf7766-d5f8-4214-a96f-9de687479111",
   "metadata": {},
   "outputs": [],
   "source": [
    "#Enviar o buffer para S3\n",
    "import os\n",
    "\n",
    "nome_base_dados = 'houses_train_data'\n",
    "\n",
    "#Upload para o S3\n",
    "boto3.resource('s3').Bucket(bucket).Object(os.path.join(subpasta_dataset,'Nome_pasta_treino',nome_base_dados)).upload_fileobj(buffer)"
   ]
  },
  {
   "cell_type": "markdown",
   "id": "11aadbf2-7286-425f-92c1-698b79de3fa2",
   "metadata": {},
   "source": [
    "**Criado as pastas e enviado o arquivo de treino para o S3**"
   ]
  },
  {
   "cell_type": "code",
   "execution_count": 103,
   "id": "88d3a937-9c87-4c8b-a6bb-c1edde1d09ca",
   "metadata": {},
   "outputs": [
    {
     "data": {
      "text/plain": [
       "'datasets/house_prices/Nome_pasta_treino/houses_train_data'"
      ]
     },
     "execution_count": 103,
     "metadata": {},
     "output_type": "execute_result"
    }
   ],
   "source": [
    "#Nome das pastas criadas\n",
    "os.path.join(subpasta_dataset,'Nome_pasta_treino',nome_base_dados)"
   ]
  },
  {
   "cell_type": "markdown",
   "id": "bbc5f56e-af87-4943-80ef-5b632cc1af19",
   "metadata": {},
   "source": [
    "**Veja o caminho das pastas criadas dentro da S3**"
   ]
  },
  {
   "cell_type": "markdown",
   "id": "76fdbaef-fa60-4aa0-8b8c-37e9faaface8",
   "metadata": {},
   "source": [
    "# Criação e treinamento do Linear Learner"
   ]
  },
  {
   "cell_type": "code",
   "execution_count": 104,
   "id": "af2ed89b-5d37-402f-849e-e54c0ba8c76b",
   "metadata": {},
   "outputs": [],
   "source": [
    "# Instanciar o framework linear-learner\n",
    "container = sagemaker.image_uris.retrieve(framework = 'linear-learner', region=boto3.Session().region_name)"
   ]
  },
  {
   "cell_type": "markdown",
   "id": "91a72656-abf1-4602-aa4d-df9af111660d",
   "metadata": {},
   "source": [
    "**Criado uma imagem do algoritmo e verificado se ele existe para a região do datacenter que está sendo usado**"
   ]
  },
  {
   "cell_type": "code",
   "execution_count": 105,
   "id": "59e34d6d-12a8-417c-b791-a91699c08405",
   "metadata": {},
   "outputs": [
    {
     "name": "stdout",
     "output_type": "stream",
     "text": [
      "arn:aws:iam::515469992425:role/service-role/AmazonSageMaker-ExecutionRole-20220829T152465\n"
     ]
    }
   ],
   "source": [
    "#Verificar as regras de permissão para o usuario\n",
    "roles = sagemaker.get_execution_role()\n",
    "print(roles)"
   ]
  },
  {
   "cell_type": "markdown",
   "id": "85f370e4-1a57-444f-94a7-cdf826189675",
   "metadata": {},
   "source": [
    "**Importante verificar as regras de permissão para que o usuario possa criar os modelos de machine learning**"
   ]
  },
  {
   "cell_type": "code",
   "execution_count": 106,
   "id": "bf7f7f07-d79c-444f-b5ba-8a50f668e357",
   "metadata": {},
   "outputs": [],
   "source": [
    "# Definir os Hiperparametros do algoritmo\n",
    "\n",
    "#Hiperparametros:\n",
    "\n",
    "#Numero de servidores que sera utilizado\n",
    "n_serv = 1\n",
    "\n",
    "#Tipo do servidor\n",
    "inst_type = 'ml.t3.medium' \n",
    "\n",
    "#Onde o modelo final será salvo\n",
    "subpasta_output = 's3://armaz1/modelos/house_prices/linear_learner/output'\n",
    "\n",
    "#Sessão do sagemaker\n",
    "session = sagemaker.Session()\n",
    "\n",
    "\n",
    "\n",
    "#Algoritmo\n",
    "linear = sagemaker.estimator.Estimator(image_uri = container, role = roles, \n",
    "                                       instance_count = n_serv,\n",
    "                                       intance_type = inst_type, output_path = subpasta_output, \n",
    "                                       sagemaker_session = session )"
   ]
  },
  {
   "cell_type": "markdown",
   "id": "99b3252d-df1d-4180-b16b-fe583fb2c2bf",
   "metadata": {},
   "source": [
    "**Definição dos hiperparametros do sagemaker**"
   ]
  },
  {
   "cell_type": "code",
   "execution_count": 107,
   "id": "1386c20c-c870-4997-aa22-3b09a9091cb2",
   "metadata": {},
   "outputs": [],
   "source": [
    "#Criar o algoritmo \n",
    "\n",
    "#Hiperparametros:\n",
    "\n",
    "#Quantidade de modelos gerados, melhor modelo será selecionado\n",
    "n_models = 16\n",
    "\n",
    "\n",
    "\n",
    "linear.set_hyperparameters(predictor_type = 'regressor',\n",
    "                           num_models = n_models)"
   ]
  },
  {
   "cell_type": "code",
   "execution_count": 108,
   "id": "2ab7ba8d-9ee6-4cef-96e5-bd5c3db2078e",
   "metadata": {},
   "outputs": [
    {
     "ename": "ValueError",
     "evalue": "instance_count and instance_type must be set if instance_groups is not set",
     "output_type": "error",
     "traceback": [
      "\u001b[0;31m---------------------------------------------------------------------------\u001b[0m",
      "\u001b[0;31mValueError\u001b[0m                                Traceback (most recent call last)",
      "\u001b[0;32m<ipython-input-108-804af0b52c06>\u001b[0m in \u001b[0;36m<module>\u001b[0;34m\u001b[0m\n\u001b[1;32m      4\u001b[0m \u001b[0ms3_train_data\u001b[0m \u001b[0;34m=\u001b[0m \u001b[0;34m's3://armaz1/datasets/house_prices/Nome_pasta_treino/houses_train_data'\u001b[0m\u001b[0;34m\u001b[0m\u001b[0;34m\u001b[0m\u001b[0m\n\u001b[1;32m      5\u001b[0m \u001b[0;34m\u001b[0m\u001b[0m\n\u001b[0;32m----> 6\u001b[0;31m \u001b[0mlinear\u001b[0m\u001b[0;34m.\u001b[0m\u001b[0mfit\u001b[0m\u001b[0;34m(\u001b[0m\u001b[0;34m{\u001b[0m\u001b[0;34m'Nome_pasta_treino'\u001b[0m\u001b[0;34m:\u001b[0m \u001b[0ms3_train_data\u001b[0m\u001b[0;34m}\u001b[0m\u001b[0;34m)\u001b[0m\u001b[0;34m\u001b[0m\u001b[0;34m\u001b[0m\u001b[0m\n\u001b[0m",
      "\u001b[0;32m/opt/conda/lib/python3.7/site-packages/sagemaker/workflow/pipeline_context.py\u001b[0m in \u001b[0;36mwrapper\u001b[0;34m(*args, **kwargs)\u001b[0m\n\u001b[1;32m    207\u001b[0m             \u001b[0;32mreturn\u001b[0m \u001b[0mself_instance\u001b[0m\u001b[0;34m.\u001b[0m\u001b[0msagemaker_session\u001b[0m\u001b[0;34m.\u001b[0m\u001b[0mcontext\u001b[0m\u001b[0;34m\u001b[0m\u001b[0;34m\u001b[0m\u001b[0m\n\u001b[1;32m    208\u001b[0m \u001b[0;34m\u001b[0m\u001b[0m\n\u001b[0;32m--> 209\u001b[0;31m         \u001b[0;32mreturn\u001b[0m \u001b[0mrun_func\u001b[0m\u001b[0;34m(\u001b[0m\u001b[0;34m*\u001b[0m\u001b[0margs\u001b[0m\u001b[0;34m,\u001b[0m \u001b[0;34m**\u001b[0m\u001b[0mkwargs\u001b[0m\u001b[0;34m)\u001b[0m\u001b[0;34m\u001b[0m\u001b[0;34m\u001b[0m\u001b[0m\n\u001b[0m\u001b[1;32m    210\u001b[0m \u001b[0;34m\u001b[0m\u001b[0m\n\u001b[1;32m    211\u001b[0m     \u001b[0;32mreturn\u001b[0m \u001b[0mwrapper\u001b[0m\u001b[0;34m\u001b[0m\u001b[0;34m\u001b[0m\u001b[0m\n",
      "\u001b[0;32m/opt/conda/lib/python3.7/site-packages/sagemaker/estimator.py\u001b[0m in \u001b[0;36mfit\u001b[0;34m(self, inputs, wait, logs, job_name, experiment_config)\u001b[0m\n\u001b[1;32m   1001\u001b[0m         \u001b[0mself\u001b[0m\u001b[0;34m.\u001b[0m\u001b[0m_prepare_for_training\u001b[0m\u001b[0;34m(\u001b[0m\u001b[0mjob_name\u001b[0m\u001b[0;34m=\u001b[0m\u001b[0mjob_name\u001b[0m\u001b[0;34m)\u001b[0m\u001b[0;34m\u001b[0m\u001b[0;34m\u001b[0m\u001b[0m\n\u001b[1;32m   1002\u001b[0m \u001b[0;34m\u001b[0m\u001b[0m\n\u001b[0;32m-> 1003\u001b[0;31m         \u001b[0mself\u001b[0m\u001b[0;34m.\u001b[0m\u001b[0mlatest_training_job\u001b[0m \u001b[0;34m=\u001b[0m \u001b[0m_TrainingJob\u001b[0m\u001b[0;34m.\u001b[0m\u001b[0mstart_new\u001b[0m\u001b[0;34m(\u001b[0m\u001b[0mself\u001b[0m\u001b[0;34m,\u001b[0m \u001b[0minputs\u001b[0m\u001b[0;34m,\u001b[0m \u001b[0mexperiment_config\u001b[0m\u001b[0;34m)\u001b[0m\u001b[0;34m\u001b[0m\u001b[0;34m\u001b[0m\u001b[0m\n\u001b[0m\u001b[1;32m   1004\u001b[0m         \u001b[0mself\u001b[0m\u001b[0;34m.\u001b[0m\u001b[0mjobs\u001b[0m\u001b[0;34m.\u001b[0m\u001b[0mappend\u001b[0m\u001b[0;34m(\u001b[0m\u001b[0mself\u001b[0m\u001b[0;34m.\u001b[0m\u001b[0mlatest_training_job\u001b[0m\u001b[0;34m)\u001b[0m\u001b[0;34m\u001b[0m\u001b[0;34m\u001b[0m\u001b[0m\n\u001b[1;32m   1005\u001b[0m         \u001b[0;32mif\u001b[0m \u001b[0mwait\u001b[0m\u001b[0;34m:\u001b[0m\u001b[0;34m\u001b[0m\u001b[0;34m\u001b[0m\u001b[0m\n",
      "\u001b[0;32m/opt/conda/lib/python3.7/site-packages/sagemaker/estimator.py\u001b[0m in \u001b[0;36mstart_new\u001b[0;34m(cls, estimator, inputs, experiment_config)\u001b[0m\n\u001b[1;32m   1886\u001b[0m             \u001b[0mall\u001b[0m \u001b[0minformation\u001b[0m \u001b[0mabout\u001b[0m \u001b[0mthe\u001b[0m \u001b[0mstarted\u001b[0m \u001b[0mtraining\u001b[0m \u001b[0mjob\u001b[0m\u001b[0;34m.\u001b[0m\u001b[0;34m\u001b[0m\u001b[0;34m\u001b[0m\u001b[0m\n\u001b[1;32m   1887\u001b[0m         \"\"\"\n\u001b[0;32m-> 1888\u001b[0;31m         \u001b[0mtrain_args\u001b[0m \u001b[0;34m=\u001b[0m \u001b[0mcls\u001b[0m\u001b[0;34m.\u001b[0m\u001b[0m_get_train_args\u001b[0m\u001b[0;34m(\u001b[0m\u001b[0mestimator\u001b[0m\u001b[0;34m,\u001b[0m \u001b[0minputs\u001b[0m\u001b[0;34m,\u001b[0m \u001b[0mexperiment_config\u001b[0m\u001b[0;34m)\u001b[0m\u001b[0;34m\u001b[0m\u001b[0;34m\u001b[0m\u001b[0m\n\u001b[0m\u001b[1;32m   1889\u001b[0m \u001b[0;34m\u001b[0m\u001b[0m\n\u001b[1;32m   1890\u001b[0m         \u001b[0mestimator\u001b[0m\u001b[0;34m.\u001b[0m\u001b[0msagemaker_session\u001b[0m\u001b[0;34m.\u001b[0m\u001b[0mtrain\u001b[0m\u001b[0;34m(\u001b[0m\u001b[0;34m**\u001b[0m\u001b[0mtrain_args\u001b[0m\u001b[0;34m)\u001b[0m\u001b[0;34m\u001b[0m\u001b[0;34m\u001b[0m\u001b[0m\n",
      "\u001b[0;32m/opt/conda/lib/python3.7/site-packages/sagemaker/estimator.py\u001b[0m in \u001b[0;36m_get_train_args\u001b[0;34m(cls, estimator, inputs, experiment_config)\u001b[0m\n\u001b[1;32m   1927\u001b[0m                 )\n\u001b[1;32m   1928\u001b[0m \u001b[0;34m\u001b[0m\u001b[0m\n\u001b[0;32m-> 1929\u001b[0;31m         \u001b[0mconfig\u001b[0m \u001b[0;34m=\u001b[0m \u001b[0m_Job\u001b[0m\u001b[0;34m.\u001b[0m\u001b[0m_load_config\u001b[0m\u001b[0;34m(\u001b[0m\u001b[0minputs\u001b[0m\u001b[0;34m,\u001b[0m \u001b[0mestimator\u001b[0m\u001b[0;34m)\u001b[0m\u001b[0;34m\u001b[0m\u001b[0;34m\u001b[0m\u001b[0m\n\u001b[0m\u001b[1;32m   1930\u001b[0m \u001b[0;34m\u001b[0m\u001b[0m\n\u001b[1;32m   1931\u001b[0m         \u001b[0mcurrent_hyperparameters\u001b[0m \u001b[0;34m=\u001b[0m \u001b[0mestimator\u001b[0m\u001b[0;34m.\u001b[0m\u001b[0mhyperparameters\u001b[0m\u001b[0;34m(\u001b[0m\u001b[0;34m)\u001b[0m\u001b[0;34m\u001b[0m\u001b[0;34m\u001b[0m\u001b[0m\n",
      "\u001b[0;32m/opt/conda/lib/python3.7/site-packages/sagemaker/job.py\u001b[0m in \u001b[0;36m_load_config\u001b[0;34m(inputs, estimator, expand_role, validate_uri)\u001b[0m\n\u001b[1;32m     77\u001b[0m             \u001b[0mestimator\u001b[0m\u001b[0;34m.\u001b[0m\u001b[0minstance_groups\u001b[0m\u001b[0;34m,\u001b[0m\u001b[0;34m\u001b[0m\u001b[0;34m\u001b[0m\u001b[0m\n\u001b[1;32m     78\u001b[0m             \u001b[0mestimator\u001b[0m\u001b[0;34m.\u001b[0m\u001b[0mvolume_size\u001b[0m\u001b[0;34m,\u001b[0m\u001b[0;34m\u001b[0m\u001b[0;34m\u001b[0m\u001b[0m\n\u001b[0;32m---> 79\u001b[0;31m             \u001b[0mestimator\u001b[0m\u001b[0;34m.\u001b[0m\u001b[0mvolume_kms_key\u001b[0m\u001b[0;34m,\u001b[0m\u001b[0;34m\u001b[0m\u001b[0;34m\u001b[0m\u001b[0m\n\u001b[0m\u001b[1;32m     80\u001b[0m         )\n\u001b[1;32m     81\u001b[0m         \u001b[0mstop_condition\u001b[0m \u001b[0;34m=\u001b[0m \u001b[0m_Job\u001b[0m\u001b[0;34m.\u001b[0m\u001b[0m_prepare_stop_condition\u001b[0m\u001b[0;34m(\u001b[0m\u001b[0mestimator\u001b[0m\u001b[0;34m.\u001b[0m\u001b[0mmax_run\u001b[0m\u001b[0;34m,\u001b[0m \u001b[0mestimator\u001b[0m\u001b[0;34m.\u001b[0m\u001b[0mmax_wait\u001b[0m\u001b[0;34m)\u001b[0m\u001b[0;34m\u001b[0m\u001b[0;34m\u001b[0m\u001b[0m\n",
      "\u001b[0;32m/opt/conda/lib/python3.7/site-packages/sagemaker/job.py\u001b[0m in \u001b[0;36m_prepare_resource_config\u001b[0;34m(instance_count, instance_type, instance_groups, volume_size, volume_kms_key)\u001b[0m\n\u001b[1;32m    306\u001b[0m             \u001b[0;32mif\u001b[0m \u001b[0minstance_count\u001b[0m \u001b[0;32mis\u001b[0m \u001b[0;32mNone\u001b[0m \u001b[0;32mor\u001b[0m \u001b[0minstance_type\u001b[0m \u001b[0;32mis\u001b[0m \u001b[0;32mNone\u001b[0m\u001b[0;34m:\u001b[0m\u001b[0;34m\u001b[0m\u001b[0;34m\u001b[0m\u001b[0m\n\u001b[1;32m    307\u001b[0m                 raise ValueError(\n\u001b[0;32m--> 308\u001b[0;31m                     \u001b[0;34m\"instance_count and instance_type must be set if instance_groups is not set\"\u001b[0m\u001b[0;34m\u001b[0m\u001b[0;34m\u001b[0m\u001b[0m\n\u001b[0m\u001b[1;32m    309\u001b[0m                 )\n\u001b[1;32m    310\u001b[0m             \u001b[0mresource_config\u001b[0m\u001b[0;34m[\u001b[0m\u001b[0;34m\"InstanceCount\"\u001b[0m\u001b[0;34m]\u001b[0m \u001b[0;34m=\u001b[0m \u001b[0minstance_count\u001b[0m\u001b[0;34m\u001b[0m\u001b[0;34m\u001b[0m\u001b[0m\n",
      "\u001b[0;31mValueError\u001b[0m: instance_count and instance_type must be set if instance_groups is not set"
     ]
    }
   ],
   "source": [
    "#Iniciar o treinamento do modelo\n",
    "\n",
    "#Variável para o modelo localizar a pasta com os dados\n",
    "s3_train_data = 's3://armaz1/datasets/house_prices/Nome_pasta_treino/houses_train_data'\n",
    "\n",
    "linear.fit({'Nome_pasta_treino': s3_train_data})"
   ]
  },
  {
   "cell_type": "code",
   "execution_count": null,
   "id": "d4057aa8-1966-4499-94b3-8655cd9cbaf2",
   "metadata": {},
   "outputs": [],
   "source": []
  }
 ],
 "metadata": {
  "instance_type": "ml.t3.medium",
  "kernelspec": {
   "display_name": "Python 3 (Data Science)",
   "language": "python",
   "name": "python3__SAGEMAKER_INTERNAL__arn:aws:sagemaker:sa-east-1:782484402741:image/datascience-1.0"
  },
  "language_info": {
   "codemirror_mode": {
    "name": "ipython",
    "version": 3
   },
   "file_extension": ".py",
   "mimetype": "text/x-python",
   "name": "python",
   "nbconvert_exporter": "python",
   "pygments_lexer": "ipython3",
   "version": "3.7.10"
  }
 },
 "nbformat": 4,
 "nbformat_minor": 5
}
