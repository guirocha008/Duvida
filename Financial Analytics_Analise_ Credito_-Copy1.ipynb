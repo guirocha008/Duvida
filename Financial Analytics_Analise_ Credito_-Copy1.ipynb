{
 "cells": [
  {
   "cell_type": "markdown",
   "metadata": {},
   "source": [
    "# $$Financial~Analytics: Análise~de~ Credito$$"
   ]
  },
  {
   "cell_type": "markdown",
   "metadata": {},
   "source": [
    "### $$Conceito:$$\n",
    "\n"
   ]
  },
  {
   "cell_type": "markdown",
   "metadata": {},
   "source": [
    "## $$Objetivo:$$  \n",
    "\n",
    "## $$Verificar~as~variáveis~mais~relevantes~para ~determinar~o ~risco$$$$ que~ um ~cliente~oferece~a~uma~institução~financeira~ao~realizar~operações~financeiras$$"
   ]
  },
  {
   "cell_type": "code",
   "execution_count": 1,
   "metadata": {},
   "outputs": [],
   "source": [
    "#Carregar os pacotes\n",
    "import numpy as np\n",
    "import pandas as pd\n",
    "import seaborn as sns \n",
    "import matplotlib.pyplot as plt"
   ]
  },
  {
   "cell_type": "markdown",
   "metadata": {},
   "source": [
    "# Base de Dados "
   ]
  },
  {
   "cell_type": "code",
   "execution_count": 2,
   "metadata": {},
   "outputs": [
    {
     "data": {
      "text/html": [
       "<div>\n",
       "<style scoped>\n",
       "    .dataframe tbody tr th:only-of-type {\n",
       "        vertical-align: middle;\n",
       "    }\n",
       "\n",
       "    .dataframe tbody tr th {\n",
       "        vertical-align: top;\n",
       "    }\n",
       "\n",
       "    .dataframe thead th {\n",
       "        text-align: right;\n",
       "    }\n",
       "</style>\n",
       "<table border=\"1\" class=\"dataframe\">\n",
       "  <thead>\n",
       "    <tr style=\"text-align: right;\">\n",
       "      <th></th>\n",
       "      <th>INDEX</th>\n",
       "      <th>TARGET_FLAG</th>\n",
       "      <th>TARGET_AMT</th>\n",
       "      <th>IDADE</th>\n",
       "      <th>HOMEKIDS</th>\n",
       "      <th>YOJ</th>\n",
       "      <th>SALARIO</th>\n",
       "      <th>CONTA_CLI</th>\n",
       "      <th>HOME_VAL</th>\n",
       "      <th>CASADO</th>\n",
       "      <th>...</th>\n",
       "      <th>VALOR_SOLICITADO</th>\n",
       "      <th>TIF</th>\n",
       "      <th>TIPO_PROD</th>\n",
       "      <th>PROD_ALTO_VALOR</th>\n",
       "      <th>OLDCLAIM</th>\n",
       "      <th>CLM_FREQ</th>\n",
       "      <th>TRAN_SUSP</th>\n",
       "      <th>TEMPO_CLIENTE</th>\n",
       "      <th>TEMPO_VIDA_PROD</th>\n",
       "      <th>URBANICITY</th>\n",
       "    </tr>\n",
       "  </thead>\n",
       "  <tbody>\n",
       "    <tr>\n",
       "      <th>0</th>\n",
       "      <td>1</td>\n",
       "      <td>0</td>\n",
       "      <td>0</td>\n",
       "      <td>60</td>\n",
       "      <td>0</td>\n",
       "      <td>11</td>\n",
       "      <td>673.493.816.169.868</td>\n",
       "      <td>No</td>\n",
       "      <td>0</td>\n",
       "      <td>No</td>\n",
       "      <td>...</td>\n",
       "      <td>14230</td>\n",
       "      <td>11</td>\n",
       "      <td>Poupanca</td>\n",
       "      <td>yes</td>\n",
       "      <td>4461</td>\n",
       "      <td>2</td>\n",
       "      <td>No</td>\n",
       "      <td>3</td>\n",
       "      <td>18</td>\n",
       "      <td>Urbano</td>\n",
       "    </tr>\n",
       "    <tr>\n",
       "      <th>1</th>\n",
       "      <td>2</td>\n",
       "      <td>0</td>\n",
       "      <td>0</td>\n",
       "      <td>43</td>\n",
       "      <td>0</td>\n",
       "      <td>11</td>\n",
       "      <td>914.492.546.351.364</td>\n",
       "      <td>No</td>\n",
       "      <td>25.725.163.538.943</td>\n",
       "      <td>No</td>\n",
       "      <td>...</td>\n",
       "      <td>14940</td>\n",
       "      <td>1</td>\n",
       "      <td>Poupanca</td>\n",
       "      <td>yes</td>\n",
       "      <td>0</td>\n",
       "      <td>0</td>\n",
       "      <td>No</td>\n",
       "      <td>0</td>\n",
       "      <td>1</td>\n",
       "      <td>Urbano</td>\n",
       "    </tr>\n",
       "    <tr>\n",
       "      <th>2</th>\n",
       "      <td>4</td>\n",
       "      <td>0</td>\n",
       "      <td>0</td>\n",
       "      <td>35</td>\n",
       "      <td>1</td>\n",
       "      <td>10</td>\n",
       "      <td>160.385.871.010.253</td>\n",
       "      <td>No</td>\n",
       "      <td>124.190.752.859.313</td>\n",
       "      <td>Yes</td>\n",
       "      <td>...</td>\n",
       "      <td>4010</td>\n",
       "      <td>4</td>\n",
       "      <td>Renda Variavel</td>\n",
       "      <td>no</td>\n",
       "      <td>38690</td>\n",
       "      <td>2</td>\n",
       "      <td>No</td>\n",
       "      <td>3</td>\n",
       "      <td>10</td>\n",
       "      <td>Urbano</td>\n",
       "    </tr>\n",
       "    <tr>\n",
       "      <th>3</th>\n",
       "      <td>5</td>\n",
       "      <td>0</td>\n",
       "      <td>0</td>\n",
       "      <td>51</td>\n",
       "      <td>0</td>\n",
       "      <td>14</td>\n",
       "      <td></td>\n",
       "      <td>No</td>\n",
       "      <td>306.251.380.643.571</td>\n",
       "      <td>Yes</td>\n",
       "      <td>...</td>\n",
       "      <td>15440</td>\n",
       "      <td>7</td>\n",
       "      <td>Poupanca</td>\n",
       "      <td>yes</td>\n",
       "      <td>0</td>\n",
       "      <td>0</td>\n",
       "      <td>No</td>\n",
       "      <td>0</td>\n",
       "      <td>6</td>\n",
       "      <td>Urbano</td>\n",
       "    </tr>\n",
       "    <tr>\n",
       "      <th>4</th>\n",
       "      <td>6</td>\n",
       "      <td>0</td>\n",
       "      <td>0</td>\n",
       "      <td>50</td>\n",
       "      <td>0</td>\n",
       "      <td></td>\n",
       "      <td>114.985.642.811.351</td>\n",
       "      <td>No</td>\n",
       "      <td>243.925.298.096.985</td>\n",
       "      <td>Yes</td>\n",
       "      <td>...</td>\n",
       "      <td>18000</td>\n",
       "      <td>1</td>\n",
       "      <td>Renda Variavel</td>\n",
       "      <td>no</td>\n",
       "      <td>19217</td>\n",
       "      <td>2</td>\n",
       "      <td>Yes</td>\n",
       "      <td>3</td>\n",
       "      <td>17</td>\n",
       "      <td>Urbano</td>\n",
       "    </tr>\n",
       "    <tr>\n",
       "      <th>...</th>\n",
       "      <td>...</td>\n",
       "      <td>...</td>\n",
       "      <td>...</td>\n",
       "      <td>...</td>\n",
       "      <td>...</td>\n",
       "      <td>...</td>\n",
       "      <td>...</td>\n",
       "      <td>...</td>\n",
       "      <td>...</td>\n",
       "      <td>...</td>\n",
       "      <td>...</td>\n",
       "      <td>...</td>\n",
       "      <td>...</td>\n",
       "      <td>...</td>\n",
       "      <td>...</td>\n",
       "      <td>...</td>\n",
       "      <td>...</td>\n",
       "      <td>...</td>\n",
       "      <td>...</td>\n",
       "      <td>...</td>\n",
       "      <td>...</td>\n",
       "    </tr>\n",
       "    <tr>\n",
       "      <th>8138</th>\n",
       "      <td>10273</td>\n",
       "      <td>0</td>\n",
       "      <td>0</td>\n",
       "      <td>46</td>\n",
       "      <td>0</td>\n",
       "      <td>10</td>\n",
       "      <td>846.669.540.717.529</td>\n",
       "      <td>No</td>\n",
       "      <td>236.724.605.730.698</td>\n",
       "      <td>Yes</td>\n",
       "      <td>...</td>\n",
       "      <td>35050</td>\n",
       "      <td>1</td>\n",
       "      <td>Tesouro Direto</td>\n",
       "      <td>no</td>\n",
       "      <td>0</td>\n",
       "      <td>0</td>\n",
       "      <td>No</td>\n",
       "      <td>0</td>\n",
       "      <td>7</td>\n",
       "      <td>Urbano</td>\n",
       "    </tr>\n",
       "    <tr>\n",
       "      <th>8139</th>\n",
       "      <td>10274</td>\n",
       "      <td>0</td>\n",
       "      <td>0</td>\n",
       "      <td>48</td>\n",
       "      <td>0</td>\n",
       "      <td>12</td>\n",
       "      <td>666.127.214.963.319</td>\n",
       "      <td>No</td>\n",
       "      <td>209.238.624.130.139</td>\n",
       "      <td>Yes</td>\n",
       "      <td>...</td>\n",
       "      <td>16340</td>\n",
       "      <td>6</td>\n",
       "      <td>Renda Variavel</td>\n",
       "      <td>no</td>\n",
       "      <td>0</td>\n",
       "      <td>0</td>\n",
       "      <td>No</td>\n",
       "      <td>0</td>\n",
       "      <td>5</td>\n",
       "      <td>Rural</td>\n",
       "    </tr>\n",
       "    <tr>\n",
       "      <th>8140</th>\n",
       "      <td>10275</td>\n",
       "      <td>0</td>\n",
       "      <td>0</td>\n",
       "      <td>56</td>\n",
       "      <td>0</td>\n",
       "      <td>11</td>\n",
       "      <td>129.167.004.028.662</td>\n",
       "      <td>No</td>\n",
       "      <td></td>\n",
       "      <td>No</td>\n",
       "      <td>...</td>\n",
       "      <td>2790</td>\n",
       "      <td>4</td>\n",
       "      <td>Renda Variavel</td>\n",
       "      <td>no</td>\n",
       "      <td>0</td>\n",
       "      <td>0</td>\n",
       "      <td>No</td>\n",
       "      <td>0</td>\n",
       "      <td>12</td>\n",
       "      <td>Urbano</td>\n",
       "    </tr>\n",
       "    <tr>\n",
       "      <th>8141</th>\n",
       "      <td>10278</td>\n",
       "      <td>0</td>\n",
       "      <td>0</td>\n",
       "      <td>35</td>\n",
       "      <td>0</td>\n",
       "      <td>7</td>\n",
       "      <td>648.903.163.188.947</td>\n",
       "      <td>No</td>\n",
       "      <td>0</td>\n",
       "      <td>No</td>\n",
       "      <td>...</td>\n",
       "      <td>7990</td>\n",
       "      <td>8</td>\n",
       "      <td>Renda Variavel</td>\n",
       "      <td>no</td>\n",
       "      <td>0</td>\n",
       "      <td>0</td>\n",
       "      <td>No</td>\n",
       "      <td>1</td>\n",
       "      <td>12</td>\n",
       "      <td>Urbano</td>\n",
       "    </tr>\n",
       "    <tr>\n",
       "      <th>8142</th>\n",
       "      <td>10280</td>\n",
       "      <td>0</td>\n",
       "      <td>0</td>\n",
       "      <td>49</td>\n",
       "      <td>0</td>\n",
       "      <td>12</td>\n",
       "      <td>600.489.661.437.005</td>\n",
       "      <td>No</td>\n",
       "      <td>227.054.339.188.443</td>\n",
       "      <td>No</td>\n",
       "      <td>...</td>\n",
       "      <td>6200</td>\n",
       "      <td>1</td>\n",
       "      <td>Renda Variavel</td>\n",
       "      <td>no</td>\n",
       "      <td>0</td>\n",
       "      <td>0</td>\n",
       "      <td>No</td>\n",
       "      <td>0</td>\n",
       "      <td>1</td>\n",
       "      <td>Rural</td>\n",
       "    </tr>\n",
       "  </tbody>\n",
       "</table>\n",
       "<p>8143 rows × 25 columns</p>\n",
       "</div>"
      ],
      "text/plain": [
       "      INDEX  TARGET_FLAG TARGET_AMT IDADE  HOMEKIDS YOJ              SALARIO  \\\n",
       "0         1            0          0    60         0  11  673.493.816.169.868   \n",
       "1         2            0          0    43         0  11  914.492.546.351.364   \n",
       "2         4            0          0    35         1  10  160.385.871.010.253   \n",
       "3         5            0          0    51         0  14                        \n",
       "4         6            0          0    50         0      114.985.642.811.351   \n",
       "...     ...          ...        ...   ...       ...  ..                  ...   \n",
       "8138  10273            0          0    46         0  10  846.669.540.717.529   \n",
       "8139  10274            0          0    48         0  12  666.127.214.963.319   \n",
       "8140  10275            0          0    56         0  11  129.167.004.028.662   \n",
       "8141  10278            0          0    35         0   7  648.903.163.188.947   \n",
       "8142  10280            0          0    49         0  12  600.489.661.437.005   \n",
       "\n",
       "     CONTA_CLI             HOME_VAL CASADO  ... VALOR_SOLICITADO TIF  \\\n",
       "0           No                    0     No  ...            14230  11   \n",
       "1           No   25.725.163.538.943     No  ...            14940   1   \n",
       "2           No  124.190.752.859.313    Yes  ...             4010   4   \n",
       "3           No  306.251.380.643.571    Yes  ...            15440   7   \n",
       "4           No  243.925.298.096.985    Yes  ...            18000   1   \n",
       "...        ...                  ...    ...  ...              ...  ..   \n",
       "8138        No  236.724.605.730.698    Yes  ...            35050   1   \n",
       "8139        No  209.238.624.130.139    Yes  ...            16340   6   \n",
       "8140        No                          No  ...             2790   4   \n",
       "8141        No                    0     No  ...             7990   8   \n",
       "8142        No  227.054.339.188.443     No  ...             6200   1   \n",
       "\n",
       "           TIPO_PROD PROD_ALTO_VALOR OLDCLAIM  CLM_FREQ  TRAN_SUSP  \\\n",
       "0           Poupanca             yes     4461         2         No   \n",
       "1           Poupanca             yes        0         0         No   \n",
       "2     Renda Variavel              no    38690         2         No   \n",
       "3           Poupanca             yes        0         0         No   \n",
       "4     Renda Variavel              no    19217         2        Yes   \n",
       "...              ...             ...      ...       ...        ...   \n",
       "8138  Tesouro Direto              no        0         0         No   \n",
       "8139  Renda Variavel              no        0         0         No   \n",
       "8140  Renda Variavel              no        0         0         No   \n",
       "8141  Renda Variavel              no        0         0         No   \n",
       "8142  Renda Variavel              no        0         0         No   \n",
       "\n",
       "     TEMPO_CLIENTE TEMPO_VIDA_PROD  URBANICITY  \n",
       "0                3              18      Urbano  \n",
       "1                0               1      Urbano  \n",
       "2                3              10      Urbano  \n",
       "3                0               6      Urbano  \n",
       "4                3              17      Urbano  \n",
       "...            ...             ...         ...  \n",
       "8138             0               7      Urbano  \n",
       "8139             0               5       Rural  \n",
       "8140             0              12      Urbano  \n",
       "8141             1              12      Urbano  \n",
       "8142             0               1       Rural  \n",
       "\n",
       "[8143 rows x 25 columns]"
      ]
     },
     "execution_count": 2,
     "metadata": {},
     "output_type": "execute_result"
    }
   ],
   "source": [
    "# Carrega o dataset\n",
    "dados = pd.read_csv(\"dados/dados_historicos.csv\",sep=';')\n",
    "dados"
   ]
  },
  {
   "cell_type": "markdown",
   "metadata": {},
   "source": [
    "**Dataset contém 8.143 registros e 26 variáveis.**"
   ]
  },
  {
   "cell_type": "markdown",
   "metadata": {},
   "source": [
    "# Dicionário de Dados\n",
    "\n"
   ]
  },
  {
   "cell_type": "markdown",
   "metadata": {},
   "source": [
    "### **$$Variáveis:$$**\n",
    "\n",
    "- **INDEX:** Id do Cliente\n",
    "\n",
    "\n",
    "- **TARGET_FLAG:** Risco da Transação (1= alto risco e 0 = baixo risco)\n",
    "\n",
    "    \n",
    "- **TARGET_AMT:** Custo da transação\n",
    "\n",
    "\n",
    "- **IDADE:** Idade do Cliente\n",
    "\n",
    "\n",
    "- **HOMEKIDS:**  Número de filhos do cliente\n",
    "\n",
    "\n",
    "- **YOJ:** Anos no trabalho atual\n",
    "\n",
    "\n",
    "- **SALARIO:** Salário do Cliente\n",
    "\n",
    "\n",
    "- **CONTA_CLI:** O Cliente tem mais que uma conta em banco\n",
    "\n",
    "\n",
    "- **HOME_VAL:** Valor da casa onde mora.\n",
    "\n",
    "\n",
    "- **CASADO:** Estado civil\n",
    "\n",
    "\n",
    "- **SEX:** Gênero\n",
    "    \n",
    "    \n",
    "- **EDUCATION:** Nível educacional do cliente\n",
    "\n",
    "\n",
    "- **JOB:** Categoria de trabalho\n",
    "    \n",
    "    \n",
    "- **TRAVTIME:** Distancia para o trabalho\n",
    "\n",
    "\n",
    "- **USO_PROD:** Finalidade do uso do produto financeiro.\n",
    "\n",
    "    \n",
    "- **VALOR_SOLICITADO:** Valor solicitado ao banco.\n",
    "\n",
    "\n",
    "- **TIF:** Tempo de experiencia profissional \n",
    "\n",
    "\n",
    "- **TIPO_PROD:** Tipo de produto financeiro\n",
    "\n",
    "\n",
    "- **PROD_ALTO_VALOR:** Produto financeiro de alto valor\n",
    "\n",
    "\n",
    "- **OLDCLAIM:** Total da Dívida financeira nos últimos 5 anos.\n",
    "\n",
    "\n",
    "- **CLM_FREQ:** Total em anos da dívida financeira.\n",
    "\n",
    "\n",
    "- **TRAN_SUSP:** Se existe transação suspeita detectada\n",
    "\n",
    "\n",
    "- **TEMPO_CLIENTE:** Tempo como cliente do banco.\n",
    "\n",
    "    \n",
    "- **TEMPO_VIDA_PROD:** Prazo para pagar a divida\n",
    "\n",
    "\n",
    "- **URBANICITY:** Se mora na região urbana ou rural\n",
    "\n",
    "\n"
   ]
  },
  {
   "cell_type": "markdown",
   "metadata": {},
   "source": [
    "# Análise Exploratória"
   ]
  },
  {
   "cell_type": "code",
   "execution_count": 3,
   "metadata": {},
   "outputs": [],
   "source": [
    "#Vamos excluir a variável ID pois ela é inrrelavante para nosso objetivo\n",
    "dados = dados.drop('INDEX',axis=1)"
   ]
  },
  {
   "cell_type": "code",
   "execution_count": 4,
   "metadata": {},
   "outputs": [
    {
     "data": {
      "text/plain": [
       "TARGET_FLAG          int64\n",
       "TARGET_AMT          object\n",
       "IDADE               object\n",
       "HOMEKIDS             int64\n",
       "YOJ                 object\n",
       "SALARIO             object\n",
       "CONTA_CLI           object\n",
       "HOME_VAL            object\n",
       "CASADO              object\n",
       "SEX                 object\n",
       "EDUCATION           object\n",
       "JOB                 object\n",
       "TRAVTIME            object\n",
       "USO_PROD            object\n",
       "VALOR_SOLICITADO     int64\n",
       "TIF                  int64\n",
       "TIPO_PROD           object\n",
       "PROD_ALTO_VALOR     object\n",
       "OLDCLAIM             int64\n",
       "CLM_FREQ             int64\n",
       "TRAN_SUSP           object\n",
       "TEMPO_CLIENTE        int64\n",
       "TEMPO_VIDA_PROD     object\n",
       "URBANICITY          object\n",
       "dtype: object"
      ]
     },
     "execution_count": 4,
     "metadata": {},
     "output_type": "execute_result"
    }
   ],
   "source": [
    "# Tipos de dados das colunas\n",
    "dados.dtypes"
   ]
  },
  {
   "cell_type": "markdown",
   "metadata": {},
   "source": [
    "**Algumas variáveis estão com o tipo de dados errado, temos que transformar os dados de acordo com as características de cada variável**"
   ]
  },
  {
   "cell_type": "code",
   "execution_count": 5,
   "metadata": {},
   "outputs": [
    {
     "data": {
      "text/plain": [
       "TARGET_FLAG         0\n",
       "TARGET_AMT          0\n",
       "IDADE               0\n",
       "HOMEKIDS            0\n",
       "YOJ                 0\n",
       "SALARIO             0\n",
       "CONTA_CLI           0\n",
       "HOME_VAL            0\n",
       "CASADO              0\n",
       "SEX                 0\n",
       "EDUCATION           0\n",
       "JOB                 0\n",
       "TRAVTIME            0\n",
       "USO_PROD            0\n",
       "VALOR_SOLICITADO    0\n",
       "TIF                 0\n",
       "TIPO_PROD           0\n",
       "PROD_ALTO_VALOR     0\n",
       "OLDCLAIM            0\n",
       "CLM_FREQ            0\n",
       "TRAN_SUSP           0\n",
       "TEMPO_CLIENTE       0\n",
       "TEMPO_VIDA_PROD     0\n",
       "URBANICITY          0\n",
       "dtype: int64"
      ]
     },
     "execution_count": 5,
     "metadata": {},
     "output_type": "execute_result"
    }
   ],
   "source": [
    "# Verificar se existe valores nulos\n",
    "dados.isnull().sum()"
   ]
  },
  {
   "cell_type": "code",
   "execution_count": 6,
   "metadata": {},
   "outputs": [
    {
     "data": {
      "text/plain": [
       "0"
      ]
     },
     "execution_count": 6,
     "metadata": {},
     "output_type": "execute_result"
    }
   ],
   "source": [
    "#Verificar se existe dados duplicados\n",
    "sum(dados.duplicated())"
   ]
  },
  {
   "cell_type": "markdown",
   "metadata": {},
   "source": [
    "**Não há valores nulos e nem duplicados**"
   ]
  },
  {
   "cell_type": "markdown",
   "metadata": {},
   "source": [
    "# Feature engineering"
   ]
  },
  {
   "cell_type": "markdown",
   "metadata": {},
   "source": [
    "**As variáveis: SALARIO, HOME_VAL e TRAVTIME, estão com valores fora da realidade, vamos transformar em variáveis categoricas dependendo da quantidade de numeros por linha** "
   ]
  },
  {
   "cell_type": "code",
   "execution_count": 7,
   "metadata": {},
   "outputs": [
    {
     "data": {
      "text/html": [
       "<div>\n",
       "<style scoped>\n",
       "    .dataframe tbody tr th:only-of-type {\n",
       "        vertical-align: middle;\n",
       "    }\n",
       "\n",
       "    .dataframe tbody tr th {\n",
       "        vertical-align: top;\n",
       "    }\n",
       "\n",
       "    .dataframe thead th {\n",
       "        text-align: right;\n",
       "    }\n",
       "</style>\n",
       "<table border=\"1\" class=\"dataframe\">\n",
       "  <thead>\n",
       "    <tr style=\"text-align: right;\">\n",
       "      <th></th>\n",
       "      <th>TARGET_FLAG</th>\n",
       "      <th>TARGET_AMT</th>\n",
       "      <th>IDADE</th>\n",
       "      <th>HOMEKIDS</th>\n",
       "      <th>YOJ</th>\n",
       "      <th>SALARIO</th>\n",
       "      <th>CONTA_CLI</th>\n",
       "      <th>HOME_VAL</th>\n",
       "      <th>CASADO</th>\n",
       "      <th>SEX</th>\n",
       "      <th>...</th>\n",
       "      <th>PROD_ALTO_VALOR</th>\n",
       "      <th>OLDCLAIM</th>\n",
       "      <th>CLM_FREQ</th>\n",
       "      <th>TRAN_SUSP</th>\n",
       "      <th>TEMPO_CLIENTE</th>\n",
       "      <th>TEMPO_VIDA_PROD</th>\n",
       "      <th>URBANICITY</th>\n",
       "      <th>N_Salario</th>\n",
       "      <th>N_HOME_VAL</th>\n",
       "      <th>N_TRAVTIME</th>\n",
       "    </tr>\n",
       "  </thead>\n",
       "  <tbody>\n",
       "    <tr>\n",
       "      <th>0</th>\n",
       "      <td>0</td>\n",
       "      <td>0</td>\n",
       "      <td>60</td>\n",
       "      <td>0</td>\n",
       "      <td>11</td>\n",
       "      <td>673.493.816.169.868</td>\n",
       "      <td>No</td>\n",
       "      <td>0</td>\n",
       "      <td>No</td>\n",
       "      <td>M</td>\n",
       "      <td>...</td>\n",
       "      <td>yes</td>\n",
       "      <td>4461</td>\n",
       "      <td>2</td>\n",
       "      <td>No</td>\n",
       "      <td>3</td>\n",
       "      <td>18</td>\n",
       "      <td>Urbano</td>\n",
       "      <td>19</td>\n",
       "      <td>1</td>\n",
       "      <td>19</td>\n",
       "    </tr>\n",
       "    <tr>\n",
       "      <th>1</th>\n",
       "      <td>0</td>\n",
       "      <td>0</td>\n",
       "      <td>43</td>\n",
       "      <td>0</td>\n",
       "      <td>11</td>\n",
       "      <td>914.492.546.351.364</td>\n",
       "      <td>No</td>\n",
       "      <td>25.725.163.538.943</td>\n",
       "      <td>No</td>\n",
       "      <td>M</td>\n",
       "      <td>...</td>\n",
       "      <td>yes</td>\n",
       "      <td>0</td>\n",
       "      <td>0</td>\n",
       "      <td>No</td>\n",
       "      <td>0</td>\n",
       "      <td>1</td>\n",
       "      <td>Urbano</td>\n",
       "      <td>19</td>\n",
       "      <td>18</td>\n",
       "      <td>19</td>\n",
       "    </tr>\n",
       "    <tr>\n",
       "      <th>2</th>\n",
       "      <td>0</td>\n",
       "      <td>0</td>\n",
       "      <td>35</td>\n",
       "      <td>1</td>\n",
       "      <td>10</td>\n",
       "      <td>160.385.871.010.253</td>\n",
       "      <td>No</td>\n",
       "      <td>124.190.752.859.313</td>\n",
       "      <td>Yes</td>\n",
       "      <td>F</td>\n",
       "      <td>...</td>\n",
       "      <td>no</td>\n",
       "      <td>38690</td>\n",
       "      <td>2</td>\n",
       "      <td>No</td>\n",
       "      <td>3</td>\n",
       "      <td>10</td>\n",
       "      <td>Urbano</td>\n",
       "      <td>19</td>\n",
       "      <td>19</td>\n",
       "      <td>1</td>\n",
       "    </tr>\n",
       "    <tr>\n",
       "      <th>3</th>\n",
       "      <td>0</td>\n",
       "      <td>0</td>\n",
       "      <td>51</td>\n",
       "      <td>0</td>\n",
       "      <td>14</td>\n",
       "      <td></td>\n",
       "      <td>No</td>\n",
       "      <td>306.251.380.643.571</td>\n",
       "      <td>Yes</td>\n",
       "      <td>M</td>\n",
       "      <td>...</td>\n",
       "      <td>yes</td>\n",
       "      <td>0</td>\n",
       "      <td>0</td>\n",
       "      <td>No</td>\n",
       "      <td>0</td>\n",
       "      <td>6</td>\n",
       "      <td>Urbano</td>\n",
       "      <td>1</td>\n",
       "      <td>19</td>\n",
       "      <td>19</td>\n",
       "    </tr>\n",
       "    <tr>\n",
       "      <th>4</th>\n",
       "      <td>0</td>\n",
       "      <td>0</td>\n",
       "      <td>50</td>\n",
       "      <td>0</td>\n",
       "      <td></td>\n",
       "      <td>114.985.642.811.351</td>\n",
       "      <td>No</td>\n",
       "      <td>243.925.298.096.985</td>\n",
       "      <td>Yes</td>\n",
       "      <td>F</td>\n",
       "      <td>...</td>\n",
       "      <td>no</td>\n",
       "      <td>19217</td>\n",
       "      <td>2</td>\n",
       "      <td>Yes</td>\n",
       "      <td>3</td>\n",
       "      <td>17</td>\n",
       "      <td>Urbano</td>\n",
       "      <td>19</td>\n",
       "      <td>19</td>\n",
       "      <td>19</td>\n",
       "    </tr>\n",
       "  </tbody>\n",
       "</table>\n",
       "<p>5 rows × 27 columns</p>\n",
       "</div>"
      ],
      "text/plain": [
       "   TARGET_FLAG TARGET_AMT IDADE  HOMEKIDS YOJ              SALARIO CONTA_CLI  \\\n",
       "0            0          0    60         0  11  673.493.816.169.868        No   \n",
       "1            0          0    43         0  11  914.492.546.351.364        No   \n",
       "2            0          0    35         1  10  160.385.871.010.253        No   \n",
       "3            0          0    51         0  14                             No   \n",
       "4            0          0    50         0      114.985.642.811.351        No   \n",
       "\n",
       "              HOME_VAL CASADO SEX  ... PROD_ALTO_VALOR OLDCLAIM CLM_FREQ  \\\n",
       "0                    0     No   M  ...             yes     4461        2   \n",
       "1   25.725.163.538.943     No   M  ...             yes        0        0   \n",
       "2  124.190.752.859.313    Yes   F  ...              no    38690        2   \n",
       "3  306.251.380.643.571    Yes   M  ...             yes        0        0   \n",
       "4  243.925.298.096.985    Yes   F  ...              no    19217        2   \n",
       "\n",
       "  TRAN_SUSP  TEMPO_CLIENTE  TEMPO_VIDA_PROD URBANICITY N_Salario  N_HOME_VAL  \\\n",
       "0        No              3               18     Urbano        19           1   \n",
       "1        No              0                1     Urbano        19          18   \n",
       "2        No              3               10     Urbano        19          19   \n",
       "3        No              0                6     Urbano         1          19   \n",
       "4       Yes              3               17     Urbano        19          19   \n",
       "\n",
       "   N_TRAVTIME  \n",
       "0          19  \n",
       "1          19  \n",
       "2           1  \n",
       "3          19  \n",
       "4          19  \n",
       "\n",
       "[5 rows x 27 columns]"
      ]
     },
     "execution_count": 7,
     "metadata": {},
     "output_type": "execute_result"
    }
   ],
   "source": [
    "#Criar as colunas \n",
    "dados['N_Salario'] = dados[\"SALARIO\"].str.len()\n",
    "dados['N_HOME_VAL'] = dados[\"HOME_VAL\"].str.len()\n",
    "dados['N_TRAVTIME'] = dados[\"TRAVTIME\"].str.len()\n",
    "dados.head(5)"
   ]
  },
  {
   "cell_type": "markdown",
   "metadata": {},
   "source": [
    "**Criamos colunas contando a quantidade de numeros que aparecem nas veriáveis selecionadas** "
   ]
  },
  {
   "cell_type": "code",
   "execution_count": 8,
   "metadata": {},
   "outputs": [
    {
     "data": {
      "text/plain": [
       "19    78.75\n",
       "1     13.02\n",
       "18     7.50\n",
       "17     0.63\n",
       "15     0.09\n",
       "13     0.01\n",
       "Name: N_Salario, dtype: float64"
      ]
     },
     "execution_count": 8,
     "metadata": {},
     "output_type": "execute_result"
    }
   ],
   "source": [
    "#Analise da variável SALARIO\n",
    "round(dados['N_Salario'].value_counts()/len(dados)*100,2)"
   ]
  },
  {
   "cell_type": "markdown",
   "metadata": {},
   "source": [
    "**Poderiamos criar 2 categorias, os numeros com 19 caracteres sendo salario alto e com menos de 19 como baixo, porém temos praticamente 80% dos dados com 19 caracteres e 13% dados com apenas 1 caracter(que neste contexto representa valores não coletados), neste caso é melhor excluir a variável**"
   ]
  },
  {
   "cell_type": "code",
   "execution_count": 9,
   "metadata": {},
   "outputs": [
    {
     "data": {
      "text/plain": [
       "19    59.43\n",
       "1     33.80\n",
       "18     6.09\n",
       "17     0.64\n",
       "15     0.05\n",
       "Name: N_HOME_VAL, dtype: float64"
      ]
     },
     "execution_count": 9,
     "metadata": {},
     "output_type": "execute_result"
    }
   ],
   "source": [
    "round(dados['N_HOME_VAL'].value_counts()/len(dados)*100,2)"
   ]
  },
  {
   "cell_type": "code",
   "execution_count": 10,
   "metadata": {},
   "outputs": [
    {
     "data": {
      "text/plain": [
       "19    86.52\n",
       "18     8.74\n",
       "1      3.83\n",
       "17     0.80\n",
       "15     0.10\n",
       "14     0.01\n",
       "Name: N_TRAVTIME, dtype: float64"
      ]
     },
     "execution_count": 10,
     "metadata": {},
     "output_type": "execute_result"
    }
   ],
   "source": [
    "round(dados['N_TRAVTIME'].value_counts()/len(dados)*100,2)"
   ]
  },
  {
   "cell_type": "markdown",
   "metadata": {},
   "source": [
    "**Note que as variáveis: N_HOME_VAL e N_TRAVTIME segue o mesmo padrão da analise da variável SALARIO, por isso vamos excluir essa variáveis também**"
   ]
  },
  {
   "cell_type": "code",
   "execution_count": 11,
   "metadata": {},
   "outputs": [
    {
     "data": {
      "text/html": [
       "<div>\n",
       "<style scoped>\n",
       "    .dataframe tbody tr th:only-of-type {\n",
       "        vertical-align: middle;\n",
       "    }\n",
       "\n",
       "    .dataframe tbody tr th {\n",
       "        vertical-align: top;\n",
       "    }\n",
       "\n",
       "    .dataframe thead th {\n",
       "        text-align: right;\n",
       "    }\n",
       "</style>\n",
       "<table border=\"1\" class=\"dataframe\">\n",
       "  <thead>\n",
       "    <tr style=\"text-align: right;\">\n",
       "      <th></th>\n",
       "      <th>TARGET_FLAG</th>\n",
       "      <th>TARGET_AMT</th>\n",
       "      <th>IDADE</th>\n",
       "      <th>HOMEKIDS</th>\n",
       "      <th>YOJ</th>\n",
       "      <th>CONTA_CLI</th>\n",
       "      <th>CASADO</th>\n",
       "      <th>SEX</th>\n",
       "      <th>EDUCATION</th>\n",
       "      <th>JOB</th>\n",
       "      <th>...</th>\n",
       "      <th>VALOR_SOLICITADO</th>\n",
       "      <th>TIF</th>\n",
       "      <th>TIPO_PROD</th>\n",
       "      <th>PROD_ALTO_VALOR</th>\n",
       "      <th>OLDCLAIM</th>\n",
       "      <th>CLM_FREQ</th>\n",
       "      <th>TRAN_SUSP</th>\n",
       "      <th>TEMPO_CLIENTE</th>\n",
       "      <th>TEMPO_VIDA_PROD</th>\n",
       "      <th>URBANICITY</th>\n",
       "    </tr>\n",
       "  </thead>\n",
       "  <tbody>\n",
       "    <tr>\n",
       "      <th>0</th>\n",
       "      <td>0</td>\n",
       "      <td>0</td>\n",
       "      <td>60</td>\n",
       "      <td>0</td>\n",
       "      <td>11</td>\n",
       "      <td>No</td>\n",
       "      <td>No</td>\n",
       "      <td>M</td>\n",
       "      <td>PhD</td>\n",
       "      <td>Profissional</td>\n",
       "      <td>...</td>\n",
       "      <td>14230</td>\n",
       "      <td>11</td>\n",
       "      <td>Poupanca</td>\n",
       "      <td>yes</td>\n",
       "      <td>4461</td>\n",
       "      <td>2</td>\n",
       "      <td>No</td>\n",
       "      <td>3</td>\n",
       "      <td>18</td>\n",
       "      <td>Urbano</td>\n",
       "    </tr>\n",
       "    <tr>\n",
       "      <th>1</th>\n",
       "      <td>0</td>\n",
       "      <td>0</td>\n",
       "      <td>43</td>\n",
       "      <td>0</td>\n",
       "      <td>11</td>\n",
       "      <td>No</td>\n",
       "      <td>No</td>\n",
       "      <td>M</td>\n",
       "      <td>Ensino Medio</td>\n",
       "      <td>Trabalho Manual</td>\n",
       "      <td>...</td>\n",
       "      <td>14940</td>\n",
       "      <td>1</td>\n",
       "      <td>Poupanca</td>\n",
       "      <td>yes</td>\n",
       "      <td>0</td>\n",
       "      <td>0</td>\n",
       "      <td>No</td>\n",
       "      <td>0</td>\n",
       "      <td>1</td>\n",
       "      <td>Urbano</td>\n",
       "    </tr>\n",
       "    <tr>\n",
       "      <th>2</th>\n",
       "      <td>0</td>\n",
       "      <td>0</td>\n",
       "      <td>35</td>\n",
       "      <td>1</td>\n",
       "      <td>10</td>\n",
       "      <td>No</td>\n",
       "      <td>Yes</td>\n",
       "      <td>F</td>\n",
       "      <td>Ensino Medio</td>\n",
       "      <td>Trabalho Administrativo</td>\n",
       "      <td>...</td>\n",
       "      <td>4010</td>\n",
       "      <td>4</td>\n",
       "      <td>Renda Variavel</td>\n",
       "      <td>no</td>\n",
       "      <td>38690</td>\n",
       "      <td>2</td>\n",
       "      <td>No</td>\n",
       "      <td>3</td>\n",
       "      <td>10</td>\n",
       "      <td>Urbano</td>\n",
       "    </tr>\n",
       "  </tbody>\n",
       "</table>\n",
       "<p>3 rows × 21 columns</p>\n",
       "</div>"
      ],
      "text/plain": [
       "   TARGET_FLAG TARGET_AMT IDADE  HOMEKIDS YOJ CONTA_CLI CASADO SEX  \\\n",
       "0            0          0    60         0  11        No     No   M   \n",
       "1            0          0    43         0  11        No     No   M   \n",
       "2            0          0    35         1  10        No    Yes   F   \n",
       "\n",
       "      EDUCATION                      JOB  ... VALOR_SOLICITADO  TIF  \\\n",
       "0           PhD             Profissional  ...            14230   11   \n",
       "1  Ensino Medio          Trabalho Manual  ...            14940    1   \n",
       "2  Ensino Medio  Trabalho Administrativo  ...             4010    4   \n",
       "\n",
       "        TIPO_PROD PROD_ALTO_VALOR OLDCLAIM  CLM_FREQ  TRAN_SUSP TEMPO_CLIENTE  \\\n",
       "0        Poupanca             yes     4461         2         No             3   \n",
       "1        Poupanca             yes        0         0         No             0   \n",
       "2  Renda Variavel              no    38690         2         No             3   \n",
       "\n",
       "   TEMPO_VIDA_PROD URBANICITY  \n",
       "0               18     Urbano  \n",
       "1                1     Urbano  \n",
       "2               10     Urbano  \n",
       "\n",
       "[3 rows x 21 columns]"
      ]
     },
     "execution_count": 11,
     "metadata": {},
     "output_type": "execute_result"
    }
   ],
   "source": [
    "#Exluir as variáveis SALARIO, HOME_VAL , TRAVTIME, N_Salario, N_HOME_VAL e N_TRAVTIME\n",
    "dados.drop(['SALARIO','HOME_VAL','TRAVTIME','N_Salario','N_HOME_VAL','N_TRAVTIME'],axis=1,inplace=True)\n",
    "dados.head(3)\n"
   ]
  },
  {
   "cell_type": "markdown",
   "metadata": {},
   "source": [
    "**Variáveis: SALARIO, HOME_VAL , TRAVTIME, N_Salario, N_HOME_VAL e N_TRAVTIME, excluidas**"
   ]
  },
  {
   "cell_type": "code",
   "execution_count": 12,
   "metadata": {},
   "outputs": [
    {
     "data": {
      "text/plain": [
       "TARGET_FLAG            2\n",
       "TARGET_AMT          1948\n",
       "IDADE                 61\n",
       "HOMEKIDS               6\n",
       "YOJ                   22\n",
       "CONTA_CLI              2\n",
       "CASADO                 2\n",
       "SEX                    2\n",
       "EDUCATION              5\n",
       "JOB                    9\n",
       "USO_PROD               2\n",
       "VALOR_SOLICITADO    2788\n",
       "TIF                   23\n",
       "TIPO_PROD              6\n",
       "PROD_ALTO_VALOR        2\n",
       "OLDCLAIM            2851\n",
       "CLM_FREQ               6\n",
       "TRAN_SUSP              2\n",
       "TEMPO_CLIENTE         13\n",
       "TEMPO_VIDA_PROD       31\n",
       "URBANICITY             2\n",
       "dtype: int64"
      ]
     },
     "execution_count": 12,
     "metadata": {},
     "output_type": "execute_result"
    }
   ],
   "source": [
    "# Verifica o total de valores únicos por coluna\n",
    "dados.nunique()"
   ]
  },
  {
   "cell_type": "markdown",
   "metadata": {},
   "source": [
    "**Analisandos os valores únicos, pela quantidade de classes, podemos adotar que acima de 9 classes as variáveis serão numéricas e abaixo categóricas**"
   ]
  },
  {
   "cell_type": "markdown",
   "metadata": {},
   "source": [
    "**OBS: Antes de mudar o type das colunas, vamos verificar se há  dados faltantes ou incorretos, para não ter erros na hora de mudar o tipo dos dados**"
   ]
  },
  {
   "cell_type": "code",
   "execution_count": 13,
   "metadata": {},
   "outputs": [
    {
     "name": "stdout",
     "output_type": "stream",
     "text": [
      "\n",
      "Coluna: TARGET_FLAG, [0 1]\n",
      "\n",
      "Coluna: TARGET_AMT, ['0' '2946' '4021' ... '3106' '471.115.458.053.381' '3135']\n",
      "\n",
      "Coluna: IDADE, ['60' '43' '35' '51' '50' '34' '54' '37' '53' '55' '45' '39' '42' '31'\n",
      " '28' '48' '47' '44' '33' '32' '40' '49' '52' '41' '56' '38' '63' '59'\n",
      " '46' '30' '29' '58' '36' '66' '61' '62' '80' '57' '64' ' ' '25' '27' '26'\n",
      " '20' '21' '19' '72' '69' '24' '67' '23' '65' '70' '22' '17' '16' '81'\n",
      " '73' '68' '18' '76']\n",
      "\n",
      "Coluna: HOMEKIDS, [0 1 2 3 4 5]\n",
      "\n",
      "Coluna: YOJ, ['11' '10' '14' ' ' '12' '7' '5' '0' '13' '9' '17' '8' '15' '16' '6' '18'\n",
      " '23' '3' '4' '2' '19' '1']\n",
      "\n",
      "Coluna: CONTA_CLI, ['No' 'Yes']\n",
      "\n",
      "Coluna: CASADO, ['No' 'Yes']\n",
      "\n",
      "Coluna: SEX, ['M' 'F']\n",
      "\n",
      "Coluna: EDUCATION, ['PhD' 'Ensino Medio' 'Ensino Fundamental' 'Ensino Superior' 'Mestrado']\n",
      "\n",
      "Coluna: JOB, ['Profissional' 'Trabalho Manual' 'Trabalho Administrativo' 'Medico'\n",
      " 'Advogado' 'Gerente' ' ' 'Do Lar' 'Estudante']\n",
      "\n",
      "Coluna: USO_PROD, ['Pessoal' 'Comercial']\n",
      "\n",
      "Coluna: VALOR_SOLICITADO, [14230 14940  4010 ... 34420 35050  2790]\n",
      "\n",
      "Coluna: TIF, [11  1  4  7  6 10  9 17 18 13  3 16  5 12  8 14 22  2 20 15 19 25 21]\n",
      "\n",
      "Coluna: TIPO_PROD, ['Poupanca' 'Renda Variavel' 'CDB' 'Renda Fixa' 'Tesouro Direto'\n",
      " 'Criptomeda']\n",
      "\n",
      "Coluna: PROD_ALTO_VALOR, ['yes' 'no']\n",
      "\n",
      "Coluna: OLDCLAIM, [ 4461     0 38690 ... 22762  3035  6560]\n",
      "\n",
      "Coluna: CLM_FREQ, [2 0 1 3 5 4]\n",
      "\n",
      "Coluna: TRAN_SUSP, ['No' 'Yes']\n",
      "\n",
      "Coluna: TEMPO_CLIENTE, [ 3  0 10  1  5  2  4 13  6  7  8  9 11]\n",
      "\n",
      "Coluna: TEMPO_VIDA_PROD, ['18' '1' '10' '6' '17' '7' '11' '9' '5' '13' '16' '20' '14' '15' '12' '8'\n",
      " ' ' '3' '21' '4' '19' '0' '23' '2' '22' '26' '27' '24' '25' '-3' '28']\n",
      "\n",
      "Coluna: URBANICITY, ['Urbano' 'Rural']\n"
     ]
    }
   ],
   "source": [
    "#Verificar todos os dados preenchidos de cada coluna\n",
    "\n",
    "for i in dados.columns:\n",
    "    print(f'\\nColuna: {i}, {dados[i].unique()}')"
   ]
  },
  {
   "cell_type": "markdown",
   "metadata": {},
   "source": [
    "**Note que há colunas com dados missing e com erros no preenchimento dos dados**"
   ]
  },
  {
   "cell_type": "code",
   "execution_count": 14,
   "metadata": {},
   "outputs": [
    {
     "data": {
      "text/html": [
       "<div>\n",
       "<style scoped>\n",
       "    .dataframe tbody tr th:only-of-type {\n",
       "        vertical-align: middle;\n",
       "    }\n",
       "\n",
       "    .dataframe tbody tr th {\n",
       "        vertical-align: top;\n",
       "    }\n",
       "\n",
       "    .dataframe thead th {\n",
       "        text-align: right;\n",
       "    }\n",
       "</style>\n",
       "<table border=\"1\" class=\"dataframe\">\n",
       "  <thead>\n",
       "    <tr style=\"text-align: right;\">\n",
       "      <th></th>\n",
       "      <th>TARGET_FLAG</th>\n",
       "      <th>TARGET_AMT</th>\n",
       "      <th>IDADE</th>\n",
       "      <th>HOMEKIDS</th>\n",
       "      <th>YOJ</th>\n",
       "      <th>CONTA_CLI</th>\n",
       "      <th>CASADO</th>\n",
       "      <th>SEX</th>\n",
       "      <th>EDUCATION</th>\n",
       "      <th>JOB</th>\n",
       "      <th>...</th>\n",
       "      <th>VALOR_SOLICITADO</th>\n",
       "      <th>TIF</th>\n",
       "      <th>TIPO_PROD</th>\n",
       "      <th>PROD_ALTO_VALOR</th>\n",
       "      <th>OLDCLAIM</th>\n",
       "      <th>CLM_FREQ</th>\n",
       "      <th>TRAN_SUSP</th>\n",
       "      <th>TEMPO_CLIENTE</th>\n",
       "      <th>TEMPO_VIDA_PROD</th>\n",
       "      <th>URBANICITY</th>\n",
       "    </tr>\n",
       "  </thead>\n",
       "  <tbody>\n",
       "    <tr>\n",
       "      <th>0</th>\n",
       "      <td>0</td>\n",
       "      <td>0</td>\n",
       "      <td>60</td>\n",
       "      <td>0</td>\n",
       "      <td>11</td>\n",
       "      <td>No</td>\n",
       "      <td>No</td>\n",
       "      <td>M</td>\n",
       "      <td>PhD</td>\n",
       "      <td>Profissional</td>\n",
       "      <td>...</td>\n",
       "      <td>14230</td>\n",
       "      <td>11</td>\n",
       "      <td>Poupanca</td>\n",
       "      <td>yes</td>\n",
       "      <td>4461</td>\n",
       "      <td>2</td>\n",
       "      <td>No</td>\n",
       "      <td>3</td>\n",
       "      <td>18</td>\n",
       "      <td>Urbano</td>\n",
       "    </tr>\n",
       "    <tr>\n",
       "      <th>1</th>\n",
       "      <td>0</td>\n",
       "      <td>0</td>\n",
       "      <td>43</td>\n",
       "      <td>0</td>\n",
       "      <td>11</td>\n",
       "      <td>No</td>\n",
       "      <td>No</td>\n",
       "      <td>M</td>\n",
       "      <td>Ensino Medio</td>\n",
       "      <td>Trabalho Manual</td>\n",
       "      <td>...</td>\n",
       "      <td>14940</td>\n",
       "      <td>1</td>\n",
       "      <td>Poupanca</td>\n",
       "      <td>yes</td>\n",
       "      <td>0</td>\n",
       "      <td>0</td>\n",
       "      <td>No</td>\n",
       "      <td>0</td>\n",
       "      <td>1</td>\n",
       "      <td>Urbano</td>\n",
       "    </tr>\n",
       "    <tr>\n",
       "      <th>2</th>\n",
       "      <td>0</td>\n",
       "      <td>0</td>\n",
       "      <td>35</td>\n",
       "      <td>1</td>\n",
       "      <td>10</td>\n",
       "      <td>No</td>\n",
       "      <td>Yes</td>\n",
       "      <td>F</td>\n",
       "      <td>Ensino Medio</td>\n",
       "      <td>Trabalho Administrativo</td>\n",
       "      <td>...</td>\n",
       "      <td>4010</td>\n",
       "      <td>4</td>\n",
       "      <td>Renda Variavel</td>\n",
       "      <td>no</td>\n",
       "      <td>38690</td>\n",
       "      <td>2</td>\n",
       "      <td>No</td>\n",
       "      <td>3</td>\n",
       "      <td>10</td>\n",
       "      <td>Urbano</td>\n",
       "    </tr>\n",
       "    <tr>\n",
       "      <th>3</th>\n",
       "      <td>0</td>\n",
       "      <td>0</td>\n",
       "      <td>51</td>\n",
       "      <td>0</td>\n",
       "      <td>14</td>\n",
       "      <td>No</td>\n",
       "      <td>Yes</td>\n",
       "      <td>M</td>\n",
       "      <td>Ensino Fundamental</td>\n",
       "      <td>Trabalho Manual</td>\n",
       "      <td>...</td>\n",
       "      <td>15440</td>\n",
       "      <td>7</td>\n",
       "      <td>Poupanca</td>\n",
       "      <td>yes</td>\n",
       "      <td>0</td>\n",
       "      <td>0</td>\n",
       "      <td>No</td>\n",
       "      <td>0</td>\n",
       "      <td>6</td>\n",
       "      <td>Urbano</td>\n",
       "    </tr>\n",
       "    <tr>\n",
       "      <th>4</th>\n",
       "      <td>0</td>\n",
       "      <td>0</td>\n",
       "      <td>50</td>\n",
       "      <td>0</td>\n",
       "      <td></td>\n",
       "      <td>No</td>\n",
       "      <td>Yes</td>\n",
       "      <td>F</td>\n",
       "      <td>PhD</td>\n",
       "      <td>Medico</td>\n",
       "      <td>...</td>\n",
       "      <td>18000</td>\n",
       "      <td>1</td>\n",
       "      <td>Renda Variavel</td>\n",
       "      <td>no</td>\n",
       "      <td>19217</td>\n",
       "      <td>2</td>\n",
       "      <td>Yes</td>\n",
       "      <td>3</td>\n",
       "      <td>17</td>\n",
       "      <td>Urbano</td>\n",
       "    </tr>\n",
       "    <tr>\n",
       "      <th>...</th>\n",
       "      <td>...</td>\n",
       "      <td>...</td>\n",
       "      <td>...</td>\n",
       "      <td>...</td>\n",
       "      <td>...</td>\n",
       "      <td>...</td>\n",
       "      <td>...</td>\n",
       "      <td>...</td>\n",
       "      <td>...</td>\n",
       "      <td>...</td>\n",
       "      <td>...</td>\n",
       "      <td>...</td>\n",
       "      <td>...</td>\n",
       "      <td>...</td>\n",
       "      <td>...</td>\n",
       "      <td>...</td>\n",
       "      <td>...</td>\n",
       "      <td>...</td>\n",
       "      <td>...</td>\n",
       "      <td>...</td>\n",
       "      <td>...</td>\n",
       "    </tr>\n",
       "    <tr>\n",
       "      <th>8138</th>\n",
       "      <td>0</td>\n",
       "      <td>0</td>\n",
       "      <td>46</td>\n",
       "      <td>0</td>\n",
       "      <td>10</td>\n",
       "      <td>No</td>\n",
       "      <td>Yes</td>\n",
       "      <td>F</td>\n",
       "      <td>Ensino Superior</td>\n",
       "      <td>Trabalho Manual</td>\n",
       "      <td>...</td>\n",
       "      <td>35050</td>\n",
       "      <td>1</td>\n",
       "      <td>Tesouro Direto</td>\n",
       "      <td>no</td>\n",
       "      <td>0</td>\n",
       "      <td>0</td>\n",
       "      <td>No</td>\n",
       "      <td>0</td>\n",
       "      <td>7</td>\n",
       "      <td>Urbano</td>\n",
       "    </tr>\n",
       "    <tr>\n",
       "      <th>8139</th>\n",
       "      <td>0</td>\n",
       "      <td>0</td>\n",
       "      <td>48</td>\n",
       "      <td>0</td>\n",
       "      <td>12</td>\n",
       "      <td>No</td>\n",
       "      <td>Yes</td>\n",
       "      <td>F</td>\n",
       "      <td>Ensino Superior</td>\n",
       "      <td>Trabalho Manual</td>\n",
       "      <td>...</td>\n",
       "      <td>16340</td>\n",
       "      <td>6</td>\n",
       "      <td>Renda Variavel</td>\n",
       "      <td>no</td>\n",
       "      <td>0</td>\n",
       "      <td>0</td>\n",
       "      <td>No</td>\n",
       "      <td>0</td>\n",
       "      <td>5</td>\n",
       "      <td>Rural</td>\n",
       "    </tr>\n",
       "    <tr>\n",
       "      <th>8140</th>\n",
       "      <td>0</td>\n",
       "      <td>0</td>\n",
       "      <td>56</td>\n",
       "      <td>0</td>\n",
       "      <td>11</td>\n",
       "      <td>No</td>\n",
       "      <td>No</td>\n",
       "      <td>F</td>\n",
       "      <td>Ensino Superior</td>\n",
       "      <td>Estudante</td>\n",
       "      <td>...</td>\n",
       "      <td>2790</td>\n",
       "      <td>4</td>\n",
       "      <td>Renda Variavel</td>\n",
       "      <td>no</td>\n",
       "      <td>0</td>\n",
       "      <td>0</td>\n",
       "      <td>No</td>\n",
       "      <td>0</td>\n",
       "      <td>12</td>\n",
       "      <td>Urbano</td>\n",
       "    </tr>\n",
       "    <tr>\n",
       "      <th>8141</th>\n",
       "      <td>0</td>\n",
       "      <td>0</td>\n",
       "      <td>35</td>\n",
       "      <td>0</td>\n",
       "      <td>7</td>\n",
       "      <td>No</td>\n",
       "      <td>No</td>\n",
       "      <td>F</td>\n",
       "      <td>Ensino Superior</td>\n",
       "      <td>Gerente</td>\n",
       "      <td>...</td>\n",
       "      <td>7990</td>\n",
       "      <td>8</td>\n",
       "      <td>Renda Variavel</td>\n",
       "      <td>no</td>\n",
       "      <td>0</td>\n",
       "      <td>0</td>\n",
       "      <td>No</td>\n",
       "      <td>1</td>\n",
       "      <td>12</td>\n",
       "      <td>Urbano</td>\n",
       "    </tr>\n",
       "    <tr>\n",
       "      <th>8142</th>\n",
       "      <td>0</td>\n",
       "      <td>0</td>\n",
       "      <td>49</td>\n",
       "      <td>0</td>\n",
       "      <td>12</td>\n",
       "      <td>No</td>\n",
       "      <td>No</td>\n",
       "      <td>F</td>\n",
       "      <td>Ensino Medio</td>\n",
       "      <td>Trabalho Manual</td>\n",
       "      <td>...</td>\n",
       "      <td>6200</td>\n",
       "      <td>1</td>\n",
       "      <td>Renda Variavel</td>\n",
       "      <td>no</td>\n",
       "      <td>0</td>\n",
       "      <td>0</td>\n",
       "      <td>No</td>\n",
       "      <td>0</td>\n",
       "      <td>1</td>\n",
       "      <td>Rural</td>\n",
       "    </tr>\n",
       "  </tbody>\n",
       "</table>\n",
       "<p>7793 rows × 21 columns</p>\n",
       "</div>"
      ],
      "text/plain": [
       "      TARGET_FLAG TARGET_AMT IDADE  HOMEKIDS YOJ CONTA_CLI CASADO SEX  \\\n",
       "0               0          0    60         0  11        No     No   M   \n",
       "1               0          0    43         0  11        No     No   M   \n",
       "2               0          0    35         1  10        No    Yes   F   \n",
       "3               0          0    51         0  14        No    Yes   M   \n",
       "4               0          0    50         0            No    Yes   F   \n",
       "...           ...        ...   ...       ...  ..       ...    ...  ..   \n",
       "8138            0          0    46         0  10        No    Yes   F   \n",
       "8139            0          0    48         0  12        No    Yes   F   \n",
       "8140            0          0    56         0  11        No     No   F   \n",
       "8141            0          0    35         0   7        No     No   F   \n",
       "8142            0          0    49         0  12        No     No   F   \n",
       "\n",
       "               EDUCATION                      JOB  ... VALOR_SOLICITADO  TIF  \\\n",
       "0                    PhD             Profissional  ...            14230   11   \n",
       "1           Ensino Medio          Trabalho Manual  ...            14940    1   \n",
       "2           Ensino Medio  Trabalho Administrativo  ...             4010    4   \n",
       "3     Ensino Fundamental          Trabalho Manual  ...            15440    7   \n",
       "4                    PhD                   Medico  ...            18000    1   \n",
       "...                  ...                      ...  ...              ...  ...   \n",
       "8138     Ensino Superior          Trabalho Manual  ...            35050    1   \n",
       "8139     Ensino Superior          Trabalho Manual  ...            16340    6   \n",
       "8140     Ensino Superior                Estudante  ...             2790    4   \n",
       "8141     Ensino Superior                  Gerente  ...             7990    8   \n",
       "8142        Ensino Medio          Trabalho Manual  ...             6200    1   \n",
       "\n",
       "           TIPO_PROD PROD_ALTO_VALOR OLDCLAIM  CLM_FREQ  TRAN_SUSP  \\\n",
       "0           Poupanca             yes     4461         2         No   \n",
       "1           Poupanca             yes        0         0         No   \n",
       "2     Renda Variavel              no    38690         2         No   \n",
       "3           Poupanca             yes        0         0         No   \n",
       "4     Renda Variavel              no    19217         2        Yes   \n",
       "...              ...             ...      ...       ...        ...   \n",
       "8138  Tesouro Direto              no        0         0         No   \n",
       "8139  Renda Variavel              no        0         0         No   \n",
       "8140  Renda Variavel              no        0         0         No   \n",
       "8141  Renda Variavel              no        0         0         No   \n",
       "8142  Renda Variavel              no        0         0         No   \n",
       "\n",
       "     TEMPO_CLIENTE  TEMPO_VIDA_PROD URBANICITY  \n",
       "0                3               18     Urbano  \n",
       "1                0                1     Urbano  \n",
       "2                3               10     Urbano  \n",
       "3                0                6     Urbano  \n",
       "4                3               17     Urbano  \n",
       "...            ...              ...        ...  \n",
       "8138             0                7     Urbano  \n",
       "8139             0                5      Rural  \n",
       "8140             0               12     Urbano  \n",
       "8141             1               12     Urbano  \n",
       "8142             0                1      Rural  \n",
       "\n",
       "[7793 rows x 21 columns]"
      ]
     },
     "execution_count": 14,
     "metadata": {},
     "output_type": "execute_result"
    }
   ],
   "source": [
    "#Excluir os dados preenchidos incorretamente da variável TARGET_AMT\n",
    "filt = dados['TARGET_AMT'].str.len().to_frame()\n",
    "\n",
    "#Filtrar somente registros com menos de 6 caracteres\n",
    "filt = filt[filt.TARGET_AMT<6].index\n",
    "\n",
    "dados = dados.loc[filt]\n",
    "dados"
   ]
  },
  {
   "cell_type": "markdown",
   "metadata": {},
   "source": [
    "**Excluimos os dados que foram preenchidos incorrentamente da coluna TARGET_AMT**"
   ]
  },
  {
   "cell_type": "code",
   "execution_count": 15,
   "metadata": {},
   "outputs": [
    {
     "name": "stdout",
     "output_type": "stream",
     "text": [
      "IDADE\n",
      "YOJ\n",
      "JOB\n",
      "TEMPO_VIDA_PROD\n"
     ]
    },
    {
     "data": {
      "text/plain": [
       "[]"
      ]
     },
     "execution_count": 15,
     "metadata": {},
     "output_type": "execute_result"
    }
   ],
   "source": [
    "#Verificar o nome das variáveis com dados faltantes\n",
    "e = []\n",
    "for i in dados.columns:\n",
    "    a =dados[dados[i] == ' '].index.values\n",
    "    if len(a)>0:\n",
    "        print(i)\n",
    "e"
   ]
  },
  {
   "cell_type": "markdown",
   "metadata": {},
   "source": [
    "**Nome das variáveis que há registros faltantes**"
   ]
  },
  {
   "cell_type": "code",
   "execution_count": 16,
   "metadata": {},
   "outputs": [
    {
     "data": {
      "text/html": [
       "<div>\n",
       "<style scoped>\n",
       "    .dataframe tbody tr th:only-of-type {\n",
       "        vertical-align: middle;\n",
       "    }\n",
       "\n",
       "    .dataframe tbody tr th {\n",
       "        vertical-align: top;\n",
       "    }\n",
       "\n",
       "    .dataframe thead th {\n",
       "        text-align: right;\n",
       "    }\n",
       "</style>\n",
       "<table border=\"1\" class=\"dataframe\">\n",
       "  <thead>\n",
       "    <tr style=\"text-align: right;\">\n",
       "      <th></th>\n",
       "      <th>TARGET_FLAG</th>\n",
       "      <th>TARGET_AMT</th>\n",
       "      <th>IDADE</th>\n",
       "      <th>HOMEKIDS</th>\n",
       "      <th>YOJ</th>\n",
       "      <th>CONTA_CLI</th>\n",
       "      <th>CASADO</th>\n",
       "      <th>SEX</th>\n",
       "      <th>EDUCATION</th>\n",
       "      <th>JOB</th>\n",
       "      <th>...</th>\n",
       "      <th>VALOR_SOLICITADO</th>\n",
       "      <th>TIF</th>\n",
       "      <th>TIPO_PROD</th>\n",
       "      <th>PROD_ALTO_VALOR</th>\n",
       "      <th>OLDCLAIM</th>\n",
       "      <th>CLM_FREQ</th>\n",
       "      <th>TRAN_SUSP</th>\n",
       "      <th>TEMPO_CLIENTE</th>\n",
       "      <th>TEMPO_VIDA_PROD</th>\n",
       "      <th>URBANICITY</th>\n",
       "    </tr>\n",
       "  </thead>\n",
       "  <tbody>\n",
       "    <tr>\n",
       "      <th>239</th>\n",
       "      <td>1</td>\n",
       "      <td>6142</td>\n",
       "      <td></td>\n",
       "      <td>2</td>\n",
       "      <td>8</td>\n",
       "      <td>Yes</td>\n",
       "      <td>No</td>\n",
       "      <td>F</td>\n",
       "      <td>Ensino Fundamental</td>\n",
       "      <td>Trabalho Administrativo</td>\n",
       "      <td>...</td>\n",
       "      <td>3100</td>\n",
       "      <td>9</td>\n",
       "      <td>CDB</td>\n",
       "      <td>yes</td>\n",
       "      <td>10099</td>\n",
       "      <td>2</td>\n",
       "      <td>No</td>\n",
       "      <td>4</td>\n",
       "      <td>5</td>\n",
       "      <td>Urbano</td>\n",
       "    </tr>\n",
       "    <tr>\n",
       "      <th>1042</th>\n",
       "      <td>1</td>\n",
       "      <td>3092</td>\n",
       "      <td></td>\n",
       "      <td>3</td>\n",
       "      <td>0</td>\n",
       "      <td>Yes</td>\n",
       "      <td>No</td>\n",
       "      <td>M</td>\n",
       "      <td>Ensino Superior</td>\n",
       "      <td>Estudante</td>\n",
       "      <td>...</td>\n",
       "      <td>1500</td>\n",
       "      <td>10</td>\n",
       "      <td>Poupanca</td>\n",
       "      <td>yes</td>\n",
       "      <td>0</td>\n",
       "      <td>0</td>\n",
       "      <td>No</td>\n",
       "      <td>7</td>\n",
       "      <td>8</td>\n",
       "      <td>Urbano</td>\n",
       "    </tr>\n",
       "    <tr>\n",
       "      <th>1314</th>\n",
       "      <td>1</td>\n",
       "      <td>3444</td>\n",
       "      <td></td>\n",
       "      <td>2</td>\n",
       "      <td>0</td>\n",
       "      <td>Yes</td>\n",
       "      <td>No</td>\n",
       "      <td>F</td>\n",
       "      <td>Ensino Fundamental</td>\n",
       "      <td>Do Lar</td>\n",
       "      <td>...</td>\n",
       "      <td>14500</td>\n",
       "      <td>1</td>\n",
       "      <td>Renda Variavel</td>\n",
       "      <td>yes</td>\n",
       "      <td>0</td>\n",
       "      <td>0</td>\n",
       "      <td>No</td>\n",
       "      <td>0</td>\n",
       "      <td>6</td>\n",
       "      <td>Urbano</td>\n",
       "    </tr>\n",
       "    <tr>\n",
       "      <th>2970</th>\n",
       "      <td>1</td>\n",
       "      <td>2541</td>\n",
       "      <td></td>\n",
       "      <td>2</td>\n",
       "      <td>0</td>\n",
       "      <td>Yes</td>\n",
       "      <td>No</td>\n",
       "      <td>F</td>\n",
       "      <td>Ensino Superior</td>\n",
       "      <td>Do Lar</td>\n",
       "      <td>...</td>\n",
       "      <td>3180</td>\n",
       "      <td>11</td>\n",
       "      <td>CDB</td>\n",
       "      <td>yes</td>\n",
       "      <td>25235</td>\n",
       "      <td>1</td>\n",
       "      <td>Yes</td>\n",
       "      <td>0</td>\n",
       "      <td>13</td>\n",
       "      <td>Urbano</td>\n",
       "    </tr>\n",
       "    <tr>\n",
       "      <th>3459</th>\n",
       "      <td>1</td>\n",
       "      <td>5640</td>\n",
       "      <td></td>\n",
       "      <td>3</td>\n",
       "      <td>12</td>\n",
       "      <td>No</td>\n",
       "      <td>Yes</td>\n",
       "      <td>M</td>\n",
       "      <td>Ensino Medio</td>\n",
       "      <td>Estudante</td>\n",
       "      <td>...</td>\n",
       "      <td>20770</td>\n",
       "      <td>1</td>\n",
       "      <td>Renda Fixa</td>\n",
       "      <td>yes</td>\n",
       "      <td>0</td>\n",
       "      <td>0</td>\n",
       "      <td>No</td>\n",
       "      <td>6</td>\n",
       "      <td>1</td>\n",
       "      <td>Urbano</td>\n",
       "    </tr>\n",
       "  </tbody>\n",
       "</table>\n",
       "<p>5 rows × 21 columns</p>\n",
       "</div>"
      ],
      "text/plain": [
       "      TARGET_FLAG TARGET_AMT IDADE  HOMEKIDS YOJ CONTA_CLI CASADO SEX  \\\n",
       "239             1       6142               2   8       Yes     No   F   \n",
       "1042            1       3092               3   0       Yes     No   M   \n",
       "1314            1       3444               2   0       Yes     No   F   \n",
       "2970            1       2541               2   0       Yes     No   F   \n",
       "3459            1       5640               3  12        No    Yes   M   \n",
       "\n",
       "               EDUCATION                      JOB  ... VALOR_SOLICITADO  TIF  \\\n",
       "239   Ensino Fundamental  Trabalho Administrativo  ...             3100    9   \n",
       "1042     Ensino Superior                Estudante  ...             1500   10   \n",
       "1314  Ensino Fundamental                   Do Lar  ...            14500    1   \n",
       "2970     Ensino Superior                   Do Lar  ...             3180   11   \n",
       "3459        Ensino Medio                Estudante  ...            20770    1   \n",
       "\n",
       "           TIPO_PROD PROD_ALTO_VALOR OLDCLAIM  CLM_FREQ  TRAN_SUSP  \\\n",
       "239              CDB             yes    10099         2         No   \n",
       "1042        Poupanca             yes        0         0         No   \n",
       "1314  Renda Variavel             yes        0         0         No   \n",
       "2970             CDB             yes    25235         1        Yes   \n",
       "3459      Renda Fixa             yes        0         0         No   \n",
       "\n",
       "     TEMPO_CLIENTE  TEMPO_VIDA_PROD URBANICITY  \n",
       "239              4                5     Urbano  \n",
       "1042             7                8     Urbano  \n",
       "1314             0                6     Urbano  \n",
       "2970             0               13     Urbano  \n",
       "3459             6                1     Urbano  \n",
       "\n",
       "[5 rows x 21 columns]"
      ]
     },
     "execution_count": 16,
     "metadata": {},
     "output_type": "execute_result"
    }
   ],
   "source": [
    "#Verificar os indices das variáveis com registro faltantes\n",
    "e = []\n",
    "for i in dados.columns:\n",
    "    a =dados[dados[i] == ' '].index\n",
    "    if len(a)>0:\n",
    "        e.append(a)\n",
    "indices = np.concatenate((e[0], e[1], e[0], e[1]))        \n",
    "\n",
    "dados_1 = dados.loc[indices]\n",
    "dados_1.head(5)"
   ]
  },
  {
   "cell_type": "markdown",
   "metadata": {},
   "source": [
    "**Tabela filtrada somente com registro entre aspas: ' '**"
   ]
  },
  {
   "cell_type": "code",
   "execution_count": 17,
   "metadata": {},
   "outputs": [
    {
     "data": {
      "text/plain": [
       "[Int64Index([239, 1042, 1314, 2970, 3459, 4155], dtype='int64'),\n",
       " Int64Index([   4,    6,    7,   45,   53,   54,   70,   76,   82,  115,\n",
       "             ...\n",
       "             8071, 8075, 8079, 8081, 8083, 8102, 8111, 8114, 8124, 8132],\n",
       "            dtype='int64', length=432),\n",
       " Int64Index([  13,   31,   36,   60,   63,   64,   88,  114,  118,  167,\n",
       "             ...\n",
       "             7977, 7995, 8000, 8013, 8051, 8067, 8091, 8110, 8132, 8133],\n",
       "            dtype='int64', length=505),\n",
       " Int64Index([  44,   48,   64,   68,   80,   83,  101,  102,  119,  143,\n",
       "             ...\n",
       "             7978, 7999, 8023, 8025, 8030, 8039, 8043, 8058, 8078, 8085],\n",
       "            dtype='int64', length=486)]"
      ]
     },
     "execution_count": 17,
     "metadata": {},
     "output_type": "execute_result"
    }
   ],
   "source": [
    "e"
   ]
  },
  {
   "cell_type": "code",
   "execution_count": 18,
   "metadata": {},
   "outputs": [
    {
     "data": {
      "text/html": [
       "<div>\n",
       "<style scoped>\n",
       "    .dataframe tbody tr th:only-of-type {\n",
       "        vertical-align: middle;\n",
       "    }\n",
       "\n",
       "    .dataframe tbody tr th {\n",
       "        vertical-align: top;\n",
       "    }\n",
       "\n",
       "    .dataframe thead th {\n",
       "        text-align: right;\n",
       "    }\n",
       "</style>\n",
       "<table border=\"1\" class=\"dataframe\">\n",
       "  <thead>\n",
       "    <tr style=\"text-align: right;\">\n",
       "      <th></th>\n",
       "      <th>TARGET_FLAG</th>\n",
       "      <th>TARGET_AMT</th>\n",
       "      <th>IDADE</th>\n",
       "      <th>HOMEKIDS</th>\n",
       "      <th>YOJ</th>\n",
       "      <th>CONTA_CLI</th>\n",
       "      <th>CASADO</th>\n",
       "      <th>SEX</th>\n",
       "      <th>EDUCATION</th>\n",
       "      <th>JOB</th>\n",
       "      <th>...</th>\n",
       "      <th>VALOR_SOLICITADO</th>\n",
       "      <th>TIF</th>\n",
       "      <th>TIPO_PROD</th>\n",
       "      <th>PROD_ALTO_VALOR</th>\n",
       "      <th>OLDCLAIM</th>\n",
       "      <th>CLM_FREQ</th>\n",
       "      <th>TRAN_SUSP</th>\n",
       "      <th>TEMPO_CLIENTE</th>\n",
       "      <th>TEMPO_VIDA_PROD</th>\n",
       "      <th>URBANICITY</th>\n",
       "    </tr>\n",
       "  </thead>\n",
       "  <tbody>\n",
       "    <tr>\n",
       "      <th>0</th>\n",
       "      <td>0</td>\n",
       "      <td>0</td>\n",
       "      <td>60</td>\n",
       "      <td>0</td>\n",
       "      <td>11</td>\n",
       "      <td>No</td>\n",
       "      <td>No</td>\n",
       "      <td>M</td>\n",
       "      <td>PhD</td>\n",
       "      <td>Profissional</td>\n",
       "      <td>...</td>\n",
       "      <td>14230</td>\n",
       "      <td>11</td>\n",
       "      <td>Poupanca</td>\n",
       "      <td>yes</td>\n",
       "      <td>4461</td>\n",
       "      <td>2</td>\n",
       "      <td>No</td>\n",
       "      <td>3</td>\n",
       "      <td>18</td>\n",
       "      <td>Urbano</td>\n",
       "    </tr>\n",
       "    <tr>\n",
       "      <th>1</th>\n",
       "      <td>0</td>\n",
       "      <td>0</td>\n",
       "      <td>43</td>\n",
       "      <td>0</td>\n",
       "      <td>11</td>\n",
       "      <td>No</td>\n",
       "      <td>No</td>\n",
       "      <td>M</td>\n",
       "      <td>Ensino Medio</td>\n",
       "      <td>Trabalho Manual</td>\n",
       "      <td>...</td>\n",
       "      <td>14940</td>\n",
       "      <td>1</td>\n",
       "      <td>Poupanca</td>\n",
       "      <td>yes</td>\n",
       "      <td>0</td>\n",
       "      <td>0</td>\n",
       "      <td>No</td>\n",
       "      <td>0</td>\n",
       "      <td>1</td>\n",
       "      <td>Urbano</td>\n",
       "    </tr>\n",
       "    <tr>\n",
       "      <th>2</th>\n",
       "      <td>0</td>\n",
       "      <td>0</td>\n",
       "      <td>35</td>\n",
       "      <td>1</td>\n",
       "      <td>10</td>\n",
       "      <td>No</td>\n",
       "      <td>Yes</td>\n",
       "      <td>F</td>\n",
       "      <td>Ensino Medio</td>\n",
       "      <td>Trabalho Administrativo</td>\n",
       "      <td>...</td>\n",
       "      <td>4010</td>\n",
       "      <td>4</td>\n",
       "      <td>Renda Variavel</td>\n",
       "      <td>no</td>\n",
       "      <td>38690</td>\n",
       "      <td>2</td>\n",
       "      <td>No</td>\n",
       "      <td>3</td>\n",
       "      <td>10</td>\n",
       "      <td>Urbano</td>\n",
       "    </tr>\n",
       "    <tr>\n",
       "      <th>3</th>\n",
       "      <td>0</td>\n",
       "      <td>0</td>\n",
       "      <td>51</td>\n",
       "      <td>0</td>\n",
       "      <td>14</td>\n",
       "      <td>No</td>\n",
       "      <td>Yes</td>\n",
       "      <td>M</td>\n",
       "      <td>Ensino Fundamental</td>\n",
       "      <td>Trabalho Manual</td>\n",
       "      <td>...</td>\n",
       "      <td>15440</td>\n",
       "      <td>7</td>\n",
       "      <td>Poupanca</td>\n",
       "      <td>yes</td>\n",
       "      <td>0</td>\n",
       "      <td>0</td>\n",
       "      <td>No</td>\n",
       "      <td>0</td>\n",
       "      <td>6</td>\n",
       "      <td>Urbano</td>\n",
       "    </tr>\n",
       "    <tr>\n",
       "      <th>5</th>\n",
       "      <td>1</td>\n",
       "      <td>2946</td>\n",
       "      <td>34</td>\n",
       "      <td>1</td>\n",
       "      <td>12</td>\n",
       "      <td>Yes</td>\n",
       "      <td>No</td>\n",
       "      <td>F</td>\n",
       "      <td>Ensino Superior</td>\n",
       "      <td>Trabalho Manual</td>\n",
       "      <td>...</td>\n",
       "      <td>17430</td>\n",
       "      <td>1</td>\n",
       "      <td>CDB</td>\n",
       "      <td>no</td>\n",
       "      <td>0</td>\n",
       "      <td>0</td>\n",
       "      <td>No</td>\n",
       "      <td>0</td>\n",
       "      <td>7</td>\n",
       "      <td>Urbano</td>\n",
       "    </tr>\n",
       "    <tr>\n",
       "      <th>...</th>\n",
       "      <td>...</td>\n",
       "      <td>...</td>\n",
       "      <td>...</td>\n",
       "      <td>...</td>\n",
       "      <td>...</td>\n",
       "      <td>...</td>\n",
       "      <td>...</td>\n",
       "      <td>...</td>\n",
       "      <td>...</td>\n",
       "      <td>...</td>\n",
       "      <td>...</td>\n",
       "      <td>...</td>\n",
       "      <td>...</td>\n",
       "      <td>...</td>\n",
       "      <td>...</td>\n",
       "      <td>...</td>\n",
       "      <td>...</td>\n",
       "      <td>...</td>\n",
       "      <td>...</td>\n",
       "      <td>...</td>\n",
       "      <td>...</td>\n",
       "    </tr>\n",
       "    <tr>\n",
       "      <th>8138</th>\n",
       "      <td>0</td>\n",
       "      <td>0</td>\n",
       "      <td>46</td>\n",
       "      <td>0</td>\n",
       "      <td>10</td>\n",
       "      <td>No</td>\n",
       "      <td>Yes</td>\n",
       "      <td>F</td>\n",
       "      <td>Ensino Superior</td>\n",
       "      <td>Trabalho Manual</td>\n",
       "      <td>...</td>\n",
       "      <td>35050</td>\n",
       "      <td>1</td>\n",
       "      <td>Tesouro Direto</td>\n",
       "      <td>no</td>\n",
       "      <td>0</td>\n",
       "      <td>0</td>\n",
       "      <td>No</td>\n",
       "      <td>0</td>\n",
       "      <td>7</td>\n",
       "      <td>Urbano</td>\n",
       "    </tr>\n",
       "    <tr>\n",
       "      <th>8139</th>\n",
       "      <td>0</td>\n",
       "      <td>0</td>\n",
       "      <td>48</td>\n",
       "      <td>0</td>\n",
       "      <td>12</td>\n",
       "      <td>No</td>\n",
       "      <td>Yes</td>\n",
       "      <td>F</td>\n",
       "      <td>Ensino Superior</td>\n",
       "      <td>Trabalho Manual</td>\n",
       "      <td>...</td>\n",
       "      <td>16340</td>\n",
       "      <td>6</td>\n",
       "      <td>Renda Variavel</td>\n",
       "      <td>no</td>\n",
       "      <td>0</td>\n",
       "      <td>0</td>\n",
       "      <td>No</td>\n",
       "      <td>0</td>\n",
       "      <td>5</td>\n",
       "      <td>Rural</td>\n",
       "    </tr>\n",
       "    <tr>\n",
       "      <th>8140</th>\n",
       "      <td>0</td>\n",
       "      <td>0</td>\n",
       "      <td>56</td>\n",
       "      <td>0</td>\n",
       "      <td>11</td>\n",
       "      <td>No</td>\n",
       "      <td>No</td>\n",
       "      <td>F</td>\n",
       "      <td>Ensino Superior</td>\n",
       "      <td>Estudante</td>\n",
       "      <td>...</td>\n",
       "      <td>2790</td>\n",
       "      <td>4</td>\n",
       "      <td>Renda Variavel</td>\n",
       "      <td>no</td>\n",
       "      <td>0</td>\n",
       "      <td>0</td>\n",
       "      <td>No</td>\n",
       "      <td>0</td>\n",
       "      <td>12</td>\n",
       "      <td>Urbano</td>\n",
       "    </tr>\n",
       "    <tr>\n",
       "      <th>8141</th>\n",
       "      <td>0</td>\n",
       "      <td>0</td>\n",
       "      <td>35</td>\n",
       "      <td>0</td>\n",
       "      <td>7</td>\n",
       "      <td>No</td>\n",
       "      <td>No</td>\n",
       "      <td>F</td>\n",
       "      <td>Ensino Superior</td>\n",
       "      <td>Gerente</td>\n",
       "      <td>...</td>\n",
       "      <td>7990</td>\n",
       "      <td>8</td>\n",
       "      <td>Renda Variavel</td>\n",
       "      <td>no</td>\n",
       "      <td>0</td>\n",
       "      <td>0</td>\n",
       "      <td>No</td>\n",
       "      <td>1</td>\n",
       "      <td>12</td>\n",
       "      <td>Urbano</td>\n",
       "    </tr>\n",
       "    <tr>\n",
       "      <th>8142</th>\n",
       "      <td>0</td>\n",
       "      <td>0</td>\n",
       "      <td>49</td>\n",
       "      <td>0</td>\n",
       "      <td>12</td>\n",
       "      <td>No</td>\n",
       "      <td>No</td>\n",
       "      <td>F</td>\n",
       "      <td>Ensino Medio</td>\n",
       "      <td>Trabalho Manual</td>\n",
       "      <td>...</td>\n",
       "      <td>6200</td>\n",
       "      <td>1</td>\n",
       "      <td>Renda Variavel</td>\n",
       "      <td>no</td>\n",
       "      <td>0</td>\n",
       "      <td>0</td>\n",
       "      <td>No</td>\n",
       "      <td>0</td>\n",
       "      <td>1</td>\n",
       "      <td>Rural</td>\n",
       "    </tr>\n",
       "  </tbody>\n",
       "</table>\n",
       "<p>7355 rows × 21 columns</p>\n",
       "</div>"
      ],
      "text/plain": [
       "      TARGET_FLAG TARGET_AMT IDADE  HOMEKIDS YOJ CONTA_CLI CASADO SEX  \\\n",
       "0               0          0    60         0  11        No     No   M   \n",
       "1               0          0    43         0  11        No     No   M   \n",
       "2               0          0    35         1  10        No    Yes   F   \n",
       "3               0          0    51         0  14        No    Yes   M   \n",
       "5               1       2946    34         1  12       Yes     No   F   \n",
       "...           ...        ...   ...       ...  ..       ...    ...  ..   \n",
       "8138            0          0    46         0  10        No    Yes   F   \n",
       "8139            0          0    48         0  12        No    Yes   F   \n",
       "8140            0          0    56         0  11        No     No   F   \n",
       "8141            0          0    35         0   7        No     No   F   \n",
       "8142            0          0    49         0  12        No     No   F   \n",
       "\n",
       "               EDUCATION                      JOB  ... VALOR_SOLICITADO  TIF  \\\n",
       "0                    PhD             Profissional  ...            14230   11   \n",
       "1           Ensino Medio          Trabalho Manual  ...            14940    1   \n",
       "2           Ensino Medio  Trabalho Administrativo  ...             4010    4   \n",
       "3     Ensino Fundamental          Trabalho Manual  ...            15440    7   \n",
       "5        Ensino Superior          Trabalho Manual  ...            17430    1   \n",
       "...                  ...                      ...  ...              ...  ...   \n",
       "8138     Ensino Superior          Trabalho Manual  ...            35050    1   \n",
       "8139     Ensino Superior          Trabalho Manual  ...            16340    6   \n",
       "8140     Ensino Superior                Estudante  ...             2790    4   \n",
       "8141     Ensino Superior                  Gerente  ...             7990    8   \n",
       "8142        Ensino Medio          Trabalho Manual  ...             6200    1   \n",
       "\n",
       "           TIPO_PROD PROD_ALTO_VALOR OLDCLAIM  CLM_FREQ  TRAN_SUSP  \\\n",
       "0           Poupanca             yes     4461         2         No   \n",
       "1           Poupanca             yes        0         0         No   \n",
       "2     Renda Variavel              no    38690         2         No   \n",
       "3           Poupanca             yes        0         0         No   \n",
       "5                CDB              no        0         0         No   \n",
       "...              ...             ...      ...       ...        ...   \n",
       "8138  Tesouro Direto              no        0         0         No   \n",
       "8139  Renda Variavel              no        0         0         No   \n",
       "8140  Renda Variavel              no        0         0         No   \n",
       "8141  Renda Variavel              no        0         0         No   \n",
       "8142  Renda Variavel              no        0         0         No   \n",
       "\n",
       "     TEMPO_CLIENTE  TEMPO_VIDA_PROD URBANICITY  \n",
       "0                3               18     Urbano  \n",
       "1                0                1     Urbano  \n",
       "2                3               10     Urbano  \n",
       "3                0                6     Urbano  \n",
       "5                0                7     Urbano  \n",
       "...            ...              ...        ...  \n",
       "8138             0                7     Urbano  \n",
       "8139             0                5      Rural  \n",
       "8140             0               12     Urbano  \n",
       "8141             1               12     Urbano  \n",
       "8142             0                1      Rural  \n",
       "\n",
       "[7355 rows x 21 columns]"
      ]
     },
     "execution_count": 18,
     "metadata": {},
     "output_type": "execute_result"
    }
   ],
   "source": [
    "#Filtrar somente os dados que não contem nulos ou missing\n",
    "dados_2 = dados[~dados.index.isin(dados_1.index)]\n",
    "dados_2"
   ]
  },
  {
   "cell_type": "markdown",
   "metadata": {},
   "source": [
    "**Usamos os indices da tabela que tinhas os dados nulos para deletar da tabela original**"
   ]
  },
  {
   "cell_type": "code",
   "execution_count": 19,
   "metadata": {},
   "outputs": [
    {
     "name": "stdout",
     "output_type": "stream",
     "text": [
      "JOB\n",
      "TEMPO_VIDA_PROD\n"
     ]
    },
    {
     "data": {
      "text/plain": [
       "[]"
      ]
     },
     "execution_count": 19,
     "metadata": {},
     "output_type": "execute_result"
    }
   ],
   "source": [
    "#Verificar novamente se há registros nulos\n",
    "e = []\n",
    "for i in dados_2.columns:\n",
    "    a =dados_2[dados_2[i] == ' '].index.values\n",
    "    if len(a)>0:\n",
    "        print(i)\n",
    "e"
   ]
  },
  {
   "cell_type": "markdown",
   "metadata": {},
   "source": [
    "**Ainda há 2 colunas com registros nulos, vamos filtrar e remover os indices**"
   ]
  },
  {
   "cell_type": "code",
   "execution_count": 20,
   "metadata": {},
   "outputs": [
    {
     "data": {
      "text/plain": [
       "940"
      ]
     },
     "execution_count": 20,
     "metadata": {},
     "output_type": "execute_result"
    }
   ],
   "source": [
    "#Verificar novamente se há registros nulos\n",
    "\n",
    "e = []\n",
    "for i in dados_2.columns:\n",
    "    a =dados_2[dados_2[i] == ' '].index\n",
    "    if len(a)>0:\n",
    "        e.append(a)\n",
    "indices = np.concatenate((e[0], e[1]))        \n",
    "\n",
    "dados_3 = dados_2.loc[indices]\n",
    "len(dados_3)"
   ]
  },
  {
   "cell_type": "markdown",
   "metadata": {},
   "source": [
    "**Há 940 resgistros nulos ainda**"
   ]
  },
  {
   "cell_type": "code",
   "execution_count": 21,
   "metadata": {},
   "outputs": [
    {
     "data": {
      "text/html": [
       "<div>\n",
       "<style scoped>\n",
       "    .dataframe tbody tr th:only-of-type {\n",
       "        vertical-align: middle;\n",
       "    }\n",
       "\n",
       "    .dataframe tbody tr th {\n",
       "        vertical-align: top;\n",
       "    }\n",
       "\n",
       "    .dataframe thead th {\n",
       "        text-align: right;\n",
       "    }\n",
       "</style>\n",
       "<table border=\"1\" class=\"dataframe\">\n",
       "  <thead>\n",
       "    <tr style=\"text-align: right;\">\n",
       "      <th></th>\n",
       "      <th>TARGET_FLAG</th>\n",
       "      <th>TARGET_AMT</th>\n",
       "      <th>IDADE</th>\n",
       "      <th>HOMEKIDS</th>\n",
       "      <th>YOJ</th>\n",
       "      <th>CONTA_CLI</th>\n",
       "      <th>CASADO</th>\n",
       "      <th>SEX</th>\n",
       "      <th>EDUCATION</th>\n",
       "      <th>JOB</th>\n",
       "      <th>...</th>\n",
       "      <th>VALOR_SOLICITADO</th>\n",
       "      <th>TIF</th>\n",
       "      <th>TIPO_PROD</th>\n",
       "      <th>PROD_ALTO_VALOR</th>\n",
       "      <th>OLDCLAIM</th>\n",
       "      <th>CLM_FREQ</th>\n",
       "      <th>TRAN_SUSP</th>\n",
       "      <th>TEMPO_CLIENTE</th>\n",
       "      <th>TEMPO_VIDA_PROD</th>\n",
       "      <th>URBANICITY</th>\n",
       "    </tr>\n",
       "  </thead>\n",
       "  <tbody>\n",
       "    <tr>\n",
       "      <th>0</th>\n",
       "      <td>0</td>\n",
       "      <td>0</td>\n",
       "      <td>60</td>\n",
       "      <td>0</td>\n",
       "      <td>11</td>\n",
       "      <td>No</td>\n",
       "      <td>No</td>\n",
       "      <td>M</td>\n",
       "      <td>PhD</td>\n",
       "      <td>Profissional</td>\n",
       "      <td>...</td>\n",
       "      <td>14230</td>\n",
       "      <td>11</td>\n",
       "      <td>Poupanca</td>\n",
       "      <td>yes</td>\n",
       "      <td>4461</td>\n",
       "      <td>2</td>\n",
       "      <td>No</td>\n",
       "      <td>3</td>\n",
       "      <td>18</td>\n",
       "      <td>Urbano</td>\n",
       "    </tr>\n",
       "    <tr>\n",
       "      <th>1</th>\n",
       "      <td>0</td>\n",
       "      <td>0</td>\n",
       "      <td>43</td>\n",
       "      <td>0</td>\n",
       "      <td>11</td>\n",
       "      <td>No</td>\n",
       "      <td>No</td>\n",
       "      <td>M</td>\n",
       "      <td>Ensino Medio</td>\n",
       "      <td>Trabalho Manual</td>\n",
       "      <td>...</td>\n",
       "      <td>14940</td>\n",
       "      <td>1</td>\n",
       "      <td>Poupanca</td>\n",
       "      <td>yes</td>\n",
       "      <td>0</td>\n",
       "      <td>0</td>\n",
       "      <td>No</td>\n",
       "      <td>0</td>\n",
       "      <td>1</td>\n",
       "      <td>Urbano</td>\n",
       "    </tr>\n",
       "    <tr>\n",
       "      <th>2</th>\n",
       "      <td>0</td>\n",
       "      <td>0</td>\n",
       "      <td>35</td>\n",
       "      <td>1</td>\n",
       "      <td>10</td>\n",
       "      <td>No</td>\n",
       "      <td>Yes</td>\n",
       "      <td>F</td>\n",
       "      <td>Ensino Medio</td>\n",
       "      <td>Trabalho Administrativo</td>\n",
       "      <td>...</td>\n",
       "      <td>4010</td>\n",
       "      <td>4</td>\n",
       "      <td>Renda Variavel</td>\n",
       "      <td>no</td>\n",
       "      <td>38690</td>\n",
       "      <td>2</td>\n",
       "      <td>No</td>\n",
       "      <td>3</td>\n",
       "      <td>10</td>\n",
       "      <td>Urbano</td>\n",
       "    </tr>\n",
       "    <tr>\n",
       "      <th>3</th>\n",
       "      <td>0</td>\n",
       "      <td>0</td>\n",
       "      <td>51</td>\n",
       "      <td>0</td>\n",
       "      <td>14</td>\n",
       "      <td>No</td>\n",
       "      <td>Yes</td>\n",
       "      <td>M</td>\n",
       "      <td>Ensino Fundamental</td>\n",
       "      <td>Trabalho Manual</td>\n",
       "      <td>...</td>\n",
       "      <td>15440</td>\n",
       "      <td>7</td>\n",
       "      <td>Poupanca</td>\n",
       "      <td>yes</td>\n",
       "      <td>0</td>\n",
       "      <td>0</td>\n",
       "      <td>No</td>\n",
       "      <td>0</td>\n",
       "      <td>6</td>\n",
       "      <td>Urbano</td>\n",
       "    </tr>\n",
       "    <tr>\n",
       "      <th>5</th>\n",
       "      <td>1</td>\n",
       "      <td>2946</td>\n",
       "      <td>34</td>\n",
       "      <td>1</td>\n",
       "      <td>12</td>\n",
       "      <td>Yes</td>\n",
       "      <td>No</td>\n",
       "      <td>F</td>\n",
       "      <td>Ensino Superior</td>\n",
       "      <td>Trabalho Manual</td>\n",
       "      <td>...</td>\n",
       "      <td>17430</td>\n",
       "      <td>1</td>\n",
       "      <td>CDB</td>\n",
       "      <td>no</td>\n",
       "      <td>0</td>\n",
       "      <td>0</td>\n",
       "      <td>No</td>\n",
       "      <td>0</td>\n",
       "      <td>7</td>\n",
       "      <td>Urbano</td>\n",
       "    </tr>\n",
       "    <tr>\n",
       "      <th>...</th>\n",
       "      <td>...</td>\n",
       "      <td>...</td>\n",
       "      <td>...</td>\n",
       "      <td>...</td>\n",
       "      <td>...</td>\n",
       "      <td>...</td>\n",
       "      <td>...</td>\n",
       "      <td>...</td>\n",
       "      <td>...</td>\n",
       "      <td>...</td>\n",
       "      <td>...</td>\n",
       "      <td>...</td>\n",
       "      <td>...</td>\n",
       "      <td>...</td>\n",
       "      <td>...</td>\n",
       "      <td>...</td>\n",
       "      <td>...</td>\n",
       "      <td>...</td>\n",
       "      <td>...</td>\n",
       "      <td>...</td>\n",
       "      <td>...</td>\n",
       "    </tr>\n",
       "    <tr>\n",
       "      <th>8138</th>\n",
       "      <td>0</td>\n",
       "      <td>0</td>\n",
       "      <td>46</td>\n",
       "      <td>0</td>\n",
       "      <td>10</td>\n",
       "      <td>No</td>\n",
       "      <td>Yes</td>\n",
       "      <td>F</td>\n",
       "      <td>Ensino Superior</td>\n",
       "      <td>Trabalho Manual</td>\n",
       "      <td>...</td>\n",
       "      <td>35050</td>\n",
       "      <td>1</td>\n",
       "      <td>Tesouro Direto</td>\n",
       "      <td>no</td>\n",
       "      <td>0</td>\n",
       "      <td>0</td>\n",
       "      <td>No</td>\n",
       "      <td>0</td>\n",
       "      <td>7</td>\n",
       "      <td>Urbano</td>\n",
       "    </tr>\n",
       "    <tr>\n",
       "      <th>8139</th>\n",
       "      <td>0</td>\n",
       "      <td>0</td>\n",
       "      <td>48</td>\n",
       "      <td>0</td>\n",
       "      <td>12</td>\n",
       "      <td>No</td>\n",
       "      <td>Yes</td>\n",
       "      <td>F</td>\n",
       "      <td>Ensino Superior</td>\n",
       "      <td>Trabalho Manual</td>\n",
       "      <td>...</td>\n",
       "      <td>16340</td>\n",
       "      <td>6</td>\n",
       "      <td>Renda Variavel</td>\n",
       "      <td>no</td>\n",
       "      <td>0</td>\n",
       "      <td>0</td>\n",
       "      <td>No</td>\n",
       "      <td>0</td>\n",
       "      <td>5</td>\n",
       "      <td>Rural</td>\n",
       "    </tr>\n",
       "    <tr>\n",
       "      <th>8140</th>\n",
       "      <td>0</td>\n",
       "      <td>0</td>\n",
       "      <td>56</td>\n",
       "      <td>0</td>\n",
       "      <td>11</td>\n",
       "      <td>No</td>\n",
       "      <td>No</td>\n",
       "      <td>F</td>\n",
       "      <td>Ensino Superior</td>\n",
       "      <td>Estudante</td>\n",
       "      <td>...</td>\n",
       "      <td>2790</td>\n",
       "      <td>4</td>\n",
       "      <td>Renda Variavel</td>\n",
       "      <td>no</td>\n",
       "      <td>0</td>\n",
       "      <td>0</td>\n",
       "      <td>No</td>\n",
       "      <td>0</td>\n",
       "      <td>12</td>\n",
       "      <td>Urbano</td>\n",
       "    </tr>\n",
       "    <tr>\n",
       "      <th>8141</th>\n",
       "      <td>0</td>\n",
       "      <td>0</td>\n",
       "      <td>35</td>\n",
       "      <td>0</td>\n",
       "      <td>7</td>\n",
       "      <td>No</td>\n",
       "      <td>No</td>\n",
       "      <td>F</td>\n",
       "      <td>Ensino Superior</td>\n",
       "      <td>Gerente</td>\n",
       "      <td>...</td>\n",
       "      <td>7990</td>\n",
       "      <td>8</td>\n",
       "      <td>Renda Variavel</td>\n",
       "      <td>no</td>\n",
       "      <td>0</td>\n",
       "      <td>0</td>\n",
       "      <td>No</td>\n",
       "      <td>1</td>\n",
       "      <td>12</td>\n",
       "      <td>Urbano</td>\n",
       "    </tr>\n",
       "    <tr>\n",
       "      <th>8142</th>\n",
       "      <td>0</td>\n",
       "      <td>0</td>\n",
       "      <td>49</td>\n",
       "      <td>0</td>\n",
       "      <td>12</td>\n",
       "      <td>No</td>\n",
       "      <td>No</td>\n",
       "      <td>F</td>\n",
       "      <td>Ensino Medio</td>\n",
       "      <td>Trabalho Manual</td>\n",
       "      <td>...</td>\n",
       "      <td>6200</td>\n",
       "      <td>1</td>\n",
       "      <td>Renda Variavel</td>\n",
       "      <td>no</td>\n",
       "      <td>0</td>\n",
       "      <td>0</td>\n",
       "      <td>No</td>\n",
       "      <td>0</td>\n",
       "      <td>1</td>\n",
       "      <td>Rural</td>\n",
       "    </tr>\n",
       "  </tbody>\n",
       "</table>\n",
       "<p>6450 rows × 21 columns</p>\n",
       "</div>"
      ],
      "text/plain": [
       "      TARGET_FLAG TARGET_AMT IDADE  HOMEKIDS YOJ CONTA_CLI CASADO SEX  \\\n",
       "0               0          0    60         0  11        No     No   M   \n",
       "1               0          0    43         0  11        No     No   M   \n",
       "2               0          0    35         1  10        No    Yes   F   \n",
       "3               0          0    51         0  14        No    Yes   M   \n",
       "5               1       2946    34         1  12       Yes     No   F   \n",
       "...           ...        ...   ...       ...  ..       ...    ...  ..   \n",
       "8138            0          0    46         0  10        No    Yes   F   \n",
       "8139            0          0    48         0  12        No    Yes   F   \n",
       "8140            0          0    56         0  11        No     No   F   \n",
       "8141            0          0    35         0   7        No     No   F   \n",
       "8142            0          0    49         0  12        No     No   F   \n",
       "\n",
       "               EDUCATION                      JOB  ... VALOR_SOLICITADO  TIF  \\\n",
       "0                    PhD             Profissional  ...            14230   11   \n",
       "1           Ensino Medio          Trabalho Manual  ...            14940    1   \n",
       "2           Ensino Medio  Trabalho Administrativo  ...             4010    4   \n",
       "3     Ensino Fundamental          Trabalho Manual  ...            15440    7   \n",
       "5        Ensino Superior          Trabalho Manual  ...            17430    1   \n",
       "...                  ...                      ...  ...              ...  ...   \n",
       "8138     Ensino Superior          Trabalho Manual  ...            35050    1   \n",
       "8139     Ensino Superior          Trabalho Manual  ...            16340    6   \n",
       "8140     Ensino Superior                Estudante  ...             2790    4   \n",
       "8141     Ensino Superior                  Gerente  ...             7990    8   \n",
       "8142        Ensino Medio          Trabalho Manual  ...             6200    1   \n",
       "\n",
       "           TIPO_PROD PROD_ALTO_VALOR OLDCLAIM  CLM_FREQ  TRAN_SUSP  \\\n",
       "0           Poupanca             yes     4461         2         No   \n",
       "1           Poupanca             yes        0         0         No   \n",
       "2     Renda Variavel              no    38690         2         No   \n",
       "3           Poupanca             yes        0         0         No   \n",
       "5                CDB              no        0         0         No   \n",
       "...              ...             ...      ...       ...        ...   \n",
       "8138  Tesouro Direto              no        0         0         No   \n",
       "8139  Renda Variavel              no        0         0         No   \n",
       "8140  Renda Variavel              no        0         0         No   \n",
       "8141  Renda Variavel              no        0         0         No   \n",
       "8142  Renda Variavel              no        0         0         No   \n",
       "\n",
       "     TEMPO_CLIENTE  TEMPO_VIDA_PROD URBANICITY  \n",
       "0                3               18     Urbano  \n",
       "1                0                1     Urbano  \n",
       "2                3               10     Urbano  \n",
       "3                0                6     Urbano  \n",
       "5                0                7     Urbano  \n",
       "...            ...              ...        ...  \n",
       "8138             0                7     Urbano  \n",
       "8139             0                5      Rural  \n",
       "8140             0               12     Urbano  \n",
       "8141             1               12     Urbano  \n",
       "8142             0                1      Rural  \n",
       "\n",
       "[6450 rows x 21 columns]"
      ]
     },
     "execution_count": 21,
     "metadata": {},
     "output_type": "execute_result"
    }
   ],
   "source": [
    "#Filtrar somente os dados que não contem nulos ou missing\n",
    "dados_4 = dados_2[~dados_2.index.isin(dados_3.index)]\n",
    "dados_4"
   ]
  },
  {
   "cell_type": "markdown",
   "metadata": {},
   "source": [
    "**Removemos os registro nulos da tabela original**s"
   ]
  },
  {
   "cell_type": "code",
   "execution_count": 22,
   "metadata": {},
   "outputs": [
    {
     "data": {
      "text/plain": [
       "[]"
      ]
     },
     "execution_count": 22,
     "metadata": {},
     "output_type": "execute_result"
    }
   ],
   "source": [
    "#Verificar novamente se há registros nulos\n",
    "e = []\n",
    "for i in dados_4.columns:\n",
    "    a =dados_4[dados_4[i] == ' '].index.values\n",
    "    if len(a)>0:\n",
    "        print(i)\n",
    "e"
   ]
  },
  {
   "cell_type": "markdown",
   "metadata": {},
   "source": [
    "**Note que agora não há nenhum registro nulo na tabela**"
   ]
  },
  {
   "cell_type": "code",
   "execution_count": 23,
   "metadata": {},
   "outputs": [],
   "source": [
    "#Transformar as variáveis no seu type correto\n",
    "\n",
    "#Filtrar as variáveis float\n",
    "tran_float = dados_4.nunique()\n",
    "tran_float = tran_float.to_frame()\n",
    "tran_float = tran_float[tran_float[0]>9].index\n",
    "\n",
    "#Filtrar as variáveis object\n",
    "tran_ob = dados_4.nunique()\n",
    "tran_ob = tran_ob.to_frame()\n",
    "tran_ob = tran_ob[tran_ob[0]<=9].index\n",
    "\n",
    "#Transformar as variáveis em float \n",
    "tran_float = dados_4[tran_float]\n",
    "tran_float = tran_float.astype(float)\n",
    "\n",
    "#Transformar as variáveis em object\n",
    "tran_ob = dados_4[tran_ob]\n",
    "tran_ob = tran_ob.astype(object)\n",
    "\n",
    "#Unir as 2 variáveis\n",
    "dados_5 = tran_float.join(tran_ob)\n",
    "\n"
   ]
  },
  {
   "cell_type": "code",
   "execution_count": 24,
   "metadata": {},
   "outputs": [
    {
     "data": {
      "text/html": [
       "<div>\n",
       "<style scoped>\n",
       "    .dataframe tbody tr th:only-of-type {\n",
       "        vertical-align: middle;\n",
       "    }\n",
       "\n",
       "    .dataframe tbody tr th {\n",
       "        vertical-align: top;\n",
       "    }\n",
       "\n",
       "    .dataframe thead th {\n",
       "        text-align: right;\n",
       "    }\n",
       "</style>\n",
       "<table border=\"1\" class=\"dataframe\">\n",
       "  <thead>\n",
       "    <tr style=\"text-align: right;\">\n",
       "      <th></th>\n",
       "      <th>0</th>\n",
       "      <th>dtype</th>\n",
       "    </tr>\n",
       "  </thead>\n",
       "  <tbody>\n",
       "    <tr>\n",
       "      <th>TARGET_AMT</th>\n",
       "      <td>1342</td>\n",
       "      <td>float64</td>\n",
       "    </tr>\n",
       "    <tr>\n",
       "      <th>IDADE</th>\n",
       "      <td>60</td>\n",
       "      <td>float64</td>\n",
       "    </tr>\n",
       "    <tr>\n",
       "      <th>YOJ</th>\n",
       "      <td>21</td>\n",
       "      <td>float64</td>\n",
       "    </tr>\n",
       "    <tr>\n",
       "      <th>VALOR_SOLICITADO</th>\n",
       "      <td>2489</td>\n",
       "      <td>float64</td>\n",
       "    </tr>\n",
       "    <tr>\n",
       "      <th>TIF</th>\n",
       "      <td>23</td>\n",
       "      <td>float64</td>\n",
       "    </tr>\n",
       "    <tr>\n",
       "      <th>OLDCLAIM</th>\n",
       "      <td>2209</td>\n",
       "      <td>float64</td>\n",
       "    </tr>\n",
       "    <tr>\n",
       "      <th>TEMPO_CLIENTE</th>\n",
       "      <td>13</td>\n",
       "      <td>float64</td>\n",
       "    </tr>\n",
       "    <tr>\n",
       "      <th>TEMPO_VIDA_PROD</th>\n",
       "      <td>30</td>\n",
       "      <td>float64</td>\n",
       "    </tr>\n",
       "    <tr>\n",
       "      <th>TARGET_FLAG</th>\n",
       "      <td>2</td>\n",
       "      <td>object</td>\n",
       "    </tr>\n",
       "    <tr>\n",
       "      <th>HOMEKIDS</th>\n",
       "      <td>6</td>\n",
       "      <td>object</td>\n",
       "    </tr>\n",
       "    <tr>\n",
       "      <th>CONTA_CLI</th>\n",
       "      <td>2</td>\n",
       "      <td>object</td>\n",
       "    </tr>\n",
       "    <tr>\n",
       "      <th>CASADO</th>\n",
       "      <td>2</td>\n",
       "      <td>object</td>\n",
       "    </tr>\n",
       "    <tr>\n",
       "      <th>SEX</th>\n",
       "      <td>2</td>\n",
       "      <td>object</td>\n",
       "    </tr>\n",
       "    <tr>\n",
       "      <th>EDUCATION</th>\n",
       "      <td>5</td>\n",
       "      <td>object</td>\n",
       "    </tr>\n",
       "    <tr>\n",
       "      <th>JOB</th>\n",
       "      <td>8</td>\n",
       "      <td>object</td>\n",
       "    </tr>\n",
       "    <tr>\n",
       "      <th>USO_PROD</th>\n",
       "      <td>2</td>\n",
       "      <td>object</td>\n",
       "    </tr>\n",
       "    <tr>\n",
       "      <th>TIPO_PROD</th>\n",
       "      <td>6</td>\n",
       "      <td>object</td>\n",
       "    </tr>\n",
       "    <tr>\n",
       "      <th>PROD_ALTO_VALOR</th>\n",
       "      <td>2</td>\n",
       "      <td>object</td>\n",
       "    </tr>\n",
       "    <tr>\n",
       "      <th>CLM_FREQ</th>\n",
       "      <td>6</td>\n",
       "      <td>object</td>\n",
       "    </tr>\n",
       "    <tr>\n",
       "      <th>TRAN_SUSP</th>\n",
       "      <td>2</td>\n",
       "      <td>object</td>\n",
       "    </tr>\n",
       "    <tr>\n",
       "      <th>URBANICITY</th>\n",
       "      <td>2</td>\n",
       "      <td>object</td>\n",
       "    </tr>\n",
       "  </tbody>\n",
       "</table>\n",
       "</div>"
      ],
      "text/plain": [
       "                     0    dtype\n",
       "TARGET_AMT        1342  float64\n",
       "IDADE               60  float64\n",
       "YOJ                 21  float64\n",
       "VALOR_SOLICITADO  2489  float64\n",
       "TIF                 23  float64\n",
       "OLDCLAIM          2209  float64\n",
       "TEMPO_CLIENTE       13  float64\n",
       "TEMPO_VIDA_PROD     30  float64\n",
       "TARGET_FLAG          2   object\n",
       "HOMEKIDS             6   object\n",
       "CONTA_CLI            2   object\n",
       "CASADO               2   object\n",
       "SEX                  2   object\n",
       "EDUCATION            5   object\n",
       "JOB                  8   object\n",
       "USO_PROD             2   object\n",
       "TIPO_PROD            6   object\n",
       "PROD_ALTO_VALOR      2   object\n",
       "CLM_FREQ             6   object\n",
       "TRAN_SUSP            2   object\n",
       "URBANICITY           2   object"
      ]
     },
     "execution_count": 24,
     "metadata": {},
     "output_type": "execute_result"
    }
   ],
   "source": [
    "# Verifica as variáveis unicas e comparar com os types\n",
    "d_type = dados_5.nunique().to_frame()\n",
    "d_type['dtype'] = dados_5.dtypes\n",
    "d_type"
   ]
  },
  {
   "cell_type": "markdown",
   "metadata": {},
   "source": [
    "**Todas as variáveis estão com o type corretamente definido**"
   ]
  },
  {
   "cell_type": "code",
   "execution_count": 25,
   "metadata": {},
   "outputs": [
    {
     "name": "stdout",
     "output_type": "stream",
     "text": [
      "TEMPO_VIDA_PROD\n"
     ]
    }
   ],
   "source": [
    "#Verificar se há resgistros negativos\n",
    "e = []\n",
    "for i in dados_5.columns:\n",
    "    try:\n",
    "        a =dados_5[dados_5[i] <0].index\n",
    "        if len(a)>0:\n",
    "            valor_negativo = a\n",
    "            print(i)\n",
    "    except: continue\n"
   ]
  },
  {
   "cell_type": "markdown",
   "metadata": {},
   "source": [
    "**A Variavel TEMPO_VIDA_PROD possui valores negativos**"
   ]
  },
  {
   "cell_type": "code",
   "execution_count": 26,
   "metadata": {},
   "outputs": [],
   "source": [
    "#Deletar os indices dos valores negativos\n",
    "dados_5 = dados_5[~dados_5.index.isin(valor_negativo)]"
   ]
  },
  {
   "cell_type": "code",
   "execution_count": 27,
   "metadata": {},
   "outputs": [
    {
     "data": {
      "text/plain": [
       "TARGET_AMT          0\n",
       "IDADE               0\n",
       "YOJ                 0\n",
       "VALOR_SOLICITADO    0\n",
       "TIF                 0\n",
       "OLDCLAIM            0\n",
       "TEMPO_CLIENTE       0\n",
       "TEMPO_VIDA_PROD     0\n",
       "TARGET_FLAG         0\n",
       "HOMEKIDS            0\n",
       "CONTA_CLI           0\n",
       "CASADO              0\n",
       "SEX                 0\n",
       "EDUCATION           0\n",
       "JOB                 0\n",
       "USO_PROD            0\n",
       "TIPO_PROD           0\n",
       "PROD_ALTO_VALOR     0\n",
       "CLM_FREQ            0\n",
       "TRAN_SUSP           0\n",
       "URBANICITY          0\n",
       "dtype: int64"
      ]
     },
     "execution_count": 27,
     "metadata": {},
     "output_type": "execute_result"
    }
   ],
   "source": [
    "# Verificar se existe valores nulos\n",
    "dados_5.isnull().sum()"
   ]
  },
  {
   "cell_type": "markdown",
   "metadata": {},
   "source": [
    "**Dataset sem dados nulos**"
   ]
  },
  {
   "cell_type": "code",
   "execution_count": 28,
   "metadata": {},
   "outputs": [
    {
     "data": {
      "text/html": [
       "<div>\n",
       "<style scoped>\n",
       "    .dataframe tbody tr th:only-of-type {\n",
       "        vertical-align: middle;\n",
       "    }\n",
       "\n",
       "    .dataframe tbody tr th {\n",
       "        vertical-align: top;\n",
       "    }\n",
       "\n",
       "    .dataframe thead th {\n",
       "        text-align: right;\n",
       "    }\n",
       "</style>\n",
       "<table border=\"1\" class=\"dataframe\">\n",
       "  <thead>\n",
       "    <tr style=\"text-align: right;\">\n",
       "      <th></th>\n",
       "      <th>TARGET_AMT</th>\n",
       "      <th>IDADE</th>\n",
       "      <th>YOJ</th>\n",
       "      <th>VALOR_SOLICITADO</th>\n",
       "      <th>TIF</th>\n",
       "      <th>OLDCLAIM</th>\n",
       "      <th>TEMPO_CLIENTE</th>\n",
       "      <th>TEMPO_VIDA_PROD</th>\n",
       "      <th>TARGET_FLAG</th>\n",
       "      <th>HOMEKIDS</th>\n",
       "      <th>...</th>\n",
       "      <th>CASADO</th>\n",
       "      <th>SEX</th>\n",
       "      <th>EDUCATION</th>\n",
       "      <th>JOB</th>\n",
       "      <th>USO_PROD</th>\n",
       "      <th>TIPO_PROD</th>\n",
       "      <th>PROD_ALTO_VALOR</th>\n",
       "      <th>CLM_FREQ</th>\n",
       "      <th>TRAN_SUSP</th>\n",
       "      <th>URBANICITY</th>\n",
       "    </tr>\n",
       "  </thead>\n",
       "  <tbody>\n",
       "    <tr>\n",
       "      <th>0</th>\n",
       "      <td>0.0</td>\n",
       "      <td>60.0</td>\n",
       "      <td>11.0</td>\n",
       "      <td>14230.0</td>\n",
       "      <td>11.0</td>\n",
       "      <td>4461.0</td>\n",
       "      <td>3.0</td>\n",
       "      <td>18.0</td>\n",
       "      <td>0</td>\n",
       "      <td>0</td>\n",
       "      <td>...</td>\n",
       "      <td>No</td>\n",
       "      <td>M</td>\n",
       "      <td>PhD</td>\n",
       "      <td>Profissional</td>\n",
       "      <td>Pessoal</td>\n",
       "      <td>Poupanca</td>\n",
       "      <td>yes</td>\n",
       "      <td>2</td>\n",
       "      <td>No</td>\n",
       "      <td>Urbano</td>\n",
       "    </tr>\n",
       "    <tr>\n",
       "      <th>1</th>\n",
       "      <td>0.0</td>\n",
       "      <td>43.0</td>\n",
       "      <td>11.0</td>\n",
       "      <td>14940.0</td>\n",
       "      <td>1.0</td>\n",
       "      <td>0.0</td>\n",
       "      <td>0.0</td>\n",
       "      <td>1.0</td>\n",
       "      <td>0</td>\n",
       "      <td>0</td>\n",
       "      <td>...</td>\n",
       "      <td>No</td>\n",
       "      <td>M</td>\n",
       "      <td>Ensino Medio</td>\n",
       "      <td>Trabalho Manual</td>\n",
       "      <td>Comercial</td>\n",
       "      <td>Poupanca</td>\n",
       "      <td>yes</td>\n",
       "      <td>0</td>\n",
       "      <td>No</td>\n",
       "      <td>Urbano</td>\n",
       "    </tr>\n",
       "    <tr>\n",
       "      <th>2</th>\n",
       "      <td>0.0</td>\n",
       "      <td>35.0</td>\n",
       "      <td>10.0</td>\n",
       "      <td>4010.0</td>\n",
       "      <td>4.0</td>\n",
       "      <td>38690.0</td>\n",
       "      <td>3.0</td>\n",
       "      <td>10.0</td>\n",
       "      <td>0</td>\n",
       "      <td>1</td>\n",
       "      <td>...</td>\n",
       "      <td>Yes</td>\n",
       "      <td>F</td>\n",
       "      <td>Ensino Medio</td>\n",
       "      <td>Trabalho Administrativo</td>\n",
       "      <td>Pessoal</td>\n",
       "      <td>Renda Variavel</td>\n",
       "      <td>no</td>\n",
       "      <td>2</td>\n",
       "      <td>No</td>\n",
       "      <td>Urbano</td>\n",
       "    </tr>\n",
       "    <tr>\n",
       "      <th>3</th>\n",
       "      <td>0.0</td>\n",
       "      <td>51.0</td>\n",
       "      <td>14.0</td>\n",
       "      <td>15440.0</td>\n",
       "      <td>7.0</td>\n",
       "      <td>0.0</td>\n",
       "      <td>0.0</td>\n",
       "      <td>6.0</td>\n",
       "      <td>0</td>\n",
       "      <td>0</td>\n",
       "      <td>...</td>\n",
       "      <td>Yes</td>\n",
       "      <td>M</td>\n",
       "      <td>Ensino Fundamental</td>\n",
       "      <td>Trabalho Manual</td>\n",
       "      <td>Pessoal</td>\n",
       "      <td>Poupanca</td>\n",
       "      <td>yes</td>\n",
       "      <td>0</td>\n",
       "      <td>No</td>\n",
       "      <td>Urbano</td>\n",
       "    </tr>\n",
       "    <tr>\n",
       "      <th>5</th>\n",
       "      <td>2946.0</td>\n",
       "      <td>34.0</td>\n",
       "      <td>12.0</td>\n",
       "      <td>17430.0</td>\n",
       "      <td>1.0</td>\n",
       "      <td>0.0</td>\n",
       "      <td>0.0</td>\n",
       "      <td>7.0</td>\n",
       "      <td>1</td>\n",
       "      <td>1</td>\n",
       "      <td>...</td>\n",
       "      <td>No</td>\n",
       "      <td>F</td>\n",
       "      <td>Ensino Superior</td>\n",
       "      <td>Trabalho Manual</td>\n",
       "      <td>Comercial</td>\n",
       "      <td>CDB</td>\n",
       "      <td>no</td>\n",
       "      <td>0</td>\n",
       "      <td>No</td>\n",
       "      <td>Urbano</td>\n",
       "    </tr>\n",
       "    <tr>\n",
       "      <th>...</th>\n",
       "      <td>...</td>\n",
       "      <td>...</td>\n",
       "      <td>...</td>\n",
       "      <td>...</td>\n",
       "      <td>...</td>\n",
       "      <td>...</td>\n",
       "      <td>...</td>\n",
       "      <td>...</td>\n",
       "      <td>...</td>\n",
       "      <td>...</td>\n",
       "      <td>...</td>\n",
       "      <td>...</td>\n",
       "      <td>...</td>\n",
       "      <td>...</td>\n",
       "      <td>...</td>\n",
       "      <td>...</td>\n",
       "      <td>...</td>\n",
       "      <td>...</td>\n",
       "      <td>...</td>\n",
       "      <td>...</td>\n",
       "      <td>...</td>\n",
       "    </tr>\n",
       "    <tr>\n",
       "      <th>8138</th>\n",
       "      <td>0.0</td>\n",
       "      <td>46.0</td>\n",
       "      <td>10.0</td>\n",
       "      <td>35050.0</td>\n",
       "      <td>1.0</td>\n",
       "      <td>0.0</td>\n",
       "      <td>0.0</td>\n",
       "      <td>7.0</td>\n",
       "      <td>0</td>\n",
       "      <td>0</td>\n",
       "      <td>...</td>\n",
       "      <td>Yes</td>\n",
       "      <td>F</td>\n",
       "      <td>Ensino Superior</td>\n",
       "      <td>Trabalho Manual</td>\n",
       "      <td>Comercial</td>\n",
       "      <td>Tesouro Direto</td>\n",
       "      <td>no</td>\n",
       "      <td>0</td>\n",
       "      <td>No</td>\n",
       "      <td>Urbano</td>\n",
       "    </tr>\n",
       "    <tr>\n",
       "      <th>8139</th>\n",
       "      <td>0.0</td>\n",
       "      <td>48.0</td>\n",
       "      <td>12.0</td>\n",
       "      <td>16340.0</td>\n",
       "      <td>6.0</td>\n",
       "      <td>0.0</td>\n",
       "      <td>0.0</td>\n",
       "      <td>5.0</td>\n",
       "      <td>0</td>\n",
       "      <td>0</td>\n",
       "      <td>...</td>\n",
       "      <td>Yes</td>\n",
       "      <td>F</td>\n",
       "      <td>Ensino Superior</td>\n",
       "      <td>Trabalho Manual</td>\n",
       "      <td>Comercial</td>\n",
       "      <td>Renda Variavel</td>\n",
       "      <td>no</td>\n",
       "      <td>0</td>\n",
       "      <td>No</td>\n",
       "      <td>Rural</td>\n",
       "    </tr>\n",
       "    <tr>\n",
       "      <th>8140</th>\n",
       "      <td>0.0</td>\n",
       "      <td>56.0</td>\n",
       "      <td>11.0</td>\n",
       "      <td>2790.0</td>\n",
       "      <td>4.0</td>\n",
       "      <td>0.0</td>\n",
       "      <td>0.0</td>\n",
       "      <td>12.0</td>\n",
       "      <td>0</td>\n",
       "      <td>0</td>\n",
       "      <td>...</td>\n",
       "      <td>No</td>\n",
       "      <td>F</td>\n",
       "      <td>Ensino Superior</td>\n",
       "      <td>Estudante</td>\n",
       "      <td>Comercial</td>\n",
       "      <td>Renda Variavel</td>\n",
       "      <td>no</td>\n",
       "      <td>0</td>\n",
       "      <td>No</td>\n",
       "      <td>Urbano</td>\n",
       "    </tr>\n",
       "    <tr>\n",
       "      <th>8141</th>\n",
       "      <td>0.0</td>\n",
       "      <td>35.0</td>\n",
       "      <td>7.0</td>\n",
       "      <td>7990.0</td>\n",
       "      <td>8.0</td>\n",
       "      <td>0.0</td>\n",
       "      <td>1.0</td>\n",
       "      <td>12.0</td>\n",
       "      <td>0</td>\n",
       "      <td>0</td>\n",
       "      <td>...</td>\n",
       "      <td>No</td>\n",
       "      <td>F</td>\n",
       "      <td>Ensino Superior</td>\n",
       "      <td>Gerente</td>\n",
       "      <td>Pessoal</td>\n",
       "      <td>Renda Variavel</td>\n",
       "      <td>no</td>\n",
       "      <td>0</td>\n",
       "      <td>No</td>\n",
       "      <td>Urbano</td>\n",
       "    </tr>\n",
       "    <tr>\n",
       "      <th>8142</th>\n",
       "      <td>0.0</td>\n",
       "      <td>49.0</td>\n",
       "      <td>12.0</td>\n",
       "      <td>6200.0</td>\n",
       "      <td>1.0</td>\n",
       "      <td>0.0</td>\n",
       "      <td>0.0</td>\n",
       "      <td>1.0</td>\n",
       "      <td>0</td>\n",
       "      <td>0</td>\n",
       "      <td>...</td>\n",
       "      <td>No</td>\n",
       "      <td>F</td>\n",
       "      <td>Ensino Medio</td>\n",
       "      <td>Trabalho Manual</td>\n",
       "      <td>Pessoal</td>\n",
       "      <td>Renda Variavel</td>\n",
       "      <td>no</td>\n",
       "      <td>0</td>\n",
       "      <td>No</td>\n",
       "      <td>Rural</td>\n",
       "    </tr>\n",
       "  </tbody>\n",
       "</table>\n",
       "<p>6449 rows × 21 columns</p>\n",
       "</div>"
      ],
      "text/plain": [
       "      TARGET_AMT  IDADE   YOJ  VALOR_SOLICITADO   TIF  OLDCLAIM  \\\n",
       "0            0.0   60.0  11.0           14230.0  11.0    4461.0   \n",
       "1            0.0   43.0  11.0           14940.0   1.0       0.0   \n",
       "2            0.0   35.0  10.0            4010.0   4.0   38690.0   \n",
       "3            0.0   51.0  14.0           15440.0   7.0       0.0   \n",
       "5         2946.0   34.0  12.0           17430.0   1.0       0.0   \n",
       "...          ...    ...   ...               ...   ...       ...   \n",
       "8138         0.0   46.0  10.0           35050.0   1.0       0.0   \n",
       "8139         0.0   48.0  12.0           16340.0   6.0       0.0   \n",
       "8140         0.0   56.0  11.0            2790.0   4.0       0.0   \n",
       "8141         0.0   35.0   7.0            7990.0   8.0       0.0   \n",
       "8142         0.0   49.0  12.0            6200.0   1.0       0.0   \n",
       "\n",
       "      TEMPO_CLIENTE  TEMPO_VIDA_PROD TARGET_FLAG HOMEKIDS  ... CASADO SEX  \\\n",
       "0               3.0             18.0           0        0  ...     No   M   \n",
       "1               0.0              1.0           0        0  ...     No   M   \n",
       "2               3.0             10.0           0        1  ...    Yes   F   \n",
       "3               0.0              6.0           0        0  ...    Yes   M   \n",
       "5               0.0              7.0           1        1  ...     No   F   \n",
       "...             ...              ...         ...      ...  ...    ...  ..   \n",
       "8138            0.0              7.0           0        0  ...    Yes   F   \n",
       "8139            0.0              5.0           0        0  ...    Yes   F   \n",
       "8140            0.0             12.0           0        0  ...     No   F   \n",
       "8141            1.0             12.0           0        0  ...     No   F   \n",
       "8142            0.0              1.0           0        0  ...     No   F   \n",
       "\n",
       "               EDUCATION                      JOB   USO_PROD       TIPO_PROD  \\\n",
       "0                    PhD             Profissional    Pessoal        Poupanca   \n",
       "1           Ensino Medio          Trabalho Manual  Comercial        Poupanca   \n",
       "2           Ensino Medio  Trabalho Administrativo    Pessoal  Renda Variavel   \n",
       "3     Ensino Fundamental          Trabalho Manual    Pessoal        Poupanca   \n",
       "5        Ensino Superior          Trabalho Manual  Comercial             CDB   \n",
       "...                  ...                      ...        ...             ...   \n",
       "8138     Ensino Superior          Trabalho Manual  Comercial  Tesouro Direto   \n",
       "8139     Ensino Superior          Trabalho Manual  Comercial  Renda Variavel   \n",
       "8140     Ensino Superior                Estudante  Comercial  Renda Variavel   \n",
       "8141     Ensino Superior                  Gerente    Pessoal  Renda Variavel   \n",
       "8142        Ensino Medio          Trabalho Manual    Pessoal  Renda Variavel   \n",
       "\n",
       "     PROD_ALTO_VALOR CLM_FREQ TRAN_SUSP URBANICITY  \n",
       "0                yes        2        No     Urbano  \n",
       "1                yes        0        No     Urbano  \n",
       "2                 no        2        No     Urbano  \n",
       "3                yes        0        No     Urbano  \n",
       "5                 no        0        No     Urbano  \n",
       "...              ...      ...       ...        ...  \n",
       "8138              no        0        No     Urbano  \n",
       "8139              no        0        No      Rural  \n",
       "8140              no        0        No     Urbano  \n",
       "8141              no        0        No     Urbano  \n",
       "8142              no        0        No      Rural  \n",
       "\n",
       "[6449 rows x 21 columns]"
      ]
     },
     "execution_count": 28,
     "metadata": {},
     "output_type": "execute_result"
    }
   ],
   "source": [
    "#Dataset tratado\n",
    "dados_5"
   ]
  },
  {
   "cell_type": "markdown",
   "metadata": {},
   "source": [
    "**Dados tratados com 6449 linhas e 21 colunas**"
   ]
  },
  {
   "cell_type": "markdown",
   "metadata": {},
   "source": [
    "## Análise das variáveis:"
   ]
  },
  {
   "cell_type": "markdown",
   "metadata": {},
   "source": [
    "**Variavel Target: TARGET_FLAG**"
   ]
  },
  {
   "cell_type": "code",
   "execution_count": 29,
   "metadata": {},
   "outputs": [
    {
     "data": {
      "image/png": "[encoded data removed]",
      "text/plain": [
       "<Figure size 432x288 with 1 Axes>"
      ]
     },
     "metadata": {
      "needs_background": "light"
     },
     "output_type": "display_data"
    }
   ],
   "source": [
    "#Plot\n",
    "plt.hist(dados_5.TARGET_FLAG);"
   ]
  },
  {
   "cell_type": "code",
   "execution_count": 30,
   "metadata": {},
   "outputs": [
    {
     "name": "stdout",
     "output_type": "stream",
     "text": [
      "Porcentagem de Clientes de Baixo Risco: 76.99%\n",
      "Porcentagem de Clientes de Alto Risco: 23.01%\n"
     ]
    }
   ],
   "source": [
    "a = len(dados_5[dados_5.TARGET_FLAG==0])\n",
    "b = len(dados_5[dados_5.TARGET_FLAG==1])\n",
    "total = len(dados_5)\n",
    "\n",
    "print(f'Porcentagem de Clientes de Baixo Risco: {round(a/total*100,2)}%')\n",
    "print(f'Porcentagem de Clientes de Alto Risco: {round(b/total*100,2)}%')"
   ]
  },
  {
   "cell_type": "markdown",
   "metadata": {},
   "source": [
    "**Claramente temos um problema com a distribuições das classes, esse desbalanceamento faz com que não tenhamos tanta precisão nas previsões dos dados em uma das classes, vamos ter que usar a técnica de sub amostragem para equilibrar os dados**"
   ]
  },
  {
   "cell_type": "markdown",
   "metadata": {},
   "source": [
    "## Análise dos dados numéricos VS variável target"
   ]
  },
  {
   "cell_type": "markdown",
   "metadata": {},
   "source": [
    "# OBS: Note que todas as variáveis Numericas tem siginificancia estatistica no teste de Mann-Whitney"
   ]
  },
  {
   "cell_type": "code",
   "execution_count": 82,
   "metadata": {},
   "outputs": [
    {
     "name": "stdout",
     "output_type": "stream",
     "text": [
      "<class 'pandas.core.frame.DataFrame'>\n",
      "Int64Index: 6449 entries, 0 to 8142\n",
      "Data columns (total 9 columns):\n",
      " #   Column            Non-Null Count  Dtype  \n",
      "---  ------            --------------  -----  \n",
      " 0   TARGET_AMT        6449 non-null   float64\n",
      " 1   IDADE             6449 non-null   float64\n",
      " 2   YOJ               6449 non-null   float64\n",
      " 3   VALOR_SOLICITADO  6449 non-null   float64\n",
      " 4   TIF               6449 non-null   float64\n",
      " 5   OLDCLAIM          6449 non-null   float64\n",
      " 6   TEMPO_CLIENTE     6449 non-null   float64\n",
      " 7   TEMPO_VIDA_PROD   6449 non-null   float64\n",
      " 8   TARGET_FLAG       6449 non-null   object \n",
      "dtypes: float64(8), object(1)\n",
      "memory usage: 503.8+ KB\n"
     ]
    }
   ],
   "source": [
    "#Selecionar as variáveis numericas\n",
    "import warnings\n",
    "warnings.filterwarnings('ignore')\n",
    "var_num = dados_5.select_dtypes(['float','int']).columns\n",
    "var_num = dados_5[var_num]\n",
    "\n",
    "#Adicionar a variavel target para analise\n",
    "var_num['TARGET_FLAG'] = dados_5['TARGET_FLAG']\n",
    "\n",
    "var_num.info()"
   ]
  },
  {
   "cell_type": "code",
   "execution_count": 32,
   "metadata": {},
   "outputs": [
    {
     "name": "stdout",
     "output_type": "stream",
     "text": [
      "\n",
      "Variável:**TARGET_AMT**, P_valor:0.00, Não tem distribuição normal\n",
      "\n",
      "Variável:IDADE, P_valor:0.08, Maior que 0.05 ,Tem Distribuiçao Normal\n",
      "\n",
      "Variável:**YOJ**, P_valor:0.00, Não tem distribuição normal\n",
      "\n",
      "Variável:**VALOR_SOLICITADO**, P_valor:0.00, Não tem distribuição normal\n",
      "\n",
      "Variável:**TIF**, P_valor:0.00, Não tem distribuição normal\n",
      "\n",
      "Variável:**OLDCLAIM**, P_valor:0.00, Não tem distribuição normal\n",
      "\n",
      "Variável:**TEMPO_CLIENTE**, P_valor:0.00, Não tem distribuição normal\n",
      "\n",
      "Variável:**TEMPO_VIDA_PROD**, P_valor:0.00, Não tem distribuição normal\n",
      "\n",
      "Variável:**TARGET_FLAG**, P_valor:0.00, Não tem distribuição normal\n"
     ]
    }
   ],
   "source": [
    "#Teste de Shapiro, verificar se as variáveis tem distribuição normal\n",
    "import scipy.stats as stats\n",
    "for i in var_num.columns:\n",
    "    shapiro_stats, shapiro_p_valor = stats.shapiro(var_num[i][0:500])\n",
    "    if shapiro_p_valor > 0.05:\n",
    "        print(f'\\nVariável:{i}, P_valor:{shapiro_p_valor:.2f}, Maior que 0.05 ,Tem Distribuiçao Normal')\n",
    "    else:\n",
    "        print(f'\\nVariável:**{i}**, P_valor:{shapiro_p_valor:.2f}, Não tem distribuição normal')"
   ]
  },
  {
   "cell_type": "markdown",
   "metadata": {},
   "source": [
    "**Apenas a variável IDADE tem distribuição normal, vamos analisar as médias dos dados usando teste não-parametrico de Mann-Whitney**"
   ]
  },
  {
   "cell_type": "markdown",
   "metadata": {},
   "source": [
    "### TARGET_AMT"
   ]
  },
  {
   "cell_type": "code",
   "execution_count": 33,
   "metadata": {},
   "outputs": [
    {
     "name": "stdout",
     "output_type": "stream",
     "text": [
      "\n",
      "Classe 0 = 0.0\n",
      "Classe 1 = 4046.1\n"
     ]
    }
   ],
   "source": [
    "#classe 0\n",
    "classe_0 = var_num.loc[(var_num['TARGET_FLAG']==0)]\n",
    "a = classe_0['TARGET_AMT'].mean()\n",
    "\n",
    "#Classe 1\n",
    "classe_1 = var_num.loc[(var_num['TARGET_FLAG']==1)]\n",
    "b = classe_1['TARGET_AMT'].mean()\n",
    "\n",
    "\n",
    "print(f'\\nClasse 0 = {round(a,2)}')\n",
    "print(f'Classe 1 = {round(b,2)}')"
   ]
  },
  {
   "cell_type": "code",
   "execution_count": 34,
   "metadata": {},
   "outputs": [
    {
     "data": {
      "text/plain": [
       "1929.416710810229"
      ]
     },
     "execution_count": 34,
     "metadata": {},
     "output_type": "execute_result"
    }
   ],
   "source": [
    "#Desvio padrão\n",
    "np.std(var_num['TARGET_AMT'])"
   ]
  },
  {
   "cell_type": "code",
   "execution_count": 35,
   "metadata": {},
   "outputs": [
    {
     "data": {
      "text/plain": [
       "MannwhitneyuResult(statistic=0.0, pvalue=0.0)"
      ]
     },
     "execution_count": 35,
     "metadata": {},
     "output_type": "execute_result"
    }
   ],
   "source": [
    "#Teste de Mann-Whitney\n",
    "from scipy.stats import mannwhitneyu\n",
    "mannwhitneyu(classe_0['TARGET_AMT'], classe_1['TARGET_AMT'], alternative = 'two-sided')"
   ]
  },
  {
   "cell_type": "markdown",
   "metadata": {},
   "source": [
    "### IDADE"
   ]
  },
  {
   "cell_type": "code",
   "execution_count": 36,
   "metadata": {},
   "outputs": [
    {
     "name": "stdout",
     "output_type": "stream",
     "text": [
      "\n",
      "Classe 0 = 45.2\n",
      "Classe 1 = 43.04\n"
     ]
    }
   ],
   "source": [
    "#classe 0\n",
    "target_flag_0 = var_num.loc[(var_num['TARGET_FLAG']==0)]\n",
    "a = target_flag_0['IDADE'].mean()\n",
    "\n",
    "#Classe 1\n",
    "target_flag_1 = var_num.loc[(var_num['TARGET_FLAG']==1)]\n",
    "b = target_flag_1['IDADE'].mean()\n",
    "\n",
    "print(f'\\nClasse 0 = {round(a,2)}')\n",
    "print(f'Classe 1 = {round(b,2)}')"
   ]
  },
  {
   "cell_type": "code",
   "execution_count": 37,
   "metadata": {},
   "outputs": [
    {
     "data": {
      "text/plain": [
       "8.605543070246028"
      ]
     },
     "execution_count": 37,
     "metadata": {},
     "output_type": "execute_result"
    }
   ],
   "source": [
    "#Desvio padrão\n",
    "np.std(var_num['IDADE'])"
   ]
  },
  {
   "cell_type": "code",
   "execution_count": 38,
   "metadata": {},
   "outputs": [
    {
     "name": "stdout",
     "output_type": "stream",
     "text": [
      "61.18603245036376\n",
      "P_valor: 0.0\n"
     ]
    }
   ],
   "source": [
    "#Verificar há diferença estatistica entre as 2 médias\n",
    "from scipy.stats import bartlett\n",
    "stats , p_value = bartlett(target_flag_0['IDADE'], target_flag_1['IDADE'])\n",
    "print(stats)\n",
    "print(f'P_valor: {round(p_value,5)}')"
   ]
  },
  {
   "cell_type": "markdown",
   "metadata": {},
   "source": [
    "### YOJ"
   ]
  },
  {
   "cell_type": "code",
   "execution_count": 39,
   "metadata": {},
   "outputs": [
    {
     "name": "stdout",
     "output_type": "stream",
     "text": [
      "\n",
      "Média Classe 0 = 10.64\n",
      "Média Classe 1 = 9.98\n"
     ]
    }
   ],
   "source": [
    "#classe 0\n",
    "\n",
    "target_flag_0 = var_num.loc[(var_num['TARGET_FLAG']==0)]\n",
    "a = target_flag_0['YOJ'].mean()\n",
    "\n",
    "#Classe 1\n",
    "target_flag_1 = var_num.loc[(var_num['TARGET_FLAG']==1)]\n",
    "b = target_flag_1['YOJ'].mean()\n",
    "\n",
    "\n",
    "\n",
    "print(f'\\nMédia Classe 0 = {round(a,2)}')\n",
    "print(f'Média Classe 1 = {round(b,2)}')\n",
    "\n",
    "\n"
   ]
  },
  {
   "cell_type": "code",
   "execution_count": 40,
   "metadata": {},
   "outputs": [
    {
     "data": {
      "text/plain": [
       "4.139147665532885"
      ]
     },
     "execution_count": 40,
     "metadata": {},
     "output_type": "execute_result"
    }
   ],
   "source": [
    "#Desvio padrão\n",
    "np.std(var_num['YOJ'])"
   ]
  },
  {
   "cell_type": "code",
   "execution_count": 41,
   "metadata": {},
   "outputs": [
    {
     "data": {
      "text/plain": [
       "MannwhitneyuResult(statistic=3948784.0, pvalue=2.3309115463937256e-05)"
      ]
     },
     "execution_count": 41,
     "metadata": {},
     "output_type": "execute_result"
    }
   ],
   "source": [
    "#Teste de Mann-Whitney\n",
    "mannwhitneyu(target_flag_0['YOJ'],target_flag_1['YOJ'], alternative = 'two-sided')"
   ]
  },
  {
   "cell_type": "markdown",
   "metadata": {},
   "source": [
    "### VALOR_SOLICITADO"
   ]
  },
  {
   "cell_type": "code",
   "execution_count": 42,
   "metadata": {},
   "outputs": [
    {
     "name": "stdout",
     "output_type": "stream",
     "text": [
      "Classe 0 = 15645.1\n",
      "Classe 1 = 13801.3\n"
     ]
    }
   ],
   "source": [
    "#classe 0\n",
    "target_flag_0 = var_num.loc[(var_num['TARGET_FLAG']==0)]\n",
    "a = target_flag_0['VALOR_SOLICITADO'].mean()\n",
    "\n",
    "#Classe 1\n",
    "target_flag_1 = var_num.loc[(var_num['TARGET_FLAG']==1)]\n",
    "b = target_flag_1['VALOR_SOLICITADO'].mean()\n",
    "\n",
    "print(f'Classe 0 = {round(a,1)}')\n",
    "print(f'Classe 1 = {round(b,1)}')"
   ]
  },
  {
   "cell_type": "code",
   "execution_count": 43,
   "metadata": {},
   "outputs": [
    {
     "data": {
      "text/plain": [
       "8029.000924371634"
      ]
     },
     "execution_count": 43,
     "metadata": {},
     "output_type": "execute_result"
    }
   ],
   "source": [
    "#Desvio padrão\n",
    "np.std(var_num['VALOR_SOLICITADO'])"
   ]
  },
  {
   "cell_type": "code",
   "execution_count": 44,
   "metadata": {},
   "outputs": [
    {
     "data": {
      "text/plain": [
       "MannwhitneyuResult(statistic=4235040.5, pvalue=2.026623013365295e-18)"
      ]
     },
     "execution_count": 44,
     "metadata": {},
     "output_type": "execute_result"
    }
   ],
   "source": [
    "mannwhitneyu(target_flag_0['VALOR_SOLICITADO'],target_flag_1['VALOR_SOLICITADO'], alternative = 'two-sided')"
   ]
  },
  {
   "cell_type": "markdown",
   "metadata": {},
   "source": [
    "### TIF"
   ]
  },
  {
   "cell_type": "code",
   "execution_count": 45,
   "metadata": {},
   "outputs": [
    {
     "name": "stdout",
     "output_type": "stream",
     "text": [
      "Classe 0 = 5.5\n",
      "Classe 1 = 4.8\n"
     ]
    }
   ],
   "source": [
    "#classe 0\n",
    "target_flag_0 = var_num.loc[(var_num['TARGET_FLAG']==0)]\n",
    "a = target_flag_0['TIF'].mean()\n",
    "\n",
    "#Classe 1\n",
    "target_flag_1 = var_num.loc[(var_num['TARGET_FLAG']==1)]\n",
    "b = target_flag_1['TIF'].mean()\n",
    "\n",
    "print(f'Classe 0 = {round(a,1)}')\n",
    "print(f'Classe 1 = {round(b,1)}')"
   ]
  },
  {
   "cell_type": "code",
   "execution_count": 46,
   "metadata": {},
   "outputs": [
    {
     "data": {
      "text/plain": [
       "4.154609722227253"
      ]
     },
     "execution_count": 46,
     "metadata": {},
     "output_type": "execute_result"
    }
   ],
   "source": [
    "#Desvio padrão\n",
    "np.std(var_num['TIF'])"
   ]
  },
  {
   "cell_type": "code",
   "execution_count": 47,
   "metadata": {},
   "outputs": [
    {
     "data": {
      "text/plain": [
       "MannwhitneyuResult(statistic=4060870.5, pvalue=1.0123582842083887e-09)"
      ]
     },
     "execution_count": 47,
     "metadata": {},
     "output_type": "execute_result"
    }
   ],
   "source": [
    "#Teste de Mann-Whitney\n",
    "mannwhitneyu(target_flag_0['TIF'],target_flag_1['TIF'], alternative = 'two-sided')"
   ]
  },
  {
   "cell_type": "markdown",
   "metadata": {},
   "source": [
    "### OLDCLAIM"
   ]
  },
  {
   "cell_type": "code",
   "execution_count": 48,
   "metadata": {},
   "outputs": [
    {
     "name": "stdout",
     "output_type": "stream",
     "text": [
      "Classe 0 = 3263.7\n",
      "Classe 1 = 5932.6\n"
     ]
    }
   ],
   "source": [
    "#classe 0\n",
    "target_flag_0 = var_num.loc[(var_num['TARGET_FLAG']==0)]\n",
    "a = target_flag_0['OLDCLAIM'].mean()\n",
    "\n",
    "#Classe 1\n",
    "target_flag_1 = var_num.loc[(var_num['TARGET_FLAG']==1)]\n",
    "b = target_flag_1['OLDCLAIM'].mean()\n",
    "\n",
    "print(f'Classe 0 = {round(a,1)}')\n",
    "print(f'Classe 1 = {round(b,1)}')"
   ]
  },
  {
   "cell_type": "code",
   "execution_count": 49,
   "metadata": {},
   "outputs": [
    {
     "data": {
      "text/plain": [
       "8680.866853001635"
      ]
     },
     "execution_count": 49,
     "metadata": {},
     "output_type": "execute_result"
    }
   ],
   "source": [
    "#Desvio padrão\n",
    "np.std(var_num['OLDCLAIM'])"
   ]
  },
  {
   "cell_type": "code",
   "execution_count": 50,
   "metadata": {},
   "outputs": [
    {
     "data": {
      "text/plain": [
       "MannwhitneyuResult(statistic=2663401.0, pvalue=2.5691606418612143e-78)"
      ]
     },
     "execution_count": 50,
     "metadata": {},
     "output_type": "execute_result"
    }
   ],
   "source": [
    "#Teste de Mann-Whitney\n",
    "mannwhitneyu(target_flag_0['OLDCLAIM'],target_flag_1['OLDCLAIM'], alternative = 'two-sided')"
   ]
  },
  {
   "cell_type": "markdown",
   "metadata": {},
   "source": [
    "### TEMPO_CLIENTE"
   ]
  },
  {
   "cell_type": "code",
   "execution_count": 51,
   "metadata": {},
   "outputs": [
    {
     "name": "stdout",
     "output_type": "stream",
     "text": [
      "Classe 0 = 1.4\n",
      "Classe 1 = 2.5\n"
     ]
    }
   ],
   "source": [
    "#classe 0\n",
    "target_flag_0 = var_num.loc[(var_num['TARGET_FLAG']==0)]\n",
    "a = target_flag_0['TEMPO_CLIENTE'].mean()\n",
    "\n",
    "#Classe 1\n",
    "target_flag_1 = var_num.loc[(var_num['TARGET_FLAG']==1)]\n",
    "b = target_flag_1['TEMPO_CLIENTE'].mean()\n",
    "\n",
    "print(f'Classe 0 = {round(a,1)}')\n",
    "print(f'Classe 1 = {round(b,1)}')"
   ]
  },
  {
   "cell_type": "code",
   "execution_count": 52,
   "metadata": {},
   "outputs": [
    {
     "data": {
      "text/plain": [
       "2.1152049368906374"
      ]
     },
     "execution_count": 52,
     "metadata": {},
     "output_type": "execute_result"
    }
   ],
   "source": [
    "#Desvio padrão\n",
    "np.std(var_num['TEMPO_CLIENTE'])"
   ]
  },
  {
   "cell_type": "code",
   "execution_count": 53,
   "metadata": {},
   "outputs": [
    {
     "data": {
      "text/plain": [
       "MannwhitneyuResult(statistic=2789663.5, pvalue=5.465159637618001e-51)"
      ]
     },
     "execution_count": 53,
     "metadata": {},
     "output_type": "execute_result"
    }
   ],
   "source": [
    "#Teste de Mann-Whitney\n",
    "mannwhitneyu(target_flag_0['TEMPO_CLIENTE'],target_flag_1['TEMPO_CLIENTE'], alternative = 'two-sided')"
   ]
  },
  {
   "cell_type": "markdown",
   "metadata": {},
   "source": [
    "### TEMPO_VIDA_PROD"
   ]
  },
  {
   "cell_type": "code",
   "execution_count": 54,
   "metadata": {},
   "outputs": [
    {
     "name": "stdout",
     "output_type": "stream",
     "text": [
      "Classe 0 = 8.3\n",
      "Classe 1 = 7.0\n"
     ]
    }
   ],
   "source": [
    "#classe 0\n",
    "target_flag_0 = var_num.loc[(var_num['TARGET_FLAG']==0)]\n",
    "a = target_flag_0['TEMPO_VIDA_PROD'].mean()\n",
    "\n",
    "#Classe 1\n",
    "target_flag_1 = var_num.loc[(var_num['TARGET_FLAG']==1)]\n",
    "b = target_flag_1['TEMPO_VIDA_PROD'].mean()\n",
    "\n",
    "print(f'Classe 0 = {round(a,1)}')\n",
    "print(f'Classe 1 = {round(b,1)}')"
   ]
  },
  {
   "cell_type": "code",
   "execution_count": 55,
   "metadata": {},
   "outputs": [
    {
     "data": {
      "text/plain": [
       "5.573568006419385"
      ]
     },
     "execution_count": 55,
     "metadata": {},
     "output_type": "execute_result"
    }
   ],
   "source": [
    "#Desvio padrão\n",
    "np.std(var_num['TEMPO_VIDA_PROD'])"
   ]
  },
  {
   "cell_type": "code",
   "execution_count": 56,
   "metadata": {},
   "outputs": [
    {
     "data": {
      "text/plain": [
       "MannwhitneyuResult(statistic=4157275.0, pvalue=2.98669269595525e-14)"
      ]
     },
     "execution_count": 56,
     "metadata": {},
     "output_type": "execute_result"
    }
   ],
   "source": [
    "#Teste de Mann-Whitney\n",
    "mannwhitneyu(target_flag_0['TEMPO_VIDA_PROD'],target_flag_1['TEMPO_VIDA_PROD'], alternative = 'two-sided')"
   ]
  },
  {
   "cell_type": "markdown",
   "metadata": {},
   "source": [
    "## Analise dos dados Categoricas X Target"
   ]
  },
  {
   "cell_type": "markdown",
   "metadata": {},
   "source": [
    "**Vamos considerar as porcentagens nas analises 74% para classe 0 e 26% para classe 1**"
   ]
  },
  {
   "cell_type": "markdown",
   "metadata": {},
   "source": [
    "# OBS: Note que todas as variáveis Categoricas não tem siginificancia estatistica no teste de Mann-Whitney"
   ]
  },
  {
   "cell_type": "code",
   "execution_count": 57,
   "metadata": {},
   "outputs": [
    {
     "name": "stdout",
     "output_type": "stream",
     "text": [
      "<class 'pandas.core.frame.DataFrame'>\n",
      "Int64Index: 6449 entries, 0 to 8142\n",
      "Data columns (total 13 columns):\n",
      " #   Column           Non-Null Count  Dtype \n",
      "---  ------           --------------  ----- \n",
      " 0   TARGET_FLAG      6449 non-null   object\n",
      " 1   HOMEKIDS         6449 non-null   object\n",
      " 2   CONTA_CLI        6449 non-null   object\n",
      " 3   CASADO           6449 non-null   object\n",
      " 4   SEX              6449 non-null   object\n",
      " 5   EDUCATION        6449 non-null   object\n",
      " 6   JOB              6449 non-null   object\n",
      " 7   USO_PROD         6449 non-null   object\n",
      " 8   TIPO_PROD        6449 non-null   object\n",
      " 9   PROD_ALTO_VALOR  6449 non-null   object\n",
      " 10  CLM_FREQ         6449 non-null   object\n",
      " 11  TRAN_SUSP        6449 non-null   object\n",
      " 12  URBANICITY       6449 non-null   object\n",
      "dtypes: object(13)\n",
      "memory usage: 705.4+ KB\n"
     ]
    }
   ],
   "source": [
    "#Selecionar as variáveis numericas\n",
    "var_cat = dados_5.select_dtypes(['object']).columns\n",
    "var_cat = dados_5[var_cat]\n",
    "var_cat.info()"
   ]
  },
  {
   "cell_type": "markdown",
   "metadata": {},
   "source": [
    "### HOMEKIDS"
   ]
  },
  {
   "cell_type": "code",
   "execution_count": 58,
   "metadata": {},
   "outputs": [
    {
     "data": {
      "text/html": [
       "<div>\n",
       "<style scoped>\n",
       "    .dataframe tbody tr th:only-of-type {\n",
       "        vertical-align: middle;\n",
       "    }\n",
       "\n",
       "    .dataframe tbody tr th {\n",
       "        vertical-align: top;\n",
       "    }\n",
       "\n",
       "    .dataframe thead th {\n",
       "        text-align: right;\n",
       "    }\n",
       "</style>\n",
       "<table border=\"1\" class=\"dataframe\">\n",
       "  <thead>\n",
       "    <tr style=\"text-align: right;\">\n",
       "      <th>HOMEKIDS</th>\n",
       "      <th>0</th>\n",
       "      <th>1</th>\n",
       "      <th>2</th>\n",
       "      <th>3</th>\n",
       "      <th>4</th>\n",
       "      <th>5</th>\n",
       "    </tr>\n",
       "    <tr>\n",
       "      <th>TARGET_FLAG</th>\n",
       "      <th></th>\n",
       "      <th></th>\n",
       "      <th></th>\n",
       "      <th></th>\n",
       "      <th></th>\n",
       "      <th></th>\n",
       "    </tr>\n",
       "  </thead>\n",
       "  <tbody>\n",
       "    <tr>\n",
       "      <th>0</th>\n",
       "      <td>0.807047</td>\n",
       "      <td>0.707627</td>\n",
       "      <td>0.702273</td>\n",
       "      <td>0.696691</td>\n",
       "      <td>0.691729</td>\n",
       "      <td>0.666667</td>\n",
       "    </tr>\n",
       "    <tr>\n",
       "      <th>1</th>\n",
       "      <td>0.192953</td>\n",
       "      <td>0.292373</td>\n",
       "      <td>0.297727</td>\n",
       "      <td>0.303309</td>\n",
       "      <td>0.308271</td>\n",
       "      <td>0.333333</td>\n",
       "    </tr>\n",
       "  </tbody>\n",
       "</table>\n",
       "</div>"
      ],
      "text/plain": [
       "HOMEKIDS            0         1         2         3         4         5\n",
       "TARGET_FLAG                                                            \n",
       "0            0.807047  0.707627  0.702273  0.696691  0.691729  0.666667\n",
       "1            0.192953  0.292373  0.297727  0.303309  0.308271  0.333333"
      ]
     },
     "execution_count": 58,
     "metadata": {},
     "output_type": "execute_result"
    }
   ],
   "source": [
    "HOMEKIDS = pd.crosstab(var_cat.TARGET_FLAG,var_cat.HOMEKIDS)\n",
    "HOMEKIDS/HOMEKIDS.aggregate(np.sum)"
   ]
  },
  {
   "cell_type": "code",
   "execution_count": 59,
   "metadata": {},
   "outputs": [
    {
     "name": "stdout",
     "output_type": "stream",
     "text": [
      "Numero de filho 1: P_valor 1.0\n",
      "Numero de filho 2: P_valor 1.0\n",
      "Numero de filho 3: P_valor 1.0\n",
      "Numero de filho 4: P_valor 1.0\n",
      "Numero de filho 5: P_valor 1.0\n"
     ]
    }
   ],
   "source": [
    "#Teste de Mann-Whitney \n",
    "_,p1 = mannwhitneyu(HOMEKIDS[0][0],HOMEKIDS[0][1], alternative = 'two-sided')\n",
    "_,p2 = mannwhitneyu(HOMEKIDS[1][0],HOMEKIDS[1][1], alternative = 'two-sided')\n",
    "_,p3 = mannwhitneyu(HOMEKIDS[2][0],HOMEKIDS[2][1], alternative = 'two-sided')\n",
    "_,p4 = mannwhitneyu(HOMEKIDS[3][0],HOMEKIDS[3][1], alternative = 'two-sided')\n",
    "_,p5 = mannwhitneyu(HOMEKIDS[4][0],HOMEKIDS[4][1], alternative = 'two-sided')\n",
    "\n",
    "print(f'Numero de filho 1: P_valor {p1}')\n",
    "print(f'Numero de filho 2: P_valor {p2}')\n",
    "print(f'Numero de filho 3: P_valor {p3}')\n",
    "print(f'Numero de filho 4: P_valor {p4}')\n",
    "print(f'Numero de filho 5: P_valor {p5}')"
   ]
  },
  {
   "cell_type": "markdown",
   "metadata": {},
   "source": [
    "### CONTA_CLI"
   ]
  },
  {
   "cell_type": "code",
   "execution_count": 60,
   "metadata": {},
   "outputs": [
    {
     "data": {
      "text/html": [
       "<div>\n",
       "<style scoped>\n",
       "    .dataframe tbody tr th:only-of-type {\n",
       "        vertical-align: middle;\n",
       "    }\n",
       "\n",
       "    .dataframe tbody tr th {\n",
       "        vertical-align: top;\n",
       "    }\n",
       "\n",
       "    .dataframe thead th {\n",
       "        text-align: right;\n",
       "    }\n",
       "</style>\n",
       "<table border=\"1\" class=\"dataframe\">\n",
       "  <thead>\n",
       "    <tr style=\"text-align: right;\">\n",
       "      <th>CONTA_CLI</th>\n",
       "      <th>No</th>\n",
       "      <th>Yes</th>\n",
       "    </tr>\n",
       "    <tr>\n",
       "      <th>TARGET_FLAG</th>\n",
       "      <th></th>\n",
       "      <th></th>\n",
       "    </tr>\n",
       "  </thead>\n",
       "  <tbody>\n",
       "    <tr>\n",
       "      <th>0</th>\n",
       "      <td>0.791924</td>\n",
       "      <td>0.609359</td>\n",
       "    </tr>\n",
       "    <tr>\n",
       "      <th>1</th>\n",
       "      <td>0.208076</td>\n",
       "      <td>0.390641</td>\n",
       "    </tr>\n",
       "  </tbody>\n",
       "</table>\n",
       "</div>"
      ],
      "text/plain": [
       "CONTA_CLI          No       Yes\n",
       "TARGET_FLAG                    \n",
       "0            0.791924  0.609359\n",
       "1            0.208076  0.390641"
      ]
     },
     "execution_count": 60,
     "metadata": {},
     "output_type": "execute_result"
    }
   ],
   "source": [
    "CONTA_CLI = pd.crosstab(dados.TARGET_FLAG,dados.CONTA_CLI)\n",
    "CONTA_CLI/CONTA_CLI.aggregate(np.sum)"
   ]
  },
  {
   "cell_type": "code",
   "execution_count": 61,
   "metadata": {},
   "outputs": [
    {
     "name": "stdout",
     "output_type": "stream",
     "text": [
      "Cliente possui apenas 1 conta em banco: P_Valor 1.0\n",
      "Cliente possui mais de 1 conta em banco: P_Valor 1.0\n"
     ]
    }
   ],
   "source": [
    "_,p1 = mannwhitneyu(CONTA_CLI.iloc[0,0],CONTA_CLI.iloc[0,1], alternative = 'two-sided')\n",
    "_,p2 = mannwhitneyu(CONTA_CLI.iloc[1,0],CONTA_CLI.iloc[1,1], alternative = 'two-sided')\n",
    "\n",
    "print(f'Cliente possui apenas 1 conta em banco: P_Valor {p1}')\n",
    "print(f'Cliente possui mais de 1 conta em banco: P_Valor {p2}')"
   ]
  },
  {
   "cell_type": "markdown",
   "metadata": {},
   "source": [
    "### CASADO"
   ]
  },
  {
   "cell_type": "code",
   "execution_count": 62,
   "metadata": {},
   "outputs": [
    {
     "data": {
      "text/html": [
       "<div>\n",
       "<style scoped>\n",
       "    .dataframe tbody tr th:only-of-type {\n",
       "        vertical-align: middle;\n",
       "    }\n",
       "\n",
       "    .dataframe tbody tr th {\n",
       "        vertical-align: top;\n",
       "    }\n",
       "\n",
       "    .dataframe thead th {\n",
       "        text-align: right;\n",
       "    }\n",
       "</style>\n",
       "<table border=\"1\" class=\"dataframe\">\n",
       "  <thead>\n",
       "    <tr style=\"text-align: right;\">\n",
       "      <th>CASADO</th>\n",
       "      <th>No</th>\n",
       "      <th>Yes</th>\n",
       "    </tr>\n",
       "    <tr>\n",
       "      <th>TARGET_FLAG</th>\n",
       "      <th></th>\n",
       "      <th></th>\n",
       "    </tr>\n",
       "  </thead>\n",
       "  <tbody>\n",
       "    <tr>\n",
       "      <th>0</th>\n",
       "      <td>0.703812</td>\n",
       "      <td>0.811177</td>\n",
       "    </tr>\n",
       "    <tr>\n",
       "      <th>1</th>\n",
       "      <td>0.296188</td>\n",
       "      <td>0.188823</td>\n",
       "    </tr>\n",
       "  </tbody>\n",
       "</table>\n",
       "</div>"
      ],
      "text/plain": [
       "CASADO             No       Yes\n",
       "TARGET_FLAG                    \n",
       "0            0.703812  0.811177\n",
       "1            0.296188  0.188823"
      ]
     },
     "execution_count": 62,
     "metadata": {},
     "output_type": "execute_result"
    }
   ],
   "source": [
    "CASADO = pd.crosstab(dados.TARGET_FLAG,dados.CASADO)\n",
    "CASADO/CASADO.aggregate(np.sum)"
   ]
  },
  {
   "cell_type": "code",
   "execution_count": 63,
   "metadata": {},
   "outputs": [
    {
     "name": "stdout",
     "output_type": "stream",
     "text": [
      "Cliente não casado: P_Valor 1.0\n",
      "Cliente asado: P_Valor 1.0\n"
     ]
    }
   ],
   "source": [
    "_,p1 = mannwhitneyu(CASADO.iloc[0,0],CASADO.iloc[0,1], alternative = 'two-sided')\n",
    "_,p2 = mannwhitneyu(CASADO.iloc[1,0],CASADO.iloc[1,1], alternative = 'two-sided')\n",
    "\n",
    "print(f'Cliente não casado: P_Valor {p1}')\n",
    "print(f'Cliente asado: P_Valor {p2}')"
   ]
  },
  {
   "cell_type": "markdown",
   "metadata": {},
   "source": [
    "### SEX"
   ]
  },
  {
   "cell_type": "code",
   "execution_count": 64,
   "metadata": {},
   "outputs": [
    {
     "data": {
      "text/html": [
       "<div>\n",
       "<style scoped>\n",
       "    .dataframe tbody tr th:only-of-type {\n",
       "        vertical-align: middle;\n",
       "    }\n",
       "\n",
       "    .dataframe tbody tr th {\n",
       "        vertical-align: top;\n",
       "    }\n",
       "\n",
       "    .dataframe thead th {\n",
       "        text-align: right;\n",
       "    }\n",
       "</style>\n",
       "<table border=\"1\" class=\"dataframe\">\n",
       "  <thead>\n",
       "    <tr style=\"text-align: right;\">\n",
       "      <th>SEX</th>\n",
       "      <th>F</th>\n",
       "      <th>M</th>\n",
       "    </tr>\n",
       "    <tr>\n",
       "      <th>TARGET_FLAG</th>\n",
       "      <th></th>\n",
       "      <th></th>\n",
       "    </tr>\n",
       "  </thead>\n",
       "  <tbody>\n",
       "    <tr>\n",
       "      <th>0</th>\n",
       "      <td>0.760661</td>\n",
       "      <td>0.778392</td>\n",
       "    </tr>\n",
       "    <tr>\n",
       "      <th>1</th>\n",
       "      <td>0.239339</td>\n",
       "      <td>0.221608</td>\n",
       "    </tr>\n",
       "  </tbody>\n",
       "</table>\n",
       "</div>"
      ],
      "text/plain": [
       "SEX                 F         M\n",
       "TARGET_FLAG                    \n",
       "0            0.760661  0.778392\n",
       "1            0.239339  0.221608"
      ]
     },
     "execution_count": 64,
     "metadata": {},
     "output_type": "execute_result"
    }
   ],
   "source": [
    "SEX = pd.crosstab(dados.TARGET_FLAG,dados.SEX)\n",
    "SEX/SEX.aggregate(np.sum)"
   ]
  },
  {
   "cell_type": "code",
   "execution_count": 65,
   "metadata": {},
   "outputs": [
    {
     "name": "stdout",
     "output_type": "stream",
     "text": [
      "Sexo Feminino, P_valor 1.0\n",
      "Sexo Masculino, P_valor 1.0\n"
     ]
    }
   ],
   "source": [
    "_,p1 = mannwhitneyu(SEX.iloc[0,0],SEX.iloc[0,1], alternative = 'two-sided')\n",
    "_,p2 = mannwhitneyu(SEX.iloc[1,0],SEX.iloc[1,1], alternative = 'two-sided')\n",
    "\n",
    "print(f'Sexo Feminino, P_valor {p1}')\n",
    "print(f'Sexo Masculino, P_valor {p2}')"
   ]
  },
  {
   "cell_type": "markdown",
   "metadata": {},
   "source": [
    "### EDUCATION"
   ]
  },
  {
   "cell_type": "code",
   "execution_count": 66,
   "metadata": {},
   "outputs": [
    {
     "data": {
      "text/html": [
       "<div>\n",
       "<style scoped>\n",
       "    .dataframe tbody tr th:only-of-type {\n",
       "        vertical-align: middle;\n",
       "    }\n",
       "\n",
       "    .dataframe tbody tr th {\n",
       "        vertical-align: top;\n",
       "    }\n",
       "\n",
       "    .dataframe thead th {\n",
       "        text-align: right;\n",
       "    }\n",
       "</style>\n",
       "<table border=\"1\" class=\"dataframe\">\n",
       "  <thead>\n",
       "    <tr style=\"text-align: right;\">\n",
       "      <th>EDUCATION</th>\n",
       "      <th>Ensino Fundamental</th>\n",
       "      <th>Ensino Medio</th>\n",
       "      <th>Ensino Superior</th>\n",
       "      <th>Mestrado</th>\n",
       "      <th>PhD</th>\n",
       "    </tr>\n",
       "    <tr>\n",
       "      <th>TARGET_FLAG</th>\n",
       "      <th></th>\n",
       "      <th></th>\n",
       "      <th></th>\n",
       "      <th></th>\n",
       "      <th></th>\n",
       "    </tr>\n",
       "  </thead>\n",
       "  <tbody>\n",
       "    <tr>\n",
       "      <th>0</th>\n",
       "      <td>0.718805</td>\n",
       "      <td>0.700366</td>\n",
       "      <td>0.795265</td>\n",
       "      <td>0.824953</td>\n",
       "      <td>0.853693</td>\n",
       "    </tr>\n",
       "    <tr>\n",
       "      <th>1</th>\n",
       "      <td>0.281195</td>\n",
       "      <td>0.299634</td>\n",
       "      <td>0.204735</td>\n",
       "      <td>0.175047</td>\n",
       "      <td>0.146307</td>\n",
       "    </tr>\n",
       "  </tbody>\n",
       "</table>\n",
       "</div>"
      ],
      "text/plain": [
       "EDUCATION    Ensino Fundamental  Ensino Medio  Ensino Superior  Mestrado  \\\n",
       "TARGET_FLAG                                                                \n",
       "0                      0.718805      0.700366         0.795265  0.824953   \n",
       "1                      0.281195      0.299634         0.204735  0.175047   \n",
       "\n",
       "EDUCATION         PhD  \n",
       "TARGET_FLAG            \n",
       "0            0.853693  \n",
       "1            0.146307  "
      ]
     },
     "execution_count": 66,
     "metadata": {},
     "output_type": "execute_result"
    }
   ],
   "source": [
    "EDUCATION = pd.crosstab(dados.TARGET_FLAG,dados.EDUCATION)\n",
    "EDUCATION/EDUCATION.aggregate(np.sum)"
   ]
  },
  {
   "cell_type": "code",
   "execution_count": 67,
   "metadata": {},
   "outputs": [
    {
     "name": "stdout",
     "output_type": "stream",
     "text": [
      "Ensino Fundamental: P_valor 1.0\n",
      "Ensino Medio: P_valor 1.0\n",
      "Ensino Superior: P_valor 1.0\n",
      "Mestrado: P_valor 1.0\n",
      "PhD: P_valor 1.0\n"
     ]
    }
   ],
   "source": [
    "#Teste de Mann-Whitney \n",
    "_,p1 = mannwhitneyu(EDUCATION.loc[0][0],EDUCATION.loc[1][0], alternative = 'two-sided')\n",
    "_,p2 = mannwhitneyu(EDUCATION.loc[0][1],EDUCATION.loc[1][1], alternative = 'two-sided')\n",
    "_,p3 = mannwhitneyu(EDUCATION.loc[0][2],EDUCATION.loc[1][2], alternative = 'two-sided')\n",
    "_,p4 = mannwhitneyu(EDUCATION.loc[0][3],EDUCATION.loc[1][3], alternative = 'two-sided')\n",
    "_,p5 = mannwhitneyu(EDUCATION.loc[0][4],EDUCATION.loc[1][4], alternative = 'two-sided')\n",
    "\n",
    "print(f'Ensino Fundamental: P_valor {p1}')\n",
    "print(f'Ensino Medio: P_valor {p2}')\n",
    "print(f'Ensino Superior: P_valor {p3}')\n",
    "print(f'Mestrado: P_valor {p4}')\n",
    "print(f'PhD: P_valor {p5}')"
   ]
  },
  {
   "cell_type": "markdown",
   "metadata": {},
   "source": [
    "### JOB"
   ]
  },
  {
   "cell_type": "code",
   "execution_count": 68,
   "metadata": {},
   "outputs": [
    {
     "data": {
      "text/html": [
       "<div>\n",
       "<style scoped>\n",
       "    .dataframe tbody tr th:only-of-type {\n",
       "        vertical-align: middle;\n",
       "    }\n",
       "\n",
       "    .dataframe tbody tr th {\n",
       "        vertical-align: top;\n",
       "    }\n",
       "\n",
       "    .dataframe thead th {\n",
       "        text-align: right;\n",
       "    }\n",
       "</style>\n",
       "<table border=\"1\" class=\"dataframe\">\n",
       "  <thead>\n",
       "    <tr style=\"text-align: right;\">\n",
       "      <th>JOB</th>\n",
       "      <th></th>\n",
       "      <th>Advogado</th>\n",
       "      <th>Do Lar</th>\n",
       "      <th>Estudante</th>\n",
       "      <th>Gerente</th>\n",
       "      <th>Medico</th>\n",
       "      <th>Profissional</th>\n",
       "      <th>Trabalho Administrativo</th>\n",
       "      <th>Trabalho Manual</th>\n",
       "    </tr>\n",
       "    <tr>\n",
       "      <th>TARGET_FLAG</th>\n",
       "      <th></th>\n",
       "      <th></th>\n",
       "      <th></th>\n",
       "      <th></th>\n",
       "      <th></th>\n",
       "      <th></th>\n",
       "      <th></th>\n",
       "      <th></th>\n",
       "      <th></th>\n",
       "    </tr>\n",
       "  </thead>\n",
       "  <tbody>\n",
       "    <tr>\n",
       "      <th>0</th>\n",
       "      <td>0.770297</td>\n",
       "      <td>0.835583</td>\n",
       "      <td>0.757825</td>\n",
       "      <td>0.660714</td>\n",
       "      <td>0.878756</td>\n",
       "      <td>0.9</td>\n",
       "      <td>0.809701</td>\n",
       "      <td>0.743377</td>\n",
       "      <td>0.695143</td>\n",
       "    </tr>\n",
       "    <tr>\n",
       "      <th>1</th>\n",
       "      <td>0.229703</td>\n",
       "      <td>0.164417</td>\n",
       "      <td>0.242175</td>\n",
       "      <td>0.339286</td>\n",
       "      <td>0.121244</td>\n",
       "      <td>0.1</td>\n",
       "      <td>0.190299</td>\n",
       "      <td>0.256623</td>\n",
       "      <td>0.304857</td>\n",
       "    </tr>\n",
       "  </tbody>\n",
       "</table>\n",
       "</div>"
      ],
      "text/plain": [
       "JOB                    Advogado    Do Lar  Estudante   Gerente  Medico  \\\n",
       "TARGET_FLAG                                                              \n",
       "0            0.770297  0.835583  0.757825   0.660714  0.878756     0.9   \n",
       "1            0.229703  0.164417  0.242175   0.339286  0.121244     0.1   \n",
       "\n",
       "JOB          Profissional  Trabalho Administrativo  Trabalho Manual  \n",
       "TARGET_FLAG                                                          \n",
       "0                0.809701                 0.743377         0.695143  \n",
       "1                0.190299                 0.256623         0.304857  "
      ]
     },
     "execution_count": 68,
     "metadata": {},
     "output_type": "execute_result"
    }
   ],
   "source": [
    "JOB = pd.crosstab(dados.TARGET_FLAG,dados.JOB)\n",
    "JOB/JOB.aggregate(np.sum)"
   ]
  },
  {
   "cell_type": "code",
   "execution_count": 69,
   "metadata": {},
   "outputs": [
    {
     "name": "stdout",
     "output_type": "stream",
     "text": [
      "Advogado: P_valor 1.0\n",
      "Do Lar: P_valor 1.0\n",
      "Estudante: P_valor 1.0\n",
      "Gerente: P_valor 1.0\n",
      "Medico: P_valor 1.0\n",
      "Profissional: P_valor 1.0\n",
      "Trabalho Administrativo: P_valor 1.0\n",
      "Trabalho Manual: P_valor 1.0\n"
     ]
    }
   ],
   "source": [
    "#Teste de Mann-Whitney \n",
    "_,p1 = mannwhitneyu(JOB.loc[0][0],JOB.loc[1][0], alternative = 'two-sided')\n",
    "_,p2 = mannwhitneyu(JOB.loc[0][1],JOB.loc[1][1], alternative = 'two-sided')\n",
    "_,p3 = mannwhitneyu(JOB.loc[0][2],JOB.loc[1][2], alternative = 'two-sided')\n",
    "_,p4 = mannwhitneyu(JOB.loc[0][3],JOB.loc[1][3], alternative = 'two-sided')\n",
    "_,p5 = mannwhitneyu(JOB.loc[0][4],JOB.loc[1][4], alternative = 'two-sided')\n",
    "_,p6 = mannwhitneyu(JOB.loc[0][5],JOB.loc[1][5], alternative = 'two-sided')\n",
    "_,p7 = mannwhitneyu(JOB.loc[0][6],JOB.loc[1][6], alternative = 'two-sided')\n",
    "_,p8 = mannwhitneyu(JOB.loc[0][7],JOB.loc[1][7], alternative = 'two-sided')\n",
    "\n",
    "print(f'Advogado: P_valor {p1}')\n",
    "print(f'Do Lar: P_valor {p2}')\n",
    "print(f'Estudante: P_valor {p3}')\n",
    "print(f'Gerente: P_valor {p4}')\n",
    "print(f'Medico: P_valor {p5}')\n",
    "print(f'Profissional: P_valor {p6}')\n",
    "print(f'Trabalho Administrativo: P_valor {p7}')\n",
    "print(f'Trabalho Manual: P_valor {p8}')"
   ]
  },
  {
   "cell_type": "markdown",
   "metadata": {},
   "source": [
    "### USO_PROD"
   ]
  },
  {
   "cell_type": "code",
   "execution_count": 70,
   "metadata": {},
   "outputs": [
    {
     "data": {
      "text/html": [
       "<div>\n",
       "<style scoped>\n",
       "    .dataframe tbody tr th:only-of-type {\n",
       "        vertical-align: middle;\n",
       "    }\n",
       "\n",
       "    .dataframe tbody tr th {\n",
       "        vertical-align: top;\n",
       "    }\n",
       "\n",
       "    .dataframe thead th {\n",
       "        text-align: right;\n",
       "    }\n",
       "</style>\n",
       "<table border=\"1\" class=\"dataframe\">\n",
       "  <thead>\n",
       "    <tr style=\"text-align: right;\">\n",
       "      <th>USO_PROD</th>\n",
       "      <th>Comercial</th>\n",
       "      <th>Pessoal</th>\n",
       "    </tr>\n",
       "    <tr>\n",
       "      <th>TARGET_FLAG</th>\n",
       "      <th></th>\n",
       "      <th></th>\n",
       "    </tr>\n",
       "  </thead>\n",
       "  <tbody>\n",
       "    <tr>\n",
       "      <th>0</th>\n",
       "      <td>0.692227</td>\n",
       "      <td>0.813247</td>\n",
       "    </tr>\n",
       "    <tr>\n",
       "      <th>1</th>\n",
       "      <td>0.307773</td>\n",
       "      <td>0.186753</td>\n",
       "    </tr>\n",
       "  </tbody>\n",
       "</table>\n",
       "</div>"
      ],
      "text/plain": [
       "USO_PROD     Comercial   Pessoal\n",
       "TARGET_FLAG                     \n",
       "0             0.692227  0.813247\n",
       "1             0.307773  0.186753"
      ]
     },
     "execution_count": 70,
     "metadata": {},
     "output_type": "execute_result"
    }
   ],
   "source": [
    "USO_PROD = pd.crosstab(dados.TARGET_FLAG,dados.USO_PROD)\n",
    "USO_PROD/USO_PROD.aggregate(np.sum)"
   ]
  },
  {
   "cell_type": "code",
   "execution_count": 71,
   "metadata": {},
   "outputs": [
    {
     "name": "stdout",
     "output_type": "stream",
     "text": [
      "Produto Comercial, P_valor 1.0\n",
      "Produto Pessoal, P_valor 1.0\n"
     ]
    }
   ],
   "source": [
    "_,p1 = mannwhitneyu(USO_PROD.iloc[0,0],USO_PROD.iloc[0,1], alternative = 'two-sided')\n",
    "_,p2 = mannwhitneyu(USO_PROD.iloc[1,0],USO_PROD.iloc[1,1], alternative = 'two-sided')\n",
    "\n",
    "print(f'Produto Comercial, P_valor {p1}')\n",
    "print(f'Produto Pessoal, P_valor {p2}')"
   ]
  },
  {
   "cell_type": "markdown",
   "metadata": {},
   "source": [
    "### TIPO_PROD"
   ]
  },
  {
   "cell_type": "code",
   "execution_count": 72,
   "metadata": {},
   "outputs": [
    {
     "data": {
      "text/html": [
       "<div>\n",
       "<style scoped>\n",
       "    .dataframe tbody tr th:only-of-type {\n",
       "        vertical-align: middle;\n",
       "    }\n",
       "\n",
       "    .dataframe tbody tr th {\n",
       "        vertical-align: top;\n",
       "    }\n",
       "\n",
       "    .dataframe thead th {\n",
       "        text-align: right;\n",
       "    }\n",
       "</style>\n",
       "<table border=\"1\" class=\"dataframe\">\n",
       "  <thead>\n",
       "    <tr style=\"text-align: right;\">\n",
       "      <th>TIPO_PROD</th>\n",
       "      <th>CDB</th>\n",
       "      <th>Criptomeda</th>\n",
       "      <th>Poupanca</th>\n",
       "      <th>Renda Fixa</th>\n",
       "      <th>Renda Variavel</th>\n",
       "      <th>Tesouro Direto</th>\n",
       "    </tr>\n",
       "    <tr>\n",
       "      <th>TARGET_FLAG</th>\n",
       "      <th></th>\n",
       "      <th></th>\n",
       "      <th></th>\n",
       "      <th></th>\n",
       "      <th></th>\n",
       "      <th></th>\n",
       "    </tr>\n",
       "  </thead>\n",
       "  <tbody>\n",
       "    <tr>\n",
       "      <th>0</th>\n",
       "      <td>0.700935</td>\n",
       "      <td>0.716781</td>\n",
       "      <td>0.858102</td>\n",
       "      <td>0.769339</td>\n",
       "      <td>0.742188</td>\n",
       "      <td>0.766615</td>\n",
       "    </tr>\n",
       "    <tr>\n",
       "      <th>1</th>\n",
       "      <td>0.299065</td>\n",
       "      <td>0.283219</td>\n",
       "      <td>0.141898</td>\n",
       "      <td>0.230661</td>\n",
       "      <td>0.257812</td>\n",
       "      <td>0.233385</td>\n",
       "    </tr>\n",
       "  </tbody>\n",
       "</table>\n",
       "</div>"
      ],
      "text/plain": [
       "TIPO_PROD         CDB  Criptomeda  Poupanca  Renda Fixa  Renda Variavel  \\\n",
       "TARGET_FLAG                                                               \n",
       "0            0.700935    0.716781  0.858102    0.769339        0.742188   \n",
       "1            0.299065    0.283219  0.141898    0.230661        0.257812   \n",
       "\n",
       "TIPO_PROD    Tesouro Direto  \n",
       "TARGET_FLAG                  \n",
       "0                  0.766615  \n",
       "1                  0.233385  "
      ]
     },
     "execution_count": 72,
     "metadata": {},
     "output_type": "execute_result"
    }
   ],
   "source": [
    "TIPO_PROD = pd.crosstab(dados.TARGET_FLAG,dados.TIPO_PROD)\n",
    "TIPO_PROD/TIPO_PROD.aggregate(np.sum)"
   ]
  },
  {
   "cell_type": "code",
   "execution_count": 73,
   "metadata": {},
   "outputs": [
    {
     "name": "stdout",
     "output_type": "stream",
     "text": [
      "CDB: P_valor 1.0\n",
      "Criptomeda: P_valor 1.0\n",
      "Poupanca: P_valor 1.0\n",
      "Renda Fixa: P_valor 1.0\n",
      "Renda Variavel: P_valor 1.0\n",
      "Tesouro Direto: P_valor 1.0\n"
     ]
    }
   ],
   "source": [
    "#Teste de Mann-Whitney \n",
    "_,p1 = mannwhitneyu(TIPO_PROD.loc[0][0],TIPO_PROD.loc[1][0], alternative = 'two-sided')\n",
    "_,p2 = mannwhitneyu(TIPO_PROD.loc[0][1],TIPO_PROD.loc[1][1], alternative = 'two-sided')\n",
    "_,p3 = mannwhitneyu(TIPO_PROD.loc[0][2],TIPO_PROD.loc[1][2], alternative = 'two-sided')\n",
    "_,p4 = mannwhitneyu(TIPO_PROD.loc[0][3],TIPO_PROD.loc[1][3], alternative = 'two-sided')\n",
    "_,p5 = mannwhitneyu(TIPO_PROD.loc[0][4],TIPO_PROD.loc[1][4], alternative = 'two-sided')\n",
    "_,p6 = mannwhitneyu(TIPO_PROD.loc[0][5],TIPO_PROD.loc[1][5], alternative = 'two-sided')\n",
    "\n",
    "\n",
    "print(f'CDB: P_valor {p1}')\n",
    "print(f'Criptomeda: P_valor {p2}')\n",
    "print(f'Poupanca: P_valor {p3}')\n",
    "print(f'Renda Fixa: P_valor {p4}')\n",
    "print(f'Renda Variavel: P_valor {p5}')\n",
    "print(f'Tesouro Direto: P_valor {p6}')\n"
   ]
  },
  {
   "cell_type": "markdown",
   "metadata": {},
   "source": [
    "### PROD_ALTO_VALOR"
   ]
  },
  {
   "cell_type": "code",
   "execution_count": 74,
   "metadata": {},
   "outputs": [
    {
     "data": {
      "text/html": [
       "<div>\n",
       "<style scoped>\n",
       "    .dataframe tbody tr th:only-of-type {\n",
       "        vertical-align: middle;\n",
       "    }\n",
       "\n",
       "    .dataframe tbody tr th {\n",
       "        vertical-align: top;\n",
       "    }\n",
       "\n",
       "    .dataframe thead th {\n",
       "        text-align: right;\n",
       "    }\n",
       "</style>\n",
       "<table border=\"1\" class=\"dataframe\">\n",
       "  <thead>\n",
       "    <tr style=\"text-align: right;\">\n",
       "      <th>PROD_ALTO_VALOR</th>\n",
       "      <th>no</th>\n",
       "      <th>yes</th>\n",
       "    </tr>\n",
       "    <tr>\n",
       "      <th>TARGET_FLAG</th>\n",
       "      <th></th>\n",
       "      <th></th>\n",
       "    </tr>\n",
       "  </thead>\n",
       "  <tbody>\n",
       "    <tr>\n",
       "      <th>0</th>\n",
       "      <td>0.766528</td>\n",
       "      <td>0.774648</td>\n",
       "    </tr>\n",
       "    <tr>\n",
       "      <th>1</th>\n",
       "      <td>0.233472</td>\n",
       "      <td>0.225352</td>\n",
       "    </tr>\n",
       "  </tbody>\n",
       "</table>\n",
       "</div>"
      ],
      "text/plain": [
       "PROD_ALTO_VALOR        no       yes\n",
       "TARGET_FLAG                        \n",
       "0                0.766528  0.774648\n",
       "1                0.233472  0.225352"
      ]
     },
     "execution_count": 74,
     "metadata": {},
     "output_type": "execute_result"
    }
   ],
   "source": [
    "PROD_ALTO_VALOR = pd.crosstab(dados.TARGET_FLAG,dados.PROD_ALTO_VALOR)\n",
    "PROD_ALTO_VALOR/PROD_ALTO_VALOR.aggregate(np.sum)"
   ]
  },
  {
   "cell_type": "code",
   "execution_count": 75,
   "metadata": {},
   "outputs": [
    {
     "name": "stdout",
     "output_type": "stream",
     "text": [
      "Produto de Baixo Valor, P_valor 1.0\n",
      "Produto de Alto Valor, P_valor 1.0\n"
     ]
    }
   ],
   "source": [
    "_,p1 = mannwhitneyu(PROD_ALTO_VALOR.iloc[0,0],PROD_ALTO_VALOR.iloc[0,1], alternative = 'two-sided')\n",
    "_,p2 = mannwhitneyu(PROD_ALTO_VALOR.iloc[1,0],PROD_ALTO_VALOR.iloc[1,1], alternative = 'two-sided')\n",
    "\n",
    "print(f'Produto de Baixo Valor, P_valor {p1}')\n",
    "print(f'Produto de Alto Valor, P_valor {p2}')"
   ]
  },
  {
   "cell_type": "markdown",
   "metadata": {},
   "source": [
    "### CLM_FREQ"
   ]
  },
  {
   "cell_type": "code",
   "execution_count": 76,
   "metadata": {},
   "outputs": [
    {
     "data": {
      "text/html": [
       "<div>\n",
       "<style scoped>\n",
       "    .dataframe tbody tr th:only-of-type {\n",
       "        vertical-align: middle;\n",
       "    }\n",
       "\n",
       "    .dataframe tbody tr th {\n",
       "        vertical-align: top;\n",
       "    }\n",
       "\n",
       "    .dataframe thead th {\n",
       "        text-align: right;\n",
       "    }\n",
       "</style>\n",
       "<table border=\"1\" class=\"dataframe\">\n",
       "  <thead>\n",
       "    <tr style=\"text-align: right;\">\n",
       "      <th>CLM_FREQ</th>\n",
       "      <th>0</th>\n",
       "      <th>1</th>\n",
       "      <th>2</th>\n",
       "      <th>3</th>\n",
       "      <th>4</th>\n",
       "      <th>5</th>\n",
       "    </tr>\n",
       "    <tr>\n",
       "      <th>TARGET_FLAG</th>\n",
       "      <th></th>\n",
       "      <th></th>\n",
       "      <th></th>\n",
       "      <th></th>\n",
       "      <th></th>\n",
       "      <th></th>\n",
       "    </tr>\n",
       "  </thead>\n",
       "  <tbody>\n",
       "    <tr>\n",
       "      <th>0</th>\n",
       "      <td>0.84487</td>\n",
       "      <td>0.648247</td>\n",
       "      <td>0.641026</td>\n",
       "      <td>0.640669</td>\n",
       "      <td>0.643275</td>\n",
       "      <td>0.647059</td>\n",
       "    </tr>\n",
       "    <tr>\n",
       "      <th>1</th>\n",
       "      <td>0.15513</td>\n",
       "      <td>0.351753</td>\n",
       "      <td>0.358974</td>\n",
       "      <td>0.359331</td>\n",
       "      <td>0.356725</td>\n",
       "      <td>0.352941</td>\n",
       "    </tr>\n",
       "  </tbody>\n",
       "</table>\n",
       "</div>"
      ],
      "text/plain": [
       "CLM_FREQ           0         1         2         3         4         5\n",
       "TARGET_FLAG                                                           \n",
       "0            0.84487  0.648247  0.641026  0.640669  0.643275  0.647059\n",
       "1            0.15513  0.351753  0.358974  0.359331  0.356725  0.352941"
      ]
     },
     "execution_count": 76,
     "metadata": {},
     "output_type": "execute_result"
    }
   ],
   "source": [
    "CLM_FREQ = pd.crosstab(dados.TARGET_FLAG,dados.CLM_FREQ)\n",
    "CLM_FREQ/CLM_FREQ.aggregate(np.sum)"
   ]
  },
  {
   "cell_type": "code",
   "execution_count": 77,
   "metadata": {},
   "outputs": [
    {
     "name": "stdout",
     "output_type": "stream",
     "text": [
      "Sem Atraso de Pagamento: P_valor 1.0\n",
      "1 Ano de atraso: P_valor 1.0\n",
      "2 Ano de atraso: P_valor 1.0\n",
      "3 Ano de atraso: P_valor 1.0\n",
      "4 Ano de atraso: P_valor 1.0\n",
      "5 Ano de atraso: P_valor 1.0\n"
     ]
    }
   ],
   "source": [
    "#Teste de Mann-Whitney \n",
    "_,p1 = mannwhitneyu(CLM_FREQ.loc[0][0],CLM_FREQ.loc[1][0], alternative = 'two-sided')\n",
    "_,p2 = mannwhitneyu(CLM_FREQ.loc[0][1],CLM_FREQ.loc[1][1], alternative = 'two-sided')\n",
    "_,p3 = mannwhitneyu(CLM_FREQ.loc[0][2],CLM_FREQ.loc[1][2], alternative = 'two-sided')\n",
    "_,p4 = mannwhitneyu(CLM_FREQ.loc[0][3],CLM_FREQ.loc[1][3], alternative = 'two-sided')\n",
    "_,p5 = mannwhitneyu(CLM_FREQ.loc[0][4],CLM_FREQ.loc[1][4], alternative = 'two-sided')\n",
    "_,p6 = mannwhitneyu(CLM_FREQ.loc[0][5],CLM_FREQ.loc[1][5], alternative = 'two-sided')\n",
    "\n",
    "\n",
    "print(f'Sem Atraso de Pagamento: P_valor {p1}')\n",
    "print(f'1 Ano de atraso: P_valor {p2}')\n",
    "print(f'2 Ano de atraso: P_valor {p3}')\n",
    "print(f'3 Ano de atraso: P_valor {p4}')\n",
    "print(f'4 Ano de atraso: P_valor {p5}')\n",
    "print(f'5 Ano de atraso: P_valor {p6}')"
   ]
  },
  {
   "cell_type": "markdown",
   "metadata": {},
   "source": [
    "### TRAN_SUSP"
   ]
  },
  {
   "cell_type": "code",
   "execution_count": 78,
   "metadata": {},
   "outputs": [
    {
     "data": {
      "text/html": [
       "<div>\n",
       "<style scoped>\n",
       "    .dataframe tbody tr th:only-of-type {\n",
       "        vertical-align: middle;\n",
       "    }\n",
       "\n",
       "    .dataframe tbody tr th {\n",
       "        vertical-align: top;\n",
       "    }\n",
       "\n",
       "    .dataframe thead th {\n",
       "        text-align: right;\n",
       "    }\n",
       "</style>\n",
       "<table border=\"1\" class=\"dataframe\">\n",
       "  <thead>\n",
       "    <tr style=\"text-align: right;\">\n",
       "      <th>TRAN_SUSP</th>\n",
       "      <th>No</th>\n",
       "      <th>Yes</th>\n",
       "    </tr>\n",
       "    <tr>\n",
       "      <th>TARGET_FLAG</th>\n",
       "      <th></th>\n",
       "      <th></th>\n",
       "    </tr>\n",
       "  </thead>\n",
       "  <tbody>\n",
       "    <tr>\n",
       "      <th>0</th>\n",
       "      <td>0.792073</td>\n",
       "      <td>0.597849</td>\n",
       "    </tr>\n",
       "    <tr>\n",
       "      <th>1</th>\n",
       "      <td>0.207927</td>\n",
       "      <td>0.402151</td>\n",
       "    </tr>\n",
       "  </tbody>\n",
       "</table>\n",
       "</div>"
      ],
      "text/plain": [
       "TRAN_SUSP          No       Yes\n",
       "TARGET_FLAG                    \n",
       "0            0.792073  0.597849\n",
       "1            0.207927  0.402151"
      ]
     },
     "execution_count": 78,
     "metadata": {},
     "output_type": "execute_result"
    }
   ],
   "source": [
    "TRAN_SUSP = pd.crosstab(dados.TARGET_FLAG,dados.TRAN_SUSP)\n",
    "TRAN_SUSP/TRAN_SUSP.aggregate(np.sum)"
   ]
  },
  {
   "cell_type": "code",
   "execution_count": 79,
   "metadata": {},
   "outputs": [
    {
     "name": "stdout",
     "output_type": "stream",
     "text": [
      "Transação Não Supeita, P_valor 1.0\n",
      "Transação Supeita, P_valor 1.0\n"
     ]
    }
   ],
   "source": [
    "_,p1 = mannwhitneyu(TRAN_SUSP.iloc[0,0],TRAN_SUSP.iloc[0,1], alternative = 'two-sided')\n",
    "_,p2 = mannwhitneyu(TRAN_SUSP.iloc[1,0],TRAN_SUSP.iloc[1,1], alternative = 'two-sided')\n",
    "\n",
    "print(f'Transação Não Supeita, P_valor {p1}')\n",
    "print(f'Transação Supeita, P_valor {p2}')"
   ]
  },
  {
   "cell_type": "markdown",
   "metadata": {},
   "source": [
    "### URBANICITY"
   ]
  },
  {
   "cell_type": "code",
   "execution_count": 80,
   "metadata": {},
   "outputs": [
    {
     "data": {
      "text/html": [
       "<div>\n",
       "<style scoped>\n",
       "    .dataframe tbody tr th:only-of-type {\n",
       "        vertical-align: middle;\n",
       "    }\n",
       "\n",
       "    .dataframe tbody tr th {\n",
       "        vertical-align: top;\n",
       "    }\n",
       "\n",
       "    .dataframe thead th {\n",
       "        text-align: right;\n",
       "    }\n",
       "</style>\n",
       "<table border=\"1\" class=\"dataframe\">\n",
       "  <thead>\n",
       "    <tr style=\"text-align: right;\">\n",
       "      <th>URBANICITY</th>\n",
       "      <th>Rural</th>\n",
       "      <th>Urbano</th>\n",
       "    </tr>\n",
       "    <tr>\n",
       "      <th>TARGET_FLAG</th>\n",
       "      <th></th>\n",
       "      <th></th>\n",
       "    </tr>\n",
       "  </thead>\n",
       "  <tbody>\n",
       "    <tr>\n",
       "      <th>0</th>\n",
       "      <td>0.940498</td>\n",
       "      <td>0.722909</td>\n",
       "    </tr>\n",
       "    <tr>\n",
       "      <th>1</th>\n",
       "      <td>0.059502</td>\n",
       "      <td>0.277091</td>\n",
       "    </tr>\n",
       "  </tbody>\n",
       "</table>\n",
       "</div>"
      ],
      "text/plain": [
       "URBANICITY      Rural    Urbano\n",
       "TARGET_FLAG                    \n",
       "0            0.940498  0.722909\n",
       "1            0.059502  0.277091"
      ]
     },
     "execution_count": 80,
     "metadata": {},
     "output_type": "execute_result"
    }
   ],
   "source": [
    "URBANICITY = pd.crosstab(dados.TARGET_FLAG,dados.URBANICITY)\n",
    "URBANICITY/URBANICITY.aggregate(np.sum)"
   ]
  },
  {
   "cell_type": "code",
   "execution_count": 81,
   "metadata": {},
   "outputs": [
    {
     "name": "stdout",
     "output_type": "stream",
     "text": [
      "Mora em Região Rural, P_valor 1.0\n",
      "Mora em Região Urbana, P_valor 1.0\n"
     ]
    }
   ],
   "source": [
    "_,p1 = mannwhitneyu(URBANICITY.iloc[0,0],URBANICITY.iloc[0,1], alternative = 'two-sided')\n",
    "_,p2 = mannwhitneyu(URBANICITY.iloc[1,0],URBANICITY.iloc[1,1], alternative = 'two-sided')\n",
    "\n",
    "print(f'Mora em Região Rural, P_valor {p1}')\n",
    "print(f'Mora em Região Urbana, P_valor {p2}')"
   ]
  }
 ],
 "metadata": {
  "anaconda-cloud": {},
  "kernelspec": {
   "display_name": "Python 3 (ipykernel)",
   "language": "python",
   "name": "python3"
  },
  "language_info": {
   "codemirror_mode": {
    "name": "ipython",
    "version": 3
   },
   "file_extension": ".py",
   "mimetype": "text/x-python",
   "name": "python",
   "nbconvert_exporter": "python",
   "pygments_lexer": "ipython3",
   "version": "3.9.12"
  }
 },
 "nbformat": 4,
 "nbformat_minor": 1
}
