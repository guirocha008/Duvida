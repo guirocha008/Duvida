{
 "cells": [
  {
   "cell_type": "code",
   "execution_count": 1314,
   "metadata": {},
   "outputs": [],
   "source": [
    "#                                               CONCEITO:\n",
    "\n",
    "#Modelo GLM derivam do modelo GLMM, portanto qualquer modelo GLM pode ser implantado no GLMM caso tenha niveis\n",
    "#Efeitos Fixos = v0j = variancia do intercpto do alpha ou B0 (Interaçao entre variaveis entre os niveis)\n",
    "#Efeitos Aleatorios = v1j = variancia na inclinaçao do beta\n",
    "# W é uma variável preditora contextual (grupos contextuais j)(nivel 2)\n",
    "#v0 e v1 representam, respectivamente, os termos aleatórios de intercepto e inclinação de nível 2\n",
    "#Se v0j ou v1j  for estatisticamente diferente de 0 Aplicar modelo Multinivel     \n",
    "#Captura o comportamento Heterocedastico(Efitos Aleatorios) e Multiolineares(Efeitos Fixos) das variaveis\n",
    "#Caso nao tenho grupos definidos para analise multinivel , pode fazer uma analise de cluster para encontrar os grupos\n",
    "# E(erro) representa os termos de erro idiossincráticos (nível 1).\n",
    "#HLM2 = Modelo com 2 Multiniveis\n",
    "\n",
    "#Nao existe Stepwise para extrair parametros nos modelos Multiniveis\n",
    "\n",
    "#                                              CRITERIO:\n",
    "\n",
    "#TIPO DE DISTRIBUIÇAO:\n",
    "\n",
    "#A Variavel no 2° nivel precisa ter + de 2 obsevaçoes diferentes (pois nao vai  conseguir captar a variancia daqula variavel)\n",
    "#Variaveis dummies so mudam o intercpto, nao leva em consideraçao a inclinaçao da reta\n",
    "#inserção de dummies de grupo não torna possível a identificação dos efeitos contextuais, visto que não se separam os efeitos observáveis dos não observáveis sobre a variável dependente.\n",
    "\n",
    "\n",
    "#                                              APLICAÇOES"
   ]
  },
  {
   "cell_type": "code",
   "execution_count": 1315,
   "metadata": {},
   "outputs": [],
   "source": [
    "import multilevel_py\n",
    "import seaborn as sns\n",
    "import pandas as pd\n",
    "import numpy as np"
   ]
  },
  {
   "cell_type": "code",
   "execution_count": 1316,
   "metadata": {},
   "outputs": [
    {
     "data": {
      "text/html": [
       "<div>\n",
       "<style scoped>\n",
       "    .dataframe tbody tr th:only-of-type {\n",
       "        vertical-align: middle;\n",
       "    }\n",
       "\n",
       "    .dataframe tbody tr th {\n",
       "        vertical-align: top;\n",
       "    }\n",
       "\n",
       "    .dataframe thead th {\n",
       "        text-align: right;\n",
       "    }\n",
       "</style>\n",
       "<table border=\"1\" class=\"dataframe\">\n",
       "  <thead>\n",
       "    <tr style=\"text-align: right;\">\n",
       "      <th></th>\n",
       "      <th>estudante</th>\n",
       "      <th>escola</th>\n",
       "      <th>desempenho</th>\n",
       "      <th>horas</th>\n",
       "      <th>texp</th>\n",
       "    </tr>\n",
       "  </thead>\n",
       "  <tbody>\n",
       "    <tr>\n",
       "      <th>0</th>\n",
       "      <td>1</td>\n",
       "      <td>1</td>\n",
       "      <td>25.0</td>\n",
       "      <td>11</td>\n",
       "      <td>3.6</td>\n",
       "    </tr>\n",
       "  </tbody>\n",
       "</table>\n",
       "</div>"
      ],
      "text/plain": [
       "   estudante  escola  desempenho  horas  texp\n",
       "0          1       1        25.0     11   3.6"
      ]
     },
     "execution_count": 1316,
     "metadata": {},
     "output_type": "execute_result"
    }
   ],
   "source": [
    "# Carregando o dataset\n",
    "dados = pd.read_csv('estudante_escola.csv',encoding='latin1',sep=',')\n",
    "x = dados[['estudante','escola','horas','texp']]\n",
    "y = dados.desempenho\n",
    "dados.head(1)"
   ]
  },
  {
   "cell_type": "code",
   "execution_count": 1317,
   "metadata": {},
   "outputs": [
    {
     "data": {
      "text/html": [
       "<div>\n",
       "<style scoped>\n",
       "    .dataframe tbody tr th:only-of-type {\n",
       "        vertical-align: middle;\n",
       "    }\n",
       "\n",
       "    .dataframe tbody tr th {\n",
       "        vertical-align: top;\n",
       "    }\n",
       "\n",
       "    .dataframe thead th {\n",
       "        text-align: right;\n",
       "    }\n",
       "</style>\n",
       "<table border=\"1\" class=\"dataframe\">\n",
       "  <thead>\n",
       "    <tr style=\"text-align: right;\">\n",
       "      <th></th>\n",
       "      <th>desempenho</th>\n",
       "      <th>horas</th>\n",
       "      <th>texp</th>\n",
       "    </tr>\n",
       "  </thead>\n",
       "  <tbody>\n",
       "    <tr>\n",
       "      <th>count</th>\n",
       "      <td>358.000000</td>\n",
       "      <td>358.000000</td>\n",
       "      <td>358.000000</td>\n",
       "    </tr>\n",
       "    <tr>\n",
       "      <th>mean</th>\n",
       "      <td>41.554190</td>\n",
       "      <td>18.997207</td>\n",
       "      <td>5.161173</td>\n",
       "    </tr>\n",
       "    <tr>\n",
       "      <th>std</th>\n",
       "      <td>23.225896</td>\n",
       "      <td>6.368910</td>\n",
       "      <td>3.682676</td>\n",
       "    </tr>\n",
       "    <tr>\n",
       "      <th>min</th>\n",
       "      <td>6.500000</td>\n",
       "      <td>4.000000</td>\n",
       "      <td>1.900000</td>\n",
       "    </tr>\n",
       "    <tr>\n",
       "      <th>25%</th>\n",
       "      <td>21.000000</td>\n",
       "      <td>14.000000</td>\n",
       "      <td>1.900000</td>\n",
       "    </tr>\n",
       "    <tr>\n",
       "      <th>50%</th>\n",
       "      <td>35.500000</td>\n",
       "      <td>20.000000</td>\n",
       "      <td>3.600000</td>\n",
       "    </tr>\n",
       "    <tr>\n",
       "      <th>75%</th>\n",
       "      <td>59.000000</td>\n",
       "      <td>24.000000</td>\n",
       "      <td>7.500000</td>\n",
       "    </tr>\n",
       "    <tr>\n",
       "      <th>max</th>\n",
       "      <td>100.000000</td>\n",
       "      <td>31.000000</td>\n",
       "      <td>13.000000</td>\n",
       "    </tr>\n",
       "  </tbody>\n",
       "</table>\n",
       "</div>"
      ],
      "text/plain": [
       "       desempenho       horas        texp\n",
       "count  358.000000  358.000000  358.000000\n",
       "mean    41.554190   18.997207    5.161173\n",
       "std     23.225896    6.368910    3.682676\n",
       "min      6.500000    4.000000    1.900000\n",
       "25%     21.000000   14.000000    1.900000\n",
       "50%     35.500000   20.000000    3.600000\n",
       "75%     59.000000   24.000000    7.500000\n",
       "max    100.000000   31.000000   13.000000"
      ]
     },
     "execution_count": 1317,
     "metadata": {},
     "output_type": "execute_result"
    }
   ],
   "source": [
    "# Estatistica descritivas(VAr numericas)\n",
    "dados[['desempenho','horas','texp']].describe()"
   ]
  },
  {
   "cell_type": "code",
   "execution_count": 1319,
   "metadata": {},
   "outputs": [
    {
     "data": {
      "text/plain": [
       "5     48\n",
       "3     48\n",
       "1     47\n",
       "9     44\n",
       "8     35\n",
       "10    33\n",
       "6     30\n",
       "7     28\n",
       "2     25\n",
       "4     20\n",
       "Name: escola, dtype: int64"
      ]
     },
     "execution_count": 1319,
     "metadata": {},
     "output_type": "execute_result"
    }
   ],
   "source": [
    "# Estatistica descritivas(VAr Categoricas)\n",
    "dados['escola'].value_counts(ascending=False)"
   ]
  },
  {
   "cell_type": "code",
   "execution_count": 1320,
   "metadata": {},
   "outputs": [
    {
     "data": {
      "text/html": [
       "<div>\n",
       "<style scoped>\n",
       "    .dataframe tbody tr th:only-of-type {\n",
       "        vertical-align: middle;\n",
       "    }\n",
       "\n",
       "    .dataframe tbody tr th {\n",
       "        vertical-align: top;\n",
       "    }\n",
       "\n",
       "    .dataframe thead th {\n",
       "        text-align: right;\n",
       "    }\n",
       "</style>\n",
       "<table border=\"1\" class=\"dataframe\">\n",
       "  <thead>\n",
       "    <tr style=\"text-align: right;\">\n",
       "      <th></th>\n",
       "      <th>desempenho</th>\n",
       "    </tr>\n",
       "    <tr>\n",
       "      <th>escola</th>\n",
       "      <th></th>\n",
       "    </tr>\n",
       "  </thead>\n",
       "  <tbody>\n",
       "    <tr>\n",
       "      <th>1</th>\n",
       "      <td>36.765957</td>\n",
       "    </tr>\n",
       "    <tr>\n",
       "      <th>2</th>\n",
       "      <td>21.400000</td>\n",
       "    </tr>\n",
       "    <tr>\n",
       "      <th>3</th>\n",
       "      <td>67.125000</td>\n",
       "    </tr>\n",
       "    <tr>\n",
       "      <th>4</th>\n",
       "      <td>55.325000</td>\n",
       "    </tr>\n",
       "    <tr>\n",
       "      <th>5</th>\n",
       "      <td>19.270833</td>\n",
       "    </tr>\n",
       "    <tr>\n",
       "      <th>6</th>\n",
       "      <td>33.966667</td>\n",
       "    </tr>\n",
       "    <tr>\n",
       "      <th>7</th>\n",
       "      <td>57.532143</td>\n",
       "    </tr>\n",
       "    <tr>\n",
       "      <th>8</th>\n",
       "      <td>75.428571</td>\n",
       "    </tr>\n",
       "    <tr>\n",
       "      <th>9</th>\n",
       "      <td>18.556818</td>\n",
       "    </tr>\n",
       "    <tr>\n",
       "      <th>10</th>\n",
       "      <td>38.590909</td>\n",
       "    </tr>\n",
       "  </tbody>\n",
       "</table>\n",
       "</div>"
      ],
      "text/plain": [
       "        desempenho\n",
       "escola            \n",
       "1        36.765957\n",
       "2        21.400000\n",
       "3        67.125000\n",
       "4        55.325000\n",
       "5        19.270833\n",
       "6        33.966667\n",
       "7        57.532143\n",
       "8        75.428571\n",
       "9        18.556818\n",
       "10       38.590909"
      ]
     },
     "execution_count": 1320,
     "metadata": {},
     "output_type": "execute_result"
    }
   ],
   "source": [
    "#Desempenho médio dos estudantes por escola\n",
    "aa= pd.DataFrame(dados.groupby('escola').desempenho.mean());aa"
   ]
  },
  {
   "cell_type": "markdown",
   "metadata": {},
   "source": [
    "**PERGUNTA: Qual a razao da escola 8 esta com uma media boa no desempenho dos alunos? e a escola 9 esta com uma media ruim?será a variavel ('texp'=tempo de experiencia dos professores) tem influencia nesta nota? sera que a variavel ('horas')tem influencia?** "
   ]
  },
  {
   "cell_type": "markdown",
   "metadata": {},
   "source": [
    "# Analise Exploratoria"
   ]
  },
  {
   "cell_type": "markdown",
   "metadata": {},
   "source": [
    "### Escola X Desempenho"
   ]
  },
  {
   "cell_type": "code",
   "execution_count": 1321,
   "metadata": {},
   "outputs": [
    {
     "data": {
      "image/png": "[encoded data removed]",
      "text/plain": [
       "<Figure size 432x288 with 1 Axes>"
      ]
     },
     "metadata": {},
     "output_type": "display_data"
    }
   ],
   "source": [
    "#Exploração visual do desempenho médio\n",
    "import matplotlib.pyplot as plt\n",
    "plt.scatter(dados.escola, dados.desempenho)\n",
    "plt.plot(aa.desempenho,c='red')\n",
    "plt.xlabel('escola')\n",
    "plt.ylabel('desempenho')\n",
    "plt.show()\n"
   ]
  },
  {
   "cell_type": "code",
   "execution_count": 1322,
   "metadata": {},
   "outputs": [
    {
     "data": {
      "text/plain": [
       "<seaborn.axisgrid.FacetGrid at 0x19b93290a00>"
      ]
     },
     "execution_count": 1322,
     "metadata": {},
     "output_type": "execute_result"
    },
    {
     "data": {
      "image/png": "[encoded data removed]",
      "text/plain": [
       "<Figure size 360x360 with 1 Axes>"
      ]
     },
     "metadata": {},
     "output_type": "display_data"
    }
   ],
   "source": [
    "#Kernel density estimation (KDE) - função densidade de probabilidade da\n",
    "#variável dependente (desempenho), com histograma\n",
    "import seaborn as sns\n",
    "sns.displot(dados.desempenho,kde=True,bins=30)"
   ]
  },
  {
   "cell_type": "code",
   "execution_count": 1310,
   "metadata": {},
   "outputs": [
    {
     "data": {
      "text/plain": [
       "<AxesSubplot:xlabel='desempenho', ylabel='Density'>"
      ]
     },
     "execution_count": 1310,
     "metadata": {},
     "output_type": "execute_result"
    },
    {
     "data": {
      "image/png": "[encoded data removed]",
      "text/plain": [
       "<Figure size 432x288 with 1 Axes>"
      ]
     },
     "metadata": {},
     "output_type": "display_data"
    }
   ],
   "source": [
    "#Kernel density estimation (KDE) - função densidade de probabilidade da\n",
    "#variável dependente (desempenho) por escola\n",
    "sns.kdeplot(data=dados, x=\"desempenho\", hue=\"escola\",fill='escola',palette=\"viridis\",alpha=.3)"
   ]
  },
  {
   "cell_type": "code",
   "execution_count": 1244,
   "metadata": {},
   "outputs": [
    {
     "data": {
      "text/plain": [
       "<AxesSubplot:xlabel='desempenho', ylabel='Count'>"
      ]
     },
     "execution_count": 1244,
     "metadata": {},
     "output_type": "execute_result"
    },
    {
     "data": {
      "image/png": "[encoded data removed]",
      "text/plain": [
       "<Figure size 432x288 with 1 Axes>"
      ]
     },
     "metadata": {},
     "output_type": "display_data"
    }
   ],
   "source": [
    "sns.histplot(x=\"desempenho\", hue=\"escola\",data=dados,kde=True)"
   ]
  },
  {
   "cell_type": "code",
   "execution_count": 1245,
   "metadata": {},
   "outputs": [
    {
     "data": {
      "text/plain": [
       "<seaborn.axisgrid.FacetGrid at 0x19b88fa8c10>"
      ]
     },
     "execution_count": 1245,
     "metadata": {},
     "output_type": "execute_result"
    },
    {
     "data": {
      "image/png": "[encoded data removed]",
      "text/plain": [
       "<Figure size 864x648 with 10 Axes>"
      ]
     },
     "metadata": {},
     "output_type": "display_data"
    }
   ],
   "source": [
    "sns.displot(dados, x=\"desempenho\", col=\"escola\",kde=True,bins=15,col_wrap=4, height=3)\n"
   ]
  },
  {
   "cell_type": "markdown",
   "metadata": {},
   "source": [
    "**Nota-se que as escolas 2, 5 e 9 tem os piores desempenhos**"
   ]
  },
  {
   "cell_type": "code",
   "execution_count": 1323,
   "metadata": {},
   "outputs": [
    {
     "data": {
      "image/png": "[encoded data removed]",
      "text/plain": [
       "<Figure size 432x288 with 1 Axes>"
      ]
     },
     "metadata": {},
     "output_type": "display_data"
    }
   ],
   "source": [
    "#Distribuição dos dados\n",
    "sns.set(style=\"ticks\", palette=\"muted\", color_codes=True)\n",
    "plt.figure()\n",
    "sns.violinplot(y=y, x=x.escola, data=dados, split=True,inner=\"quart\")\n",
    "sns.despine(left=True)"
   ]
  },
  {
   "cell_type": "code",
   "execution_count": 1324,
   "metadata": {},
   "outputs": [
    {
     "data": {
      "text/plain": [
       "<seaborn.axisgrid.FacetGrid at 0x19b96f548b0>"
      ]
     },
     "execution_count": 1324,
     "metadata": {},
     "output_type": "execute_result"
    },
    {
     "data": {
      "image/png": "[encoded data removed]",
      "text/plain": [
       "<Figure size 360x360 with 1 Axes>"
      ]
     },
     "metadata": {},
     "output_type": "display_data"
    }
   ],
   "source": [
    "#Gráfico de desempenho x horas (OLS)\n",
    "sns.lmplot(x=\"horas\", y=\"desempenho\", data=dados)"
   ]
  },
  {
   "cell_type": "code",
   "execution_count": 1325,
   "metadata": {},
   "outputs": [
    {
     "data": {
      "text/plain": [
       "<seaborn.axisgrid.FacetGrid at 0x19b96faaeb0>"
      ]
     },
     "execution_count": 1325,
     "metadata": {},
     "output_type": "execute_result"
    },
    {
     "data": {
      "image/png": "[encoded data removed]",
      "text/plain": [
       "<Figure size 411.85x360 with 1 Axes>"
      ]
     },
     "metadata": {},
     "output_type": "display_data"
    }
   ],
   "source": [
    "#Gráfico de desempenho x horas por escola (visualização do contexto)\n",
    "#NOTE QUE A PERSPECTIVA MULTINÍVEL NATURALMENTE CONSIDERA O COMPORTAMENTO\n",
    "#HETEROCEDÁSTICO NOS DADOS!\n",
    "import seaborn as sns; sns.set_theme(color_codes=True)\n",
    "ax = sns.lmplot(x=\"horas\", y=\"desempenho\", hue=\"escola\", data=dados)\n",
    "ax.set(xlabel=\"Quantidade Semanal de Horas de Estudo do Aluno\", ylabel=\"Desempenho Escolar\")"
   ]
  },
  {
   "cell_type": "code",
   "execution_count": 1249,
   "metadata": {},
   "outputs": [
    {
     "data": {
      "text/plain": [
       "<seaborn.axisgrid.FacetGrid at 0x19b8fc2f4c0>"
      ]
     },
     "execution_count": 1249,
     "metadata": {},
     "output_type": "execute_result"
    },
    {
     "data": {
      "image/png": "[encoded data removed]",
      "text/plain": [
       "<Figure size 691.2x1296 with 10 Axes>"
      ]
     },
     "metadata": {},
     "output_type": "display_data"
    }
   ],
   "source": [
    "#Analise de Forma individual\n",
    "#Gráfico de desempenho x horas por escola (visualização do contexto)\n",
    "ax = sns.lmplot(x=\"horas\", y=\"desempenho\", hue=\"escola\", col=\"escola\",\n",
    "               data=dados, height=6, aspect=.4, x_jitter=.1,col_wrap=4)\n",
    "ax.set(xlabel=\"Horas de Estudo\", ylabel=\"Desempenho Escolar\")"
   ]
  },
  {
   "cell_type": "markdown",
   "metadata": {},
   "source": [
    "# Estimação do modelo nulo, apenas variação no intercepto (HML2)"
   ]
  },
  {
   "cell_type": "markdown",
   "metadata": {},
   "source": [
    "### Verificar se existe diferença entre alunos  de escolas distintas?"
   ]
  },
  {
   "cell_type": "code",
   "execution_count": 1326,
   "metadata": {},
   "outputs": [],
   "source": [
    "#Modelo Step-up strategy = Stepwise manualmente\n",
    "# Modelo nulo nao tem variavel X , somente intercpto\n",
    "#Efeitos aleatorios somente no intercpto\n",
    "#Y00 = media geral da var Y = Intercpto\n",
    "#v0j = Efeito aleatorio de intercpto\n",
    "#Eij = erro \n",
    "# desempenho = Y00+vj0+Eij\n",
    "\n",
    "#OBJETIVO = verificar se tem efeito aleatorio de intercpto no nivel escola"
   ]
  },
  {
   "cell_type": "code",
   "execution_count": 1327,
   "metadata": {},
   "outputs": [],
   "source": [
    "from statsmodels.genmod.bayes_mixed_glm import BinomialBayesMixedGLM as bgmm"
   ]
  },
  {
   "cell_type": "code",
   "execution_count": 1328,
   "metadata": {},
   "outputs": [],
   "source": [
    "#enc = GLMMEncoder(cols=['desempenho']).fit(x, y)\n",
    "#numeric_dataset = enc.transform(x)"
   ]
  },
  {
   "cell_type": "code",
   "execution_count": 1349,
   "metadata": {},
   "outputs": [
    {
     "name": "stdout",
     "output_type": "stream",
     "text": [
      "         Mixed Linear Model Regression Results\n",
      "========================================================\n",
      "Model:            MixedLM Dependent Variable: desempenho\n",
      "No. Observations: 358     Method:             REML      \n",
      "No. Groups:       10      Scale:              142.9242  \n",
      "Min. group size:  20      Log-Likelihood:     -1416.0074\n",
      "Max. group size:  48      Converged:          Yes       \n",
      "Mean group size:  35.8                                  \n",
      "--------------------------------------------------------\n",
      "               Coef.  Std.Err.   z   P>|z| [0.025 0.975]\n",
      "--------------------------------------------------------\n",
      "Intercept      42.387    6.468 6.553 0.000 29.709 55.065\n",
      "escola Var    414.067   16.695                          \n",
      "========================================================\n",
      "\n"
     ]
    }
   ],
   "source": [
    "import statsmodels.formula.api as smf\n",
    "from patsy import dmatrices\n",
    "formula = \"desempenho ~ 1\"\n",
    "nivel_2 = \"escola\"\n",
    "efeito_aleat_nulo = '~1'\n",
    "\n",
    "md  = smf.mixedlm(formula, dados, groups=nivel_2,re_formula = efeito_aleat_nulo)\n",
    "mdf = md.fit()\n",
    "print(mdf.summary())"
   ]
  },
  {
   "cell_type": "code",
   "execution_count": 1341,
   "metadata": {},
   "outputs": [
    {
     "data": {
      "text/plain": [
       "2838.0158252463066"
      ]
     },
     "execution_count": 1341,
     "metadata": {},
     "output_type": "execute_result"
    }
   ],
   "source": [
    "#Aic\n",
    "aic = mdf.llf*-2.004238;aic"
   ]
  },
  {
   "cell_type": "code",
   "execution_count": 1342,
   "metadata": {},
   "outputs": [
    {
     "data": {
      "text/plain": [
       "42.3871085309764"
      ]
     },
     "execution_count": 1342,
     "metadata": {},
     "output_type": "execute_result"
    }
   ],
   "source": [
    "# Gamma00  = Y00 (intercpto)\n",
    "intercpto = mdf.params.Intercept\n",
    "intercpto"
   ]
  },
  {
   "cell_type": "code",
   "execution_count": 1256,
   "metadata": {},
   "outputs": [
    {
     "name": "stdout",
     "output_type": "stream",
     "text": [
      "Efeito aleatorio de intercpto no nivel escola: 414.0671090661259\n",
      "Desvio padrao do Intercpto: 20.34863899788204\n"
     ]
    }
   ],
   "source": [
    "#Variancia do v0j = Efeito aleatorio de intercpto nivel escola\n",
    "print(f'Efeito aleatorio de intercpto no nivel escola: {np.array(mdf.cov_re)[0,0]}')\n",
    "\n",
    "#Desvio padrao do Intercpto\n",
    "print(f'Desvio padrao do Intercpto: {np.array(np.sqrt(mdf.cov_re))[0,0]}')"
   ]
  },
  {
   "cell_type": "code",
   "execution_count": 1257,
   "metadata": {},
   "outputs": [
    {
     "name": "stdout",
     "output_type": "stream",
     "text": [
      "Efeito aleatorio do nivel individuo(nivel1): 142.92421239557424\n",
      "Desvio padrao dos Residuos: 11.955091484199285\n"
     ]
    }
   ],
   "source": [
    "#Variancia E(erro) do efeito aleatorio do nivel individuo(nivel1)\n",
    "print(f'Efeito aleatorio do nivel individuo(nivel1): {mdf.scale}')\n",
    "\n",
    "#Desvio padrao dos Residuos\n",
    "print(f'Desvio padrao dos Residuos: {np.sqrt(mdf.scale)}')"
   ]
  },
  {
   "cell_type": "code",
   "execution_count": 1258,
   "metadata": {},
   "outputs": [
    {
     "data": {
      "text/plain": [
       "Intercept    5.641186e-11\n",
       "Group Var    3.802931e-02\n",
       "dtype: float64"
      ]
     },
     "execution_count": 1258,
     "metadata": {},
     "output_type": "execute_result"
    }
   ],
   "source": [
    "# As 2 variancias sao significantes a 95% do nivel de confiança\n",
    "mdf.pvalues"
   ]
  },
  {
   "cell_type": "markdown",
   "metadata": {},
   "source": [
    "**Quer dizer que a variancia é estatisticamente diferente de 0 (Existe significancia estatistica entre Desempenho e Escola), Modelo Multinivel é superior a qualquer modelo OLS, Caso o p_valor fosse >0.10 o loglike do modelo multinivel iria ser parecido ao loglike do OLS**"
   ]
  },
  {
   "cell_type": "markdown",
   "metadata": {},
   "source": [
    "# Calculo do ICC"
   ]
  },
  {
   "cell_type": "code",
   "execution_count": 1259,
   "metadata": {
    "scrolled": true
   },
   "outputs": [
    {
     "name": "stdout",
     "output_type": "stream",
     "text": [
      "ICC= 74%\n"
     ]
    }
   ],
   "source": [
    "# Calculo do ICC - Intraclass Correlation\n",
    "# Calcula a variaçao explicada da y em relaçao a variavel X\n",
    "#Proporçao da variancia do nivel escola em relaçao a variancia total dos termos de erro\n",
    "\n",
    "#Formula : \n",
    "v0j = mdf.cov_re.iloc[0,0] # Efeito aleatorio de intercpto nivel escola\n",
    "E = mdf.scale # Variancia E(erro) do efeito aleatorio do nivel individuo\n",
    "icc = v0j /(v0j + E)\n",
    "print(f'ICC= {round(icc*100)}%')\n"
   ]
  },
  {
   "cell_type": "markdown",
   "metadata": {},
   "source": [
    "**Quer dizer que 74% da variavel Y(Desempenho) é explicada pela variavel X(Escola)**"
   ]
  },
  {
   "cell_type": "markdown",
   "metadata": {},
   "source": [
    "## ESTIMAÇÃO DO MODELO NULO OLS"
   ]
  },
  {
   "cell_type": "code",
   "execution_count": 1260,
   "metadata": {},
   "outputs": [
    {
     "data": {
      "text/html": [
       "<table class=\"simpletable\">\n",
       "<caption>OLS Regression Results</caption>\n",
       "<tr>\n",
       "  <th>Dep. Variable:</th>       <td>desempenho</td>    <th>  R-squared:         </th> <td>   0.000</td>\n",
       "</tr>\n",
       "<tr>\n",
       "  <th>Model:</th>                   <td>OLS</td>       <th>  Adj. R-squared:    </th> <td>   0.000</td>\n",
       "</tr>\n",
       "<tr>\n",
       "  <th>Method:</th>             <td>Least Squares</td>  <th>  F-statistic:       </th> <td>     nan</td>\n",
       "</tr>\n",
       "<tr>\n",
       "  <th>Date:</th>             <td>Mon, 11 Oct 2021</td> <th>  Prob (F-statistic):</th>  <td>   nan</td> \n",
       "</tr>\n",
       "<tr>\n",
       "  <th>Time:</th>                 <td>15:35:50</td>     <th>  Log-Likelihood:    </th> <td> -1633.5</td>\n",
       "</tr>\n",
       "<tr>\n",
       "  <th>No. Observations:</th>      <td>   358</td>      <th>  AIC:               </th> <td>   3269.</td>\n",
       "</tr>\n",
       "<tr>\n",
       "  <th>Df Residuals:</th>          <td>   357</td>      <th>  BIC:               </th> <td>   3273.</td>\n",
       "</tr>\n",
       "<tr>\n",
       "  <th>Df Model:</th>              <td>     0</td>      <th>                     </th>     <td> </td>   \n",
       "</tr>\n",
       "<tr>\n",
       "  <th>Covariance Type:</th>      <td>nonrobust</td>    <th>                     </th>     <td> </td>   \n",
       "</tr>\n",
       "</table>\n",
       "<table class=\"simpletable\">\n",
       "<tr>\n",
       "    <td></td>       <th>coef</th>     <th>std err</th>      <th>t</th>      <th>P>|t|</th>  <th>[0.025</th>    <th>0.975]</th>  \n",
       "</tr>\n",
       "<tr>\n",
       "  <th>const</th> <td>   41.5542</td> <td>    1.228</td> <td>   33.852</td> <td> 0.000</td> <td>   39.140</td> <td>   43.968</td>\n",
       "</tr>\n",
       "</table>\n",
       "<table class=\"simpletable\">\n",
       "<tr>\n",
       "  <th>Omnibus:</th>       <td>38.443</td> <th>  Durbin-Watson:     </th> <td>   0.584</td>\n",
       "</tr>\n",
       "<tr>\n",
       "  <th>Prob(Omnibus):</th> <td> 0.000</td> <th>  Jarque-Bera (JB):  </th> <td>  30.903</td>\n",
       "</tr>\n",
       "<tr>\n",
       "  <th>Skew:</th>          <td> 0.626</td> <th>  Prob(JB):          </th> <td>1.95e-07</td>\n",
       "</tr>\n",
       "<tr>\n",
       "  <th>Kurtosis:</th>      <td> 2.291</td> <th>  Cond. No.          </th> <td>    1.00</td>\n",
       "</tr>\n",
       "</table><br/><br/>Notes:<br/>[1] Standard Errors assume that the covariance matrix of the errors is correctly specified."
      ],
      "text/plain": [
       "<class 'statsmodels.iolib.summary.Summary'>\n",
       "\"\"\"\n",
       "                            OLS Regression Results                            \n",
       "==============================================================================\n",
       "Dep. Variable:             desempenho   R-squared:                       0.000\n",
       "Model:                            OLS   Adj. R-squared:                  0.000\n",
       "Method:                 Least Squares   F-statistic:                       nan\n",
       "Date:                Mon, 11 Oct 2021   Prob (F-statistic):                nan\n",
       "Time:                        15:35:50   Log-Likelihood:                -1633.5\n",
       "No. Observations:                 358   AIC:                             3269.\n",
       "Df Residuals:                     357   BIC:                             3273.\n",
       "Df Model:                           0                                         \n",
       "Covariance Type:            nonrobust                                         \n",
       "==============================================================================\n",
       "                 coef    std err          t      P>|t|      [0.025      0.975]\n",
       "------------------------------------------------------------------------------\n",
       "const         41.5542      1.228     33.852      0.000      39.140      43.968\n",
       "==============================================================================\n",
       "Omnibus:                       38.443   Durbin-Watson:                   0.584\n",
       "Prob(Omnibus):                  0.000   Jarque-Bera (JB):               30.903\n",
       "Skew:                           0.626   Prob(JB):                     1.95e-07\n",
       "Kurtosis:                       2.291   Cond. No.                         1.00\n",
       "==============================================================================\n",
       "\n",
       "Notes:\n",
       "[1] Standard Errors assume that the covariance matrix of the errors is correctly specified.\n",
       "\"\"\""
      ]
     },
     "execution_count": 1260,
     "metadata": {},
     "output_type": "execute_result"
    }
   ],
   "source": [
    "import statsmodels.api as sm\n",
    "x_interc = sm.add_constant(x) # Somente o Intercept\n",
    "modelo = sm.OLS(y,x_interc[['const']]) # funçao \n",
    "resultado = modelo.fit() # Treinar o modelo\n",
    "resultado.summary() # Verificar os dados do modelo"
   ]
  },
  {
   "cell_type": "markdown",
   "metadata": {},
   "source": [
    "## COMPARAÇÃO DO HLM2 NULO COM UM OLS NULO  "
   ]
  },
  {
   "cell_type": "code",
   "execution_count": 1261,
   "metadata": {},
   "outputs": [
    {
     "name": "stdout",
     "output_type": "stream",
     "text": [
      "LogLike Modelo Multinivel: -1416.0073929574764\n",
      "LogLike Modelo OLS: -1633.485196978135\n",
      "Diferença entre Multinivel e OlS: -217.4778040206586\n"
     ]
    }
   ],
   "source": [
    "#Loglike\n",
    "print(f'LogLike Modelo Multinivel: {mdf.llf}')\n",
    "print(f'LogLike Modelo OLS: {resultado.llf}')\n",
    "print(f'Diferença entre Multinivel e OlS: {-1*(mdf.llf -resultado.llf) }')"
   ]
  },
  {
   "cell_type": "markdown",
   "metadata": {},
   "source": [
    "## Como os modelos multiniveis não conseguem selecionar as melhores variaveis para a prediçao do modelo (Step-Wise), temos que a partir da conclusão que a variavel de nivel 2 tem significancia estatistica ,fazemos Step Up(Inserir parametros aleatorios a cada estagio da modelagem)"
   ]
  },
  {
   "cell_type": "markdown",
   "metadata": {},
   "source": [
    "# 1° Estagio do modelo Step Up - Modelos com Interceptos aleatórios ( Incluir a variavel horas no nivel 1)"
   ]
  },
  {
   "cell_type": "markdown",
   "metadata": {},
   "source": [
    "### Existe diferença no interceptos do desempenho em funçao de horas entre alunos de escolas distintas?"
   ]
  },
  {
   "cell_type": "code",
   "execution_count": 1350,
   "metadata": {},
   "outputs": [
    {
     "name": "stdout",
     "output_type": "stream",
     "text": [
      "         Mixed Linear Model Regression Results\n",
      "========================================================\n",
      "Model:            MixedLM Dependent Variable: desempenho\n",
      "No. Observations: 358     Method:             REML      \n",
      "No. Groups:       10      Scale:              31.5519   \n",
      "Min. group size:  20      Log-Likelihood:     -1155.2466\n",
      "Max. group size:  48      Converged:          Yes       \n",
      "Mean group size:  35.8                                  \n",
      "--------------------------------------------------------\n",
      "              Coef.  Std.Err.   z    P>|z| [0.025 0.975]\n",
      "--------------------------------------------------------\n",
      "Intercept      4.530    7.027  0.645 0.519 -9.243 18.303\n",
      "horas          1.970    0.056 35.042 0.000  1.859  2.080\n",
      "Group Var    481.185   40.975                           \n",
      "========================================================\n",
      "\n"
     ]
    }
   ],
   "source": [
    "import statsmodels.formula.api as smf\n",
    "from patsy import dmatrices\n",
    "formula = \"desempenho ~ horas\" # Componentes de efeitos fixos\n",
    "efeito_aleat_nulo = '~1'\n",
    "md1  = smf.mixedlm(formula, dados, groups=dados[\"escola\"],re_formula = efeito_aleat_nulo )\n",
    "mdf1 = md1.fit()\n",
    "print(mdf1.summary())"
   ]
  },
  {
   "cell_type": "code",
   "execution_count": 1351,
   "metadata": {},
   "outputs": [
    {
     "data": {
      "text/plain": [
       "21.935933098920817"
      ]
     },
     "execution_count": 1351,
     "metadata": {},
     "output_type": "execute_result"
    }
   ],
   "source": [
    "#Componente de efeitos aleatorios do intercepto da variavel Escola\n",
    "intercpt_escola =  np.sqrt(mdf1.cov_re.iloc[0,0]) # Raiz \n",
    "intercpt_escola"
   ]
  },
  {
   "cell_type": "code",
   "execution_count": 1352,
   "metadata": {},
   "outputs": [
    {
     "data": {
      "text/plain": [
       "5.6171036817044815"
      ]
     },
     "execution_count": 1352,
     "metadata": {},
     "output_type": "execute_result"
    }
   ],
   "source": [
    "#Residuos do Componente de efeitos aleatorios do intercpto da variavel Escola\n",
    "resi_escola = np.sqrt(mdf1.scale) #Raiz\n",
    "resi_escola"
   ]
  },
  {
   "cell_type": "code",
   "execution_count": 1334,
   "metadata": {},
   "outputs": [
    {
     "data": {
      "text/plain": [
       "481.1851609203298"
      ]
     },
     "execution_count": 1334,
     "metadata": {},
     "output_type": "execute_result"
    }
   ],
   "source": [
    "#Estimativas de variância \n",
    "mdf1.cov_re.iloc[0,0]"
   ]
  },
  {
   "cell_type": "markdown",
   "metadata": {},
   "source": [
    "## COMPARAÇÃO DOS LOGLIKES ENTRE OS MODELOS"
   ]
  },
  {
   "cell_type": "code",
   "execution_count": 1265,
   "metadata": {},
   "outputs": [
    {
     "name": "stdout",
     "output_type": "stream",
     "text": [
      "LogLike Modelo HLM2 Nulo: -1416.0073929574764\n",
      "LogLike Modelo OLS: -1633.485196978135\n",
      "LogLike Modelo HLM2 com Intercepto Aleatorio: -1155.2466403888093\n"
     ]
    }
   ],
   "source": [
    "#Loglike\n",
    "print(f'LogLike Modelo HLM2 Nulo: {mdf.llf}')\n",
    "print(f'LogLike Modelo OLS: {resultado.llf}')\n",
    "print(f'LogLike Modelo HLM2 com Intercepto Aleatorio: {mdf1.llf}')\n"
   ]
  },
  {
   "cell_type": "markdown",
   "metadata": {},
   "source": [
    "# 2° Estagio do modelo Step Up - Modelos com Interceptos e Inclinaçoes aleatórias ( Incluir a variavel horas no nivel 2)"
   ]
  },
  {
   "cell_type": "markdown",
   "metadata": {},
   "source": [
    "### Existe diferença nos interceptos das equações do desempenho em função de horas e nas taxas de crescimento do desempenho em função da quantidade de horas que os alunos estudam entre alunos da mesma ou diferentes escolas?"
   ]
  },
  {
   "cell_type": "code",
   "execution_count": 1353,
   "metadata": {},
   "outputs": [
    {
     "name": "stdout",
     "output_type": "stream",
     "text": [
      "           Mixed Linear Model Regression Results\n",
      "============================================================\n",
      "Model:              MixedLM  Dependent Variable:  desempenho\n",
      "No. Observations:   358      Method:              REML      \n",
      "No. Groups:         10       Scale:               7.0497    \n",
      "Min. group size:    20       Log-Likelihood:      -906.8028 \n",
      "Max. group size:    48       Converged:           Yes       \n",
      "Mean group size:    35.8                                    \n",
      "------------------------------------------------------------\n",
      "                   Coef.  Std.Err.   z   P>|z| [0.025 0.975]\n",
      "------------------------------------------------------------\n",
      "Intercept           7.121    2.426 2.935 0.003  2.366 11.875\n",
      "horas               1.895    0.308 6.158 0.000  1.292  2.498\n",
      "escola Var         55.078   10.278                          \n",
      "escola x horas Cov  2.568    0.986                          \n",
      "horas Var           0.938    0.170                          \n",
      "============================================================\n",
      "\n"
     ]
    }
   ],
   "source": [
    "formula = \"desempenho ~ horas\"\n",
    "incli_nivel2_horas = 'horas'\n",
    "nivel_2 = \"escola\"\n",
    "md2  = smf.mixedlm(formula, dados,re_formula= incli_nivel2_horas,groups=nivel_2)\n",
    "mdf2 = md2.fit()\n",
    "print(mdf2.summary())"
   ]
  },
  {
   "cell_type": "markdown",
   "metadata": {},
   "source": [
    "# P-value dos parametros"
   ]
  },
  {
   "cell_type": "code",
   "execution_count": 1267,
   "metadata": {},
   "outputs": [
    {
     "data": {
      "text/plain": [
       "Intercept             0.003\n",
       "horas                 0.000\n",
       "escola Var            0.044\n",
       "escola x horas Cov    0.326\n",
       "horas Var             0.038\n",
       "dtype: float64"
      ]
     },
     "execution_count": 1267,
     "metadata": {},
     "output_type": "execute_result"
    }
   ],
   "source": [
    "round(mdf2.pvalues,3)"
   ]
  },
  {
   "cell_type": "markdown",
   "metadata": {},
   "source": [
    "**Podemos observar que tanto o intercepto quanto a inclinação são estatisticamente significantes a um nivel de 5%, porém nos modelos multinivel podemos aceitar com um nivel de significancia de 10% para os efeitos aleatorios de inclinação pois podemos não ter uma substancialidade amostral significante dentre de todos os contextos**"
   ]
  },
  {
   "cell_type": "markdown",
   "metadata": {},
   "source": [
    "**Caso o p-valor da variavel 'horas' nao tivesse sido estatisticamente diferente de 0 , esse modelo nao seria estatisticamente diferente do anterior**"
   ]
  },
  {
   "cell_type": "markdown",
   "metadata": {},
   "source": [
    "# Parametros das variaveis Fixas"
   ]
  },
  {
   "cell_type": "code",
   "execution_count": 1268,
   "metadata": {},
   "outputs": [
    {
     "data": {
      "text/plain": [
       "Intercept    7.120541\n",
       "horas        1.894527\n",
       "dtype: float64"
      ]
     },
     "execution_count": 1268,
     "metadata": {},
     "output_type": "execute_result"
    }
   ],
   "source": [
    "#Parametros das variaveis Fixas\n",
    "mdf2.fe_params"
   ]
  },
  {
   "cell_type": "markdown",
   "metadata": {},
   "source": [
    "# Significancia estatistica dos efeitos aleatorios"
   ]
  },
  {
   "cell_type": "code",
   "execution_count": 1269,
   "metadata": {},
   "outputs": [
    {
     "data": {
      "text/html": [
       "<div>\n",
       "<style scoped>\n",
       "    .dataframe tbody tr th:only-of-type {\n",
       "        vertical-align: middle;\n",
       "    }\n",
       "\n",
       "    .dataframe tbody tr th {\n",
       "        vertical-align: top;\n",
       "    }\n",
       "\n",
       "    .dataframe thead th {\n",
       "        text-align: right;\n",
       "    }\n",
       "</style>\n",
       "<table border=\"1\" class=\"dataframe\">\n",
       "  <thead>\n",
       "    <tr style=\"text-align: right;\">\n",
       "      <th></th>\n",
       "      <th>escola</th>\n",
       "      <th>horas</th>\n",
       "    </tr>\n",
       "  </thead>\n",
       "  <tbody>\n",
       "    <tr>\n",
       "      <th>escola</th>\n",
       "      <td>55.078152</td>\n",
       "      <td>2.568169</td>\n",
       "    </tr>\n",
       "    <tr>\n",
       "      <th>horas</th>\n",
       "      <td>2.568169</td>\n",
       "      <td>0.938029</td>\n",
       "    </tr>\n",
       "  </tbody>\n",
       "</table>\n",
       "</div>"
      ],
      "text/plain": [
       "           escola     horas\n",
       "escola  55.078152  2.568169\n",
       "horas    2.568169  0.938029"
      ]
     },
     "execution_count": 1269,
     "metadata": {},
     "output_type": "execute_result"
    }
   ],
   "source": [
    "mdf2.cov_re"
   ]
  },
  {
   "cell_type": "markdown",
   "metadata": {},
   "source": [
    "### Intercepto"
   ]
  },
  {
   "cell_type": "code",
   "execution_count": 1357,
   "metadata": {},
   "outputs": [
    {
     "data": {
      "text/plain": [
       "7.421"
      ]
     },
     "execution_count": 1357,
     "metadata": {},
     "output_type": "execute_result"
    }
   ],
   "source": [
    "round(np.sqrt(mdf2.cov_re.iloc[0,0]),3)\n"
   ]
  },
  {
   "cell_type": "markdown",
   "metadata": {},
   "source": [
    "### Inclinação"
   ]
  },
  {
   "cell_type": "code",
   "execution_count": 1359,
   "metadata": {},
   "outputs": [
    {
     "data": {
      "text/plain": [
       "0.969"
      ]
     },
     "execution_count": 1359,
     "metadata": {},
     "output_type": "execute_result"
    }
   ],
   "source": [
    "round(np.sqrt(mdf2.cov_re.iloc[1,1]),3)"
   ]
  },
  {
   "cell_type": "markdown",
   "metadata": {},
   "source": [
    "### Variancia E(erro) do efeito aleatorio"
   ]
  },
  {
   "cell_type": "code",
   "execution_count": 1272,
   "metadata": {},
   "outputs": [
    {
     "name": "stdout",
     "output_type": "stream",
     "text": [
      "E(erro) do efeito aleatorio: 7.0497\n"
     ]
    }
   ],
   "source": [
    "print(f'E(erro) do efeito aleatorio: {round(mdf2.scale,4)}')"
   ]
  },
  {
   "cell_type": "markdown",
   "metadata": {},
   "source": [
    "## COMPARAÇÃO DOS LOGLIKES ENTRE OS MODELOS"
   ]
  },
  {
   "cell_type": "code",
   "execution_count": 1273,
   "metadata": {},
   "outputs": [
    {
     "name": "stdout",
     "output_type": "stream",
     "text": [
      "LogLike Modelo HLM2 Nulo: -1416.0073929574764\n",
      "LogLike Modelo OLS: -1633.485196978135\n",
      "LogLike Modelo HLM2 com Intercepto Aleatorio: -1155.2466403888093\n",
      "LogLike Modelo HLM2 com Intercepto e Inclinações Aleatorias : -906.8027522125874\n"
     ]
    }
   ],
   "source": [
    "#Loglike\n",
    "print(f'LogLike Modelo HLM2 Nulo: {mdf.llf}')\n",
    "print(f'LogLike Modelo OLS: {resultado.llf}')\n",
    "print(f'LogLike Modelo HLM2 com Intercepto Aleatorio: {mdf1.llf}')\n",
    "print(f'LogLike Modelo HLM2 com Intercepto e Inclinações Aleatorias : {mdf2.llf}')"
   ]
  },
  {
   "cell_type": "markdown",
   "metadata": {},
   "source": [
    "**Podemos observar o ganho de LogLike quando colocamos o efeito aleatorio de inclinação**"
   ]
  },
  {
   "cell_type": "markdown",
   "metadata": {},
   "source": [
    "# 3° Estagio do modelo Step Up - Modelos com Interceptos e Inclinaçoes aleatórias ( Incluir a variavel 'Texp' somento no nivel 2 ,só vai variar entre as escolas)"
   ]
  },
  {
   "cell_type": "markdown",
   "metadata": {},
   "source": [
    "### Verificar se os inteceptos diferentes das equações das escolas , ocorrem em função da variavel 'Texp'(Tempo de experiencia dos professores)? e verificar se a taxa de crescimento em relaçao as horas se da em função do tempo de experiencia dos professores em cada uma das escolas?"
   ]
  },
  {
   "cell_type": "code",
   "execution_count": 1368,
   "metadata": {},
   "outputs": [
    {
     "name": "stdout",
     "output_type": "stream",
     "text": [
      "            Mixed Linear Model Regression Results\n",
      "=============================================================\n",
      "Model:               MixedLM  Dependent Variable:  desempenho\n",
      "No. Observations:    358      Method:              REML      \n",
      "No. Groups:          10       Scale:               7.0443    \n",
      "Min. group size:     20       Log-Likelihood:      -894.5684 \n",
      "Max. group size:     48       Converged:           Yes       \n",
      "Mean group size:     35.8                                    \n",
      "-------------------------------------------------------------\n",
      "                   Coef.  Std.Err.   z    P>|z| [0.025 0.975]\n",
      "-------------------------------------------------------------\n",
      "Intercept          -0.850    2.999 -0.283 0.777 -6.727  5.028\n",
      "horas               0.713    0.321  2.225 0.026  0.085  1.342\n",
      "texp                1.585    0.487  3.256 0.001  0.631  2.540\n",
      "texp:horas          0.232    0.053  4.405 0.000  0.129  0.335\n",
      "escola Var         24.345    5.167                           \n",
      "escola x horas Cov -2.354    0.514                           \n",
      "horas Var           0.305    0.059                           \n",
      "=============================================================\n",
      "\n"
     ]
    }
   ],
   "source": [
    "formula = \"desempenho ~ horas + texp +texp*horas \"\n",
    "md3  = smf.mixedlm(formula, dados,re_formula= 'horas',groups=\"escola\")\n",
    "mdf3 = md3.fit()\n",
    "print(mdf3.summary())"
   ]
  },
  {
   "cell_type": "markdown",
   "metadata": {},
   "source": [
    "# P-value dos parametros"
   ]
  },
  {
   "cell_type": "code",
   "execution_count": 1275,
   "metadata": {},
   "outputs": [
    {
     "data": {
      "text/plain": [
       "Intercept             0.777\n",
       "horas                 0.026\n",
       "texp                  0.001\n",
       "texp:horas            0.000\n",
       "escola Var            0.076\n",
       "escola x horas Cov    0.084\n",
       "horas Var             0.053\n",
       "dtype: float64"
      ]
     },
     "execution_count": 1275,
     "metadata": {},
     "output_type": "execute_result"
    }
   ],
   "source": [
    "round(mdf3.pvalues,3)"
   ]
  },
  {
   "cell_type": "markdown",
   "metadata": {},
   "source": [
    "**Podemos observar que tanto o intercepto quanto a inclinação são estatisticamente significantes a um nivel de 5%, porém nos modelos multinivel podemos aceitar com um nivel de significancia de 10% para os efeitos aleatorios de inclinação pois podemos não ter uma substancialidade amostral significante dentre de todos os contextos**"
   ]
  },
  {
   "cell_type": "markdown",
   "metadata": {},
   "source": [
    "**Caso o p-valor da variavel 'texp' nao tivesse sido estatisticamente diferente de 0 , esse modelo nao seria estatisticamente diferente do anterior**"
   ]
  },
  {
   "cell_type": "markdown",
   "metadata": {},
   "source": [
    "# Significancia estatistica dos efeitos aleatorios"
   ]
  },
  {
   "cell_type": "code",
   "execution_count": 1276,
   "metadata": {},
   "outputs": [
    {
     "data": {
      "text/html": [
       "<div>\n",
       "<style scoped>\n",
       "    .dataframe tbody tr th:only-of-type {\n",
       "        vertical-align: middle;\n",
       "    }\n",
       "\n",
       "    .dataframe tbody tr th {\n",
       "        vertical-align: top;\n",
       "    }\n",
       "\n",
       "    .dataframe thead th {\n",
       "        text-align: right;\n",
       "    }\n",
       "</style>\n",
       "<table border=\"1\" class=\"dataframe\">\n",
       "  <thead>\n",
       "    <tr style=\"text-align: right;\">\n",
       "      <th></th>\n",
       "      <th>escola</th>\n",
       "      <th>horas</th>\n",
       "    </tr>\n",
       "  </thead>\n",
       "  <tbody>\n",
       "    <tr>\n",
       "      <th>escola</th>\n",
       "      <td>24.345360</td>\n",
       "      <td>-2.353553</td>\n",
       "    </tr>\n",
       "    <tr>\n",
       "      <th>horas</th>\n",
       "      <td>-2.353553</td>\n",
       "      <td>0.305278</td>\n",
       "    </tr>\n",
       "  </tbody>\n",
       "</table>\n",
       "</div>"
      ],
      "text/plain": [
       "           escola     horas\n",
       "escola  24.345360 -2.353553\n",
       "horas   -2.353553  0.305278"
      ]
     },
     "execution_count": 1276,
     "metadata": {},
     "output_type": "execute_result"
    }
   ],
   "source": [
    "mdf3.cov_re"
   ]
  },
  {
   "cell_type": "markdown",
   "metadata": {},
   "source": [
    "### Intercepto"
   ]
  },
  {
   "cell_type": "code",
   "execution_count": 1369,
   "metadata": {},
   "outputs": [
    {
     "data": {
      "text/plain": [
       "4.934"
      ]
     },
     "execution_count": 1369,
     "metadata": {},
     "output_type": "execute_result"
    }
   ],
   "source": [
    "round(np.sqrt(mdf3.cov_re.iloc[0,0]),3)"
   ]
  },
  {
   "cell_type": "markdown",
   "metadata": {},
   "source": [
    "### Inclinação"
   ]
  },
  {
   "cell_type": "code",
   "execution_count": 1370,
   "metadata": {},
   "outputs": [
    {
     "data": {
      "text/plain": [
       "0.553"
      ]
     },
     "execution_count": 1370,
     "metadata": {},
     "output_type": "execute_result"
    }
   ],
   "source": [
    "round(np.sqrt(mdf3.cov_re.iloc[1,1]),3)"
   ]
  },
  {
   "cell_type": "markdown",
   "metadata": {},
   "source": [
    "### Variancia E(erro) do efeito aleatorio"
   ]
  },
  {
   "cell_type": "code",
   "execution_count": 1372,
   "metadata": {},
   "outputs": [
    {
     "name": "stdout",
     "output_type": "stream",
     "text": [
      "E(erro) do efeito aleatorio: 2.6541\n"
     ]
    }
   ],
   "source": [
    "print(f'E(erro) do efeito aleatorio: {round(np.sqrt(mdf3.scale),4)}')"
   ]
  },
  {
   "cell_type": "markdown",
   "metadata": {},
   "source": [
    "## COMPARAÇÃO DOS LOGLIKES ENTRE OS MODELOS"
   ]
  },
  {
   "cell_type": "code",
   "execution_count": 1280,
   "metadata": {},
   "outputs": [
    {
     "name": "stdout",
     "output_type": "stream",
     "text": [
      "LogLike Modelo HLM2 Nulo: -1416.0073929574764\n",
      "LogLike Modelo OLS: -1633.485196978135\n",
      "LogLike Modelo HLM2 com Intercepto Aleatorio: -1155.2466403888093\n",
      "LogLike Modelo HLM2 com Intercepto e Inclinações Aleatorias : -906.8027522125874\n",
      "LogLike Modelo HLM2 com Intercepto e Inclinações Aleatorias +Var texp : -894.568407853362\n"
     ]
    }
   ],
   "source": [
    "#Loglike\n",
    "print(f'LogLike Modelo HLM2 Nulo: {mdf.llf}')\n",
    "print(f'LogLike Modelo OLS: {resultado.llf}')\n",
    "print(f'LogLike Modelo HLM2 com Intercepto Aleatorio: {mdf1.llf}')\n",
    "print(f'LogLike Modelo HLM2 com Intercepto e Inclinações Aleatorias : {mdf2.llf}')\n",
    "print(f'LogLike Modelo HLM2 com Intercepto e Inclinações Aleatorias +Var texp : {mdf3.llf}')"
   ]
  },
  {
   "cell_type": "code",
   "execution_count": 1281,
   "metadata": {},
   "outputs": [
    {
     "data": {
      "image/png": "[encoded data removed]",
      "text/plain": [
       "<Figure size 432x288 with 1 Axes>"
      ]
     },
     "metadata": {},
     "output_type": "display_data"
    }
   ],
   "source": [
    "a = ['HLM2 Nulo','OLS','Int Aleat','Int e Incli Aleat','Modelo Final']\n",
    "b = [mdf.llf,resultado.llf,mdf1.llf,mdf2.llf,mdf3.llf]\n",
    "plt.barh(a,b);\n",
    "plt.title('Comparação dos LL',size=20);"
   ]
  },
  {
   "cell_type": "markdown",
   "metadata": {},
   "source": [
    "**Podemos observar que o LL do modelo Final com a var texp e o modelo com Intercepto e Inclinações Aleatorias obtiveram os melhores LL , isso porque a var texp neste contexto não fez muita diferença , apesar do LL ser o melhor**"
   ]
  },
  {
   "cell_type": "markdown",
   "metadata": {},
   "source": [
    "## Visualização dos interceptos e das inclinações aleatórios por escola"
   ]
  },
  {
   "cell_type": "code",
   "execution_count": 1282,
   "metadata": {},
   "outputs": [
    {
     "data": {
      "text/html": [
       "<div>\n",
       "<style scoped>\n",
       "    .dataframe tbody tr th:only-of-type {\n",
       "        vertical-align: middle;\n",
       "    }\n",
       "\n",
       "    .dataframe tbody tr th {\n",
       "        vertical-align: top;\n",
       "    }\n",
       "\n",
       "    .dataframe thead th {\n",
       "        text-align: right;\n",
       "    }\n",
       "</style>\n",
       "<table border=\"1\" class=\"dataframe\">\n",
       "  <thead>\n",
       "    <tr style=\"text-align: right;\">\n",
       "      <th></th>\n",
       "      <th>escola</th>\n",
       "      <th>horas</th>\n",
       "    </tr>\n",
       "  </thead>\n",
       "  <tbody>\n",
       "    <tr>\n",
       "      <th>1</th>\n",
       "      <td>-0.211364</td>\n",
       "      <td>0.438811</td>\n",
       "    </tr>\n",
       "    <tr>\n",
       "      <th>2</th>\n",
       "      <td>1.291495</td>\n",
       "      <td>-0.278181</td>\n",
       "    </tr>\n",
       "    <tr>\n",
       "      <th>3</th>\n",
       "      <td>6.090772</td>\n",
       "      <td>-0.779130</td>\n",
       "    </tr>\n",
       "    <tr>\n",
       "      <th>4</th>\n",
       "      <td>-5.245506</td>\n",
       "      <td>0.450368</td>\n",
       "    </tr>\n",
       "    <tr>\n",
       "      <th>5</th>\n",
       "      <td>-1.695358</td>\n",
       "      <td>-0.139678</td>\n",
       "    </tr>\n",
       "    <tr>\n",
       "      <th>6</th>\n",
       "      <td>3.864292</td>\n",
       "      <td>0.005096</td>\n",
       "    </tr>\n",
       "    <tr>\n",
       "      <th>7</th>\n",
       "      <td>-8.270892</td>\n",
       "      <td>0.909171</td>\n",
       "    </tr>\n",
       "    <tr>\n",
       "      <th>8</th>\n",
       "      <td>-1.363471</td>\n",
       "      <td>0.217166</td>\n",
       "    </tr>\n",
       "    <tr>\n",
       "      <th>9</th>\n",
       "      <td>3.705674</td>\n",
       "      <td>-0.607100</td>\n",
       "    </tr>\n",
       "    <tr>\n",
       "      <th>10</th>\n",
       "      <td>1.834358</td>\n",
       "      <td>-0.216522</td>\n",
       "    </tr>\n",
       "  </tbody>\n",
       "</table>\n",
       "</div>"
      ],
      "text/plain": [
       "      escola     horas\n",
       "1  -0.211364  0.438811\n",
       "2   1.291495 -0.278181\n",
       "3   6.090772 -0.779130\n",
       "4  -5.245506  0.450368\n",
       "5  -1.695358 -0.139678\n",
       "6   3.864292  0.005096\n",
       "7  -8.270892  0.909171\n",
       "8  -1.363471  0.217166\n",
       "9   3.705674 -0.607100\n",
       "10  1.834358 -0.216522"
      ]
     },
     "execution_count": 1282,
     "metadata": {},
     "output_type": "execute_result"
    }
   ],
   "source": [
    "int_incli = pd.DataFrame(mdf3.random_effects).T\n",
    "int_incli"
   ]
  },
  {
   "cell_type": "markdown",
   "metadata": {},
   "source": [
    "**Intercepto da Escola e o valor da inclinaçao a cada incremento de 1 unidade de estudo**"
   ]
  },
  {
   "cell_type": "code",
   "execution_count": 1283,
   "metadata": {},
   "outputs": [
    {
     "data": {
      "image/png": "[encoded data removed]",
      "text/plain": [
       "<Figure size 864x504 with 2 Axes>"
      ]
     },
     "metadata": {},
     "output_type": "display_data"
    }
   ],
   "source": [
    "fig, (ax1, ax2) = plt.subplots(1, 2, figsize=(12,7))\n",
    "a = np.arange(len(aa))+1\n",
    "b = int_incli.escola\n",
    "ax1.barh(a,b);\n",
    "ax1.set(title=\"Efeitos aleatorios de Intercepto\", xlabel=\"Y00\", ylabel=\"Escola\")\n",
    "plt.gca().invert_yaxis()\n",
    "\n",
    "\n",
    "a1 = np.arange(len(aa))+1\n",
    "b1 = int_incli.horas\n",
    "ax2.barh(a1,b1);\n",
    "ax2.set(title=\"Efeitos aleatorios de Inclinação\", xlabel=\"V1j\", ylabel=\"Escola\")\n",
    "\n",
    "plt.gca().invert_yaxis()"
   ]
  },
  {
   "cell_type": "markdown",
   "metadata": {},
   "source": [
    "# Previsão"
   ]
  },
  {
   "cell_type": "code",
   "execution_count": 1284,
   "metadata": {},
   "outputs": [
    {
     "data": {
      "text/html": [
       "<div>\n",
       "<style scoped>\n",
       "    .dataframe tbody tr th:only-of-type {\n",
       "        vertical-align: middle;\n",
       "    }\n",
       "\n",
       "    .dataframe tbody tr th {\n",
       "        vertical-align: top;\n",
       "    }\n",
       "\n",
       "    .dataframe thead th {\n",
       "        text-align: right;\n",
       "    }\n",
       "</style>\n",
       "<table border=\"1\" class=\"dataframe\">\n",
       "  <thead>\n",
       "    <tr style=\"text-align: right;\">\n",
       "      <th></th>\n",
       "      <th>escola</th>\n",
       "      <th>horas</th>\n",
       "      <th>texp</th>\n",
       "    </tr>\n",
       "  </thead>\n",
       "  <tbody>\n",
       "    <tr>\n",
       "      <th>0</th>\n",
       "      <td>1</td>\n",
       "      <td>11</td>\n",
       "      <td>3.6</td>\n",
       "    </tr>\n",
       "    <tr>\n",
       "      <th>1</th>\n",
       "      <td>1</td>\n",
       "      <td>23</td>\n",
       "      <td>3.6</td>\n",
       "    </tr>\n",
       "    <tr>\n",
       "      <th>2</th>\n",
       "      <td>1</td>\n",
       "      <td>25</td>\n",
       "      <td>3.6</td>\n",
       "    </tr>\n",
       "    <tr>\n",
       "      <th>3</th>\n",
       "      <td>1</td>\n",
       "      <td>14</td>\n",
       "      <td>3.6</td>\n",
       "    </tr>\n",
       "    <tr>\n",
       "      <th>4</th>\n",
       "      <td>1</td>\n",
       "      <td>24</td>\n",
       "      <td>3.6</td>\n",
       "    </tr>\n",
       "    <tr>\n",
       "      <th>...</th>\n",
       "      <td>...</td>\n",
       "      <td>...</td>\n",
       "      <td>...</td>\n",
       "    </tr>\n",
       "    <tr>\n",
       "      <th>353</th>\n",
       "      <td>10</td>\n",
       "      <td>28</td>\n",
       "      <td>3.9</td>\n",
       "    </tr>\n",
       "    <tr>\n",
       "      <th>354</th>\n",
       "      <td>10</td>\n",
       "      <td>9</td>\n",
       "      <td>3.9</td>\n",
       "    </tr>\n",
       "    <tr>\n",
       "      <th>355</th>\n",
       "      <td>10</td>\n",
       "      <td>27</td>\n",
       "      <td>3.9</td>\n",
       "    </tr>\n",
       "    <tr>\n",
       "      <th>356</th>\n",
       "      <td>10</td>\n",
       "      <td>7</td>\n",
       "      <td>3.9</td>\n",
       "    </tr>\n",
       "    <tr>\n",
       "      <th>357</th>\n",
       "      <td>10</td>\n",
       "      <td>24</td>\n",
       "      <td>3.9</td>\n",
       "    </tr>\n",
       "  </tbody>\n",
       "</table>\n",
       "<p>358 rows × 3 columns</p>\n",
       "</div>"
      ],
      "text/plain": [
       "     escola  horas  texp\n",
       "0         1     11   3.6\n",
       "1         1     23   3.6\n",
       "2         1     25   3.6\n",
       "3         1     14   3.6\n",
       "4         1     24   3.6\n",
       "..      ...    ...   ...\n",
       "353      10     28   3.9\n",
       "354      10      9   3.9\n",
       "355      10     27   3.9\n",
       "356      10      7   3.9\n",
       "357      10     24   3.9\n",
       "\n",
       "[358 rows x 3 columns]"
      ]
     },
     "execution_count": 1284,
     "metadata": {},
     "output_type": "execute_result"
    }
   ],
   "source": [
    "#Selecionar as variaveis Preditoras\n",
    "x_pred= x.iloc[:,1:]\n",
    "x_pred"
   ]
  },
  {
   "cell_type": "code",
   "execution_count": 1285,
   "metadata": {},
   "outputs": [
    {
     "data": {
      "text/html": [
       "<div>\n",
       "<style scoped>\n",
       "    .dataframe tbody tr th:only-of-type {\n",
       "        vertical-align: middle;\n",
       "    }\n",
       "\n",
       "    .dataframe tbody tr th {\n",
       "        vertical-align: top;\n",
       "    }\n",
       "\n",
       "    .dataframe thead th {\n",
       "        text-align: right;\n",
       "    }\n",
       "</style>\n",
       "<table border=\"1\" class=\"dataframe\">\n",
       "  <thead>\n",
       "    <tr style=\"text-align: right;\">\n",
       "      <th></th>\n",
       "      <th>horas</th>\n",
       "      <th>texp</th>\n",
       "      <th>predict.fixed</th>\n",
       "    </tr>\n",
       "    <tr>\n",
       "      <th>escola</th>\n",
       "      <th></th>\n",
       "      <th></th>\n",
       "      <th></th>\n",
       "    </tr>\n",
       "  </thead>\n",
       "  <tbody>\n",
       "    <tr>\n",
       "      <th>1</th>\n",
       "      <td>11</td>\n",
       "      <td>3.6</td>\n",
       "      <td>21.885819</td>\n",
       "    </tr>\n",
       "    <tr>\n",
       "      <th>1</th>\n",
       "      <td>23</td>\n",
       "      <td>3.6</td>\n",
       "      <td>40.462363</td>\n",
       "    </tr>\n",
       "    <tr>\n",
       "      <th>1</th>\n",
       "      <td>25</td>\n",
       "      <td>3.6</td>\n",
       "      <td>43.558453</td>\n",
       "    </tr>\n",
       "    <tr>\n",
       "      <th>1</th>\n",
       "      <td>14</td>\n",
       "      <td>3.6</td>\n",
       "      <td>26.529955</td>\n",
       "    </tr>\n",
       "    <tr>\n",
       "      <th>1</th>\n",
       "      <td>24</td>\n",
       "      <td>3.6</td>\n",
       "      <td>42.010408</td>\n",
       "    </tr>\n",
       "    <tr>\n",
       "      <th>...</th>\n",
       "      <td>...</td>\n",
       "      <td>...</td>\n",
       "      <td>...</td>\n",
       "    </tr>\n",
       "    <tr>\n",
       "      <th>10</th>\n",
       "      <td>28</td>\n",
       "      <td>3.9</td>\n",
       "      <td>50.625529</td>\n",
       "    </tr>\n",
       "    <tr>\n",
       "      <th>10</th>\n",
       "      <td>9</td>\n",
       "      <td>3.9</td>\n",
       "      <td>19.891243</td>\n",
       "    </tr>\n",
       "    <tr>\n",
       "      <th>10</th>\n",
       "      <td>27</td>\n",
       "      <td>3.9</td>\n",
       "      <td>49.007935</td>\n",
       "    </tr>\n",
       "    <tr>\n",
       "      <th>10</th>\n",
       "      <td>7</td>\n",
       "      <td>3.9</td>\n",
       "      <td>16.656055</td>\n",
       "    </tr>\n",
       "    <tr>\n",
       "      <th>10</th>\n",
       "      <td>24</td>\n",
       "      <td>3.9</td>\n",
       "      <td>44.155153</td>\n",
       "    </tr>\n",
       "  </tbody>\n",
       "</table>\n",
       "<p>358 rows × 3 columns</p>\n",
       "</div>"
      ],
      "text/plain": [
       "        horas  texp  predict.fixed\n",
       "escola                            \n",
       "1          11   3.6      21.885819\n",
       "1          23   3.6      40.462363\n",
       "1          25   3.6      43.558453\n",
       "1          14   3.6      26.529955\n",
       "1          24   3.6      42.010408\n",
       "...       ...   ...            ...\n",
       "10         28   3.9      50.625529\n",
       "10          9   3.9      19.891243\n",
       "10         27   3.9      49.007935\n",
       "10          7   3.9      16.656055\n",
       "10         24   3.9      44.155153\n",
       "\n",
       "[358 rows x 3 columns]"
      ]
     },
     "execution_count": 1285,
     "metadata": {},
     "output_type": "execute_result"
    }
   ],
   "source": [
    "dados_final = x_prev.set_index('escola')\n",
    "dados_final"
   ]
  },
  {
   "cell_type": "code",
   "execution_count": 1286,
   "metadata": {},
   "outputs": [
    {
     "data": {
      "text/html": [
       "<div>\n",
       "<style scoped>\n",
       "    .dataframe tbody tr th:only-of-type {\n",
       "        vertical-align: middle;\n",
       "    }\n",
       "\n",
       "    .dataframe tbody tr th {\n",
       "        vertical-align: top;\n",
       "    }\n",
       "\n",
       "    .dataframe thead th {\n",
       "        text-align: right;\n",
       "    }\n",
       "</style>\n",
       "<table border=\"1\" class=\"dataframe\">\n",
       "  <thead>\n",
       "    <tr style=\"text-align: right;\">\n",
       "      <th></th>\n",
       "      <th>horas</th>\n",
       "      <th>texp</th>\n",
       "      <th>predict.fixed</th>\n",
       "      <th>Intercepto</th>\n",
       "      <th>Inclinaçao</th>\n",
       "    </tr>\n",
       "    <tr>\n",
       "      <th>escola</th>\n",
       "      <th></th>\n",
       "      <th></th>\n",
       "      <th></th>\n",
       "      <th></th>\n",
       "      <th></th>\n",
       "    </tr>\n",
       "  </thead>\n",
       "  <tbody>\n",
       "    <tr>\n",
       "      <th>1</th>\n",
       "      <td>11</td>\n",
       "      <td>3.6</td>\n",
       "      <td>21.885819</td>\n",
       "      <td>-0.211364</td>\n",
       "      <td>0.438811</td>\n",
       "    </tr>\n",
       "    <tr>\n",
       "      <th>1</th>\n",
       "      <td>23</td>\n",
       "      <td>3.6</td>\n",
       "      <td>40.462363</td>\n",
       "      <td>-0.211364</td>\n",
       "      <td>0.438811</td>\n",
       "    </tr>\n",
       "    <tr>\n",
       "      <th>1</th>\n",
       "      <td>25</td>\n",
       "      <td>3.6</td>\n",
       "      <td>43.558453</td>\n",
       "      <td>-0.211364</td>\n",
       "      <td>0.438811</td>\n",
       "    </tr>\n",
       "    <tr>\n",
       "      <th>1</th>\n",
       "      <td>14</td>\n",
       "      <td>3.6</td>\n",
       "      <td>26.529955</td>\n",
       "      <td>-0.211364</td>\n",
       "      <td>0.438811</td>\n",
       "    </tr>\n",
       "    <tr>\n",
       "      <th>1</th>\n",
       "      <td>24</td>\n",
       "      <td>3.6</td>\n",
       "      <td>42.010408</td>\n",
       "      <td>-0.211364</td>\n",
       "      <td>0.438811</td>\n",
       "    </tr>\n",
       "    <tr>\n",
       "      <th>...</th>\n",
       "      <td>...</td>\n",
       "      <td>...</td>\n",
       "      <td>...</td>\n",
       "      <td>...</td>\n",
       "      <td>...</td>\n",
       "    </tr>\n",
       "    <tr>\n",
       "      <th>10</th>\n",
       "      <td>28</td>\n",
       "      <td>3.9</td>\n",
       "      <td>50.625529</td>\n",
       "      <td>1.834358</td>\n",
       "      <td>-0.216522</td>\n",
       "    </tr>\n",
       "    <tr>\n",
       "      <th>10</th>\n",
       "      <td>9</td>\n",
       "      <td>3.9</td>\n",
       "      <td>19.891243</td>\n",
       "      <td>1.834358</td>\n",
       "      <td>-0.216522</td>\n",
       "    </tr>\n",
       "    <tr>\n",
       "      <th>10</th>\n",
       "      <td>27</td>\n",
       "      <td>3.9</td>\n",
       "      <td>49.007935</td>\n",
       "      <td>1.834358</td>\n",
       "      <td>-0.216522</td>\n",
       "    </tr>\n",
       "    <tr>\n",
       "      <th>10</th>\n",
       "      <td>7</td>\n",
       "      <td>3.9</td>\n",
       "      <td>16.656055</td>\n",
       "      <td>1.834358</td>\n",
       "      <td>-0.216522</td>\n",
       "    </tr>\n",
       "    <tr>\n",
       "      <th>10</th>\n",
       "      <td>24</td>\n",
       "      <td>3.9</td>\n",
       "      <td>44.155153</td>\n",
       "      <td>1.834358</td>\n",
       "      <td>-0.216522</td>\n",
       "    </tr>\n",
       "  </tbody>\n",
       "</table>\n",
       "<p>358 rows × 5 columns</p>\n",
       "</div>"
      ],
      "text/plain": [
       "        horas  texp  predict.fixed  Intercepto  Inclinaçao\n",
       "escola                                                    \n",
       "1          11   3.6      21.885819   -0.211364    0.438811\n",
       "1          23   3.6      40.462363   -0.211364    0.438811\n",
       "1          25   3.6      43.558453   -0.211364    0.438811\n",
       "1          14   3.6      26.529955   -0.211364    0.438811\n",
       "1          24   3.6      42.010408   -0.211364    0.438811\n",
       "...       ...   ...            ...         ...         ...\n",
       "10         28   3.9      50.625529    1.834358   -0.216522\n",
       "10          9   3.9      19.891243    1.834358   -0.216522\n",
       "10         27   3.9      49.007935    1.834358   -0.216522\n",
       "10          7   3.9      16.656055    1.834358   -0.216522\n",
       "10         24   3.9      44.155153    1.834358   -0.216522\n",
       "\n",
       "[358 rows x 5 columns]"
      ]
     },
     "execution_count": 1286,
     "metadata": {},
     "output_type": "execute_result"
    }
   ],
   "source": [
    "dados_final['Intercepto'] = int_incli.escola\n",
    "dados_final['Inclinaçao'] = int_incli.horas\n",
    "dados_final"
   ]
  },
  {
   "cell_type": "markdown",
   "metadata": {},
   "source": [
    "# Previsão com os efeitos fixos"
   ]
  },
  {
   "cell_type": "code",
   "execution_count": 1287,
   "metadata": {},
   "outputs": [
    {
     "data": {
      "text/html": [
       "<div>\n",
       "<style scoped>\n",
       "    .dataframe tbody tr th:only-of-type {\n",
       "        vertical-align: middle;\n",
       "    }\n",
       "\n",
       "    .dataframe tbody tr th {\n",
       "        vertical-align: top;\n",
       "    }\n",
       "\n",
       "    .dataframe thead th {\n",
       "        text-align: right;\n",
       "    }\n",
       "</style>\n",
       "<table border=\"1\" class=\"dataframe\">\n",
       "  <thead>\n",
       "    <tr style=\"text-align: right;\">\n",
       "      <th></th>\n",
       "      <th>escola</th>\n",
       "      <th>horas</th>\n",
       "      <th>texp</th>\n",
       "      <th>predict.fixed</th>\n",
       "    </tr>\n",
       "  </thead>\n",
       "  <tbody>\n",
       "    <tr>\n",
       "      <th>0</th>\n",
       "      <td>1</td>\n",
       "      <td>11</td>\n",
       "      <td>3.6</td>\n",
       "      <td>21.885819</td>\n",
       "    </tr>\n",
       "    <tr>\n",
       "      <th>1</th>\n",
       "      <td>1</td>\n",
       "      <td>23</td>\n",
       "      <td>3.6</td>\n",
       "      <td>40.462363</td>\n",
       "    </tr>\n",
       "    <tr>\n",
       "      <th>2</th>\n",
       "      <td>1</td>\n",
       "      <td>25</td>\n",
       "      <td>3.6</td>\n",
       "      <td>43.558453</td>\n",
       "    </tr>\n",
       "    <tr>\n",
       "      <th>3</th>\n",
       "      <td>1</td>\n",
       "      <td>14</td>\n",
       "      <td>3.6</td>\n",
       "      <td>26.529955</td>\n",
       "    </tr>\n",
       "    <tr>\n",
       "      <th>4</th>\n",
       "      <td>1</td>\n",
       "      <td>24</td>\n",
       "      <td>3.6</td>\n",
       "      <td>42.010408</td>\n",
       "    </tr>\n",
       "    <tr>\n",
       "      <th>...</th>\n",
       "      <td>...</td>\n",
       "      <td>...</td>\n",
       "      <td>...</td>\n",
       "      <td>...</td>\n",
       "    </tr>\n",
       "    <tr>\n",
       "      <th>353</th>\n",
       "      <td>10</td>\n",
       "      <td>28</td>\n",
       "      <td>3.9</td>\n",
       "      <td>50.625529</td>\n",
       "    </tr>\n",
       "    <tr>\n",
       "      <th>354</th>\n",
       "      <td>10</td>\n",
       "      <td>9</td>\n",
       "      <td>3.9</td>\n",
       "      <td>19.891243</td>\n",
       "    </tr>\n",
       "    <tr>\n",
       "      <th>355</th>\n",
       "      <td>10</td>\n",
       "      <td>27</td>\n",
       "      <td>3.9</td>\n",
       "      <td>49.007935</td>\n",
       "    </tr>\n",
       "    <tr>\n",
       "      <th>356</th>\n",
       "      <td>10</td>\n",
       "      <td>7</td>\n",
       "      <td>3.9</td>\n",
       "      <td>16.656055</td>\n",
       "    </tr>\n",
       "    <tr>\n",
       "      <th>357</th>\n",
       "      <td>10</td>\n",
       "      <td>24</td>\n",
       "      <td>3.9</td>\n",
       "      <td>44.155153</td>\n",
       "    </tr>\n",
       "  </tbody>\n",
       "</table>\n",
       "<p>358 rows × 4 columns</p>\n",
       "</div>"
      ],
      "text/plain": [
       "     escola  horas  texp  predict.fixed\n",
       "0         1     11   3.6      21.885819\n",
       "1         1     23   3.6      40.462363\n",
       "2         1     25   3.6      43.558453\n",
       "3         1     14   3.6      26.529955\n",
       "4         1     24   3.6      42.010408\n",
       "..      ...    ...   ...            ...\n",
       "353      10     28   3.9      50.625529\n",
       "354      10      9   3.9      19.891243\n",
       "355      10     27   3.9      49.007935\n",
       "356      10      7   3.9      16.656055\n",
       "357      10     24   3.9      44.155153\n",
       "\n",
       "[358 rows x 4 columns]"
      ]
     },
     "execution_count": 1287,
     "metadata": {},
     "output_type": "execute_result"
    }
   ],
   "source": [
    "x_prev['predict.fixed'] = mdf3.predict(exog=x_prev)\n",
    "x_prev = x_prev.iloc[:,0:4];x_prev"
   ]
  },
  {
   "cell_type": "code",
   "execution_count": 1288,
   "metadata": {},
   "outputs": [],
   "source": [
    "# Previsao com os Efeitos Fixos + Efeitos Aleatorios Escola de cada aluno"
   ]
  },
  {
   "cell_type": "code",
   "execution_count": 1289,
   "metadata": {},
   "outputs": [
    {
     "data": {
      "text/html": [
       "<div>\n",
       "<style scoped>\n",
       "    .dataframe tbody tr th:only-of-type {\n",
       "        vertical-align: middle;\n",
       "    }\n",
       "\n",
       "    .dataframe tbody tr th {\n",
       "        vertical-align: top;\n",
       "    }\n",
       "\n",
       "    .dataframe thead th {\n",
       "        text-align: right;\n",
       "    }\n",
       "</style>\n",
       "<table border=\"1\" class=\"dataframe\">\n",
       "  <thead>\n",
       "    <tr style=\"text-align: right;\">\n",
       "      <th></th>\n",
       "      <th>escola</th>\n",
       "      <th>horas</th>\n",
       "      <th>texp</th>\n",
       "      <th>predict.fixed</th>\n",
       "      <th>Intercepto</th>\n",
       "      <th>Inclinaçao</th>\n",
       "      <th>predict.aleat</th>\n",
       "      <th>Desempenho</th>\n",
       "    </tr>\n",
       "  </thead>\n",
       "  <tbody>\n",
       "    <tr>\n",
       "      <th>0</th>\n",
       "      <td>1</td>\n",
       "      <td>11</td>\n",
       "      <td>3.6</td>\n",
       "      <td>21.885819</td>\n",
       "      <td>-0.211364</td>\n",
       "      <td>0.438811</td>\n",
       "      <td>26.501371</td>\n",
       "      <td>25.0</td>\n",
       "    </tr>\n",
       "    <tr>\n",
       "      <th>1</th>\n",
       "      <td>1</td>\n",
       "      <td>23</td>\n",
       "      <td>3.6</td>\n",
       "      <td>40.462363</td>\n",
       "      <td>-0.211364</td>\n",
       "      <td>0.438811</td>\n",
       "      <td>50.343641</td>\n",
       "      <td>52.0</td>\n",
       "    </tr>\n",
       "    <tr>\n",
       "      <th>2</th>\n",
       "      <td>1</td>\n",
       "      <td>25</td>\n",
       "      <td>3.6</td>\n",
       "      <td>43.558453</td>\n",
       "      <td>-0.211364</td>\n",
       "      <td>0.438811</td>\n",
       "      <td>54.317353</td>\n",
       "      <td>52.0</td>\n",
       "    </tr>\n",
       "    <tr>\n",
       "      <th>3</th>\n",
       "      <td>1</td>\n",
       "      <td>14</td>\n",
       "      <td>3.6</td>\n",
       "      <td>26.529955</td>\n",
       "      <td>-0.211364</td>\n",
       "      <td>0.438811</td>\n",
       "      <td>32.461938</td>\n",
       "      <td>30.0</td>\n",
       "    </tr>\n",
       "    <tr>\n",
       "      <th>4</th>\n",
       "      <td>1</td>\n",
       "      <td>24</td>\n",
       "      <td>3.6</td>\n",
       "      <td>42.010408</td>\n",
       "      <td>-0.211364</td>\n",
       "      <td>0.438811</td>\n",
       "      <td>52.330497</td>\n",
       "      <td>51.0</td>\n",
       "    </tr>\n",
       "    <tr>\n",
       "      <th>...</th>\n",
       "      <td>...</td>\n",
       "      <td>...</td>\n",
       "      <td>...</td>\n",
       "      <td>...</td>\n",
       "      <td>...</td>\n",
       "      <td>...</td>\n",
       "      <td>...</td>\n",
       "      <td>...</td>\n",
       "    </tr>\n",
       "    <tr>\n",
       "      <th>353</th>\n",
       "      <td>10</td>\n",
       "      <td>28</td>\n",
       "      <td>3.9</td>\n",
       "      <td>50.625529</td>\n",
       "      <td>1.834358</td>\n",
       "      <td>-0.216522</td>\n",
       "      <td>46.397262</td>\n",
       "      <td>46.5</td>\n",
       "    </tr>\n",
       "    <tr>\n",
       "      <th>354</th>\n",
       "      <td>10</td>\n",
       "      <td>9</td>\n",
       "      <td>3.9</td>\n",
       "      <td>19.891243</td>\n",
       "      <td>1.834358</td>\n",
       "      <td>-0.216522</td>\n",
       "      <td>19.776900</td>\n",
       "      <td>21.0</td>\n",
       "    </tr>\n",
       "    <tr>\n",
       "      <th>355</th>\n",
       "      <td>10</td>\n",
       "      <td>27</td>\n",
       "      <td>3.9</td>\n",
       "      <td>49.007935</td>\n",
       "      <td>1.834358</td>\n",
       "      <td>-0.216522</td>\n",
       "      <td>44.996191</td>\n",
       "      <td>42.0</td>\n",
       "    </tr>\n",
       "    <tr>\n",
       "      <th>356</th>\n",
       "      <td>10</td>\n",
       "      <td>7</td>\n",
       "      <td>3.9</td>\n",
       "      <td>16.656055</td>\n",
       "      <td>1.834358</td>\n",
       "      <td>-0.216522</td>\n",
       "      <td>16.974757</td>\n",
       "      <td>14.0</td>\n",
       "    </tr>\n",
       "    <tr>\n",
       "      <th>357</th>\n",
       "      <td>10</td>\n",
       "      <td>24</td>\n",
       "      <td>3.9</td>\n",
       "      <td>44.155153</td>\n",
       "      <td>1.834358</td>\n",
       "      <td>-0.216522</td>\n",
       "      <td>40.792976</td>\n",
       "      <td>41.5</td>\n",
       "    </tr>\n",
       "  </tbody>\n",
       "</table>\n",
       "<p>358 rows × 8 columns</p>\n",
       "</div>"
      ],
      "text/plain": [
       "     escola  horas  texp  predict.fixed  Intercepto  Inclinaçao  \\\n",
       "0         1     11   3.6      21.885819   -0.211364    0.438811   \n",
       "1         1     23   3.6      40.462363   -0.211364    0.438811   \n",
       "2         1     25   3.6      43.558453   -0.211364    0.438811   \n",
       "3         1     14   3.6      26.529955   -0.211364    0.438811   \n",
       "4         1     24   3.6      42.010408   -0.211364    0.438811   \n",
       "..      ...    ...   ...            ...         ...         ...   \n",
       "353      10     28   3.9      50.625529    1.834358   -0.216522   \n",
       "354      10      9   3.9      19.891243    1.834358   -0.216522   \n",
       "355      10     27   3.9      49.007935    1.834358   -0.216522   \n",
       "356      10      7   3.9      16.656055    1.834358   -0.216522   \n",
       "357      10     24   3.9      44.155153    1.834358   -0.216522   \n",
       "\n",
       "     predict.aleat  Desempenho  \n",
       "0        26.501371        25.0  \n",
       "1        50.343641        52.0  \n",
       "2        54.317353        52.0  \n",
       "3        32.461938        30.0  \n",
       "4        52.330497        51.0  \n",
       "..             ...         ...  \n",
       "353      46.397262        46.5  \n",
       "354      19.776900        21.0  \n",
       "355      44.996191        42.0  \n",
       "356      16.974757        14.0  \n",
       "357      40.792976        41.5  \n",
       "\n",
       "[358 rows x 8 columns]"
      ]
     },
     "execution_count": 1289,
     "metadata": {},
     "output_type": "execute_result"
    }
   ],
   "source": [
    "dados_final['predict.aleat'] = dados_final['predict.fixed']+dados_final['Intercepto']+dados_final['Inclinaçao']*dados_final['horas']\n",
    "dados_final = dados_final.reset_index()\n",
    "dados_final['Desempenho']=dados.desempenho\n",
    "dados_final"
   ]
  },
  {
   "cell_type": "markdown",
   "metadata": {},
   "source": [
    "## Somente as veriaveis Targets por escola"
   ]
  },
  {
   "cell_type": "code",
   "execution_count": 1290,
   "metadata": {},
   "outputs": [
    {
     "data": {
      "text/html": [
       "<div>\n",
       "<style scoped>\n",
       "    .dataframe tbody tr th:only-of-type {\n",
       "        vertical-align: middle;\n",
       "    }\n",
       "\n",
       "    .dataframe tbody tr th {\n",
       "        vertical-align: top;\n",
       "    }\n",
       "\n",
       "    .dataframe thead th {\n",
       "        text-align: right;\n",
       "    }\n",
       "</style>\n",
       "<table border=\"1\" class=\"dataframe\">\n",
       "  <thead>\n",
       "    <tr style=\"text-align: right;\">\n",
       "      <th></th>\n",
       "      <th>escola</th>\n",
       "      <th>Desempenho</th>\n",
       "      <th>predict.fixed</th>\n",
       "      <th>predict.aleat</th>\n",
       "    </tr>\n",
       "  </thead>\n",
       "  <tbody>\n",
       "    <tr>\n",
       "      <th>0</th>\n",
       "      <td>1</td>\n",
       "      <td>25.0</td>\n",
       "      <td>21.885819</td>\n",
       "      <td>26.501371</td>\n",
       "    </tr>\n",
       "    <tr>\n",
       "      <th>1</th>\n",
       "      <td>1</td>\n",
       "      <td>52.0</td>\n",
       "      <td>40.462363</td>\n",
       "      <td>50.343641</td>\n",
       "    </tr>\n",
       "    <tr>\n",
       "      <th>2</th>\n",
       "      <td>1</td>\n",
       "      <td>52.0</td>\n",
       "      <td>43.558453</td>\n",
       "      <td>54.317353</td>\n",
       "    </tr>\n",
       "    <tr>\n",
       "      <th>3</th>\n",
       "      <td>1</td>\n",
       "      <td>30.0</td>\n",
       "      <td>26.529955</td>\n",
       "      <td>32.461938</td>\n",
       "    </tr>\n",
       "    <tr>\n",
       "      <th>4</th>\n",
       "      <td>1</td>\n",
       "      <td>51.0</td>\n",
       "      <td>42.010408</td>\n",
       "      <td>52.330497</td>\n",
       "    </tr>\n",
       "    <tr>\n",
       "      <th>...</th>\n",
       "      <td>...</td>\n",
       "      <td>...</td>\n",
       "      <td>...</td>\n",
       "      <td>...</td>\n",
       "    </tr>\n",
       "    <tr>\n",
       "      <th>353</th>\n",
       "      <td>10</td>\n",
       "      <td>46.5</td>\n",
       "      <td>50.625529</td>\n",
       "      <td>46.397262</td>\n",
       "    </tr>\n",
       "    <tr>\n",
       "      <th>354</th>\n",
       "      <td>10</td>\n",
       "      <td>21.0</td>\n",
       "      <td>19.891243</td>\n",
       "      <td>19.776900</td>\n",
       "    </tr>\n",
       "    <tr>\n",
       "      <th>355</th>\n",
       "      <td>10</td>\n",
       "      <td>42.0</td>\n",
       "      <td>49.007935</td>\n",
       "      <td>44.996191</td>\n",
       "    </tr>\n",
       "    <tr>\n",
       "      <th>356</th>\n",
       "      <td>10</td>\n",
       "      <td>14.0</td>\n",
       "      <td>16.656055</td>\n",
       "      <td>16.974757</td>\n",
       "    </tr>\n",
       "    <tr>\n",
       "      <th>357</th>\n",
       "      <td>10</td>\n",
       "      <td>41.5</td>\n",
       "      <td>44.155153</td>\n",
       "      <td>40.792976</td>\n",
       "    </tr>\n",
       "  </tbody>\n",
       "</table>\n",
       "<p>358 rows × 4 columns</p>\n",
       "</div>"
      ],
      "text/plain": [
       "     escola  Desempenho  predict.fixed  predict.aleat\n",
       "0         1        25.0      21.885819      26.501371\n",
       "1         1        52.0      40.462363      50.343641\n",
       "2         1        52.0      43.558453      54.317353\n",
       "3         1        30.0      26.529955      32.461938\n",
       "4         1        51.0      42.010408      52.330497\n",
       "..      ...         ...            ...            ...\n",
       "353      10        46.5      50.625529      46.397262\n",
       "354      10        21.0      19.891243      19.776900\n",
       "355      10        42.0      49.007935      44.996191\n",
       "356      10        14.0      16.656055      16.974757\n",
       "357      10        41.5      44.155153      40.792976\n",
       "\n",
       "[358 rows x 4 columns]"
      ]
     },
     "execution_count": 1290,
     "metadata": {},
     "output_type": "execute_result"
    }
   ],
   "source": [
    "target = dados_final[['escola','Desempenho','predict.fixed','predict.aleat']]\n",
    "target"
   ]
  },
  {
   "cell_type": "markdown",
   "metadata": {},
   "source": [
    "## Previsão sem o uso do algoritimo "
   ]
  },
  {
   "cell_type": "markdown",
   "metadata": {},
   "source": [
    "### Prever linha 0"
   ]
  },
  {
   "cell_type": "code",
   "execution_count": 1291,
   "metadata": {},
   "outputs": [
    {
     "data": {
      "text/html": [
       "<div>\n",
       "<style scoped>\n",
       "    .dataframe tbody tr th:only-of-type {\n",
       "        vertical-align: middle;\n",
       "    }\n",
       "\n",
       "    .dataframe tbody tr th {\n",
       "        vertical-align: top;\n",
       "    }\n",
       "\n",
       "    .dataframe thead th {\n",
       "        text-align: right;\n",
       "    }\n",
       "</style>\n",
       "<table border=\"1\" class=\"dataframe\">\n",
       "  <thead>\n",
       "    <tr style=\"text-align: right;\">\n",
       "      <th></th>\n",
       "      <th>escola</th>\n",
       "      <th>horas</th>\n",
       "      <th>texp</th>\n",
       "    </tr>\n",
       "  </thead>\n",
       "  <tbody>\n",
       "    <tr>\n",
       "      <th>0</th>\n",
       "      <td>1</td>\n",
       "      <td>11</td>\n",
       "      <td>3.6</td>\n",
       "    </tr>\n",
       "  </tbody>\n",
       "</table>\n",
       "</div>"
      ],
      "text/plain": [
       "   escola  horas  texp\n",
       "0       1     11   3.6"
      ]
     },
     "execution_count": 1291,
     "metadata": {},
     "output_type": "execute_result"
    }
   ],
   "source": [
    "linha_zero = dados[['escola','horas','texp']]\n",
    "linha_zero.head(1)\n"
   ]
  },
  {
   "cell_type": "markdown",
   "metadata": {},
   "source": [
    "### Parametros Efeitos Fixos"
   ]
  },
  {
   "cell_type": "code",
   "execution_count": 1292,
   "metadata": {},
   "outputs": [
    {
     "data": {
      "text/html": [
       "<div>\n",
       "<style scoped>\n",
       "    .dataframe tbody tr th:only-of-type {\n",
       "        vertical-align: middle;\n",
       "    }\n",
       "\n",
       "    .dataframe tbody tr th {\n",
       "        vertical-align: top;\n",
       "    }\n",
       "\n",
       "    .dataframe thead th {\n",
       "        text-align: right;\n",
       "    }\n",
       "</style>\n",
       "<table border=\"1\" class=\"dataframe\">\n",
       "  <thead>\n",
       "    <tr style=\"text-align: right;\">\n",
       "      <th></th>\n",
       "      <th>Parametros_fixos</th>\n",
       "    </tr>\n",
       "  </thead>\n",
       "  <tbody>\n",
       "    <tr>\n",
       "      <th>Intercept</th>\n",
       "      <td>-0.849603</td>\n",
       "    </tr>\n",
       "    <tr>\n",
       "      <th>horas</th>\n",
       "      <td>0.713461</td>\n",
       "    </tr>\n",
       "    <tr>\n",
       "      <th>texp</th>\n",
       "      <td>1.585256</td>\n",
       "    </tr>\n",
       "    <tr>\n",
       "      <th>texp:horas</th>\n",
       "      <td>0.231829</td>\n",
       "    </tr>\n",
       "    <tr>\n",
       "      <th>escola Var</th>\n",
       "      <td>3.456013</td>\n",
       "    </tr>\n",
       "    <tr>\n",
       "      <th>escola x horas Cov</th>\n",
       "      <td>-0.334105</td>\n",
       "    </tr>\n",
       "    <tr>\n",
       "      <th>horas Var</th>\n",
       "      <td>0.043337</td>\n",
       "    </tr>\n",
       "  </tbody>\n",
       "</table>\n",
       "</div>"
      ],
      "text/plain": [
       "                    Parametros_fixos\n",
       "Intercept                  -0.849603\n",
       "horas                       0.713461\n",
       "texp                        1.585256\n",
       "texp:horas                  0.231829\n",
       "escola Var                  3.456013\n",
       "escola x horas Cov         -0.334105\n",
       "horas Var                   0.043337"
      ]
     },
     "execution_count": 1292,
     "metadata": {},
     "output_type": "execute_result"
    }
   ],
   "source": [
    "parm_fixed =pd.DataFrame(mdf3.params,columns=['Parametros_fixos'])\n",
    "parm_fixed"
   ]
  },
  {
   "cell_type": "code",
   "execution_count": 1293,
   "metadata": {},
   "outputs": [
    {
     "name": "stdout",
     "output_type": "stream",
     "text": [
      "horas_fixed: 0.7134611038732946\n",
      "texp_fixed: 1.5852563538778488\n",
      "texp_horas_fixed 0.2318289476392338\n"
     ]
    }
   ],
   "source": [
    "#Atribuindo os parametros nas variaveis\n",
    "intercepto_fixed = mdf3.params.Intercept\n",
    "horas_fixed = mdf3.params.horas\n",
    "texp_fixed = mdf3.params.texp\n",
    "texp_horas_fixed = mdf3.params[3]\n",
    "\n",
    "print(f'horas_fixed: {horas_fixed}')\n",
    "print(f'texp_fixed: {texp_fixed}')\n",
    "print(f'texp_horas_fixed {texp_horas_fixed}')"
   ]
  },
  {
   "cell_type": "markdown",
   "metadata": {},
   "source": [
    "## Previsão: Parametros Fixos"
   ]
  },
  {
   "cell_type": "code",
   "execution_count": 1294,
   "metadata": {},
   "outputs": [
    {
     "data": {
      "text/plain": [
       "21.885818777437756"
      ]
     },
     "execution_count": 1294,
     "metadata": {},
     "output_type": "execute_result"
    }
   ],
   "source": [
    "#Variaveis Preditoras\n",
    "escola = 1.0\n",
    "horas = 11.0\n",
    "texp = 3.6\n",
    "\n",
    "#Previsão Parametros Fixos\n",
    "fixed = intercepto_fixed + horas_fixed*horas + texp_fixed*texp + texp_horas_fixed*(texp*horas)\n",
    "fixed"
   ]
  },
  {
   "cell_type": "markdown",
   "metadata": {},
   "source": [
    "## Previsão: Parametros Fixos + Aleatorios"
   ]
  },
  {
   "cell_type": "markdown",
   "metadata": {},
   "source": [
    "### Parametros Efeitos Aleatorios"
   ]
  },
  {
   "cell_type": "code",
   "execution_count": 1295,
   "metadata": {},
   "outputs": [
    {
     "data": {
      "text/html": [
       "<div>\n",
       "<style scoped>\n",
       "    .dataframe tbody tr th:only-of-type {\n",
       "        vertical-align: middle;\n",
       "    }\n",
       "\n",
       "    .dataframe tbody tr th {\n",
       "        vertical-align: top;\n",
       "    }\n",
       "\n",
       "    .dataframe thead th {\n",
       "        text-align: right;\n",
       "    }\n",
       "</style>\n",
       "<table border=\"1\" class=\"dataframe\">\n",
       "  <thead>\n",
       "    <tr style=\"text-align: right;\">\n",
       "      <th></th>\n",
       "      <th>escola</th>\n",
       "      <th>horas</th>\n",
       "    </tr>\n",
       "  </thead>\n",
       "  <tbody>\n",
       "    <tr>\n",
       "      <th>1</th>\n",
       "      <td>-0.211364</td>\n",
       "      <td>0.438811</td>\n",
       "    </tr>\n",
       "  </tbody>\n",
       "</table>\n",
       "</div>"
      ],
      "text/plain": [
       "     escola     horas\n",
       "1 -0.211364  0.438811"
      ]
     },
     "execution_count": 1295,
     "metadata": {},
     "output_type": "execute_result"
    }
   ],
   "source": [
    "int_incli = pd.DataFrame(mdf3.random_effects).T\n",
    "int_incli.head(1)"
   ]
  },
  {
   "cell_type": "code",
   "execution_count": 1296,
   "metadata": {},
   "outputs": [
    {
     "name": "stdout",
     "output_type": "stream",
     "text": [
      "intercepto_alet: -0.21136442177602\n",
      "inclinacao_alet: 0.4388105800486315\n"
     ]
    }
   ],
   "source": [
    "#Atribuindo os parametros nas variaveis\n",
    "intercepto_alet = int_incli.iloc[0,0]\n",
    "inclinacao_alet = int_incli.iloc[0,1]\n",
    "\n",
    "print(f'intercepto_alet: {intercepto_alet}')\n",
    "print(f'inclinacao_alet: {inclinacao_alet}')\n"
   ]
  },
  {
   "cell_type": "code",
   "execution_count": 1297,
   "metadata": {},
   "outputs": [
    {
     "data": {
      "text/plain": [
       "26.501370736196684"
      ]
     },
     "execution_count": 1297,
     "metadata": {},
     "output_type": "execute_result"
    }
   ],
   "source": [
    "#Variaveis Preditoras\n",
    "horas = 11.0\n",
    "\n",
    "#Previsão\n",
    "fixed_alet = fixed + intercepto_alet + inclinacao_alet*horas\n",
    "fixed_alet"
   ]
  },
  {
   "cell_type": "markdown",
   "metadata": {},
   "source": [
    "# Comparar as Predições com os Efeitos Fixos e Efeitos Fixos + Aleatorios"
   ]
  },
  {
   "cell_type": "code",
   "execution_count": 1298,
   "metadata": {},
   "outputs": [
    {
     "data": {
      "image/png": "[encoded data removed]",
      "text/plain": [
       "<Figure size 432x288 with 1 Axes>"
      ]
     },
     "metadata": {},
     "output_type": "display_data"
    }
   ],
   "source": [
    "plt.scatter(target.Desempenho,target['predict.fixed']);\n",
    "plt.scatter(target.Desempenho,target['predict.aleat']);\n",
    "plt.xlabel('Desempenho');\n",
    "plt.ylabel('fixed e fixed_aleat');\n",
    "\n"
   ]
  },
  {
   "cell_type": "markdown",
   "metadata": {},
   "source": [
    "**Note que as variaveis de efeitos fixos + Aleatorios se ajustão bem mais dos que somente as variaveis de efeitos fixos**"
   ]
  },
  {
   "cell_type": "markdown",
   "metadata": {},
   "source": [
    "# COMPARAÇÃO COM UM MODELO OLS COM DUMMIES "
   ]
  },
  {
   "cell_type": "code",
   "execution_count": 1299,
   "metadata": {},
   "outputs": [
    {
     "data": {
      "text/html": [
       "<div>\n",
       "<style scoped>\n",
       "    .dataframe tbody tr th:only-of-type {\n",
       "        vertical-align: middle;\n",
       "    }\n",
       "\n",
       "    .dataframe tbody tr th {\n",
       "        vertical-align: top;\n",
       "    }\n",
       "\n",
       "    .dataframe thead th {\n",
       "        text-align: right;\n",
       "    }\n",
       "</style>\n",
       "<table border=\"1\" class=\"dataframe\">\n",
       "  <thead>\n",
       "    <tr style=\"text-align: right;\">\n",
       "      <th></th>\n",
       "      <th>2</th>\n",
       "      <th>3</th>\n",
       "      <th>4</th>\n",
       "      <th>5</th>\n",
       "      <th>6</th>\n",
       "      <th>7</th>\n",
       "      <th>8</th>\n",
       "      <th>9</th>\n",
       "      <th>10</th>\n",
       "    </tr>\n",
       "  </thead>\n",
       "  <tbody>\n",
       "    <tr>\n",
       "      <th>0</th>\n",
       "      <td>0</td>\n",
       "      <td>0</td>\n",
       "      <td>0</td>\n",
       "      <td>0</td>\n",
       "      <td>0</td>\n",
       "      <td>0</td>\n",
       "      <td>0</td>\n",
       "      <td>0</td>\n",
       "      <td>0</td>\n",
       "    </tr>\n",
       "    <tr>\n",
       "      <th>1</th>\n",
       "      <td>0</td>\n",
       "      <td>0</td>\n",
       "      <td>0</td>\n",
       "      <td>0</td>\n",
       "      <td>0</td>\n",
       "      <td>0</td>\n",
       "      <td>0</td>\n",
       "      <td>0</td>\n",
       "      <td>0</td>\n",
       "    </tr>\n",
       "    <tr>\n",
       "      <th>2</th>\n",
       "      <td>0</td>\n",
       "      <td>0</td>\n",
       "      <td>0</td>\n",
       "      <td>0</td>\n",
       "      <td>0</td>\n",
       "      <td>0</td>\n",
       "      <td>0</td>\n",
       "      <td>0</td>\n",
       "      <td>0</td>\n",
       "    </tr>\n",
       "  </tbody>\n",
       "</table>\n",
       "</div>"
      ],
      "text/plain": [
       "   2   3   4   5   6   7   8   9   10\n",
       "0   0   0   0   0   0   0   0   0   0\n",
       "1   0   0   0   0   0   0   0   0   0\n",
       "2   0   0   0   0   0   0   0   0   0"
      ]
     },
     "execution_count": 1299,
     "metadata": {},
     "output_type": "execute_result"
    }
   ],
   "source": [
    "Dummies = pd.get_dummies(dados['escola'])\n",
    "Dummies = Dummies.iloc[:,1:10]#Excluir a 1 variaveis para que ela seja referencia no modelo , e excluir a var 10 que nao tem diferença estatisticamente significante\n",
    "Dummies.head(3)# cada numero do titulo variavel represente o numero da escola "
   ]
  },
  {
   "cell_type": "code",
   "execution_count": 1300,
   "metadata": {},
   "outputs": [
    {
     "data": {
      "text/html": [
       "<div>\n",
       "<style scoped>\n",
       "    .dataframe tbody tr th:only-of-type {\n",
       "        vertical-align: middle;\n",
       "    }\n",
       "\n",
       "    .dataframe tbody tr th {\n",
       "        vertical-align: top;\n",
       "    }\n",
       "\n",
       "    .dataframe thead th {\n",
       "        text-align: right;\n",
       "    }\n",
       "</style>\n",
       "<table border=\"1\" class=\"dataframe\">\n",
       "  <thead>\n",
       "    <tr style=\"text-align: right;\">\n",
       "      <th></th>\n",
       "      <th>horas</th>\n",
       "      <th>texp</th>\n",
       "      <th>2</th>\n",
       "      <th>3</th>\n",
       "      <th>4</th>\n",
       "      <th>5</th>\n",
       "      <th>6</th>\n",
       "      <th>7</th>\n",
       "      <th>8</th>\n",
       "      <th>9</th>\n",
       "      <th>10</th>\n",
       "    </tr>\n",
       "  </thead>\n",
       "  <tbody>\n",
       "    <tr>\n",
       "      <th>0</th>\n",
       "      <td>11</td>\n",
       "      <td>3.6</td>\n",
       "      <td>0</td>\n",
       "      <td>0</td>\n",
       "      <td>0</td>\n",
       "      <td>0</td>\n",
       "      <td>0</td>\n",
       "      <td>0</td>\n",
       "      <td>0</td>\n",
       "      <td>0</td>\n",
       "      <td>0</td>\n",
       "    </tr>\n",
       "    <tr>\n",
       "      <th>1</th>\n",
       "      <td>23</td>\n",
       "      <td>3.6</td>\n",
       "      <td>0</td>\n",
       "      <td>0</td>\n",
       "      <td>0</td>\n",
       "      <td>0</td>\n",
       "      <td>0</td>\n",
       "      <td>0</td>\n",
       "      <td>0</td>\n",
       "      <td>0</td>\n",
       "      <td>0</td>\n",
       "    </tr>\n",
       "    <tr>\n",
       "      <th>2</th>\n",
       "      <td>25</td>\n",
       "      <td>3.6</td>\n",
       "      <td>0</td>\n",
       "      <td>0</td>\n",
       "      <td>0</td>\n",
       "      <td>0</td>\n",
       "      <td>0</td>\n",
       "      <td>0</td>\n",
       "      <td>0</td>\n",
       "      <td>0</td>\n",
       "      <td>0</td>\n",
       "    </tr>\n",
       "  </tbody>\n",
       "</table>\n",
       "</div>"
      ],
      "text/plain": [
       "   horas  texp  2  3  4  5  6  7  8  9  10\n",
       "0     11   3.6  0  0  0  0  0  0  0  0   0\n",
       "1     23   3.6  0  0  0  0  0  0  0  0   0\n",
       "2     25   3.6  0  0  0  0  0  0  0  0   0"
      ]
     },
     "execution_count": 1300,
     "metadata": {},
     "output_type": "execute_result"
    }
   ],
   "source": [
    "#Juntar as dataframes\n",
    "x1 = x[['horas','texp']]\n",
    "dados1 = x1.join(Dummies)\n",
    "dados1.head(3)"
   ]
  },
  {
   "cell_type": "code",
   "execution_count": 1301,
   "metadata": {},
   "outputs": [
    {
     "data": {
      "text/html": [
       "<table class=\"simpletable\">\n",
       "<caption>OLS Regression Results</caption>\n",
       "<tr>\n",
       "  <th>Dep. Variable:</th>            <td>y</td>        <th>  R-squared:         </th> <td>   0.943</td> \n",
       "</tr>\n",
       "<tr>\n",
       "  <th>Model:</th>                   <td>OLS</td>       <th>  Adj. R-squared:    </th> <td>   0.942</td> \n",
       "</tr>\n",
       "<tr>\n",
       "  <th>Method:</th>             <td>Least Squares</td>  <th>  F-statistic:       </th> <td>   575.7</td> \n",
       "</tr>\n",
       "<tr>\n",
       "  <th>Date:</th>             <td>Mon, 11 Oct 2021</td> <th>  Prob (F-statistic):</th> <td>2.81e-209</td>\n",
       "</tr>\n",
       "<tr>\n",
       "  <th>Time:</th>                 <td>15:36:03</td>     <th>  Log-Likelihood:    </th> <td> -1120.2</td> \n",
       "</tr>\n",
       "<tr>\n",
       "  <th>No. Observations:</th>      <td>   358</td>      <th>  AIC:               </th> <td>   2262.</td> \n",
       "</tr>\n",
       "<tr>\n",
       "  <th>Df Residuals:</th>          <td>   347</td>      <th>  BIC:               </th> <td>   2305.</td> \n",
       "</tr>\n",
       "<tr>\n",
       "  <th>Df Model:</th>              <td>    10</td>      <th>                     </th>     <td> </td>    \n",
       "</tr>\n",
       "<tr>\n",
       "  <th>Covariance Type:</th>      <td>nonrobust</td>    <th>                     </th>     <td> </td>    \n",
       "</tr>\n",
       "</table>\n",
       "<table class=\"simpletable\">\n",
       "<tr>\n",
       "    <td></td>       <th>coef</th>     <th>std err</th>      <th>t</th>      <th>P>|t|</th>  <th>[0.025</th>    <th>0.975]</th>  \n",
       "</tr>\n",
       "<tr>\n",
       "  <th>const</th> <td>  -11.0528</td> <td>    1.352</td> <td>   -8.175</td> <td> 0.000</td> <td>  -13.712</td> <td>   -8.394</td>\n",
       "</tr>\n",
       "<tr>\n",
       "  <th>horas</th> <td>    1.9713</td> <td>    0.056</td> <td>   35.063</td> <td> 0.000</td> <td>    1.861</td> <td>    2.082</td>\n",
       "</tr>\n",
       "<tr>\n",
       "  <th>texp</th>  <td>    4.4516</td> <td>    0.096</td> <td>   46.582</td> <td> 0.000</td> <td>    4.264</td> <td>    4.640</td>\n",
       "</tr>\n",
       "<tr>\n",
       "  <th>2</th>     <td>  -14.6664</td> <td>    1.452</td> <td>  -10.101</td> <td> 0.000</td> <td>  -17.522</td> <td>  -11.811</td>\n",
       "</tr>\n",
       "<tr>\n",
       "  <th>3</th>     <td>   -7.2914</td> <td>    0.685</td> <td>  -10.651</td> <td> 0.000</td> <td>   -8.638</td> <td>   -5.945</td>\n",
       "</tr>\n",
       "<tr>\n",
       "  <th>4</th>     <td>   -0.7854</td> <td>    1.443</td> <td>   -0.544</td> <td> 0.587</td> <td>   -3.624</td> <td>    2.053</td>\n",
       "</tr>\n",
       "<tr>\n",
       "  <th>5</th>     <td>  -14.8095</td> <td>    1.238</td> <td>  -11.967</td> <td> 0.000</td> <td>  -17.244</td> <td>  -12.375</td>\n",
       "</tr>\n",
       "<tr>\n",
       "  <th>6</th>     <td>   -3.3658</td> <td>    1.321</td> <td>   -2.548</td> <td> 0.011</td> <td>   -5.964</td> <td>   -0.768</td>\n",
       "</tr>\n",
       "<tr>\n",
       "  <th>7</th>     <td>    2.3462</td> <td>    1.115</td> <td>    2.103</td> <td> 0.036</td> <td>    0.152</td> <td>    4.540</td>\n",
       "</tr>\n",
       "<tr>\n",
       "  <th>8</th>     <td>    4.5433</td> <td>    1.130</td> <td>    4.021</td> <td> 0.000</td> <td>    2.321</td> <td>    6.766</td>\n",
       "</tr>\n",
       "<tr>\n",
       "  <th>9</th>     <td>  -24.6820</td> <td>    1.323</td> <td>  -18.657</td> <td> 0.000</td> <td>  -27.284</td> <td>  -22.080</td>\n",
       "</tr>\n",
       "<tr>\n",
       "  <th>10</th>    <td>  -11.9232</td> <td>    1.310</td> <td>   -9.099</td> <td> 0.000</td> <td>  -14.501</td> <td>   -9.346</td>\n",
       "</tr>\n",
       "</table>\n",
       "<table class=\"simpletable\">\n",
       "<tr>\n",
       "  <th>Omnibus:</th>       <td>14.171</td> <th>  Durbin-Watson:     </th> <td>   2.091</td>\n",
       "</tr>\n",
       "<tr>\n",
       "  <th>Prob(Omnibus):</th> <td> 0.001</td> <th>  Jarque-Bera (JB):  </th> <td>  32.665</td>\n",
       "</tr>\n",
       "<tr>\n",
       "  <th>Skew:</th>          <td> 0.002</td> <th>  Prob(JB):          </th> <td>8.07e-08</td>\n",
       "</tr>\n",
       "<tr>\n",
       "  <th>Kurtosis:</th>      <td> 4.480</td> <th>  Cond. No.          </th> <td>7.10e+16</td>\n",
       "</tr>\n",
       "</table><br/><br/>Notes:<br/>[1] Standard Errors assume that the covariance matrix of the errors is correctly specified.<br/>[2] The smallest eigenvalue is 3.02e-29. This might indicate that there are<br/>strong multicollinearity problems or that the design matrix is singular."
      ],
      "text/plain": [
       "<class 'statsmodels.iolib.summary.Summary'>\n",
       "\"\"\"\n",
       "                            OLS Regression Results                            \n",
       "==============================================================================\n",
       "Dep. Variable:                      y   R-squared:                       0.943\n",
       "Model:                            OLS   Adj. R-squared:                  0.942\n",
       "Method:                 Least Squares   F-statistic:                     575.7\n",
       "Date:                Mon, 11 Oct 2021   Prob (F-statistic):          2.81e-209\n",
       "Time:                        15:36:03   Log-Likelihood:                -1120.2\n",
       "No. Observations:                 358   AIC:                             2262.\n",
       "Df Residuals:                     347   BIC:                             2305.\n",
       "Df Model:                          10                                         \n",
       "Covariance Type:            nonrobust                                         \n",
       "==============================================================================\n",
       "                 coef    std err          t      P>|t|      [0.025      0.975]\n",
       "------------------------------------------------------------------------------\n",
       "const        -11.0528      1.352     -8.175      0.000     -13.712      -8.394\n",
       "horas          1.9713      0.056     35.063      0.000       1.861       2.082\n",
       "texp           4.4516      0.096     46.582      0.000       4.264       4.640\n",
       "2            -14.6664      1.452    -10.101      0.000     -17.522     -11.811\n",
       "3             -7.2914      0.685    -10.651      0.000      -8.638      -5.945\n",
       "4             -0.7854      1.443     -0.544      0.587      -3.624       2.053\n",
       "5            -14.8095      1.238    -11.967      0.000     -17.244     -12.375\n",
       "6             -3.3658      1.321     -2.548      0.011      -5.964      -0.768\n",
       "7              2.3462      1.115      2.103      0.036       0.152       4.540\n",
       "8              4.5433      1.130      4.021      0.000       2.321       6.766\n",
       "9            -24.6820      1.323    -18.657      0.000     -27.284     -22.080\n",
       "10           -11.9232      1.310     -9.099      0.000     -14.501      -9.346\n",
       "==============================================================================\n",
       "Omnibus:                       14.171   Durbin-Watson:                   2.091\n",
       "Prob(Omnibus):                  0.001   Jarque-Bera (JB):               32.665\n",
       "Skew:                           0.002   Prob(JB):                     8.07e-08\n",
       "Kurtosis:                       4.480   Cond. No.                     7.10e+16\n",
       "==============================================================================\n",
       "\n",
       "Notes:\n",
       "[1] Standard Errors assume that the covariance matrix of the errors is correctly specified.\n",
       "[2] The smallest eigenvalue is 3.02e-29. This might indicate that there are\n",
       "strong multicollinearity problems or that the design matrix is singular.\n",
       "\"\"\""
      ]
     },
     "execution_count": 1301,
     "metadata": {},
     "output_type": "execute_result"
    }
   ],
   "source": [
    "#Modelo OLS\n",
    "import statsmodels.api as sm\n",
    "x_constante = sm.add_constant(dados1)\n",
    "y = dados['desempenho'].values\n",
    "modelo = sm.OLS(y,x_constante)\n",
    "modelo_v1 = modelo.fit()\n",
    "modelo_v1.summary()"
   ]
  },
  {
   "cell_type": "code",
   "execution_count": 1302,
   "metadata": {},
   "outputs": [],
   "source": [
    "#Excluir a var 10 que nao tem diferença estatisticamente significante no comportamento no desempenho em relaçao a escola 1(referencia)\n",
    "dados_2 = x_constante.drop(columns=[10])"
   ]
  },
  {
   "cell_type": "code",
   "execution_count": 1303,
   "metadata": {},
   "outputs": [
    {
     "data": {
      "text/html": [
       "<table class=\"simpletable\">\n",
       "<caption>OLS Regression Results</caption>\n",
       "<tr>\n",
       "  <th>Dep. Variable:</th>            <td>y</td>        <th>  R-squared:         </th> <td>   0.943</td> \n",
       "</tr>\n",
       "<tr>\n",
       "  <th>Model:</th>                   <td>OLS</td>       <th>  Adj. R-squared:    </th> <td>   0.942</td> \n",
       "</tr>\n",
       "<tr>\n",
       "  <th>Method:</th>             <td>Least Squares</td>  <th>  F-statistic:       </th> <td>   575.7</td> \n",
       "</tr>\n",
       "<tr>\n",
       "  <th>Date:</th>             <td>Mon, 11 Oct 2021</td> <th>  Prob (F-statistic):</th> <td>2.81e-209</td>\n",
       "</tr>\n",
       "<tr>\n",
       "  <th>Time:</th>                 <td>15:36:03</td>     <th>  Log-Likelihood:    </th> <td> -1120.2</td> \n",
       "</tr>\n",
       "<tr>\n",
       "  <th>No. Observations:</th>      <td>   358</td>      <th>  AIC:               </th> <td>   2262.</td> \n",
       "</tr>\n",
       "<tr>\n",
       "  <th>Df Residuals:</th>          <td>   347</td>      <th>  BIC:               </th> <td>   2305.</td> \n",
       "</tr>\n",
       "<tr>\n",
       "  <th>Df Model:</th>              <td>    10</td>      <th>                     </th>     <td> </td>    \n",
       "</tr>\n",
       "<tr>\n",
       "  <th>Covariance Type:</th>      <td>nonrobust</td>    <th>                     </th>     <td> </td>    \n",
       "</tr>\n",
       "</table>\n",
       "<table class=\"simpletable\">\n",
       "<tr>\n",
       "    <td></td>       <th>coef</th>     <th>std err</th>      <th>t</th>      <th>P>|t|</th>  <th>[0.025</th>    <th>0.975]</th>  \n",
       "</tr>\n",
       "<tr>\n",
       "  <th>const</th> <td>  132.0258</td> <td>   16.196</td> <td>    8.152</td> <td> 0.000</td> <td>  100.172</td> <td>  163.880</td>\n",
       "</tr>\n",
       "<tr>\n",
       "  <th>horas</th> <td>    1.9713</td> <td>    0.056</td> <td>   35.063</td> <td> 0.000</td> <td>    1.861</td> <td>    2.082</td>\n",
       "</tr>\n",
       "<tr>\n",
       "  <th>texp</th>  <td>  -35.2925</td> <td>    4.413</td> <td>   -7.997</td> <td> 0.000</td> <td>  -43.972</td> <td>  -26.613</td>\n",
       "</tr>\n",
       "<tr>\n",
       "  <th>2</th>     <td>  -74.2824</td> <td>    7.287</td> <td>  -10.194</td> <td> 0.000</td> <td>  -88.614</td> <td>  -59.950</td>\n",
       "</tr>\n",
       "<tr>\n",
       "  <th>3</th>     <td>  366.3026</td> <td>   41.021</td> <td>    8.930</td> <td> 0.000</td> <td>  285.621</td> <td>  446.984</td>\n",
       "</tr>\n",
       "<tr>\n",
       "  <th>4</th>     <td>   74.7283</td> <td>    7.922</td> <td>    9.433</td> <td> 0.000</td> <td>   59.148</td> <td>   90.309</td>\n",
       "</tr>\n",
       "<tr>\n",
       "  <th>5</th>     <td>  -82.3744</td> <td>    8.112</td> <td>  -10.155</td> <td> 0.000</td> <td>  -98.328</td> <td>  -66.420</td>\n",
       "</tr>\n",
       "<tr>\n",
       "  <th>6</th>     <td>  -11.3146</td> <td>    1.849</td> <td>   -6.120</td> <td> 0.000</td> <td>  -14.951</td> <td>   -7.678</td>\n",
       "</tr>\n",
       "<tr>\n",
       "  <th>7</th>     <td>  177.2200</td> <td>   18.960</td> <td>    9.347</td> <td> 0.000</td> <td>  139.928</td> <td>  214.512</td>\n",
       "</tr>\n",
       "<tr>\n",
       "  <th>8</th>     <td>  159.5451</td> <td>   16.618</td> <td>    9.601</td> <td> 0.000</td> <td>  126.860</td> <td>  192.230</td>\n",
       "</tr>\n",
       "<tr>\n",
       "  <th>9</th>     <td>  -92.2469</td> <td>    8.188</td> <td>  -11.266</td> <td> 0.000</td> <td> -108.352</td> <td>  -76.142</td>\n",
       "</tr>\n",
       "</table>\n",
       "<table class=\"simpletable\">\n",
       "<tr>\n",
       "  <th>Omnibus:</th>       <td>14.171</td> <th>  Durbin-Watson:     </th> <td>   2.091</td>\n",
       "</tr>\n",
       "<tr>\n",
       "  <th>Prob(Omnibus):</th> <td> 0.001</td> <th>  Jarque-Bera (JB):  </th> <td>  32.665</td>\n",
       "</tr>\n",
       "<tr>\n",
       "  <th>Skew:</th>          <td> 0.002</td> <th>  Prob(JB):          </th> <td>8.07e-08</td>\n",
       "</tr>\n",
       "<tr>\n",
       "  <th>Kurtosis:</th>      <td> 4.480</td> <th>  Cond. No.          </th> <td>3.70e+03</td>\n",
       "</tr>\n",
       "</table><br/><br/>Notes:<br/>[1] Standard Errors assume that the covariance matrix of the errors is correctly specified.<br/>[2] The condition number is large, 3.7e+03. This might indicate that there are<br/>strong multicollinearity or other numerical problems."
      ],
      "text/plain": [
       "<class 'statsmodels.iolib.summary.Summary'>\n",
       "\"\"\"\n",
       "                            OLS Regression Results                            \n",
       "==============================================================================\n",
       "Dep. Variable:                      y   R-squared:                       0.943\n",
       "Model:                            OLS   Adj. R-squared:                  0.942\n",
       "Method:                 Least Squares   F-statistic:                     575.7\n",
       "Date:                Mon, 11 Oct 2021   Prob (F-statistic):          2.81e-209\n",
       "Time:                        15:36:03   Log-Likelihood:                -1120.2\n",
       "No. Observations:                 358   AIC:                             2262.\n",
       "Df Residuals:                     347   BIC:                             2305.\n",
       "Df Model:                          10                                         \n",
       "Covariance Type:            nonrobust                                         \n",
       "==============================================================================\n",
       "                 coef    std err          t      P>|t|      [0.025      0.975]\n",
       "------------------------------------------------------------------------------\n",
       "const        132.0258     16.196      8.152      0.000     100.172     163.880\n",
       "horas          1.9713      0.056     35.063      0.000       1.861       2.082\n",
       "texp         -35.2925      4.413     -7.997      0.000     -43.972     -26.613\n",
       "2            -74.2824      7.287    -10.194      0.000     -88.614     -59.950\n",
       "3            366.3026     41.021      8.930      0.000     285.621     446.984\n",
       "4             74.7283      7.922      9.433      0.000      59.148      90.309\n",
       "5            -82.3744      8.112    -10.155      0.000     -98.328     -66.420\n",
       "6            -11.3146      1.849     -6.120      0.000     -14.951      -7.678\n",
       "7            177.2200     18.960      9.347      0.000     139.928     214.512\n",
       "8            159.5451     16.618      9.601      0.000     126.860     192.230\n",
       "9            -92.2469      8.188    -11.266      0.000    -108.352     -76.142\n",
       "==============================================================================\n",
       "Omnibus:                       14.171   Durbin-Watson:                   2.091\n",
       "Prob(Omnibus):                  0.001   Jarque-Bera (JB):               32.665\n",
       "Skew:                           0.002   Prob(JB):                     8.07e-08\n",
       "Kurtosis:                       4.480   Cond. No.                     3.70e+03\n",
       "==============================================================================\n",
       "\n",
       "Notes:\n",
       "[1] Standard Errors assume that the covariance matrix of the errors is correctly specified.\n",
       "[2] The condition number is large, 3.7e+03. This might indicate that there are\n",
       "strong multicollinearity or other numerical problems.\n",
       "\"\"\""
      ]
     },
     "execution_count": 1303,
     "metadata": {},
     "output_type": "execute_result"
    }
   ],
   "source": [
    "#Modelo OLS (excluida variavel de escola 10)\n",
    "import statsmodels.api as sm\n",
    "x_constante = sm.add_constant(dados_2)\n",
    "y = dados['desempenho'].values\n",
    "modelo = sm.OLS(y,x_constante)\n",
    "modelo_v1 = modelo.fit()\n",
    "modelo_v1.summary()"
   ]
  },
  {
   "cell_type": "markdown",
   "metadata": {},
   "source": [
    "**Note que todas as variaveis agora tem significancia estatistica**"
   ]
  },
  {
   "cell_type": "markdown",
   "metadata": {},
   "source": [
    "## COMPARAÇÃO DOS LOGLIKES ENTRE OS MODELOS"
   ]
  },
  {
   "cell_type": "code",
   "execution_count": 1304,
   "metadata": {},
   "outputs": [
    {
     "data": {
      "image/png": "[encoded data removed]",
      "text/plain": [
       "<Figure size 432x288 with 1 Axes>"
      ]
     },
     "metadata": {},
     "output_type": "display_data"
    }
   ],
   "source": [
    "a = ['Modelo Final','OLS_Dummies_StepWise']\n",
    "b = [mdf3.llf,modelo_v1.llf]\n",
    "plt.barh(a,b);\n",
    "plt.title('Comparação dos LL',size=20);"
   ]
  },
  {
   "cell_type": "markdown",
   "metadata": {},
   "source": [
    "**Conclusão: Modelo OLS X Modelo Multinivel tem uma grande diferença nas predição , porém ,caso o efeito aleatorio de inclinação no nivel 2 do modelo multinivel não se mostrar estatisticamente significantes o LL dos 2 modelos serão muito parecidos**"
   ]
  },
  {
   "cell_type": "markdown",
   "metadata": {},
   "source": [
    "## Grafico dos fitted values dos modelos HLM2 Final, OLS"
   ]
  },
  {
   "cell_type": "code",
   "execution_count": 1305,
   "metadata": {},
   "outputs": [
    {
     "data": {
      "image/png": "[encoded data removed]",
      "text/plain": [
       "<Figure size 432x288 with 1 Axes>"
      ]
     },
     "metadata": {},
     "output_type": "display_data"
    }
   ],
   "source": [
    "plt.scatter(target.Desempenho,target['predict.fixed']);\n",
    "plt.scatter(target.Desempenho,modelo_v1.predict(dados2));\n",
    "plt.xlabel('Desempenho');\n",
    "plt.ylabel('fixed_aleat X OLS');"
   ]
  },
  {
   "cell_type": "markdown",
   "metadata": {},
   "source": [
    "# MODELO OLS COM DUMMIES + Interação entre as variaveis Horas e texp"
   ]
  },
  {
   "cell_type": "code",
   "execution_count": 1306,
   "metadata": {},
   "outputs": [
    {
     "data": {
      "text/html": [
       "<div>\n",
       "<style scoped>\n",
       "    .dataframe tbody tr th:only-of-type {\n",
       "        vertical-align: middle;\n",
       "    }\n",
       "\n",
       "    .dataframe tbody tr th {\n",
       "        vertical-align: top;\n",
       "    }\n",
       "\n",
       "    .dataframe thead th {\n",
       "        text-align: right;\n",
       "    }\n",
       "</style>\n",
       "<table border=\"1\" class=\"dataframe\">\n",
       "  <thead>\n",
       "    <tr style=\"text-align: right;\">\n",
       "      <th></th>\n",
       "      <th>horas</th>\n",
       "      <th>texp</th>\n",
       "      <th>2</th>\n",
       "      <th>3</th>\n",
       "      <th>4</th>\n",
       "      <th>5</th>\n",
       "      <th>6</th>\n",
       "      <th>7</th>\n",
       "      <th>8</th>\n",
       "      <th>9</th>\n",
       "      <th>10</th>\n",
       "      <th>texp_horas</th>\n",
       "    </tr>\n",
       "  </thead>\n",
       "  <tbody>\n",
       "    <tr>\n",
       "      <th>0</th>\n",
       "      <td>11</td>\n",
       "      <td>3.6</td>\n",
       "      <td>0</td>\n",
       "      <td>0</td>\n",
       "      <td>0</td>\n",
       "      <td>0</td>\n",
       "      <td>0</td>\n",
       "      <td>0</td>\n",
       "      <td>0</td>\n",
       "      <td>0</td>\n",
       "      <td>0</td>\n",
       "      <td>39.6</td>\n",
       "    </tr>\n",
       "    <tr>\n",
       "      <th>1</th>\n",
       "      <td>23</td>\n",
       "      <td>3.6</td>\n",
       "      <td>0</td>\n",
       "      <td>0</td>\n",
       "      <td>0</td>\n",
       "      <td>0</td>\n",
       "      <td>0</td>\n",
       "      <td>0</td>\n",
       "      <td>0</td>\n",
       "      <td>0</td>\n",
       "      <td>0</td>\n",
       "      <td>82.8</td>\n",
       "    </tr>\n",
       "    <tr>\n",
       "      <th>2</th>\n",
       "      <td>25</td>\n",
       "      <td>3.6</td>\n",
       "      <td>0</td>\n",
       "      <td>0</td>\n",
       "      <td>0</td>\n",
       "      <td>0</td>\n",
       "      <td>0</td>\n",
       "      <td>0</td>\n",
       "      <td>0</td>\n",
       "      <td>0</td>\n",
       "      <td>0</td>\n",
       "      <td>90.0</td>\n",
       "    </tr>\n",
       "  </tbody>\n",
       "</table>\n",
       "</div>"
      ],
      "text/plain": [
       "   horas  texp  2  3  4  5  6  7  8  9  10  texp_horas\n",
       "0     11   3.6  0  0  0  0  0  0  0  0   0        39.6\n",
       "1     23   3.6  0  0  0  0  0  0  0  0   0        82.8\n",
       "2     25   3.6  0  0  0  0  0  0  0  0   0        90.0"
      ]
     },
     "execution_count": 1306,
     "metadata": {},
     "output_type": "execute_result"
    }
   ],
   "source": [
    "dados3=dados1\n",
    "dados3['texp_horas'] = dados1.texp*dados1.horas #Interaçao entre as variaveis horas e texp\n",
    "dados3.head(3)"
   ]
  },
  {
   "cell_type": "code",
   "execution_count": 1307,
   "metadata": {},
   "outputs": [
    {
     "data": {
      "text/html": [
       "<table class=\"simpletable\">\n",
       "<caption>OLS Regression Results</caption>\n",
       "<tr>\n",
       "  <th>Dep. Variable:</th>            <td>y</td>        <th>  R-squared:         </th> <td>   0.973</td> \n",
       "</tr>\n",
       "<tr>\n",
       "  <th>Model:</th>                   <td>OLS</td>       <th>  Adj. R-squared:    </th> <td>   0.972</td> \n",
       "</tr>\n",
       "<tr>\n",
       "  <th>Method:</th>             <td>Least Squares</td>  <th>  F-statistic:       </th> <td>   1134.</td> \n",
       "</tr>\n",
       "<tr>\n",
       "  <th>Date:</th>             <td>Mon, 11 Oct 2021</td> <th>  Prob (F-statistic):</th> <td>8.66e-264</td>\n",
       "</tr>\n",
       "<tr>\n",
       "  <th>Time:</th>                 <td>15:36:06</td>     <th>  Log-Likelihood:    </th> <td> -986.91</td> \n",
       "</tr>\n",
       "<tr>\n",
       "  <th>No. Observations:</th>      <td>   358</td>      <th>  AIC:               </th> <td>   1998.</td> \n",
       "</tr>\n",
       "<tr>\n",
       "  <th>Df Residuals:</th>          <td>   346</td>      <th>  BIC:               </th> <td>   2044.</td> \n",
       "</tr>\n",
       "<tr>\n",
       "  <th>Df Model:</th>              <td>    11</td>      <th>                     </th>     <td> </td>    \n",
       "</tr>\n",
       "<tr>\n",
       "  <th>Covariance Type:</th>      <td>nonrobust</td>    <th>                     </th>     <td> </td>    \n",
       "</tr>\n",
       "</table>\n",
       "<table class=\"simpletable\">\n",
       "<tr>\n",
       "       <td></td>         <th>coef</th>     <th>std err</th>      <th>t</th>      <th>P>|t|</th>  <th>[0.025</th>    <th>0.975]</th>  \n",
       "</tr>\n",
       "<tr>\n",
       "  <th>const</th>      <td>    5.5565</td> <td>    1.261</td> <td>    4.405</td> <td> 0.000</td> <td>    3.075</td> <td>    8.038</td>\n",
       "</tr>\n",
       "<tr>\n",
       "  <th>horas</th>      <td>    0.8306</td> <td>    0.070</td> <td>   11.859</td> <td> 0.000</td> <td>    0.693</td> <td>    0.968</td>\n",
       "</tr>\n",
       "<tr>\n",
       "  <th>texp</th>       <td>    1.3486</td> <td>    0.172</td> <td>    7.851</td> <td> 0.000</td> <td>    1.011</td> <td>    1.686</td>\n",
       "</tr>\n",
       "<tr>\n",
       "  <th>2</th>          <td>  -11.8836</td> <td>    1.012</td> <td>  -11.743</td> <td> 0.000</td> <td>  -13.874</td> <td>   -9.893</td>\n",
       "</tr>\n",
       "<tr>\n",
       "  <th>3</th>          <td>   -8.2138</td> <td>    0.475</td> <td>  -17.301</td> <td> 0.000</td> <td>   -9.148</td> <td>   -7.280</td>\n",
       "</tr>\n",
       "<tr>\n",
       "  <th>4</th>          <td>   -2.2088</td> <td>    0.999</td> <td>   -2.212</td> <td> 0.028</td> <td>   -4.173</td> <td>   -0.245</td>\n",
       "</tr>\n",
       "<tr>\n",
       "  <th>5</th>          <td>  -12.1903</td> <td>    0.864</td> <td>  -14.102</td> <td> 0.000</td> <td>  -13.890</td> <td>  -10.490</td>\n",
       "</tr>\n",
       "<tr>\n",
       "  <th>6</th>          <td>   -2.9843</td> <td>    0.912</td> <td>   -3.273</td> <td> 0.001</td> <td>   -4.778</td> <td>   -1.191</td>\n",
       "</tr>\n",
       "<tr>\n",
       "  <th>7</th>          <td>    0.5424</td> <td>    0.775</td> <td>    0.700</td> <td> 0.485</td> <td>   -0.982</td> <td>    2.067</td>\n",
       "</tr>\n",
       "<tr>\n",
       "  <th>8</th>          <td>   -1.9272</td> <td>    0.847</td> <td>   -2.275</td> <td> 0.023</td> <td>   -3.593</td> <td>   -0.261</td>\n",
       "</tr>\n",
       "<tr>\n",
       "  <th>9</th>          <td>  -18.7334</td> <td>    0.962</td> <td>  -19.469</td> <td> 0.000</td> <td>  -20.626</td> <td>  -16.841</td>\n",
       "</tr>\n",
       "<tr>\n",
       "  <th>10</th>         <td>  -10.3706</td> <td>    0.908</td> <td>  -11.424</td> <td> 0.000</td> <td>  -12.156</td> <td>   -8.585</td>\n",
       "</tr>\n",
       "<tr>\n",
       "  <th>texp_horas</th> <td>    0.2232</td> <td>    0.011</td> <td>   19.563</td> <td> 0.000</td> <td>    0.201</td> <td>    0.246</td>\n",
       "</tr>\n",
       "</table>\n",
       "<table class=\"simpletable\">\n",
       "<tr>\n",
       "  <th>Omnibus:</th>       <td>18.488</td> <th>  Durbin-Watson:     </th> <td>   2.091</td>\n",
       "</tr>\n",
       "<tr>\n",
       "  <th>Prob(Omnibus):</th> <td> 0.000</td> <th>  Jarque-Bera (JB):  </th> <td>  36.104</td>\n",
       "</tr>\n",
       "<tr>\n",
       "  <th>Skew:</th>          <td>-0.278</td> <th>  Prob(JB):          </th> <td>1.45e-08</td>\n",
       "</tr>\n",
       "<tr>\n",
       "  <th>Kurtosis:</th>      <td> 4.453</td> <th>  Cond. No.          </th> <td>3.95e+17</td>\n",
       "</tr>\n",
       "</table><br/><br/>Notes:<br/>[1] Standard Errors assume that the covariance matrix of the errors is correctly specified.<br/>[2] The smallest eigenvalue is  3e-29. This might indicate that there are<br/>strong multicollinearity problems or that the design matrix is singular."
      ],
      "text/plain": [
       "<class 'statsmodels.iolib.summary.Summary'>\n",
       "\"\"\"\n",
       "                            OLS Regression Results                            \n",
       "==============================================================================\n",
       "Dep. Variable:                      y   R-squared:                       0.973\n",
       "Model:                            OLS   Adj. R-squared:                  0.972\n",
       "Method:                 Least Squares   F-statistic:                     1134.\n",
       "Date:                Mon, 11 Oct 2021   Prob (F-statistic):          8.66e-264\n",
       "Time:                        15:36:06   Log-Likelihood:                -986.91\n",
       "No. Observations:                 358   AIC:                             1998.\n",
       "Df Residuals:                     346   BIC:                             2044.\n",
       "Df Model:                          11                                         \n",
       "Covariance Type:            nonrobust                                         \n",
       "==============================================================================\n",
       "                 coef    std err          t      P>|t|      [0.025      0.975]\n",
       "------------------------------------------------------------------------------\n",
       "const          5.5565      1.261      4.405      0.000       3.075       8.038\n",
       "horas          0.8306      0.070     11.859      0.000       0.693       0.968\n",
       "texp           1.3486      0.172      7.851      0.000       1.011       1.686\n",
       "2            -11.8836      1.012    -11.743      0.000     -13.874      -9.893\n",
       "3             -8.2138      0.475    -17.301      0.000      -9.148      -7.280\n",
       "4             -2.2088      0.999     -2.212      0.028      -4.173      -0.245\n",
       "5            -12.1903      0.864    -14.102      0.000     -13.890     -10.490\n",
       "6             -2.9843      0.912     -3.273      0.001      -4.778      -1.191\n",
       "7              0.5424      0.775      0.700      0.485      -0.982       2.067\n",
       "8             -1.9272      0.847     -2.275      0.023      -3.593      -0.261\n",
       "9            -18.7334      0.962    -19.469      0.000     -20.626     -16.841\n",
       "10           -10.3706      0.908    -11.424      0.000     -12.156      -8.585\n",
       "texp_horas     0.2232      0.011     19.563      0.000       0.201       0.246\n",
       "==============================================================================\n",
       "Omnibus:                       18.488   Durbin-Watson:                   2.091\n",
       "Prob(Omnibus):                  0.000   Jarque-Bera (JB):               36.104\n",
       "Skew:                          -0.278   Prob(JB):                     1.45e-08\n",
       "Kurtosis:                       4.453   Cond. No.                     3.95e+17\n",
       "==============================================================================\n",
       "\n",
       "Notes:\n",
       "[1] Standard Errors assume that the covariance matrix of the errors is correctly specified.\n",
       "[2] The smallest eigenvalue is  3e-29. This might indicate that there are\n",
       "strong multicollinearity problems or that the design matrix is singular.\n",
       "\"\"\""
      ]
     },
     "execution_count": 1307,
     "metadata": {},
     "output_type": "execute_result"
    }
   ],
   "source": [
    "#Modelo OLS\n",
    "import statsmodels.api as sm\n",
    "x_constante = sm.add_constant(dados3)\n",
    "y = dados['desempenho'].values\n",
    "modelo2 = sm.OLS(y,x_constante)\n",
    "modelo_v2 = modelo2.fit()\n",
    "modelo_v2.summary()"
   ]
  },
  {
   "cell_type": "markdown",
   "metadata": {},
   "source": [
    "## COMPARAÇÃO DOS LLs DE TODOS OS MODELOS "
   ]
  },
  {
   "cell_type": "code",
   "execution_count": 1309,
   "metadata": {},
   "outputs": [
    {
     "data": {
      "image/png": "[encoded data removed]",
      "text/plain": [
       "<Figure size 432x288 with 1 Axes>"
      ]
     },
     "metadata": {},
     "output_type": "display_data"
    }
   ],
   "source": [
    "#Criar um dataFrame com os LLs\n",
    "a = ['HLM2 Nulo','OLS','Int Aleat','Int e Incli Aleat','Modelo Final','OLS2','OLS_Interação']\n",
    "b = [mdf.llf,resultado.llf,mdf1.llf,mdf2.llf,mdf3.llf,modelo_v1.llf,modelo_v2.llf]\n",
    "dados_grafico = pd.DataFrame(a,b)\n",
    "dados_grafico= dados_grafico.reset_index()\n",
    "dados_grafico.columns=['Index','Modelo']\n",
    "\n",
    "#Plotar no Grafico \n",
    "df_ordenado = dados_grafico.sort_values(by='Index',ascending=True)\n",
    "plt.barh(df_ordenado.Modelo, df_ordenado.Index, color='red', alpha=0.5)\n",
    "plt.title('Comparação dos LL',size=40,);"
   ]
  },
  {
   "cell_type": "markdown",
   "metadata": {},
   "source": [
    "**Conclusão: Podemos observar que o Modelo Final tem o melhor LL**"
   ]
  }
 ],
 "metadata": {
  "anaconda-cloud": {},
  "kernelspec": {
   "display_name": "Python 3",
   "language": "python",
   "name": "python3"
  },
  "language_info": {
   "codemirror_mode": {
    "name": "ipython",
    "version": 3
   },
   "file_extension": ".py",
   "mimetype": "text/x-python",
   "name": "python",
   "nbconvert_exporter": "python",
   "pygments_lexer": "ipython3",
   "version": "3.8.5"
  }
 },
 "nbformat": 4,
 "nbformat_minor": 1
}
