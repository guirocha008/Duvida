{
 "cells": [
  {
   "cell_type": "markdown",
   "metadata": {},
   "source": [
    "**Multicolinearidade:** consequência da existência de alta correlação entre duas ou mais variáveis explicativas (preditoras).\n",
    "\n",
    "• Possibilidade de interpretações erradas pela eventual distorção dos sinais dos parâmetros.\n",
    "\n",
    "• Erros nas predições.\n",
    "\n",
    "**Como detectar a multicolinearidade?**\n",
    "\n",
    "◦ Sinais inesperados dos coeficientes.\n",
    "\n",
    "◦ Testes t não significantes e teste F significante.\n",
    "\n",
    "**Fontes Geradoras da Multicolinearidade:**\n",
    "\n",
    "-Existência de variáveis que apresentam a mesma tendência durante alguns períodos, em decorrência da seleção de uma amostra que inclua apenas observações referentes a estes períodos.\n",
    "\n",
    "-Utilização de amostras com reduzido número de observações\n",
    "\n",
    "-Utilização de valores defasados em algumas das variáveis explicativas como “novas” explicativas"
   ]
  },
  {
   "cell_type": "code",
   "execution_count": 14,
   "metadata": {},
   "outputs": [],
   "source": [
    "# Carregando Bibliotecas Python\n",
    "import numpy as np\n",
    "import pandas as pd\n",
    "import matplotlib.pyplot as plt\n",
    "import matplotlib as mpl\n",
    "import warnings\n",
    "import seaborn as sns\n",
    "warnings.filterwarnings(\"ignore\")\n",
    "%matplotlib inline \n",
    "import statsmodels.api as sm"
   ]
  },
  {
   "cell_type": "markdown",
   "metadata": {},
   "source": [
    "# Banco de dados "
   ]
  },
  {
   "cell_type": "code",
   "execution_count": 15,
   "metadata": {},
   "outputs": [
    {
     "data": {
      "text/html": [
       "<div>\n",
       "<style scoped>\n",
       "    .dataframe tbody tr th:only-of-type {\n",
       "        vertical-align: middle;\n",
       "    }\n",
       "\n",
       "    .dataframe tbody tr th {\n",
       "        vertical-align: top;\n",
       "    }\n",
       "\n",
       "    .dataframe thead th {\n",
       "        text-align: right;\n",
       "    }\n",
       "</style>\n",
       "<table border=\"1\" class=\"dataframe\">\n",
       "  <thead>\n",
       "    <tr style=\"text-align: right;\">\n",
       "      <th></th>\n",
       "      <th>salario</th>\n",
       "      <th>rh1</th>\n",
       "      <th>econometria1</th>\n",
       "      <th>rh2</th>\n",
       "      <th>econometria2</th>\n",
       "      <th>rh3</th>\n",
       "      <th>econometria3</th>\n",
       "    </tr>\n",
       "    <tr>\n",
       "      <th>nome</th>\n",
       "      <th></th>\n",
       "      <th></th>\n",
       "      <th></th>\n",
       "      <th></th>\n",
       "      <th></th>\n",
       "      <th></th>\n",
       "      <th></th>\n",
       "    </tr>\n",
       "  </thead>\n",
       "  <tbody>\n",
       "    <tr>\n",
       "      <th>Patricia</th>\n",
       "      <td>2525.340820</td>\n",
       "      <td>9.0</td>\n",
       "      <td>4.50</td>\n",
       "      <td>9.0</td>\n",
       "      <td>4.50</td>\n",
       "      <td>3.0</td>\n",
       "      <td>9.0</td>\n",
       "    </tr>\n",
       "    <tr>\n",
       "      <th>Luiz</th>\n",
       "      <td>2498.574951</td>\n",
       "      <td>8.0</td>\n",
       "      <td>4.00</td>\n",
       "      <td>8.0</td>\n",
       "      <td>4.00</td>\n",
       "      <td>7.0</td>\n",
       "      <td>8.0</td>\n",
       "    </tr>\n",
       "    <tr>\n",
       "      <th>Dalila</th>\n",
       "      <td>2364.686768</td>\n",
       "      <td>9.5</td>\n",
       "      <td>4.75</td>\n",
       "      <td>9.5</td>\n",
       "      <td>4.75</td>\n",
       "      <td>10.0</td>\n",
       "      <td>9.5</td>\n",
       "    </tr>\n",
       "    <tr>\n",
       "      <th>Leonor</th>\n",
       "      <td>1981.349854</td>\n",
       "      <td>7.0</td>\n",
       "      <td>3.50</td>\n",
       "      <td>7.0</td>\n",
       "      <td>3.50</td>\n",
       "      <td>10.0</td>\n",
       "      <td>7.0</td>\n",
       "    </tr>\n",
       "    <tr>\n",
       "      <th>Ovidio</th>\n",
       "      <td>1892.807983</td>\n",
       "      <td>6.0</td>\n",
       "      <td>3.00</td>\n",
       "      <td>6.0</td>\n",
       "      <td>3.10</td>\n",
       "      <td>7.0</td>\n",
       "      <td>6.0</td>\n",
       "    </tr>\n",
       "    <tr>\n",
       "      <th>Paulo</th>\n",
       "      <td>1561.437378</td>\n",
       "      <td>3.0</td>\n",
       "      <td>1.50</td>\n",
       "      <td>3.0</td>\n",
       "      <td>2.00</td>\n",
       "      <td>8.0</td>\n",
       "      <td>3.0</td>\n",
       "    </tr>\n",
       "    <tr>\n",
       "      <th>Leticia</th>\n",
       "      <td>1660.850830</td>\n",
       "      <td>4.0</td>\n",
       "      <td>2.00</td>\n",
       "      <td>4.0</td>\n",
       "      <td>2.00</td>\n",
       "      <td>9.9</td>\n",
       "      <td>4.0</td>\n",
       "    </tr>\n",
       "    <tr>\n",
       "      <th>Gustavo</th>\n",
       "      <td>2001.654297</td>\n",
       "      <td>5.0</td>\n",
       "      <td>2.50</td>\n",
       "      <td>5.0</td>\n",
       "      <td>2.50</td>\n",
       "      <td>9.8</td>\n",
       "      <td>5.0</td>\n",
       "    </tr>\n",
       "    <tr>\n",
       "      <th>Mariana</th>\n",
       "      <td>2150.777588</td>\n",
       "      <td>8.0</td>\n",
       "      <td>4.00</td>\n",
       "      <td>8.0</td>\n",
       "      <td>4.00</td>\n",
       "      <td>3.0</td>\n",
       "      <td>8.0</td>\n",
       "    </tr>\n",
       "    <tr>\n",
       "      <th>Roberto</th>\n",
       "      <td>2148.177490</td>\n",
       "      <td>7.0</td>\n",
       "      <td>3.50</td>\n",
       "      <td>7.0</td>\n",
       "      <td>3.50</td>\n",
       "      <td>3.0</td>\n",
       "      <td>7.0</td>\n",
       "    </tr>\n",
       "    <tr>\n",
       "      <th>Antonietta</th>\n",
       "      <td>1505.627563</td>\n",
       "      <td>3.0</td>\n",
       "      <td>1.50</td>\n",
       "      <td>3.0</td>\n",
       "      <td>1.50</td>\n",
       "      <td>10.0</td>\n",
       "      <td>3.0</td>\n",
       "    </tr>\n",
       "    <tr>\n",
       "      <th>Americo</th>\n",
       "      <td>2094.972412</td>\n",
       "      <td>6.0</td>\n",
       "      <td>3.00</td>\n",
       "      <td>6.0</td>\n",
       "      <td>3.00</td>\n",
       "      <td>10.0</td>\n",
       "      <td>6.0</td>\n",
       "    </tr>\n",
       "    <tr>\n",
       "      <th>Julia</th>\n",
       "      <td>1848.222656</td>\n",
       "      <td>4.0</td>\n",
       "      <td>2.00</td>\n",
       "      <td>4.0</td>\n",
       "      <td>2.00</td>\n",
       "      <td>5.9</td>\n",
       "      <td>4.0</td>\n",
       "    </tr>\n",
       "    <tr>\n",
       "      <th>Ferruccio</th>\n",
       "      <td>2288.437988</td>\n",
       "      <td>9.5</td>\n",
       "      <td>4.75</td>\n",
       "      <td>9.5</td>\n",
       "      <td>4.75</td>\n",
       "      <td>9.7</td>\n",
       "      <td>9.5</td>\n",
       "    </tr>\n",
       "    <tr>\n",
       "      <th>Filomena</th>\n",
       "      <td>1959.340088</td>\n",
       "      <td>7.0</td>\n",
       "      <td>3.50</td>\n",
       "      <td>7.0</td>\n",
       "      <td>3.50</td>\n",
       "      <td>1.4</td>\n",
       "      <td>7.0</td>\n",
       "    </tr>\n",
       "  </tbody>\n",
       "</table>\n",
       "</div>"
      ],
      "text/plain": [
       "                salario  rh1  econometria1  rh2  econometria2   rh3  \\\n",
       "nome                                                                  \n",
       "Patricia    2525.340820  9.0          4.50  9.0          4.50   3.0   \n",
       "Luiz        2498.574951  8.0          4.00  8.0          4.00   7.0   \n",
       "Dalila      2364.686768  9.5          4.75  9.5          4.75  10.0   \n",
       "Leonor      1981.349854  7.0          3.50  7.0          3.50  10.0   \n",
       "Ovidio      1892.807983  6.0          3.00  6.0          3.10   7.0   \n",
       "Paulo       1561.437378  3.0          1.50  3.0          2.00   8.0   \n",
       "Leticia     1660.850830  4.0          2.00  4.0          2.00   9.9   \n",
       "Gustavo     2001.654297  5.0          2.50  5.0          2.50   9.8   \n",
       "Mariana     2150.777588  8.0          4.00  8.0          4.00   3.0   \n",
       "Roberto     2148.177490  7.0          3.50  7.0          3.50   3.0   \n",
       "Antonietta  1505.627563  3.0          1.50  3.0          1.50  10.0   \n",
       "Americo     2094.972412  6.0          3.00  6.0          3.00  10.0   \n",
       "Julia       1848.222656  4.0          2.00  4.0          2.00   5.9   \n",
       "Ferruccio   2288.437988  9.5          4.75  9.5          4.75   9.7   \n",
       "Filomena    1959.340088  7.0          3.50  7.0          3.50   1.4   \n",
       "\n",
       "            econometria3  \n",
       "nome                      \n",
       "Patricia             9.0  \n",
       "Luiz                 8.0  \n",
       "Dalila               9.5  \n",
       "Leonor               7.0  \n",
       "Ovidio               6.0  \n",
       "Paulo                3.0  \n",
       "Leticia              4.0  \n",
       "Gustavo              5.0  \n",
       "Mariana              8.0  \n",
       "Roberto              7.0  \n",
       "Antonietta           3.0  \n",
       "Americo              6.0  \n",
       "Julia                4.0  \n",
       "Ferruccio            9.5  \n",
       "Filomena             7.0  "
      ]
     },
     "execution_count": 15,
     "metadata": {},
     "output_type": "execute_result"
    }
   ],
   "source": [
    "# Carregando o dataset\n",
    "dados = pd.read_csv('salarios.csv',encoding='latin1',sep=',')\n",
    "dados = dados.set_index('nome')\n",
    "dados"
   ]
  },
  {
   "cell_type": "code",
   "execution_count": 16,
   "metadata": {},
   "outputs": [
    {
     "data": {
      "text/html": [
       "<div>\n",
       "<style scoped>\n",
       "    .dataframe tbody tr th:only-of-type {\n",
       "        vertical-align: middle;\n",
       "    }\n",
       "\n",
       "    .dataframe tbody tr th {\n",
       "        vertical-align: top;\n",
       "    }\n",
       "\n",
       "    .dataframe thead th {\n",
       "        text-align: right;\n",
       "    }\n",
       "</style>\n",
       "<table border=\"1\" class=\"dataframe\">\n",
       "  <thead>\n",
       "    <tr style=\"text-align: right;\">\n",
       "      <th></th>\n",
       "      <th>salario</th>\n",
       "      <th>rh1</th>\n",
       "      <th>econometria1</th>\n",
       "      <th>rh2</th>\n",
       "      <th>econometria2</th>\n",
       "      <th>rh3</th>\n",
       "      <th>econometria3</th>\n",
       "    </tr>\n",
       "  </thead>\n",
       "  <tbody>\n",
       "    <tr>\n",
       "      <th>count</th>\n",
       "      <td>15.000000</td>\n",
       "      <td>15.000000</td>\n",
       "      <td>15.000000</td>\n",
       "      <td>15.000000</td>\n",
       "      <td>15.000000</td>\n",
       "      <td>15.000000</td>\n",
       "      <td>15.000000</td>\n",
       "    </tr>\n",
       "    <tr>\n",
       "      <th>mean</th>\n",
       "      <td>2032.150578</td>\n",
       "      <td>6.400000</td>\n",
       "      <td>3.200000</td>\n",
       "      <td>6.400000</td>\n",
       "      <td>3.240000</td>\n",
       "      <td>7.180000</td>\n",
       "      <td>6.400000</td>\n",
       "    </tr>\n",
       "    <tr>\n",
       "      <th>std</th>\n",
       "      <td>312.507361</td>\n",
       "      <td>2.221647</td>\n",
       "      <td>1.110823</td>\n",
       "      <td>2.221647</td>\n",
       "      <td>1.061367</td>\n",
       "      <td>3.169317</td>\n",
       "      <td>2.221647</td>\n",
       "    </tr>\n",
       "    <tr>\n",
       "      <th>min</th>\n",
       "      <td>1505.627563</td>\n",
       "      <td>3.000000</td>\n",
       "      <td>1.500000</td>\n",
       "      <td>3.000000</td>\n",
       "      <td>1.500000</td>\n",
       "      <td>1.400000</td>\n",
       "      <td>3.000000</td>\n",
       "    </tr>\n",
       "    <tr>\n",
       "      <th>25%</th>\n",
       "      <td>1870.515320</td>\n",
       "      <td>4.500000</td>\n",
       "      <td>2.250000</td>\n",
       "      <td>4.500000</td>\n",
       "      <td>2.250000</td>\n",
       "      <td>4.450000</td>\n",
       "      <td>4.500000</td>\n",
       "    </tr>\n",
       "    <tr>\n",
       "      <th>50%</th>\n",
       "      <td>2001.654297</td>\n",
       "      <td>7.000000</td>\n",
       "      <td>3.500000</td>\n",
       "      <td>7.000000</td>\n",
       "      <td>3.500000</td>\n",
       "      <td>8.000000</td>\n",
       "      <td>7.000000</td>\n",
       "    </tr>\n",
       "    <tr>\n",
       "      <th>75%</th>\n",
       "      <td>2219.607788</td>\n",
       "      <td>8.000000</td>\n",
       "      <td>4.000000</td>\n",
       "      <td>8.000000</td>\n",
       "      <td>4.000000</td>\n",
       "      <td>9.950000</td>\n",
       "      <td>8.000000</td>\n",
       "    </tr>\n",
       "    <tr>\n",
       "      <th>max</th>\n",
       "      <td>2525.340820</td>\n",
       "      <td>9.500000</td>\n",
       "      <td>4.750000</td>\n",
       "      <td>9.500000</td>\n",
       "      <td>4.750000</td>\n",
       "      <td>10.000000</td>\n",
       "      <td>9.500000</td>\n",
       "    </tr>\n",
       "  </tbody>\n",
       "</table>\n",
       "</div>"
      ],
      "text/plain": [
       "           salario        rh1  econometria1        rh2  econometria2  \\\n",
       "count    15.000000  15.000000     15.000000  15.000000     15.000000   \n",
       "mean   2032.150578   6.400000      3.200000   6.400000      3.240000   \n",
       "std     312.507361   2.221647      1.110823   2.221647      1.061367   \n",
       "min    1505.627563   3.000000      1.500000   3.000000      1.500000   \n",
       "25%    1870.515320   4.500000      2.250000   4.500000      2.250000   \n",
       "50%    2001.654297   7.000000      3.500000   7.000000      3.500000   \n",
       "75%    2219.607788   8.000000      4.000000   8.000000      4.000000   \n",
       "max    2525.340820   9.500000      4.750000   9.500000      4.750000   \n",
       "\n",
       "             rh3  econometria3  \n",
       "count  15.000000     15.000000  \n",
       "mean    7.180000      6.400000  \n",
       "std     3.169317      2.221647  \n",
       "min     1.400000      3.000000  \n",
       "25%     4.450000      4.500000  \n",
       "50%     8.000000      7.000000  \n",
       "75%     9.950000      8.000000  \n",
       "max    10.000000      9.500000  "
      ]
     },
     "execution_count": 16,
     "metadata": {},
     "output_type": "execute_result"
    }
   ],
   "source": [
    "#Estatísticas univariadas\n",
    "dados.describe()"
   ]
  },
  {
   "cell_type": "markdown",
   "metadata": {},
   "source": [
    "# Correlação de pearson para multicolinearidade"
   ]
  },
  {
   "cell_type": "code",
   "execution_count": 46,
   "metadata": {},
   "outputs": [
    {
     "data": {
      "text/plain": [
       "<AxesSubplot:>"
      ]
     },
     "execution_count": 46,
     "metadata": {},
     "output_type": "execute_result"
    },
    {
     "data": {
      "image/png": "[encoded data removed]",
      "text/plain": [
       "<Figure size 720x432 with 2 Axes>"
      ]
     },
     "metadata": {
      "needs_background": "light"
     },
     "output_type": "display_data"
    }
   ],
   "source": [
    "#Correlações\n",
    "plt.figure(figsize=(10, 6))\n",
    "sns.heatmap(dados.corr(),annot=True)"
   ]
  },
  {
   "cell_type": "markdown",
   "metadata": {},
   "source": [
    "### 1° caso: Correlação perfeita, problema com multicolinearidade entre 2 variáveis explicativas "
   ]
  },
  {
   "cell_type": "code",
   "execution_count": 71,
   "metadata": {},
   "outputs": [
    {
     "data": {
      "text/plain": [
       "<AxesSubplot:>"
      ]
     },
     "execution_count": 71,
     "metadata": {},
     "output_type": "execute_result"
    },
    {
     "data": {
      "image/png": "[encoded data removed]",
      "text/plain": [
       "<Figure size 720x432 with 2 Axes>"
      ]
     },
     "metadata": {
      "needs_background": "light"
     },
     "output_type": "display_data"
    }
   ],
   "source": [
    "#Correlações\n",
    "caso1 = dados[['rh1','econometria1','salario']]\n",
    "plt.figure(figsize=(10, 6))\n",
    "sns.heatmap(caso1.corr(),annot=True)"
   ]
  },
  {
   "cell_type": "markdown",
   "metadata": {},
   "source": [
    "**Note que há variável 'econometria1' tem correlação perfeita com a variável 'rh1', vamos estimar o modelo de regressão linear para ver o que acontece**"
   ]
  },
  {
   "cell_type": "code",
   "execution_count": 72,
   "metadata": {},
   "outputs": [],
   "source": [
    "#Variável selecionada\n",
    "x = dados[['rh1','econometria1']]\n",
    "y = dados['salario']"
   ]
  },
  {
   "cell_type": "code",
   "execution_count": 73,
   "metadata": {},
   "outputs": [
    {
     "data": {
      "text/html": [
       "<table class=\"simpletable\">\n",
       "<caption>OLS Regression Results</caption>\n",
       "<tr>\n",
       "  <th>Dep. Variable:</th>         <td>salario</td>     <th>  R-squared:         </th> <td>   0.826</td>\n",
       "</tr>\n",
       "<tr>\n",
       "  <th>Model:</th>                   <td>OLS</td>       <th>  Adj. R-squared:    </th> <td>   0.813</td>\n",
       "</tr>\n",
       "<tr>\n",
       "  <th>Method:</th>             <td>Least Squares</td>  <th>  F-statistic:       </th> <td>   61.85</td>\n",
       "</tr>\n",
       "<tr>\n",
       "  <th>Date:</th>             <td>Fri, 25 Feb 2022</td> <th>  Prob (F-statistic):</th> <td>2.69e-06</td>\n",
       "</tr>\n",
       "<tr>\n",
       "  <th>Time:</th>                 <td>14:12:46</td>     <th>  Log-Likelihood:    </th> <td> -93.807</td>\n",
       "</tr>\n",
       "<tr>\n",
       "  <th>No. Observations:</th>      <td>    15</td>      <th>  AIC:               </th> <td>   191.6</td>\n",
       "</tr>\n",
       "<tr>\n",
       "  <th>Df Residuals:</th>          <td>    13</td>      <th>  BIC:               </th> <td>   193.0</td>\n",
       "</tr>\n",
       "<tr>\n",
       "  <th>Df Model:</th>              <td>     1</td>      <th>                     </th>     <td> </td>   \n",
       "</tr>\n",
       "<tr>\n",
       "  <th>Covariance Type:</th>      <td>nonrobust</td>    <th>                     </th>     <td> </td>   \n",
       "</tr>\n",
       "</table>\n",
       "<table class=\"simpletable\">\n",
       "<tr>\n",
       "        <td></td>          <th>coef</th>     <th>std err</th>      <th>t</th>      <th>P>|t|</th>  <th>[0.025</th>    <th>0.975]</th>  \n",
       "</tr>\n",
       "<tr>\n",
       "  <th>const</th>        <td> 1213.7997</td> <td>  109.752</td> <td>   11.060</td> <td> 0.000</td> <td>  976.696</td> <td> 1450.904</td>\n",
       "</tr>\n",
       "<tr>\n",
       "  <th>rh1</th>          <td>  102.2939</td> <td>   13.007</td> <td>    7.865</td> <td> 0.000</td> <td>   74.194</td> <td>  130.394</td>\n",
       "</tr>\n",
       "<tr>\n",
       "  <th>econometria1</th> <td>   51.1469</td> <td>    6.504</td> <td>    7.865</td> <td> 0.000</td> <td>   37.097</td> <td>   65.197</td>\n",
       "</tr>\n",
       "</table>\n",
       "<table class=\"simpletable\">\n",
       "<tr>\n",
       "  <th>Omnibus:</th>       <td> 2.049</td> <th>  Durbin-Watson:     </th> <td>   1.560</td>\n",
       "</tr>\n",
       "<tr>\n",
       "  <th>Prob(Omnibus):</th> <td> 0.359</td> <th>  Jarque-Bera (JB):  </th> <td>   1.492</td>\n",
       "</tr>\n",
       "<tr>\n",
       "  <th>Skew:</th>          <td> 0.601</td> <th>  Prob(JB):          </th> <td>   0.474</td>\n",
       "</tr>\n",
       "<tr>\n",
       "  <th>Kurtosis:</th>      <td> 2.028</td> <th>  Cond. No.          </th> <td>5.33e+16</td>\n",
       "</tr>\n",
       "</table><br/><br/>Notes:<br/>[1] Standard Errors assume that the covariance matrix of the errors is correctly specified.<br/>[2] The smallest eigenvalue is 3.06e-31. This might indicate that there are<br/>strong multicollinearity problems or that the design matrix is singular."
      ],
      "text/plain": [
       "<class 'statsmodels.iolib.summary.Summary'>\n",
       "\"\"\"\n",
       "                            OLS Regression Results                            \n",
       "==============================================================================\n",
       "Dep. Variable:                salario   R-squared:                       0.826\n",
       "Model:                            OLS   Adj. R-squared:                  0.813\n",
       "Method:                 Least Squares   F-statistic:                     61.85\n",
       "Date:                Fri, 25 Feb 2022   Prob (F-statistic):           2.69e-06\n",
       "Time:                        14:12:46   Log-Likelihood:                -93.807\n",
       "No. Observations:                  15   AIC:                             191.6\n",
       "Df Residuals:                      13   BIC:                             193.0\n",
       "Df Model:                           1                                         \n",
       "Covariance Type:            nonrobust                                         \n",
       "================================================================================\n",
       "                   coef    std err          t      P>|t|      [0.025      0.975]\n",
       "--------------------------------------------------------------------------------\n",
       "const         1213.7997    109.752     11.060      0.000     976.696    1450.904\n",
       "rh1            102.2939     13.007      7.865      0.000      74.194     130.394\n",
       "econometria1    51.1469      6.504      7.865      0.000      37.097      65.197\n",
       "==============================================================================\n",
       "Omnibus:                        2.049   Durbin-Watson:                   1.560\n",
       "Prob(Omnibus):                  0.359   Jarque-Bera (JB):                1.492\n",
       "Skew:                           0.601   Prob(JB):                        0.474\n",
       "Kurtosis:                       2.028   Cond. No.                     5.33e+16\n",
       "==============================================================================\n",
       "\n",
       "Notes:\n",
       "[1] Standard Errors assume that the covariance matrix of the errors is correctly specified.\n",
       "[2] The smallest eigenvalue is 3.06e-31. This might indicate that there are\n",
       "strong multicollinearity problems or that the design matrix is singular.\n",
       "\"\"\""
      ]
     },
     "execution_count": 73,
     "metadata": {},
     "output_type": "execute_result"
    }
   ],
   "source": [
    "#Modelo Regressão Linear\n",
    "modelo_coeangular = sm.OLS(y,x) #Somente o Coeficiente angular\n",
    "x_interc = sm.add_constant(x) # Somente o Intercept\n",
    "modelo = sm.OLS(y,x_interc) # funçao com os 2 coeficientes,(Primeiro o y depois o x)\n",
    "resultado = modelo.fit() # Treinar o modelo\n",
    "resultado.summary() # Verificar os dados do modelo"
   ]
  },
  {
   "cell_type": "code",
   "execution_count": 74,
   "metadata": {},
   "outputs": [
    {
     "data": {
      "text/html": [
       "<table class=\"simpletable\">\n",
       "<caption>OLS Regression Results</caption>\n",
       "<tr>\n",
       "  <th>Dep. Variable:</th>         <td>salario</td>     <th>  R-squared:         </th> <td>   0.826</td>\n",
       "</tr>\n",
       "<tr>\n",
       "  <th>Model:</th>                   <td>OLS</td>       <th>  Adj. R-squared:    </th> <td>   0.813</td>\n",
       "</tr>\n",
       "<tr>\n",
       "  <th>Method:</th>             <td>Least Squares</td>  <th>  F-statistic:       </th> <td>   61.85</td>\n",
       "</tr>\n",
       "<tr>\n",
       "  <th>Date:</th>             <td>Fri, 25 Feb 2022</td> <th>  Prob (F-statistic):</th> <td>2.69e-06</td>\n",
       "</tr>\n",
       "<tr>\n",
       "  <th>Time:</th>                 <td>14:12:48</td>     <th>  Log-Likelihood:    </th> <td> -93.807</td>\n",
       "</tr>\n",
       "<tr>\n",
       "  <th>No. Observations:</th>      <td>    15</td>      <th>  AIC:               </th> <td>   191.6</td>\n",
       "</tr>\n",
       "<tr>\n",
       "  <th>Df Residuals:</th>          <td>    13</td>      <th>  BIC:               </th> <td>   193.0</td>\n",
       "</tr>\n",
       "<tr>\n",
       "  <th>Df Model:</th>              <td>     1</td>      <th>                     </th>     <td> </td>   \n",
       "</tr>\n",
       "<tr>\n",
       "  <th>Covariance Type:</th>      <td>nonrobust</td>    <th>                     </th>     <td> </td>   \n",
       "</tr>\n",
       "</table>\n",
       "<table class=\"simpletable\">\n",
       "<tr>\n",
       "    <td></td>       <th>coef</th>     <th>std err</th>      <th>t</th>      <th>P>|t|</th>  <th>[0.025</th>    <th>0.975]</th>  \n",
       "</tr>\n",
       "<tr>\n",
       "  <th>const</th> <td> 1213.7997</td> <td>  109.752</td> <td>   11.060</td> <td> 0.000</td> <td>  976.696</td> <td> 1450.904</td>\n",
       "</tr>\n",
       "<tr>\n",
       "  <th>rh1</th>   <td>  127.8673</td> <td>   16.259</td> <td>    7.865</td> <td> 0.000</td> <td>   92.742</td> <td>  162.992</td>\n",
       "</tr>\n",
       "</table>\n",
       "<table class=\"simpletable\">\n",
       "<tr>\n",
       "  <th>Omnibus:</th>       <td> 2.049</td> <th>  Durbin-Watson:     </th> <td>   1.560</td>\n",
       "</tr>\n",
       "<tr>\n",
       "  <th>Prob(Omnibus):</th> <td> 0.359</td> <th>  Jarque-Bera (JB):  </th> <td>   1.492</td>\n",
       "</tr>\n",
       "<tr>\n",
       "  <th>Skew:</th>          <td> 0.601</td> <th>  Prob(JB):          </th> <td>   0.474</td>\n",
       "</tr>\n",
       "<tr>\n",
       "  <th>Kurtosis:</th>      <td> 2.028</td> <th>  Cond. No.          </th> <td>    21.6</td>\n",
       "</tr>\n",
       "</table><br/><br/>Notes:<br/>[1] Standard Errors assume that the covariance matrix of the errors is correctly specified."
      ],
      "text/plain": [
       "<class 'statsmodels.iolib.summary.Summary'>\n",
       "\"\"\"\n",
       "                            OLS Regression Results                            \n",
       "==============================================================================\n",
       "Dep. Variable:                salario   R-squared:                       0.826\n",
       "Model:                            OLS   Adj. R-squared:                  0.813\n",
       "Method:                 Least Squares   F-statistic:                     61.85\n",
       "Date:                Fri, 25 Feb 2022   Prob (F-statistic):           2.69e-06\n",
       "Time:                        14:12:48   Log-Likelihood:                -93.807\n",
       "No. Observations:                  15   AIC:                             191.6\n",
       "Df Residuals:                      13   BIC:                             193.0\n",
       "Df Model:                           1                                         \n",
       "Covariance Type:            nonrobust                                         \n",
       "==============================================================================\n",
       "                 coef    std err          t      P>|t|      [0.025      0.975]\n",
       "------------------------------------------------------------------------------\n",
       "const       1213.7997    109.752     11.060      0.000     976.696    1450.904\n",
       "rh1          127.8673     16.259      7.865      0.000      92.742     162.992\n",
       "==============================================================================\n",
       "Omnibus:                        2.049   Durbin-Watson:                   1.560\n",
       "Prob(Omnibus):                  0.359   Jarque-Bera (JB):                1.492\n",
       "Skew:                           0.601   Prob(JB):                        0.474\n",
       "Kurtosis:                       2.028   Cond. No.                         21.6\n",
       "==============================================================================\n",
       "\n",
       "Notes:\n",
       "[1] Standard Errors assume that the covariance matrix of the errors is correctly specified.\n",
       "\"\"\""
      ]
     },
     "execution_count": 74,
     "metadata": {},
     "output_type": "execute_result"
    }
   ],
   "source": [
    "#Variável selecionada\n",
    "x = dados[['rh1']]\n",
    "y = dados['salario']\n",
    "\n",
    "#Modelo Regressão Linear\n",
    "modelo_coeangular = sm.OLS(y,x) #Somente o Coeficiente angular\n",
    "x_interc = sm.add_constant(x) # Somente o Intercept\n",
    "modelo = sm.OLS(y,x_interc) # funçao com os 2 coeficientes,(Primeiro o y depois o x)\n",
    "resultado = modelo.fit() # Treinar o modelo\n",
    "resultado.summary() # Verificar os dados do modelo"
   ]
  },
  {
   "cell_type": "code",
   "execution_count": 75,
   "metadata": {},
   "outputs": [
    {
     "data": {
      "text/html": [
       "<table class=\"simpletable\">\n",
       "<caption>OLS Regression Results</caption>\n",
       "<tr>\n",
       "  <th>Dep. Variable:</th>         <td>salario</td>     <th>  R-squared:         </th> <td>   0.826</td>\n",
       "</tr>\n",
       "<tr>\n",
       "  <th>Model:</th>                   <td>OLS</td>       <th>  Adj. R-squared:    </th> <td>   0.813</td>\n",
       "</tr>\n",
       "<tr>\n",
       "  <th>Method:</th>             <td>Least Squares</td>  <th>  F-statistic:       </th> <td>   61.85</td>\n",
       "</tr>\n",
       "<tr>\n",
       "  <th>Date:</th>             <td>Fri, 25 Feb 2022</td> <th>  Prob (F-statistic):</th> <td>2.69e-06</td>\n",
       "</tr>\n",
       "<tr>\n",
       "  <th>Time:</th>                 <td>14:12:48</td>     <th>  Log-Likelihood:    </th> <td> -93.807</td>\n",
       "</tr>\n",
       "<tr>\n",
       "  <th>No. Observations:</th>      <td>    15</td>      <th>  AIC:               </th> <td>   191.6</td>\n",
       "</tr>\n",
       "<tr>\n",
       "  <th>Df Residuals:</th>          <td>    13</td>      <th>  BIC:               </th> <td>   193.0</td>\n",
       "</tr>\n",
       "<tr>\n",
       "  <th>Df Model:</th>              <td>     1</td>      <th>                     </th>     <td> </td>   \n",
       "</tr>\n",
       "<tr>\n",
       "  <th>Covariance Type:</th>      <td>nonrobust</td>    <th>                     </th>     <td> </td>   \n",
       "</tr>\n",
       "</table>\n",
       "<table class=\"simpletable\">\n",
       "<tr>\n",
       "        <td></td>          <th>coef</th>     <th>std err</th>      <th>t</th>      <th>P>|t|</th>  <th>[0.025</th>    <th>0.975]</th>  \n",
       "</tr>\n",
       "<tr>\n",
       "  <th>const</th>        <td> 1213.7997</td> <td>  109.752</td> <td>   11.060</td> <td> 0.000</td> <td>  976.696</td> <td> 1450.904</td>\n",
       "</tr>\n",
       "<tr>\n",
       "  <th>econometria1</th> <td>  255.7346</td> <td>   32.518</td> <td>    7.865</td> <td> 0.000</td> <td>  185.485</td> <td>  325.984</td>\n",
       "</tr>\n",
       "</table>\n",
       "<table class=\"simpletable\">\n",
       "<tr>\n",
       "  <th>Omnibus:</th>       <td> 2.049</td> <th>  Durbin-Watson:     </th> <td>   1.560</td>\n",
       "</tr>\n",
       "<tr>\n",
       "  <th>Prob(Omnibus):</th> <td> 0.359</td> <th>  Jarque-Bera (JB):  </th> <td>   1.492</td>\n",
       "</tr>\n",
       "<tr>\n",
       "  <th>Skew:</th>          <td> 0.601</td> <th>  Prob(JB):          </th> <td>   0.474</td>\n",
       "</tr>\n",
       "<tr>\n",
       "  <th>Kurtosis:</th>      <td> 2.028</td> <th>  Cond. No.          </th> <td>    11.5</td>\n",
       "</tr>\n",
       "</table><br/><br/>Notes:<br/>[1] Standard Errors assume that the covariance matrix of the errors is correctly specified."
      ],
      "text/plain": [
       "<class 'statsmodels.iolib.summary.Summary'>\n",
       "\"\"\"\n",
       "                            OLS Regression Results                            \n",
       "==============================================================================\n",
       "Dep. Variable:                salario   R-squared:                       0.826\n",
       "Model:                            OLS   Adj. R-squared:                  0.813\n",
       "Method:                 Least Squares   F-statistic:                     61.85\n",
       "Date:                Fri, 25 Feb 2022   Prob (F-statistic):           2.69e-06\n",
       "Time:                        14:12:48   Log-Likelihood:                -93.807\n",
       "No. Observations:                  15   AIC:                             191.6\n",
       "Df Residuals:                      13   BIC:                             193.0\n",
       "Df Model:                           1                                         \n",
       "Covariance Type:            nonrobust                                         \n",
       "================================================================================\n",
       "                   coef    std err          t      P>|t|      [0.025      0.975]\n",
       "--------------------------------------------------------------------------------\n",
       "const         1213.7997    109.752     11.060      0.000     976.696    1450.904\n",
       "econometria1   255.7346     32.518      7.865      0.000     185.485     325.984\n",
       "==============================================================================\n",
       "Omnibus:                        2.049   Durbin-Watson:                   1.560\n",
       "Prob(Omnibus):                  0.359   Jarque-Bera (JB):                1.492\n",
       "Skew:                           0.601   Prob(JB):                        0.474\n",
       "Kurtosis:                       2.028   Cond. No.                         11.5\n",
       "==============================================================================\n",
       "\n",
       "Notes:\n",
       "[1] Standard Errors assume that the covariance matrix of the errors is correctly specified.\n",
       "\"\"\""
      ]
     },
     "execution_count": 75,
     "metadata": {},
     "output_type": "execute_result"
    }
   ],
   "source": [
    "#Variável selecionada\n",
    "x = dados[['econometria1']]\n",
    "y = dados['salario']\n",
    "\n",
    "#Modelo Regressão Linear\n",
    "modelo_coeangular = sm.OLS(y,x) #Somente o Coeficiente angular\n",
    "x_interc = sm.add_constant(x) # Somente o Intercept\n",
    "modelo = sm.OLS(y,x_interc) # funçao com os 2 coeficientes,(Primeiro o y depois o x)\n",
    "resultado = modelo.fit() # Treinar o modelo\n",
    "resultado.summary() # Verificar os dados do modelo"
   ]
  },
  {
   "cell_type": "markdown",
   "metadata": {},
   "source": [
    "**Podemos observar que os 3 modelos são identicos, apesar dos betas serem diferentes para equiparar o resultado final, porém o importante são as metricas geradas, valor da constante, AIC, BIC, R², Log-Likelihood etc**"
   ]
  },
  {
   "cell_type": "markdown",
   "metadata": {},
   "source": [
    "### 2° caso: Correlação alta , porém não perfeita"
   ]
  },
  {
   "cell_type": "code",
   "execution_count": 77,
   "metadata": {},
   "outputs": [
    {
     "data": {
      "text/plain": [
       "<AxesSubplot:>"
      ]
     },
     "execution_count": 77,
     "metadata": {},
     "output_type": "execute_result"
    },
    {
     "data": {
      "image/png": "[encoded data removed]",
      "text/plain": [
       "<Figure size 720x432 with 2 Axes>"
      ]
     },
     "metadata": {
      "needs_background": "light"
     },
     "output_type": "display_data"
    }
   ],
   "source": [
    "#Correlações\n",
    "caso2 = dados[['rh2','econometria2','salario']]\n",
    "plt.figure(figsize=(10, 6))\n",
    "sns.heatmap(caso2.corr(),annot=True)"
   ]
  },
  {
   "cell_type": "markdown",
   "metadata": {},
   "source": [
    "**Observe que as variáveis 'rh2' e 'econometria2' tem uma correlação de 0.99, quase perfeita**"
   ]
  },
  {
   "cell_type": "code",
   "execution_count": 79,
   "metadata": {},
   "outputs": [
    {
     "data": {
      "text/html": [
       "<table class=\"simpletable\">\n",
       "<caption>OLS Regression Results</caption>\n",
       "<tr>\n",
       "  <th>Dep. Variable:</th>         <td>salario</td>     <th>  R-squared:         </th> <td>   0.829</td>\n",
       "</tr>\n",
       "<tr>\n",
       "  <th>Model:</th>                   <td>OLS</td>       <th>  Adj. R-squared:    </th> <td>   0.801</td>\n",
       "</tr>\n",
       "<tr>\n",
       "  <th>Method:</th>             <td>Least Squares</td>  <th>  F-statistic:       </th> <td>   29.10</td>\n",
       "</tr>\n",
       "<tr>\n",
       "  <th>Date:</th>             <td>Fri, 25 Feb 2022</td> <th>  Prob (F-statistic):</th> <td>2.50e-05</td>\n",
       "</tr>\n",
       "<tr>\n",
       "  <th>Time:</th>                 <td>14:18:41</td>     <th>  Log-Likelihood:    </th> <td> -93.688</td>\n",
       "</tr>\n",
       "<tr>\n",
       "  <th>No. Observations:</th>      <td>    15</td>      <th>  AIC:               </th> <td>   193.4</td>\n",
       "</tr>\n",
       "<tr>\n",
       "  <th>Df Residuals:</th>          <td>    12</td>      <th>  BIC:               </th> <td>   195.5</td>\n",
       "</tr>\n",
       "<tr>\n",
       "  <th>Df Model:</th>              <td>     2</td>      <th>                     </th>     <td> </td>   \n",
       "</tr>\n",
       "<tr>\n",
       "  <th>Covariance Type:</th>      <td>nonrobust</td>    <th>                     </th>     <td> </td>   \n",
       "</tr>\n",
       "</table>\n",
       "<table class=\"simpletable\">\n",
       "<tr>\n",
       "        <td></td>          <th>coef</th>     <th>std err</th>      <th>t</th>      <th>P>|t|</th>  <th>[0.025</th>    <th>0.975]</th>  \n",
       "</tr>\n",
       "<tr>\n",
       "  <th>const</th>        <td> 1241.8527</td> <td>  130.172</td> <td>    9.540</td> <td> 0.000</td> <td>  958.233</td> <td> 1525.473</td>\n",
       "</tr>\n",
       "<tr>\n",
       "  <th>rh2</th>          <td>  194.0845</td> <td>  152.087</td> <td>    1.276</td> <td> 0.226</td> <td> -137.285</td> <td>  525.454</td>\n",
       "</tr>\n",
       "<tr>\n",
       "  <th>econometria2</th> <td> -139.4577</td> <td>  318.348</td> <td>   -0.438</td> <td> 0.669</td> <td> -833.079</td> <td>  554.164</td>\n",
       "</tr>\n",
       "</table>\n",
       "<table class=\"simpletable\">\n",
       "<tr>\n",
       "  <th>Omnibus:</th>       <td> 1.720</td> <th>  Durbin-Watson:     </th> <td>   1.616</td>\n",
       "</tr>\n",
       "<tr>\n",
       "  <th>Prob(Omnibus):</th> <td> 0.423</td> <th>  Jarque-Bera (JB):  </th> <td>   1.309</td>\n",
       "</tr>\n",
       "<tr>\n",
       "  <th>Skew:</th>          <td> 0.554</td> <th>  Prob(JB):          </th> <td>   0.520</td>\n",
       "</tr>\n",
       "<tr>\n",
       "  <th>Kurtosis:</th>      <td> 2.068</td> <th>  Cond. No.          </th> <td>    75.8</td>\n",
       "</tr>\n",
       "</table><br/><br/>Notes:<br/>[1] Standard Errors assume that the covariance matrix of the errors is correctly specified."
      ],
      "text/plain": [
       "<class 'statsmodels.iolib.summary.Summary'>\n",
       "\"\"\"\n",
       "                            OLS Regression Results                            \n",
       "==============================================================================\n",
       "Dep. Variable:                salario   R-squared:                       0.829\n",
       "Model:                            OLS   Adj. R-squared:                  0.801\n",
       "Method:                 Least Squares   F-statistic:                     29.10\n",
       "Date:                Fri, 25 Feb 2022   Prob (F-statistic):           2.50e-05\n",
       "Time:                        14:18:41   Log-Likelihood:                -93.688\n",
       "No. Observations:                  15   AIC:                             193.4\n",
       "Df Residuals:                      12   BIC:                             195.5\n",
       "Df Model:                           2                                         \n",
       "Covariance Type:            nonrobust                                         \n",
       "================================================================================\n",
       "                   coef    std err          t      P>|t|      [0.025      0.975]\n",
       "--------------------------------------------------------------------------------\n",
       "const         1241.8527    130.172      9.540      0.000     958.233    1525.473\n",
       "rh2            194.0845    152.087      1.276      0.226    -137.285     525.454\n",
       "econometria2  -139.4577    318.348     -0.438      0.669    -833.079     554.164\n",
       "==============================================================================\n",
       "Omnibus:                        1.720   Durbin-Watson:                   1.616\n",
       "Prob(Omnibus):                  0.423   Jarque-Bera (JB):                1.309\n",
       "Skew:                           0.554   Prob(JB):                        0.520\n",
       "Kurtosis:                       2.068   Cond. No.                         75.8\n",
       "==============================================================================\n",
       "\n",
       "Notes:\n",
       "[1] Standard Errors assume that the covariance matrix of the errors is correctly specified.\n",
       "\"\"\""
      ]
     },
     "execution_count": 79,
     "metadata": {},
     "output_type": "execute_result"
    }
   ],
   "source": [
    "#Variável selecionada\n",
    "x = dados[['rh2','econometria2']]\n",
    "y = dados['salario']\n",
    "\n",
    "#Modelo Regressão Linear\n",
    "modelo_coeangular = sm.OLS(y,x) #Somente o Coeficiente angular\n",
    "x_interc = sm.add_constant(x) # Somente o Intercept\n",
    "modelo = sm.OLS(y,x_interc) # funçao com os 2 coeficientes,(Primeiro o y depois o x)\n",
    "resultado = modelo.fit() # Treinar o modelo\n",
    "resultado.summary() # Verificar os dados do modelo"
   ]
  },
  {
   "cell_type": "code",
   "execution_count": 80,
   "metadata": {},
   "outputs": [
    {
     "data": {
      "text/plain": [
       "2.495434959922304e-05"
      ]
     },
     "execution_count": 80,
     "metadata": {},
     "output_type": "execute_result"
    }
   ],
   "source": [
    "#Teste f\n",
    "resultado.f_pvalue"
   ]
  },
  {
   "cell_type": "markdown",
   "metadata": {},
   "source": [
    "**Se analisarmos o valor do teste f, afirmamos que pelo menos 1 beta é estatisticamente significante a um nivel de significancia de 5%**"
   ]
  },
  {
   "cell_type": "markdown",
   "metadata": {},
   "source": [
    "**Obs: Note que os valores dos betas são explosivos, tanto para positivo quanto negativo, isso já da indicios de que há no modelo variáveis multicolineares**"
   ]
  },
  {
   "cell_type": "code",
   "execution_count": 82,
   "metadata": {},
   "outputs": [
    {
     "data": {
      "text/plain": [
       "rh2             1.276138\n",
       "econometria2   -0.438066\n",
       "dtype: float64"
      ]
     },
     "execution_count": 82,
     "metadata": {},
     "output_type": "execute_result"
    }
   ],
   "source": [
    "#Teste t\n",
    "resultado.tvalues[1:]"
   ]
  },
  {
   "cell_type": "markdown",
   "metadata": {},
   "source": [
    "**Porem analisando os p_values, concluimos que nenhum deles é estatisticamente significante**"
   ]
  },
  {
   "cell_type": "markdown",
   "metadata": {},
   "source": [
    "## Teste VIF e Tolerance \n"
   ]
  },
  {
   "cell_type": "markdown",
   "metadata": {},
   "source": [
    "Tolerancia = 1 - R², varia entre 0 a 1, quanto maior a tolerancia menor a correlação entre as variáveis\n",
    "\n",
    "VIF = 1/Tolerancia, varia de 1 a +(infinito), VIFs acima de 5, já podem apresentar problemas de multicolinearidade, porém não existe um ponto de corte exato"
   ]
  },
  {
   "cell_type": "code",
   "execution_count": 91,
   "metadata": {},
   "outputs": [
    {
     "data": {
      "text/html": [
       "<div>\n",
       "<style scoped>\n",
       "    .dataframe tbody tr th:only-of-type {\n",
       "        vertical-align: middle;\n",
       "    }\n",
       "\n",
       "    .dataframe tbody tr th {\n",
       "        vertical-align: top;\n",
       "    }\n",
       "\n",
       "    .dataframe thead th {\n",
       "        text-align: right;\n",
       "    }\n",
       "</style>\n",
       "<table border=\"1\" class=\"dataframe\">\n",
       "  <thead>\n",
       "    <tr style=\"text-align: right;\">\n",
       "      <th></th>\n",
       "      <th>VIF</th>\n",
       "      <th>Tolerance</th>\n",
       "    </tr>\n",
       "  </thead>\n",
       "  <tbody>\n",
       "    <tr>\n",
       "      <th>rh2</th>\n",
       "      <td>82.061458</td>\n",
       "      <td>0.012186</td>\n",
       "    </tr>\n",
       "    <tr>\n",
       "      <th>econometria2</th>\n",
       "      <td>82.061458</td>\n",
       "      <td>0.012186</td>\n",
       "    </tr>\n",
       "  </tbody>\n",
       "</table>\n",
       "</div>"
      ],
      "text/plain": [
       "                    VIF  Tolerance\n",
       "rh2           82.061458   0.012186\n",
       "econometria2  82.061458   0.012186"
      ]
     },
     "execution_count": 91,
     "metadata": {},
     "output_type": "execute_result"
    }
   ],
   "source": [
    "from patsy import dmatrices\n",
    "from statsmodels.stats.outliers_influence import variance_inflation_factor\n",
    "import statsmodels.formula.api as smf\n",
    "\n",
    "def get_vif(exogs, data):\n",
    "    '''Return VIF (variance inflation factor) DataFrame\n",
    "\n",
    "    Args:\n",
    "    exogs (list): list of exogenous/independent variables\n",
    "    data (DataFrame): the df storing all variables\n",
    "\n",
    "    Returns:\n",
    "    VIF and Tolerance DataFrame for each exogenous variable\n",
    "\n",
    "    Notes:\n",
    "    Assume we have a list of exogenous variable [X1, X2, X3, X4].\n",
    "    To calculate the VIF and Tolerance for each variable, we regress\n",
    "    each of them against other exogenous variables. For instance, the\n",
    "    regression model for X3 is defined as:\n",
    "                        X3 ~ X1 + X2 + X4\n",
    "    And then we extract the R-squared from the model to calculate:\n",
    "                    VIF = 1 / (1 - R-squared)\n",
    "                    Tolerance = 1 - R-squared\n",
    "    The cutoff to detect multicollinearity:\n",
    "                    VIF > 10 or Tolerance < 0.1\n",
    "    '''\n",
    "\n",
    "    # initialize dictionaries\n",
    "    vif_dict, tolerance_dict = {}, {}\n",
    "\n",
    "    # create formula for each exogenous variable\n",
    "    for exog in exogs:\n",
    "        not_exog = [i for i in exogs if i != exog]\n",
    "        formula = f\"{exog} ~ {' + '.join(not_exog)}\"\n",
    "\n",
    "        # extract r-squared from the fit\n",
    "        r_squared = smf.ols(formula, data=data).fit().rsquared\n",
    "\n",
    "        # calculate VIF\n",
    "        vif = 1/(1 - r_squared)\n",
    "        vif_dict[exog] = vif\n",
    "\n",
    "        # calculate tolerance\n",
    "        tolerance = 1 - r_squared\n",
    "        tolerance_dict[exog] = tolerance\n",
    "\n",
    "    # return VIF DataFrame\n",
    "    df_vif = pd.DataFrame({'VIF': vif_dict, 'Tolerance': tolerance_dict})\n",
    "\n",
    "    return df_vif\n",
    "\n",
    "x = dados[['rh2','econometria2']]\n",
    "get_vif(x , dados)"
   ]
  },
  {
   "cell_type": "markdown",
   "metadata": {},
   "source": [
    "**Outra forma usada para detectar a gravidade da multicollinearidade na análise de regressão**"
   ]
  }
 ],
 "metadata": {
  "anaconda-cloud": {},
  "kernelspec": {
   "display_name": "Python 3 (ipykernel)",
   "language": "python",
   "name": "python3"
  },
  "language_info": {
   "codemirror_mode": {
    "name": "ipython",
    "version": 3
   },
   "file_extension": ".py",
   "mimetype": "text/x-python",
   "name": "python",
   "nbconvert_exporter": "python",
   "pygments_lexer": "ipython3",
   "version": "3.9.7"
  }
 },
 "nbformat": 4,
 "nbformat_minor": 1
}
