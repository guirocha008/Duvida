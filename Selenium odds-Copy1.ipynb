{
 "cells": [
  {
   "cell_type": "code",
   "execution_count": 1,
   "metadata": {},
   "outputs": [],
   "source": [
    "from selenium import webdriver\n",
    "from time import sleep\n",
    "from selenium.common.exceptions import NoSuchElementException\n",
    "from selenium.webdriver.chrome.options import Options\n",
    "from bs4 import BeautifulSoup \n",
    "from selenium.webdriver.common.by import By\n",
    "from selenium.webdriver.support.ui import WebDriverWait\n",
    "import pandas as pd\n",
    "import numpy as np"
   ]
  },
  {
   "cell_type": "code",
   "execution_count": 4,
   "metadata": {},
   "outputs": [],
   "source": [
    "driver = webdriver.Chrome()\n",
    "\n",
    "driver.get('https://www.betexplorer.com/next/soccer/')\n",
    "\n",
    "\n",
    "\n",
    "\n",
    "\n",
    "\n",
    "                                                     \n",
    "driver.find_element(by=By.XPATH,value='//*[@id=\"onetrust-accept-btn-handler\"]').click()\n",
    "sleep(2)\n",
    "driver.find_element(by=By.XPATH,value='//*[@id=\"js-timezone\"]/span').click()\n",
    "sleep(2)\n",
    "driver.find_element(by=By.XPATH,value='//*[@id=\"js-timezone\"]/ul/li[21]/a').click()\n",
    "sleep(2)\n",
    "driver.find_element(by=By.XPATH,value='//*[@id=\"lcmenu\"]/a[1]').click()\n",
    "sleep(2)\n",
    "driver.find_element(by=By.XPATH,value='//*[@id=\"nr-all\"]/div[2]/div/table/tbody[1]/tr[2]/td[1]/a').click()\n",
    "sleep(2)\n",
    "driver.find_element(by=By.XPATH,value='//*[@id=\"odds-all\"]/div[1]/div/ul/li[2]/a').click()\n",
    "sleep(2)\n",
    "a = driver.find_element(by=By.XPATH,value='//*[@id=\"sortable-1\"]/tbody/tr[1]/td[5]/span/span/span/span').click()\n",
    "sleep(2)"
   ]
  },
  {
   "cell_type": "code",
   "execution_count": 5,
   "metadata": {},
   "outputs": [],
   "source": []
  },
  {
   "cell_type": "code",
   "execution_count": null,
   "metadata": {},
   "outputs": [],
   "source": []
  },
  {
   "cell_type": "code",
   "execution_count": 6,
   "metadata": {},
   "outputs": [],
   "source": [
    "driver = webdriver.Chrome()\n",
    "\n",
    "driver.get('https://www.betexplorer.com/soccer/brazil/serie-a-2021/results/')\n",
    "\n",
    "\n",
    "driver.find_element(by=By.XPATH,value='//*[@id=\"onetrust-accept-btn-handler\"]').click()\n",
    "sleep(2)\n",
    "driver.find_element(by=By.XPATH,value='//*[@id=\"js-timezone\"]/span').click()\n",
    "sleep(2)\n",
    "driver.find_element(by=By.XPATH,value='//*[@id=\"js-timezone\"]/ul/li[21]/a').click()\n",
    "sleep(2)"
   ]
  },
  {
   "cell_type": "code",
   "execution_count": null,
   "metadata": {},
   "outputs": [],
   "source": []
  },
  {
   "cell_type": "code",
   "execution_count": null,
   "metadata": {},
   "outputs": [],
   "source": []
  },
  {
   "cell_type": "code",
   "execution_count": null,
   "metadata": {},
   "outputs": [],
   "source": []
  },
  {
   "cell_type": "code",
   "execution_count": null,
   "metadata": {},
   "outputs": [],
   "source": []
  },
  {
   "cell_type": "code",
   "execution_count": null,
   "metadata": {},
   "outputs": [],
   "source": []
  },
  {
   "cell_type": "code",
   "execution_count": null,
   "metadata": {},
   "outputs": [],
   "source": [
    "driver = webdriver.Chrome()\n",
    "\n",
    "driver.get('https://www.betexplorer.com/next/soccer/')\n",
    "\n",
    "\n",
    "\n",
    "\n",
    "\n",
    "\n",
    "                                                     \n",
    "driver.find_element(by=By.XPATH,value='//*[@id=\"onetrust-accept-btn-handler\"]').click()\n",
    "sleep(2)\n",
    "driver.find_element(by=By.XPATH,value='//*[@id=\"lcmenu\"]/a[1]').click()\n",
    "sleep(2)\n",
    "driver.find_element(by=By.XPATH,value='//*[@id=\"nr-all\"]/div[2]/div/table/tbody[1]/tr[2]/td[1]/a').click()\n",
    "sleep(2)\n",
    "driver.find_element(by=By.XPATH,value='//*[@id=\"odds-all\"]/div[1]/div/ul/li[2]/a').click()\n",
    "sleep(2)\n",
    "\n",
    "\n",
    "\n",
    "div_principal = driver.find_element(by=By.XPATH,value='/html/body/div[4]/div[4]/div/div/div[1]/section')\n",
    "\n",
    "\n",
    "#Transformar em um conteudo HTML\n",
    "\n",
    "html_content = div_principal.get_attribute('outerHTML')\n",
    "soup = BeautifulSoup(html_content,'html.parser')\n",
    "\n",
    "odds_over = soup.find_all('class',class_='match-add-to-selection')\n",
    "odds_under = soup.find_all('class',class_='table-main__detail-odds')\n",
    "\n",
    "\n"
   ]
  },
  {
   "cell_type": "code",
   "execution_count": null,
   "metadata": {},
   "outputs": [],
   "source": [
    "odds_over"
   ]
  },
  {
   "cell_type": "markdown",
   "metadata": {},
   "source": [
    "# Resultados Jogos de ontem"
   ]
  }
 ],
 "metadata": {
  "anaconda-cloud": {},
  "kernelspec": {
   "display_name": "Python 3 (ipykernel)",
   "language": "python",
   "name": "python3"
  },
  "language_info": {
   "codemirror_mode": {
    "name": "ipython",
    "version": 3
   },
   "file_extension": ".py",
   "mimetype": "text/x-python",
   "name": "python",
   "nbconvert_exporter": "python",
   "pygments_lexer": "ipython3",
   "version": "3.9.12"
  }
 },
 "nbformat": 4,
 "nbformat_minor": 1
}
